{
 "cells": [
  {
   "cell_type": "markdown",
   "metadata": {},
   "source": [
    "# Version finale"
   ]
  },
  {
   "cell_type": "code",
   "execution_count": 535,
   "metadata": {},
   "outputs": [],
   "source": [
    "%matplotlib inline     \n",
    "# ^Sans animations\n",
    "# %matplotlib notebook \n",
    "# ^Avec animations\n",
    "import numpy as np\n",
    "import matplotlib.pyplot as plt\n",
    "from matplotlib import animation\n",
    "import math\n",
    "import random"
   ]
  },
  {
   "cell_type": "markdown",
   "metadata": {},
   "source": [
    "   "
   ]
  },
  {
   "cell_type": "markdown",
   "metadata": {},
   "source": [
    "## I) Population (Catherine)##"
   ]
  },
  {
   "cell_type": "markdown",
   "metadata": {},
   "source": [
    "Nous souhaitons obtenir l'évolution de la population jusqu'à une année \"a\" choisie sur chacun des continents. \n",
    "\n",
    "Celle-ci dépend de différents paramètres : \n",
    "\n",
    "**la population de départ**, dont les données ont été prises à l'année 2017 par l'ONU (on considère que l'année 2017 est l'année 0)\n",
    "\n",
    "**le taux d'accroissement**, dont les valeurs fixes viennent de l'INED\n",
    "\n",
    "**les imprévus** qui peuvent survenir (guerre, épidémie, ect. mais la nature de ces problèmes et leurs conséquences n'ont pas été pris en compte)"
   ]
  },
  {
   "cell_type": "code",
   "execution_count": 536,
   "metadata": {},
   "outputs": [],
   "source": [
    "continents=[\"Europe\", \"Amérique du Nord\",\"Asie\", \"Afrique\", \"Amérique du Sud\", \"Océanie\"]\n",
    "pop={\"Europe\":742074000,\"Amérique du Nord\":361208000,\"Asie\":4504428000,\"Afrique\":1256268000, \n",
    "            \"Amérique du Sud\":645593000,\"Océanie\":40691000}\n"
   ]
  },
  {
   "cell_type": "markdown",
   "metadata": {},
   "source": [
    "Nous avons décidé de se baser sur l'évolution exponentielle de la population, c'est l'évolution la plus réaliste. \n",
    "\n",
    "Elle suit la loi suivante :\n",
    "\n",
    "**N(t)=N0*exp(k*t)**\n",
    "\n",
    "N étant la population, N0 la population à la 1ère génération, k étant le taux d'accroissement, et t l'année."
   ]
  },
  {
   "cell_type": "markdown",
   "metadata": {},
   "source": [
    "  "
   ]
  },
  {
   "cell_type": "markdown",
   "metadata": {},
   "source": [
    "On décide donc en premier temps de calculer **k**. Ce dernier se base sur le taux de natalité et de mortalité. Ceux-ci peuvent rester fixe au fil du temps, ou varier d'une manière aléatoire. Il a ensuite fallu créer 6 taux d'accroissement afin que l'on puisse faire varier chaque taux pour chaque pays, et décider si k restait fixe ou non au fil du temps."
   ]
  },
  {
   "cell_type": "code",
   "execution_count": 537,
   "metadata": {},
   "outputs": [],
   "source": [
    "def k1(n1,m1,fixe1):\n",
    "    \"\"\"int^2*bool->float\n",
    "    n: nombre de naissances, m: nombre de décès\"\"\"\n",
    "    \n",
    "    u=random.random()\n",
    "    \n",
    "    if fixe1 : \n",
    "        k1=(n1-m1)/100\n",
    "    else :\n",
    "        k1=(n1-m1)*u/100\n",
    "    \n",
    "    return k1\n",
    "\n",
    "def k2(n2,m2,fixe2):\n",
    "    \"\"\"int^2*bool->float\n",
    "    n: nombre de naissances, m: nombre de décès\"\"\"\n",
    "    \n",
    "    u=random.random()\n",
    "    \n",
    "    if fixe2 : \n",
    "        k2=(n2-m2)/100\n",
    "    else :\n",
    "        k2=(n2-m2)*u/100\n",
    "    \n",
    "    return k2\n",
    "\n",
    "def k3(n3,m3,fixe3):\n",
    "    \"\"\"int^2*bool->float\n",
    "    n: nombre de naissances, m: nombre de décès\"\"\"\n",
    "    \n",
    "    u=random.random()\n",
    "    \n",
    "    if fixe3 : \n",
    "        k3=(n3-m3)/100\n",
    "    else :\n",
    "        k3=(n3-m3)*u/100\n",
    "    \n",
    "    return k3\n",
    "\n",
    "def k4(n4,m4,fixe4):\n",
    "    \"\"\"int^2*bool->float\n",
    "    n: nombre de naissances, m1: nombre de décès\"\"\"\n",
    "    \n",
    "    u=random.random()\n",
    "    \n",
    "    if fixe4 : \n",
    "        k4=(n4-m4)/100\n",
    "    else :\n",
    "        k4=(n4-m4)*u/100\n",
    "    \n",
    "    return k4\n",
    "\n",
    "def k5(n5,m5,fixe5):\n",
    "    \"\"\"int^2*bool->float\n",
    "    n: nombre de naissances, m: nombre de décès\"\"\"\n",
    "    \n",
    "    u=random.random()\n",
    "    \n",
    "    if fixe5: \n",
    "        k5=(n5-m5)/100\n",
    "    else :\n",
    "        k5=(n5-m5)*u/100\n",
    "    \n",
    "    return k5\n",
    "\n",
    "def k6(n6,m6,fixe6):\n",
    "    \"\"\"int^2*bool->float\n",
    "    n: nombre de naissances, m: nombre de décès\"\"\"\n",
    "    \n",
    "    u=random.random()\n",
    "    \n",
    "    if fixe6 : \n",
    "        k6=(n6-m6)/100\n",
    "    else :\n",
    "        k6=(n6-m6)*u/100\n",
    "    \n",
    "    return k6"
   ]
  },
  {
   "cell_type": "code",
   "execution_count": 538,
   "metadata": {
    "scrolled": true
   },
   "outputs": [
    {
     "data": {
      "text/plain": [
       "0.06993239613138734"
      ]
     },
     "execution_count": 538,
     "metadata": {},
     "output_type": "execute_result"
    }
   ],
   "source": [
    "k6(50,40,False)"
   ]
  },
  {
   "cell_type": "markdown",
   "metadata": {},
   "source": [
    "  "
   ]
  },
  {
   "cell_type": "markdown",
   "metadata": {},
   "source": [
    "On souhaite maintenant obtenir un dictionnaire qui nous renvoie **pour chaque continent la population** qui correspond à l'année voulue en fonction du taux de croissance. Il est nécessaire d'avoir autant de paramètres pour avoir une situation à chaque pays."
   ]
  },
  {
   "cell_type": "code",
   "execution_count": 539,
   "metadata": {},
   "outputs": [],
   "source": [
    "pop={\"Europe\":742074000,\"Amérique du Nord\":361208000,\"Asie\":4504428000,\"Afrique\":1256268000, \n",
    "            \"Amérique du Sud\":645593000,\"Océanie\":40691000}\n",
    "\n",
    "def population1(t,n1,m1,probleme1,fixe1):\n",
    "    \"\"\"dict[str:list[int]\"\"\"\n",
    "    \n",
    "    popr={\"Europe\":[]}\n",
    "    \n",
    "    if probleme1:\n",
    "        popr[\"Europe\"].append(round(pop[\"Europe\"]*math.exp(k1(n1,m1,fixe1)*t)))\n",
    "    else : \n",
    "        popr[\"Europe\"].append(round(pop[\"Europe\"]*math.exp(0.0005*t)))\n",
    "                   \n",
    "    return popr"
   ]
  },
  {
   "cell_type": "code",
   "execution_count": 540,
   "metadata": {},
   "outputs": [
    {
     "data": {
      "text/plain": [
       "{'Europe': [846048231]}"
      ]
     },
     "execution_count": 540,
     "metadata": {},
     "output_type": "execute_result"
    }
   ],
   "source": [
    "population1(1,30,16,True,False)"
   ]
  },
  {
   "cell_type": "code",
   "execution_count": 541,
   "metadata": {},
   "outputs": [],
   "source": [
    "def population2(t,n2,m2,probleme2,fixe2):\n",
    "    \n",
    "    popr={\"Amérique du Nord\":[]}\n",
    "    \n",
    "    if probleme2:\n",
    "        popr[\"Amérique du Nord\"].append(round(pop[\"Amérique du Nord\"]*math.exp(k2(n2,m2,fixe2)*t)))\n",
    "    else : \n",
    "        popr[\"Amérique du Nord\"].append(round(pop[\"Amérique du Nord\"]*math.exp(0.0073*t)))\n",
    "        \n",
    "    return popr"
   ]
  },
  {
   "cell_type": "code",
   "execution_count": 542,
   "metadata": {},
   "outputs": [],
   "source": [
    "def population3(t,n3,m3,probleme3,fixe3):\n",
    "    \n",
    "    popr={\"Asie\":[]}\n",
    "    \n",
    "    if probleme3:\n",
    "        popr[\"Asie\"].append(round(pop[\"Asie\"]*math.exp(k3(n3,m3,fixe3)*t)))\n",
    "    else : \n",
    "        popr[\"Asie\"].append(round(pop[\"Asie\"]*math.exp(0.0085*t)))\n",
    "        \n",
    "    return popr"
   ]
  },
  {
   "cell_type": "code",
   "execution_count": 543,
   "metadata": {},
   "outputs": [],
   "source": [
    "def population4(t,n4,m4,probleme4,fixe4):\n",
    "    \n",
    "    popr={\"Afrique\":[]}\n",
    "    \n",
    "    if probleme4:\n",
    "        popr[\"Afrique\"].append(round(pop[\"Afrique\"]*math.exp(k4(n4,m4,fixe4)*t)))\n",
    "    else : \n",
    "        popr[\"Afrique\"].append(round(pop[\"Afrique\"]*math.exp(0.0245*t)))\n",
    "        \n",
    "    return popr"
   ]
  },
  {
   "cell_type": "code",
   "execution_count": 620,
   "metadata": {},
   "outputs": [],
   "source": [
    "def population5(t,n5,m5,probleme5,fixe5):\n",
    "    \n",
    "    popr={\"Amérique du Sud\":[]}\n",
    "    \n",
    "    if probleme5:\n",
    "        popr[\"Amérique du Sud\"].append(round(pop[\"Amérique du Sud\"]*math.exp(k5(n5,m5,fixe5)*t)))\n",
    "    else : \n",
    "        popr[\"Amérique du Sud\"].append(round(pop[\"Amérique du Sud\"]*math.exp(0.0095*t)))\n",
    "        \n",
    "    return popr"
   ]
  },
  {
   "cell_type": "code",
   "execution_count": 621,
   "metadata": {},
   "outputs": [],
   "source": [
    "def population6(t,n6,m6,probleme6,fixe6):  \n",
    "    \n",
    "    popr={\"Océanie\":[]}\n",
    "    \n",
    "    if probleme6:\n",
    "        popr[\"Océanie\"].append(round(pop[\"Océanie\"]*math.exp(k6(n6,m6,fixe6)*t)))\n",
    "    else : \n",
    "        popr[\"Océanie\"].append(round(pop[\"Océanie\"]*math.exp(0.0134*t)))\n",
    "        \n",
    "    return popr"
   ]
  },
  {
   "cell_type": "markdown",
   "metadata": {},
   "source": [
    "  "
   ]
  },
  {
   "cell_type": "markdown",
   "metadata": {},
   "source": [
    "Maintenant, on souhaite voir **l'évolution de la population** à une année a choisie dans chaque continent."
   ]
  },
  {
   "cell_type": "code",
   "execution_count": 546,
   "metadata": {},
   "outputs": [],
   "source": [
    "pop={\"Europe\":742074000,\"Amérique du Nord\":361208000,\"Asie\":4504428000,\"Afrique\":1256268000, \n",
    "            \"Amérique du Sud\":645593000,\"Océanie\":40691000}\n",
    "\n",
    "def evolution_pop1(a,pop,n1,m1,probleme1,fixe1):\n",
    "    \"\"\"\"\"\"\n",
    "    \n",
    "    popr={\"Europe\":[]}\n",
    "    \n",
    "    for t in range(a+1):\n",
    "        if probleme1:\n",
    "            popr[\"Europe\"].append(round(pop[\"Europe\"]*math.exp(k1(n1,m1,fixe1)*t)))\n",
    "        else : \n",
    "            popr[\"Europe\"].append(round(pop[\"Europe\"]*math.exp(0.0005*t)))\n",
    "    \n",
    "    #print(\"Europe\")\n",
    "    return popr"
   ]
  },
  {
   "cell_type": "code",
   "execution_count": 547,
   "metadata": {},
   "outputs": [],
   "source": [
    "pop={\"Europe\":742074000,\"Amérique du Nord\":361208000,\"Asie\":4504428000,\"Afrique\":1256268000, \n",
    "            \"Amérique du Sud\":645593000,\"Océanie\":40691000}\n",
    "\n",
    "def evolution_pop2(a,pop,n2,m2,probleme2,fixe2):\n",
    "    \"\"\"\"\"\"\n",
    "    \n",
    "    popr={\"Amérique du Nord\":[]}\n",
    "    \n",
    "    for t in range(a+1):\n",
    "        if probleme2:\n",
    "            popr[\"Amérique du Nord\"].append(round(pop[\"Amérique du Nord\"]*math.exp(k2(n2,m2,fixe2)*t)))\n",
    "        else : \n",
    "            popr[\"Amérique du Nord\"].append(round(pop[\"Amérique du Nord\"]*math.exp(0.0073*t)))\n",
    "    \n",
    "   # print(\"Amérique du Nord\")\n",
    "    return popr"
   ]
  },
  {
   "cell_type": "code",
   "execution_count": 548,
   "metadata": {},
   "outputs": [],
   "source": [
    "pop={\"Europe\":742074000,\"Amérique du Nord\":361208000,\"Asie\":4504428000,\"Afrique\":1256268000, \n",
    "            \"Amérique du Sud\":645593000,\"Océanie\":40691000}\n",
    "\n",
    "\n",
    "def evolution_pop3(a,pop,n3,m3,probleme3,fixe3):\n",
    "    \"\"\"\"\"\"\n",
    "    \n",
    "    popr={\"Asie\":[]}\n",
    "    \n",
    "    for t in range(a+1):\n",
    "        if probleme3:\n",
    "            popr[\"Asie\"].append(round(pop[\"Asie\"]*math.exp(k3(n3,m3,fixe3)*t)))\n",
    "        else : \n",
    "            popr[\"Asie\"].append(round(pop[\"Asie\"]*math.exp(0.0085*t)))\n",
    "    \n",
    "    #print(\"Asie\")\n",
    "    return popr"
   ]
  },
  {
   "cell_type": "code",
   "execution_count": 549,
   "metadata": {},
   "outputs": [],
   "source": [
    "pop={\"Europe\":742074000,\"Amérique du Nord\":361208000,\"Asie\":4504428000,\"Afrique\":1256268000, \n",
    "            \"Amérique du Sud\":645593000,\"Océanie\":40691000}\n",
    "\n",
    "def evolution_pop4(a,pop,n4,m4,probleme4,fixe4):\n",
    "    \"\"\"\"\"\"\n",
    "    \n",
    "    popr={\"Afrique\":[]}\n",
    "    \n",
    "    for t in range(a+1):\n",
    "        if probleme4:\n",
    "            popr[\"Afrique\"].append(round(pop[\"Afrique\"]*math.exp(k4(n4,m4,fixe4)*t)))\n",
    "        else : \n",
    "            popr[\"Afrique\"].append(round(pop[\"Afrique\"]*math.exp(0.0245*t)))\n",
    "    \n",
    "    #print(\"Afrique\")\n",
    "    return popr"
   ]
  },
  {
   "cell_type": "code",
   "execution_count": 550,
   "metadata": {},
   "outputs": [],
   "source": [
    "pop={\"Europe\":742074000,\"Amérique du Nord\":361208000,\"Asie\":4504428000,\"Afrique\":1256268000, \n",
    "            \"Amérique du Sud\":645593000,\"Océanie\":40691000}\n",
    "\n",
    "def evolution_pop5(a,pop,n5,m5,probleme5,fixe5):\n",
    "    \"\"\"\"\"\"\n",
    "    \n",
    "    popr={\"Amérique du Sud\":[]}\n",
    "    \n",
    "    for t in range(a+1):\n",
    "        if probleme5:\n",
    "            popr[\"Amérique du Sud\"].append(round(pop[\"Amérique du Sud\"]*math.exp(k5(n5,m5,fixe5)*t)))\n",
    "        else : \n",
    "            popr[\"Amérique du Sud\"].append(round(pop[\"Amérique du Sud\"]*math.exp(0.0095*t)))\n",
    "    \n",
    "    #print(\"Amérique du Sud\") popr[\"Amérique du Sud\"]\n",
    "    return popr"
   ]
  },
  {
   "cell_type": "code",
   "execution_count": 551,
   "metadata": {},
   "outputs": [],
   "source": [
    "pop={\"Europe\":742074000,\"Amérique du Nord\":361208000,\"Asie\":4504428000,\"Afrique\":1256268000, \n",
    "            \"Amérique du Sud\":645593000,\"Océanie\":40691000}\n",
    "\n",
    "def evolution_pop6(a,pop,n6,m6,probleme6,fixe6):\n",
    "    \"\"\"-> dict[str:int]\"\"\"\n",
    "    \n",
    "    popr={\"Océanie\":[]}\n",
    "    \n",
    "    for t in range(a+1):\n",
    "        if probleme6:\n",
    "            popr[\"Océanie\"].append(round(pop[\"Océanie\"]*math.exp(k6(n6,m6,fixe6)*t)))\n",
    "        else : \n",
    "            popr[\"Océanie\"].append(round(pop[\"Océanie\"]*math.exp(0.0134*t)))\n",
    "            \n",
    "    #possibilité d'écrire print(\"Océanie\") puis return popr[\"Océanie\"] pour retourner juste une liste\n",
    "    \n",
    "    return popr"
   ]
  },
  {
   "cell_type": "code",
   "execution_count": 552,
   "metadata": {},
   "outputs": [],
   "source": [
    "#pop={\"Europe\":742074000,\"Amérique du Nord\":361208000,\"Asie\":4504428000,\"Afrique\":1256268000,\"Amérique du Sud\":645593000,\"Océanie\":40691000}\n",
    "\n",
    "#def evolution_pop(a,pop,n1,m1,probleme1,fixe1,n2,m2,probleme2,fixe2,n3,m3,probleme3,fixe3,n4,m4,probleme4,fixe4,\n",
    " #              n5,m5,probleme5,fixe5,n6,m6,probleme6,fixe6):\n",
    "  #  \"\"\"int*dict[str:int]*int²*bool²*int²*bool²*int²*bool²*int²*bool²*int²*bool²*int²*bool²->dict[str:list[int]]\"\"\"\n",
    "    \n",
    "   # popr={\"Europe\":[],\"Amérique du Nord\":[],\"Asie\":[],\"Afrique\":[],\"Amérique du Sud\":[],\"Océanie\":[]}\n",
    "    \n",
    "    #for t in range(a):\n",
    "     #   if probleme1:\n",
    "      #      popr[\"Europe\"].append(round(pop[\"Europe\"]*math.exp(k1(n1,m1,fixe1)*t)))\n",
    "       # else : \n",
    "        #    popr[\"Europe\"].append(round(pop[\"Europe\"]*math.exp(0.0005*t)))\n",
    "            \n",
    "        #if probleme2:\n",
    "         #   popr[\"Amérique du Nord\"].append(round(pop[\"Amérique du Nord\"]*math.exp(k2(n2,m2,fixe2)*t)))\n",
    "        #else : \n",
    "         #   popr[\"Amérique du Nord\"].append(round(pop[\"Amérique du Nord\"]*math.exp(0.0073*t)))\n",
    "            \n",
    "        #if probleme3:\n",
    "         #   popr[\"Asie\"].append(round(pop[\"Asie\"]*math.exp(k3(n3,m3,fixe3)*t)))\n",
    "       # else : \n",
    "        #    popr[\"Asie\"].append(round(pop[\"Asie\"]*math.exp(0.0085*t)))\n",
    "            \n",
    "        #if probleme4:\n",
    "      #   popr[\"Afrique\"].append(round(pop[\"Afrique\"]*math.exp(k4(n4,m4,fixe4)*t)))\n",
    "      #  else : \n",
    "    #        popr[\"Afrique\"].append(round(pop[\"Afrique\"]*math.exp(0.0245*t)))\n",
    "  #          \n",
    "    #    if probleme5:\n",
    "   #         popr[\"Amérique du Sud\"].append(round(pop[\"Amérique du Sud\"]*math.exp(k5(n5,m5,fixe5)*t)))\n",
    "    #    else : \n",
    "    #        popr[\"Amérique du Sud\"].append(round(pop[\"Amérique du Sud\"]*math.exp(0.0095*t)))\n",
    "            \n",
    "   #     if probleme6:\n",
    "    #        popr[\"Océanie\"].append(round(pop[\"Océanie\"]*math.exp(k6(n6,m6,fixe6)*t)))\n",
    "   #    else : \n",
    "    #        popr[\"Océanie\"].append(round(pop[\"Océanie\"]*math.exp(0.0134*t)))\n",
    "        \n",
    "  #  return popr"
   ]
  },
  {
   "cell_type": "code",
   "execution_count": 553,
   "metadata": {
    "scrolled": true
   },
   "outputs": [
    {
     "data": {
      "text/plain": [
       "{'Amérique du Nord': [361208000, 361645745, 362500749, 362002078]}"
      ]
     },
     "execution_count": 553,
     "metadata": {},
     "output_type": "execute_result"
    }
   ],
   "source": [
    "evolution_pop2(3,pop,33,32,True,False)"
   ]
  },
  {
   "cell_type": "markdown",
   "metadata": {},
   "source": [
    "  "
   ]
  },
  {
   "cell_type": "markdown",
   "metadata": {},
   "source": [
    "### Graphique de la population mondiale"
   ]
  },
  {
   "cell_type": "markdown",
   "metadata": {},
   "source": [
    "** L1 : liste de la population en Europe **\n",
    "\n",
    "** L2 : liste de la population en Amérique du Nord **\n",
    "\n",
    "** L3 : liste de la population en Asie **\n",
    "\n",
    "** L4 : liste de la population en Afrique **\n",
    "\n",
    "** L5 : liste de la population en Amérique du Sud **\n",
    "\n",
    "** L6 : liste de la population en Océanie **"
   ]
  },
  {
   "cell_type": "markdown",
   "metadata": {},
   "source": [
    "A l'échelle mondiale, on regarde l'évolution de la population à l'année voulue."
   ]
  },
  {
   "cell_type": "markdown",
   "metadata": {},
   "source": [
    "    "
   ]
  },
  {
   "cell_type": "code",
   "execution_count": 554,
   "metadata": {},
   "outputs": [],
   "source": [
    "def L7(a,pop,n1,m1,probleme1,fixe1,n2,m2,probleme2,fixe2,n3,m3,probleme3,fixe3,n4,m4,probleme4,fixe4,\n",
    "               n5,m5,probleme5,fixe5,n6,m6,probleme6,fixe6):\n",
    "    \"\"\"\"\"\"\n",
    "    \n",
    "    L7=list()\n",
    "    \n",
    "    L1=evolution_pop1(a,pop,n1,m1,probleme1,fixe1)[\"Europe\"]\n",
    "    L2=evolution_pop2(a,pop,n2,m2,probleme2,fixe2)[\"Amérique du Nord\"]\n",
    "    L3=evolution_pop3(a,pop,n3,m3,probleme3,fixe3)[\"Asie\"]\n",
    "    L4=evolution_pop4(a,pop,n4,m4,probleme4,fixe4)[\"Afrique\"]\n",
    "    L5=evolution_pop5(a,pop,n5,m5,probleme5,fixe5)[\"Amérique du Sud\"]\n",
    "    L6=evolution_pop6(a,pop,n6,m6,probleme6,fixe6)[\"Océanie\"]\n",
    "    \n",
    "    for t in range(0,a+1):\n",
    "        nb=L1[t]+L2[t]+L3[t]+L4[t]+L5[t]+L6[t]\n",
    "        L7.append(nb)\n",
    "    return L7"
   ]
  },
  {
   "cell_type": "code",
   "execution_count": 555,
   "metadata": {},
   "outputs": [
    {
     "data": {
      "text/plain": [
       "10943308615"
      ]
     },
     "execution_count": 555,
     "metadata": {},
     "output_type": "execute_result"
    }
   ],
   "source": [
    "L7(83,pop,33,32,False,False,16,50,False,True,42,12,False,False,19,13,False,False,8,19,False,True,12,8,False,False)[33]"
   ]
  },
  {
   "cell_type": "code",
   "execution_count": 556,
   "metadata": {},
   "outputs": [],
   "source": [
    "L_annee=[i for i in range(2017,2118)]"
   ]
  },
  {
   "cell_type": "code",
   "execution_count": 557,
   "metadata": {},
   "outputs": [],
   "source": [
    "def total(L7):\n",
    "    \"\"\"\"\"\"\n",
    "    \n",
    "    plt.figure()\n",
    "    plt.plot(L_annee, L7)\n",
    "    plt.legend([\"Monde\"])\n",
    "    plt.xlabel(\"Année\")\n",
    "    plt.ylabel(\"Taille population\")\n",
    "    plt.show()\n",
    "    return"
   ]
  },
  {
   "cell_type": "code",
   "execution_count": 558,
   "metadata": {},
   "outputs": [
    {
     "data": {
      "image/png": "[encoded data removed]",
      "text/plain": [
       "<Figure size 432x288 with 1 Axes>"
      ]
     },
     "metadata": {},
     "output_type": "display_data"
    }
   ],
   "source": [
    "L7=L7(100,pop,33,100,False,False,16,2000,False,True,42,100,True,False,19,100,True,False,8,100,True,True,12,200,True,False)\n",
    "\n",
    "total(L7)"
   ]
  },
  {
   "cell_type": "markdown",
   "metadata": {},
   "source": [
    "A l'échelle mondiale, on regarde cette fois-ci la population dans chaque continent. (c'est à dire que toutes les populations sont représentées sur un même graphique)"
   ]
  },
  {
   "cell_type": "code",
   "execution_count": 559,
   "metadata": {},
   "outputs": [],
   "source": [
    "def list_pop(a,pop,n1,m1,probleme1,fixe1,n2,m2,probleme2,fixe2,n3,m3,probleme3,fixe3,n4,m4,probleme4,fixe4,\n",
    "               n5,m5,probleme5,fixe5,n6,m6,probleme6,fixe6):\n",
    "    \"\"\"->list[int]\"\"\"\n",
    "\n",
    "    L1=evolution_pop1(a,pop,n1,m1,probleme1,fixe1)[\"Europe\"]\n",
    "    L2=evolution_pop2(a,pop,n2,m2,probleme2,fixe2)[\"Amérique du Nord\"]\n",
    "    L3=evolution_pop3(a,pop,n3,m3,probleme3,fixe3)[\"Asie\"]\n",
    "    L4=evolution_pop4(a,pop,n4,m4,probleme4,fixe4)[\"Afrique\"]\n",
    "    L5=evolution_pop5(a,pop,n5,m5,probleme5,fixe5)[\"Amérique du Sud\"]\n",
    "    L6=evolution_pop6(a,pop,n6,m6,probleme6,fixe6)[\"Océanie\"]\n",
    "    \n",
    "    return L1,L2,L3,L4,L5,L6"
   ]
  },
  {
   "cell_type": "code",
   "execution_count": 560,
   "metadata": {},
   "outputs": [
    {
     "data": {
      "text/plain": [
       "([742074000, 742445130, 742816445, 743187946],\n",
       " [361208000, 363854466, 366520322, 369205710],\n",
       " [4504428000, 4542878822, 4581657870, 4620767944],\n",
       " [1256268000, 1287426702, 1319358220, 1352081722],\n",
       " [645593000, 651755358, 657976538, 664257101],\n",
       " [40691000, 41239929, 41796263, 42360102])"
      ]
     },
     "execution_count": 560,
     "metadata": {},
     "output_type": "execute_result"
    }
   ],
   "source": [
    "list_pop(3,pop,33,32,False,False,16,50,False,True,42,12,False,False,19,13,False,False,8,19,False,True,12,8,False,False)"
   ]
  },
  {
   "cell_type": "code",
   "execution_count": 561,
   "metadata": {},
   "outputs": [],
   "source": [
    "L_annee=[i for i in range(2017,2117)]\n",
    "\n",
    "def plot_pop(L1,L2,L3,L4,L5,L6,pop):\n",
    "    plt.figure()\n",
    "    plt.plot(L_annee,L1)\n",
    "    plt.plot(L_annee,L2)\n",
    "    plt.plot(L_annee,L3)\n",
    "    plt.plot(L_annee,L4)\n",
    "    plt.plot(L_annee,L5)\n",
    "    plt.plot(L_annee,L6)\n",
    "    plt.legend([continent for continent in continents])\n",
    "    plt.xlabel(\"Année\")\n",
    "    plt.ylabel(\"Taille population\")\n",
    "    plt.show()\n",
    "    return"
   ]
  },
  {
   "cell_type": "code",
   "execution_count": 562,
   "metadata": {},
   "outputs": [],
   "source": [
    "L1=evolution_pop1(99,pop,30,16,False,True)[\"Europe\"]\n",
    "L2=evolution_pop2(99,pop,59,100,True,False)[\"Amérique du Nord\"]\n",
    "L3=evolution_pop3(99,pop,32,29,True,False)[\"Asie\"]\n",
    "L4=evolution_pop4(99,pop,50,50,False,True)[\"Afrique\"]\n",
    "L5=evolution_pop5(99,pop,53,78,True,True)[\"Amérique du Sud\"]\n",
    "L6=evolution_pop6(99,pop,80,58,False,False)[\"Océanie\"]"
   ]
  },
  {
   "cell_type": "code",
   "execution_count": 563,
   "metadata": {},
   "outputs": [
    {
     "data": {
      "image/png": "[encoded data removed]",
      "text/plain": [
       "<Figure size 432x288 with 1 Axes>"
      ]
     },
     "metadata": {},
     "output_type": "display_data"
    }
   ],
   "source": [
    "plot_pop(L1,L2,L3,L4,L5,L6,pop)"
   ]
  },
  {
   "cell_type": "markdown",
   "metadata": {},
   "source": [
    "Même si nous voyons dans l'ensemble l'évolution de la population, les résultats sont trop imprécis pour en déduire quoique ce soit, du au fait que l'on prenne les résultats à l'échelle mondiale. Il faut donc visualiser la situation à l'échelle continentale."
   ]
  },
  {
   "cell_type": "markdown",
   "metadata": {},
   "source": [
    "### Graphiques de la population sur chaque continent"
   ]
  },
  {
   "cell_type": "code",
   "execution_count": 564,
   "metadata": {},
   "outputs": [],
   "source": [
    "def plot_pop1(L1,pop):\n",
    "    plt.figure()\n",
    "    plt.plot(L_annee,L1)\n",
    "    plt.legend([continents[0]])\n",
    "    plt.xlabel(\"Année\")\n",
    "    plt.ylabel(\"Taille population\")\n",
    "    plt.show()\n",
    "    return\n",
    "\n",
    "def plot_pop2(L2,pop):\n",
    "    plt.figure()\n",
    "    plt.plot(L_annee,L2, color=\"orange\")\n",
    "    plt.legend([continents[1]])\n",
    "    plt.xlabel(\"Année\")\n",
    "    plt.ylabel(\"Taille population\")\n",
    "    plt.show()\n",
    "    return\n",
    "\n",
    "def plot_pop3(L3,pop):\n",
    "    plt.figure()\n",
    "    plt.plot(L_annee,L3, color=\"green\")\n",
    "    plt.legend([continents[2]])\n",
    "    plt.xlabel(\"Année\")\n",
    "    plt.ylabel(\"Taille population\")\n",
    "    plt.show()\n",
    "    return\n",
    "\n",
    "def plot_pop4(L4,pop):\n",
    "    plt.figure()\n",
    "    plt.plot(L_annee,L4, color=\"red\")\n",
    "    plt.legend([continents[3]])\n",
    "    plt.xlabel(\"Année\")\n",
    "    plt.ylabel(\"Taille population\")\n",
    "    plt.show()\n",
    "    return\n",
    "\n",
    "def plot_pop5(L5,pop):\n",
    "    plt.figure()\n",
    "    plt.plot(L_annee,L5, color=\"purple\")\n",
    "    plt.legend([continents[4]])\n",
    "    plt.xlabel(\"Année\")\n",
    "    plt.ylabel(\"Taille population\")\n",
    "    plt.show()\n",
    "    return\n",
    "\n",
    "def plot_pop6(L6,pop):\n",
    "    plt.figure()\n",
    "    plt.plot(L_annee,L6, color=\"brown\")\n",
    "    plt.legend([continents[5]])\n",
    "    plt.xlabel(\"Année\")\n",
    "    plt.ylabel(\"Taille population\")\n",
    "    plt.show()\n",
    "    return"
   ]
  },
  {
   "cell_type": "code",
   "execution_count": 565,
   "metadata": {},
   "outputs": [
    {
     "data": {
      "image/png": "[encoded data removed]",
      "text/plain": [
       "<Figure size 432x288 with 1 Axes>"
      ]
     },
     "metadata": {},
     "output_type": "display_data"
    },
    {
     "data": {
      "image/png": "[encoded data removed]",
      "text/plain": [
       "<Figure size 432x288 with 1 Axes>"
      ]
     },
     "metadata": {},
     "output_type": "display_data"
    },
    {
     "data": {
      "image/png": "[encoded data removed]",
      "text/plain": [
       "<Figure size 432x288 with 1 Axes>"
      ]
     },
     "metadata": {},
     "output_type": "display_data"
    },
    {
     "data": {
      "image/png": "[encoded data removed]",
      "text/plain": [
       "<Figure size 432x288 with 1 Axes>"
      ]
     },
     "metadata": {},
     "output_type": "display_data"
    },
    {
     "data": {
      "image/png": "[encoded data removed]",
      "text/plain": [
       "<Figure size 432x288 with 1 Axes>"
      ]
     },
     "metadata": {},
     "output_type": "display_data"
    },
    {
     "data": {
      "image/png": "[encoded data removed]",
      "text/plain": [
       "<Figure size 432x288 with 1 Axes>"
      ]
     },
     "metadata": {},
     "output_type": "display_data"
    }
   ],
   "source": [
    "L1=evolution_pop1(99,pop,30,16,False,True)[\"Europe\"]\n",
    "L2=evolution_pop2(99,pop,59,100,True,False)[\"Amérique du Nord\"]\n",
    "L3=evolution_pop3(99,pop,32,29,True,False)[\"Asie\"]\n",
    "L4=evolution_pop4(99,pop,50,50,False,True)[\"Afrique\"]\n",
    "L5=evolution_pop5(99,pop,53,78,True,True)[\"Amérique du Sud\"]\n",
    "L6=evolution_pop6(99,pop,80,58,False,False)[\"Océanie\"]\n",
    "\n",
    "plot_pop1(L1,pop)\n",
    "plot_pop2(L2,pop)\n",
    "plot_pop3(L3,pop)\n",
    "plot_pop4(L4,pop)\n",
    "plot_pop5(L5,pop)\n",
    "plot_pop6(L6,pop)"
   ]
  },
  {
   "cell_type": "markdown",
   "metadata": {},
   "source": [
    "## II) PIB (Cyrielle)##"
   ]
  },
  {
   "cell_type": "markdown",
   "metadata": {},
   "source": [
    "# Modélisation du PIB #"
   ]
  },
  {
   "cell_type": "markdown",
   "metadata": {},
   "source": [
    "## Introduction ##"
   ]
  },
  {
   "cell_type": "markdown",
   "metadata": {},
   "source": [
    "### A) Formule ###"
   ]
  },
  {
   "cell_type": "markdown",
   "metadata": {},
   "source": [
    "Le PIB s'exprime en dollars et se calcule de la façon suivante : PIB = CF + FBCF + VS + X - M\n",
    "\n",
    "Avec : \n",
    "\n",
    "- CF = consommation finale effective\n",
    "\n",
    "- FBCF = investissement (formation brute de capital fixe)\n",
    "\n",
    "- VS = variation des stocks\n",
    "\n",
    "- X = exportations\n",
    "\n",
    "- M = importations"
   ]
  },
  {
   "cell_type": "markdown",
   "metadata": {},
   "source": [
    "### B) Hypothèses ###"
   ]
  },
  {
   "cell_type": "markdown",
   "metadata": {},
   "source": [
    "1) On suppose que le cours du dollar ne change pas avec le temps. Il reste fixe à 1€ = 1,13$.\n",
    "\n",
    "2) On suppose que le nombre d'entreprises est proportionnelle au nombre d'habitants.\n",
    "\n",
    "3) On suppose que la variation des stocks est proportionnelle au nomnre d'entreprises."
   ]
  },
  {
   "cell_type": "markdown",
   "metadata": {},
   "source": [
    "## I- PIB mondial (1ère approche : données France) ##"
   ]
  },
  {
   "cell_type": "markdown",
   "metadata": {},
   "source": [
    "Le PIB mondial ne prend pas en compte les exportations et importations qui s'annulent."
   ]
  },
  {
   "cell_type": "markdown",
   "metadata": {},
   "source": [
    "### 1) Calcul de CF ###"
   ]
  },
  {
   "cell_type": "markdown",
   "metadata": {},
   "source": [
    "On définit la consommation finale par : dépense moyenne annuelle * nb de personnes\n",
    "\n",
    "La dépense moyenne annuelle change selon le type de foyer (d'après l'Insee avec les valeurs françaises):\n",
    "\n",
    "1 personne : 16 641€ soit 18 785$\n",
    "\n",
    "2 personnes : 18 000€ soit 20 319$\n",
    "\n",
    "3 personnes : 23 016€ soit 25 981$\n",
    "\n",
    "4 personnes : 30 684€ soit 34 637$\n",
    "\n",
    "5 personnes : 32 653€ soit 36 860$\n",
    "\n",
    "Nous avons la proportions de chaque foyer en France :\n",
    "\n",
    "1 personne : 35%\n",
    "\n",
    "2 personnes : 33%\n",
    "\n",
    "3 personnes : 14%\n",
    "\n",
    "4 personnes : 12%\n",
    "\n",
    "5 personnes : 6%\n",
    "\n",
    "Nous calculons la proportion de personnes vivant dans un foyer de 1, 2, 3, 4 ou 5 personnes. Pour cela nous calculons grâce aux proportions ci-dessus, le nombre de personnes totales d'une population.\n",
    "\n",
    "35 + 33 2 + 14 3 + 12 4 + 6 5 = 221\n",
    "\n",
    "Ainsi, nous ressortons les proportions de personnes vivant dans chaque type de foyer :\n",
    "\n",
    "1 personne : 35 / 221 * 100 = 16%\n",
    "\n",
    "2 personnes : 33 2 / 221 100 = 30%\n",
    "\n",
    "3 personnes : 14 3 / 221 100 = 19%\n",
    "\n",
    "4 personnes : 12 4 / 221 100 = 22%\n",
    "\n",
    "5 personnes : 5 6 / 221 100 = 13%"
   ]
  },
  {
   "cell_type": "code",
   "execution_count": 566,
   "metadata": {},
   "outputs": [],
   "source": [
    "p={1:0.16, 2:0.30, 3:0.19, 4:0.22, 5:0.13} #proportion de personnes vivants dans un certain foyer\n",
    "d={1:18785, 2:20319, 3:25981, 4:34637, 5:36860} #dépenses du foyer"
   ]
  },
  {
   "cell_type": "code",
   "execution_count": 567,
   "metadata": {},
   "outputs": [],
   "source": [
    "def CF(pop, p, d):\n",
    "    \"\"\"int*dict[int:float]*dict[int:int]->float\"\"\"\n",
    "    D=dict()\n",
    "    for i in p:\n",
    "        D[i]=pop*p[i]\n",
    "    DR=dict()\n",
    "    for j in D:\n",
    "        DR[j]=D[j]*d[j]/j\n",
    "    s=0\n",
    "    for k in DR:\n",
    "        s=DR[k]+s\n",
    "    return s"
   ]
  },
  {
   "cell_type": "code",
   "execution_count": 568,
   "metadata": {},
   "outputs": [
    {
     "data": {
      "text/plain": [
       "79748195241450.0"
      ]
     },
     "execution_count": 568,
     "metadata": {},
     "output_type": "execute_result"
    }
   ],
   "source": [
    "CF(7550262000, p, d)"
   ]
  },
  {
   "cell_type": "markdown",
   "metadata": {},
   "source": [
    "### 2) Calcul du FBCF ###"
   ]
  },
  {
   "cell_type": "markdown",
   "metadata": {},
   "source": [
    "Le FBCF se calcule par la somme des achats et travaux immobiliers des particuliers et les investissements des entreprises et institutions publiques.\n",
    "\n",
    "En 2017, il y a, d'après l'Insee, 515 900 000 000€ investissements des institutions et entreprises françaises. Soit 582 476 895 000$.\n",
    "\n",
    "En 2017, il y a, 4 751 553 entreprises et institutions françaises. Il y a également 67 120 000 habitants en France.\n",
    "\n",
    "Nous pouvons donc dire qu'approximativement 1 entreprise investit 582 476 895 000 / 4 751 553$ par an.\n",
    "\n",
    "Une entreprise investit donc 122 587$ par an.\n",
    "\n",
    "Pour déterminer le nombre d'entreprises on fait un produit en croix : 4 751 553 * pop / 67 120 000."
   ]
  },
  {
   "cell_type": "code",
   "execution_count": 569,
   "metadata": {},
   "outputs": [],
   "source": [
    " fbcf={1:953, 2:2106, 3:738, 4:2378, 5:1589} #dépenses des particuliers"
   ]
  },
  {
   "cell_type": "code",
   "execution_count": 570,
   "metadata": {},
   "outputs": [],
   "source": [
    "def FBCF(pop, fbcf, p):\n",
    "    \"\"\"int*dict[int:int]*dict[int:float]->float\"\"\"\n",
    "    D=dict()\n",
    "    for i in p:\n",
    "        D[i]=pop*p[i]\n",
    "    DR=dict()\n",
    "    for j in D:\n",
    "        DR[j]=D[j]*fbcf[j]/j\n",
    "    s=round(4751553*pop*122587/67120000)\n",
    "    for k in DR:\n",
    "        s=s+DR[k]\n",
    "    return s"
   ]
  },
  {
   "cell_type": "code",
   "execution_count": 571,
   "metadata": {},
   "outputs": [
    {
     "data": {
      "text/plain": [
       "70711162371036.0"
      ]
     },
     "execution_count": 571,
     "metadata": {},
     "output_type": "execute_result"
    }
   ],
   "source": [
    "FBCF(7550262000, fbcf, p)"
   ]
  },
  {
   "cell_type": "markdown",
   "metadata": {},
   "source": [
    "### 3) Calcul de VS ###"
   ]
  },
  {
   "cell_type": "markdown",
   "metadata": {},
   "source": [
    "La variation des stocks se calcule grâce aux stocksde début d'année moins les tsocks de fin d'années.\n",
    "\n",
    "En 2017, en France, d'après l'Insee, il y a 21 000 000 000€ de variation de stocks, soit 23 698 017 000$.\n",
    "\n",
    "Il y a 4 751 553 entreprises et institutions en France en 2017.\n",
    "\n",
    "On calcule donc la variation de stocks pour une entreprise : 23 698 017 000 / 4 751 553$.\n",
    "\n",
    "Une entreprise a donc une variation de stock d'environ 4 987$."
   ]
  },
  {
   "cell_type": "code",
   "execution_count": 572,
   "metadata": {},
   "outputs": [],
   "source": [
    "def VS(pop):\n",
    "    \"\"\"int->number\"\"\"\n",
    "    e=round(4751553*pop/67120000) #nombre d'entreprises\n",
    "    return e*4987"
   ]
  },
  {
   "cell_type": "code",
   "execution_count": 573,
   "metadata": {},
   "outputs": [
    {
     "data": {
      "text/plain": [
       "2665538872916"
      ]
     },
     "execution_count": 573,
     "metadata": {},
     "output_type": "execute_result"
    }
   ],
   "source": [
    "VS(7550262000)"
   ]
  },
  {
   "cell_type": "markdown",
   "metadata": {},
   "source": [
    "### Calcul du PIB mondial ###"
   ]
  },
  {
   "cell_type": "code",
   "execution_count": 574,
   "metadata": {},
   "outputs": [],
   "source": [
    "def PIB(pop, p, d, fbcf):\n",
    "    \"\"\"int*dict[int:float]*dict[int:int]*dict[int*int]->float\"\"\"\n",
    "    cfu=CF(pop, p, d)\n",
    "    fbcfu=FBCF(pop, fbcf, p)\n",
    "    vsu=VS(pop)\n",
    "    return cfu+fbcfu+vsu"
   ]
  },
  {
   "cell_type": "code",
   "execution_count": 575,
   "metadata": {},
   "outputs": [
    {
     "data": {
      "text/plain": [
       "153124896485402.0"
      ]
     },
     "execution_count": 575,
     "metadata": {},
     "output_type": "execute_result"
    }
   ],
   "source": [
    "PIB(7550262000, p, d, fbcf)"
   ]
  },
  {
   "cell_type": "markdown",
   "metadata": {},
   "source": [
    "La première approximation est éloignée de la réalité puisque le PIB de 2017 mondial était de 79 865 000 000 000$."
   ]
  },
  {
   "cell_type": "markdown",
   "metadata": {},
   "source": [
    "## II- PIB mondial (2ème approche : données par continents)"
   ]
  },
  {
   "cell_type": "markdown",
   "metadata": {},
   "source": [
    "### 1) Calcul de CF"
   ]
  },
  {
   "cell_type": "markdown",
   "metadata": {},
   "source": [
    "On estime grâce aux valeurs de la banque mondiale les données ci-dessous (il s'agit de prendre en compte la plus grande région du continent pour être le plus précis possible) :\n",
    "\n",
    "Les dépenses de consommations finales par habitant de chaque continents en 2016-2017 sont : \n",
    "\n",
    "- Afrique : Afrique du Nord (189 268 020 hab) et Moyen-Orient (415 385 000 hab) + Afrique Subsaharienne (1 022 664 451 hab) = 3 416.37 (CF par hab en AN et MO) + 1 028 (CF par hab en AS) = ((nb hab AN + MO) * 3 416.37 + nb hab AS * 1 028)/(nb hab tot) = 1 915$\n",
    "\n",
    "- Asie : Asie de l'Est et Pacifique (1 624 853 705 hab) + Asie du Sud (1 870 460 803 hab) + Russie (142 300 000 hab) = 4 637.10 (CF par hab en AS et P) + 1 059.60 (CF par hab en AS) + 5 874 (CF par hab en R) = ((nb hab AS + P) * 4 637.10 + nb hab AS * 1 029.60 + nb hab R * 5 874)/(nb hab tot) = 2 831$\n",
    "\n",
    "- Amérique du Nord : Amérique du Nord (donnée déjà calculée) = 35 639$\n",
    "\n",
    "- Amérique du Sud : Amérique latine et Caraïbes (donnée déjà calculée) = 5 668$\n",
    "\n",
    "- Europe : Europe centrale (200 000 000 hab) et Pays Baltes (6 826 000 hab) + Union Européenne (512 000 000 hab) = 8 902.27 (CF par hab en EC et PB) + 20 314.23 (CF par hab en UE) = ((nb hab EC + PB) * 8 902.27 + nb hab UE * 20 314.23)/(nb hab tot) = 17 031$\n",
    "\n",
    "- Océanie : Australie (24 641 661 hab) + Nouvelle Zélande (4 604 871 hab) = 31 410.64 (CF par hab en A) + 22 434.13 (CF par hab en NZ) = (nb hab A * 31 410.64 + nb hab NZ * 22 434.13)/(nb hab tot) = 29 997$"
   ]
  },
  {
   "cell_type": "code",
   "execution_count": 576,
   "metadata": {},
   "outputs": [],
   "source": [
    "cfc={\"Afrique\":1915, \"Asie\":2831, \"Amérique du Nord\":35639, \"Amérique du Sud\":5668, \"Europe\":17031, \"Océanie\":29997}\n",
    "continents=[\"Europe\", \"Amérique du Nord\",\"Asie\", \"Afrique\", \"Amérique du Sud\", \"Océanie\"]\n",
    "pop={\"Europe\":742074000,\"Amérique du Nord\":361208000,\"Asie\":4504428000,\"Afrique\":1256268000, \n",
    "            \"Amérique du Sud\":645593000,\"Océanie\":40691000}"
   ]
  },
  {
   "cell_type": "code",
   "execution_count": 577,
   "metadata": {},
   "outputs": [],
   "source": [
    "def cf_continents(cfc, continents, pop):\n",
    "    \"\"\"dict[str:int]*list[str]*dict[str:int]->int\"\"\"\n",
    "    s=0\n",
    "    for i in continents:\n",
    "        s=s+cfc[i]*pop[i]\n",
    "    return s"
   ]
  },
  {
   "cell_type": "code",
   "execution_count": 578,
   "metadata": {},
   "outputs": [
    {
     "data": {
      "text/plain": [
       "45548972145000"
      ]
     },
     "execution_count": 578,
     "metadata": {},
     "output_type": "execute_result"
    }
   ],
   "source": [
    "cf_continents(cfc, continents, pop)"
   ]
  },
  {
   "cell_type": "markdown",
   "metadata": {},
   "source": [
    "### 2) Calcul du FBCF"
   ]
  },
  {
   "cell_type": "markdown",
   "metadata": {},
   "source": [
    "On décide pour la deuxième partie de ne pas séparer les consommation des particuliers et celles des entreprises.\n",
    "\n",
    "On estime grâce aux valeurs de la banque mondiale les données ci-dessous pour le FBCF par habitant. Nous prenons le même nombre d'habitants pour chaque région que pour le CF.\n",
    "\n",
    "Afrique : Afrique du Nord et Moyen-Orient + Afrique Subsaharienne = (957 612 910 000 (FBCF de la région AN + MO) + 361 913 030 000 (FBCF de la région AS))/(nb hab AN + MO + AS) = 811$\n",
    "\n",
    "Asie : Asie de l'Est et Pacifique + Asie du Sud + Russie = (8 167 609 820 000 (FBCF de la régio AE + P) + 1 049 269 340 000 (FBCF de la région AS) + 390 369 330 000 (FBCF de la région R))/(nb hab AE + P + AS + R) = 2 641$\n",
    "\n",
    "Amérique du Nord : Amérique du Nord (361 208 000 hab) = 3 788 598 830 000 (FBCF de la région AN)/(nb hab AN) = 10 489$\n",
    "\n",
    "Amérique du Sud : Amérique latine et Caraïbes (647 565 335) = 1 131 073 580 000 (FBCF de la région AL +C)/(nb hab AL + C) = 1747$\n",
    "\n",
    "Europe : Europe centrale et Pays Baltes + Union Européenne = (360 640 590 000 (FBCF de la région EC + PB) + 3 943 976 300 000 (FBCF de la région UE)/(nb hab EC + PB + UE) = 5 988$\n",
    "\n",
    "Océanie : Australie + Nouvelle-Zélande = (333 107 700 000 (FBCF de la région A) + 41 880 470 000 (FBCF de la région NZ)/(nb hab A + NZ) = 12 822$"
   ]
  },
  {
   "cell_type": "code",
   "execution_count": 579,
   "metadata": {},
   "outputs": [],
   "source": [
    "fbcfc={\"Afrique\":811, \"Asie\":2641, \"Amérique du Nord\":10489, \"Amérique du Sud\":1747, \"Europe\":5988, \"Océanie\":12822}"
   ]
  },
  {
   "cell_type": "code",
   "execution_count": 580,
   "metadata": {},
   "outputs": [],
   "source": [
    "def fbcf_continents(fbcfc, continents, pop):\n",
    "    \"\"\"dict[str:int]*list[str]*dict[str:int]->int\"\"\"\n",
    "    s=0\n",
    "    for i in continents :\n",
    "        s=s+fbcfc[i]*pop[i]\n",
    "    return s"
   ]
  },
  {
   "cell_type": "code",
   "execution_count": 581,
   "metadata": {},
   "outputs": [
    {
     "data": {
      "text/plain": [
       "22796868493000"
      ]
     },
     "execution_count": 581,
     "metadata": {},
     "output_type": "execute_result"
    }
   ],
   "source": [
    "fbcf_continents(fbcfc, continents, pop)"
   ]
  },
  {
   "cell_type": "markdown",
   "metadata": {},
   "source": [
    "### 3) Calcul de VS"
   ]
  },
  {
   "cell_type": "markdown",
   "metadata": {},
   "source": [
    "On estime les données de variation de stocks par continent et par habitant en fonction des données par pays données par la banque mondiale :\n",
    "\n",
    "Afrique : Nous prenons 35 pays : (Somme des VS des 35 pays)/(nb hab des 35 pays) = 25 882 545 790/815 970 010 = 32$\n",
    "\n",
    "Asie : Nous prenons 31 pays : (Somme des VS des 31 pays)/(nb hab des 31 pays) = 224 074 187 950/4 092 924 088 = 55$\n",
    "\n",
    "Amérique du Nord : Nous prenons 3 pays : (Somme des VS des 3 pays)/(nb hab des 3 pays) = 55 557 762 400/493 322 910 = 113$\n",
    "\n",
    "Amérique du Sud : Nous prenons 15 pays : (Somme des VS des 15 pays)/(nb hab des 15 pays) = 28 727 147 680/418 773 224 = 69$\n",
    "\n",
    "Europe : Nous prenons 38 pays : (Somme des VS des 38 pays)/(nb hab des 38 pays) = 63 185 345 240/595 237 863 = 106$\n",
    "\n",
    "Océanie : Nous prenons 3 pays : (Somme des VS des 3 pays)/(nb hab des 3 pays) = 2 866 156 836/29 267 823 = 98$\n",
    "\n"
   ]
  },
  {
   "cell_type": "code",
   "execution_count": 582,
   "metadata": {},
   "outputs": [],
   "source": [
    "vsc={\"Afrique\":32, \"Asie\":55, \"Amérique du Nord\":113, \"Amérique du Sud\":69, \"Europe\":106, \"Océanie\":98}"
   ]
  },
  {
   "cell_type": "code",
   "execution_count": 583,
   "metadata": {},
   "outputs": [],
   "source": [
    "def vs_continents(vsc, continents, pop):\n",
    "    \"\"\"dict[str:int]*list[str]*dict[str:int]->int\"\"\"\n",
    "    s=0\n",
    "    for i in continents:\n",
    "        s=s+vsc[i]*pop[i]\n",
    "    return s"
   ]
  },
  {
   "cell_type": "code",
   "execution_count": 584,
   "metadata": {},
   "outputs": [
    {
     "data": {
      "text/plain": [
       "455954099000"
      ]
     },
     "execution_count": 584,
     "metadata": {},
     "output_type": "execute_result"
    }
   ],
   "source": [
    "vs_continents(vsc, continents, pop)"
   ]
  },
  {
   "cell_type": "markdown",
   "metadata": {},
   "source": [
    "### Calcul du PIB"
   ]
  },
  {
   "cell_type": "code",
   "execution_count": 585,
   "metadata": {},
   "outputs": [],
   "source": [
    "def PIB_continents(cfc, fbcfc, vsc, continents, pop):\n",
    "    \"\"\"dict[str:int]*dict[str:int]*dict[str:int]*list[str]*dict[str:int]->int\"\"\"\n",
    "    cfcu=cf_continents(cfc, continents, pop)\n",
    "    fbcfcu=fbcf_continents(fbcfc, continents, pop)\n",
    "    vscu=vs_continents(vsc, continents, pop)\n",
    "    return cfcu+fbcfcu+vscu"
   ]
  },
  {
   "cell_type": "code",
   "execution_count": 586,
   "metadata": {},
   "outputs": [
    {
     "data": {
      "text/plain": [
       "68801794737000"
      ]
     },
     "execution_count": 586,
     "metadata": {},
     "output_type": "execute_result"
    }
   ],
   "source": [
    "PIB_continents(cfc, fbcfc, vsc, continents, pop)"
   ]
  },
  {
   "cell_type": "markdown",
   "metadata": {},
   "source": [
    "Le PIB mondial de 2017 était de 79 865 000 000 000$.\n",
    "\n",
    "Il reste encore environ 10 000 000 000 000$ de différence entre la modélisation et la valeur réelle."
   ]
  },
  {
   "cell_type": "markdown",
   "metadata": {},
   "source": [
    "## III- PIB mondial (3ème approche : Régression linéaire)"
   ]
  },
  {
   "cell_type": "code",
   "execution_count": 587,
   "metadata": {},
   "outputs": [],
   "source": [
    "import pandas as pd\n",
    "import matplotlib.pyplot as plt\n",
    "import numpy as np\n",
    "from scipy import stats\n",
    "\n",
    "pib_data = pd.read_csv(\"/users/Etu2/3802152/Documents/Evolution-CO2-master(1)/Evolution-CO2-master/pib.csv\")"
   ]
  },
  {
   "cell_type": "code",
   "execution_count": 588,
   "metadata": {},
   "outputs": [],
   "source": [
    "annee = pib_data.iloc[0:len(pib_data),0]\n",
    "PIB = pib_data.iloc[0:len(pib_data),1] \n",
    "X=[i for i in annee]\n",
    "Y=[i for i in PIB]"
   ]
  },
  {
   "cell_type": "code",
   "execution_count": 589,
   "metadata": {},
   "outputs": [
    {
     "data": {
      "image/png": "[encoded data removed]",
      "text/plain": [
       "<Figure size 432x288 with 1 Axes>"
      ]
     },
     "metadata": {},
     "output_type": "display_data"
    }
   ],
   "source": [
    "axes = plt.axes()\n",
    "axes.grid()\n",
    "plt.plot(X, Y)\n",
    "plt.xlabel('Année')\n",
    "plt.ylabel('PIB en $')\n",
    "plt.show()"
   ]
  },
  {
   "cell_type": "code",
   "execution_count": 590,
   "metadata": {},
   "outputs": [],
   "source": [
    "def predict(slope, intercept, x):\n",
    "    \n",
    "    return slope*np.asarray(x) + intercept"
   ]
  },
  {
   "cell_type": "code",
   "execution_count": 591,
   "metadata": {},
   "outputs": [],
   "source": [
    "def graph():\n",
    "    axes = plt.axes()\n",
    "    axes.grid()\n",
    "    plt.title('Approximation du paramètre PIB')\n",
    "    plt.xlabel('Année')\n",
    "    plt.ylabel('PIB en $')\n",
    "    plt.plot(X , Y)\n",
    "    slope, intercept, r_value, p_value, std_err = stats.linregress(X, Y)\n",
    "    plt.plot(X, predict(slope, intercept, X), c='r')\n",
    "    plt.show()\n",
    "    \n",
    "def PIB(year):\n",
    "    slope, intercept, r_value, p_value, std_err = stats.linregress(X, Y)\n",
    "    return slope*year + intercept"
   ]
  },
  {
   "cell_type": "code",
   "execution_count": 592,
   "metadata": {},
   "outputs": [
    {
     "data": {
      "image/png": "[encoded data removed]",
      "text/plain": [
       "<Figure size 432x288 with 1 Axes>"
      ]
     },
     "metadata": {},
     "output_type": "display_data"
    }
   ],
   "source": [
    "graph()"
   ]
  },
  {
   "cell_type": "code",
   "execution_count": 593,
   "metadata": {},
   "outputs": [],
   "source": [
    "def futur_mondial(year):\n",
    "    \"\"\"int->list[float]\"\"\"\n",
    "    L=[]\n",
    "    for i in range(2010,year):\n",
    "        L.append(PIB(i))\n",
    "    return L"
   ]
  },
  {
   "cell_type": "code",
   "execution_count": 594,
   "metadata": {},
   "outputs": [],
   "source": [
    "L=futur_mondial(2101)\n",
    "annee_futur=[i for i in range(2010,2101)]\n",
    "def graph_monde():\n",
    "    axes = plt.axes()\n",
    "    axes.grid()\n",
    "    plt.title('Approximation du paramètre PIB')\n",
    "    plt.xlabel('Année')\n",
    "    plt.ylabel('PIB en $')\n",
    "    plt.plot(annee_futur, L)\n",
    "    plt.show()"
   ]
  },
  {
   "cell_type": "code",
   "execution_count": 595,
   "metadata": {},
   "outputs": [
    {
     "data": {
      "image/png": "[encoded data removed]",
      "text/plain": [
       "<Figure size 432x288 with 1 Axes>"
      ]
     },
     "metadata": {},
     "output_type": "display_data"
    }
   ],
   "source": [
    "graph_monde()"
   ]
  },
  {
   "cell_type": "code",
   "execution_count": 596,
   "metadata": {},
   "outputs": [
    {
     "data": {
      "text/plain": [
       "67872053087868.5"
      ]
     },
     "execution_count": 596,
     "metadata": {},
     "output_type": "execute_result"
    }
   ],
   "source": [
    "PIB(2017)"
   ]
  },
  {
   "cell_type": "markdown",
   "metadata": {},
   "source": [
    "Le PIB mondial de 2017 était de 79 865 000 000 000$.\n",
    "\n",
    "Notre deuxième approche (PIB par continents) était plus proche de la réalité que celle-ci. Ainsi, nous prendrons la deuxième approche pour modéliser le futur."
   ]
  },
  {
   "cell_type": "markdown",
   "metadata": {},
   "source": [
    "## IV- PIB continental"
   ]
  },
  {
   "cell_type": "markdown",
   "metadata": {},
   "source": [
    "On utilise les même données que dans le PIB mondial par continent."
   ]
  },
  {
   "cell_type": "markdown",
   "metadata": {},
   "source": [
    "### 1) Calcul de CF"
   ]
  },
  {
   "cell_type": "code",
   "execution_count": 597,
   "metadata": {},
   "outputs": [],
   "source": [
    "cfc={\"Afrique\":1915, \"Asie\":2831, \"Amérique du Nord\":35639, \"Amérique du Sud\":5668, \"Europe\":17031, \"Océanie\":29997}\n",
    "continents=[\"Europe\", \"Amérique du Nord\",\"Asie\", \"Afrique\", \"Amérique du Sud\", \"Océanie\"]\n",
    "pop={\"Europe\":742074000,\"Amérique du Nord\":361208000,\"Asie\":4504428000,\"Afrique\":1256268000, \n",
    "            \"Amérique du Sud\":645593000,\"Océanie\":40691000}"
   ]
  },
  {
   "cell_type": "code",
   "execution_count": 598,
   "metadata": {},
   "outputs": [],
   "source": [
    "def cf_continental(cfc, continents, pop, continent):\n",
    "    \"\"\"dict[str:int]*list[str]*dict[str:int]*str->int\"\"\"\n",
    "    s=0\n",
    "    for i in continents:\n",
    "        if i==continent:\n",
    "            s=s+cfc[i]*pop[i]\n",
    "    return s"
   ]
  },
  {
   "cell_type": "code",
   "execution_count": 599,
   "metadata": {},
   "outputs": [
    {
     "data": {
      "text/plain": [
       "12638262294000"
      ]
     },
     "execution_count": 599,
     "metadata": {},
     "output_type": "execute_result"
    }
   ],
   "source": [
    "cf_continental(cfc, continents, pop, \"Europe\")"
   ]
  },
  {
   "cell_type": "markdown",
   "metadata": {},
   "source": [
    "### 2) Calcul du FBCF"
   ]
  },
  {
   "cell_type": "code",
   "execution_count": 600,
   "metadata": {},
   "outputs": [],
   "source": [
    "fbcfc={\"Afrique\":811, \"Asie\":2641, \"Amérique du Nord\":10489, \"Amérique du Sud\":1747, \"Europe\":5988, \"Océanie\":12822}"
   ]
  },
  {
   "cell_type": "code",
   "execution_count": 601,
   "metadata": {},
   "outputs": [],
   "source": [
    "def fbcf_continental(fbcfc, continents, pop, continent):\n",
    "    \"\"\"dict[str:int]*list[str]*dict[str:int]*str->int\"\"\"\n",
    "    s=0\n",
    "    for i in continents :\n",
    "        if i==continent:\n",
    "            s=s+fbcfc[i]*pop[i]\n",
    "    return s"
   ]
  },
  {
   "cell_type": "code",
   "execution_count": 602,
   "metadata": {},
   "outputs": [
    {
     "data": {
      "text/plain": [
       "4443539112000"
      ]
     },
     "execution_count": 602,
     "metadata": {},
     "output_type": "execute_result"
    }
   ],
   "source": [
    "fbcf_continental(fbcfc, continents, pop, \"Europe\")"
   ]
  },
  {
   "cell_type": "markdown",
   "metadata": {},
   "source": [
    "### 3) Calcul de VS"
   ]
  },
  {
   "cell_type": "code",
   "execution_count": 603,
   "metadata": {},
   "outputs": [],
   "source": [
    "vsc={\"Afrique\":32, \"Asie\":55, \"Amérique du Nord\":113, \"Amérique du Sud\":69, \"Europe\":106, \"Océanie\":98}"
   ]
  },
  {
   "cell_type": "code",
   "execution_count": 604,
   "metadata": {},
   "outputs": [],
   "source": [
    "def vs_continental(vsc, continents, pop, continent):\n",
    "    \"\"\"dict[str:int]*list[str]*dict[str:int]*str->int\"\"\"\n",
    "    s=0\n",
    "    for i in continents:\n",
    "        if i==continent:\n",
    "            s=s+vsc[i]*pop[i]\n",
    "    return s"
   ]
  },
  {
   "cell_type": "code",
   "execution_count": 605,
   "metadata": {},
   "outputs": [
    {
     "data": {
      "text/plain": [
       "78659844000"
      ]
     },
     "execution_count": 605,
     "metadata": {},
     "output_type": "execute_result"
    }
   ],
   "source": [
    "vs_continental(vsc, continents, pop, \"Europe\")"
   ]
  },
  {
   "cell_type": "markdown",
   "metadata": {},
   "source": [
    "### 4) Calcul de X"
   ]
  },
  {
   "cell_type": "markdown",
   "metadata": {},
   "source": [
    "D'après le site Perspective les exportations par continent en 2016/2017 sont :\n",
    "\n",
    "Afrique : 450 141 000 000$\n",
    "\n",
    "Asie : 6 622 214 000 000$\n",
    "\n",
    "Amérique du Nord : 3 089 941 000 000$\n",
    "\n",
    "Amérique du Sud : 603 638 000 000$\n",
    "\n",
    "Europe : 8 560 857 000 000$\n",
    "\n",
    "Océanie : 281 453 000 000$"
   ]
  },
  {
   "cell_type": "code",
   "execution_count": 606,
   "metadata": {},
   "outputs": [],
   "source": [
    "xc={\"Afrique\":450141000000, \"Asie\":6622214000000, \"Amérique du Nord\":3089941000000, \"Amérique du Sud\":603638000000, \"Europe\":8560857000000, \"Océanie\":281453000000}"
   ]
  },
  {
   "cell_type": "code",
   "execution_count": 607,
   "metadata": {},
   "outputs": [],
   "source": [
    "def x_continental(xc, continent):\n",
    "    \"\"\"dict[str:int]*str->int\"\"\"\n",
    "    return xc[continent]"
   ]
  },
  {
   "cell_type": "code",
   "execution_count": 608,
   "metadata": {},
   "outputs": [
    {
     "data": {
      "text/plain": [
       "8560857000000"
      ]
     },
     "execution_count": 608,
     "metadata": {},
     "output_type": "execute_result"
    }
   ],
   "source": [
    "x_continental(xc,\"Europe\")"
   ]
  },
  {
   "cell_type": "markdown",
   "metadata": {},
   "source": [
    "### 5) Calcul de M"
   ]
  },
  {
   "cell_type": "markdown",
   "metadata": {},
   "source": [
    "\n",
    "D'après le site de Perspective les importations par continents en 2016/2017 sont :\n",
    "\n",
    "Afrique : 590 331 000 000$\n",
    "\n",
    "Asie : 6 084 681 000 000$\n",
    "\n",
    "Amérique du Nord : 3 669 595 000 000$\n",
    "\n",
    "Amérique du Sud : 644 905 000 000$\n",
    "\n",
    "Europe : 7 870 121 000 000$\n",
    "\n",
    "Océanie : 308 229 000 000$"
   ]
  },
  {
   "cell_type": "code",
   "execution_count": 609,
   "metadata": {},
   "outputs": [],
   "source": [
    "mc={\"Afrique\":590331000000, \"Asie\":6084681000000, \"Amérique du Nord\":3669595000000, \"Amérique du Sud\":644905000000, \"Europe\":7870121000000, \"Océanie\":308229000000}"
   ]
  },
  {
   "cell_type": "code",
   "execution_count": 610,
   "metadata": {},
   "outputs": [],
   "source": [
    "def m_continental(mc, continent):\n",
    "    \"\"\"dict[str:int]*str\"\"\"\n",
    "    return mc[continent]"
   ]
  },
  {
   "cell_type": "code",
   "execution_count": 611,
   "metadata": {},
   "outputs": [
    {
     "data": {
      "text/plain": [
       "7870121000000"
      ]
     },
     "execution_count": 611,
     "metadata": {},
     "output_type": "execute_result"
    }
   ],
   "source": [
    "m_continental(mc, \"Europe\")"
   ]
  },
  {
   "cell_type": "markdown",
   "metadata": {},
   "source": [
    "### Calcul du PIB"
   ]
  },
  {
   "cell_type": "code",
   "execution_count": 612,
   "metadata": {},
   "outputs": [],
   "source": [
    "def PIB_continental(cfc, fbcfc, vsc, continents, xc, mc, pop, continent):\n",
    "    \"\"\"dict[str:int]*dict[str:int]*dict[str:int]*list[str]*dict[str:int]*dict[str:int]*dict[str:int]*str->int\"\"\"\n",
    "    cfcu=cf_continental(cfc, continents, pop, continent)\n",
    "    fbcfcu=fbcf_continental(fbcfc, continents, pop, continent)\n",
    "    vscu=vs_continental(vsc, continents, pop, continent)\n",
    "    xu=x_continental(xc, continent)\n",
    "    mu=m_continental(mc, continent)\n",
    "    return cfcu+fbcfcu+vscu+xu-mu"
   ]
  },
  {
   "cell_type": "code",
   "execution_count": 613,
   "metadata": {},
   "outputs": [
    {
     "data": {
      "text/plain": [
       "17851197250000"
      ]
     },
     "execution_count": 613,
     "metadata": {},
     "output_type": "execute_result"
    }
   ],
   "source": [
    "PIB_continental(cfc, fbcfc, vsc, continents, xc, mc, pop, \"Europe\")"
   ]
  },
  {
   "cell_type": "code",
   "execution_count": 614,
   "metadata": {},
   "outputs": [],
   "source": [
    "def PIB_6continents(cfc, fbcfc, vsc, continents, xc, mc, pop):\n",
    "    \"\"\"dict[str:int]*dict[str:int]*dict[str:int]*list[str]*dict[str:int]*dict[str:int]*dict[str:int]->dict[str:int]\"\"\"\n",
    "    D=dict()\n",
    "    for i in continents:\n",
    "        D[i]=PIB_continental(cfc, fbcfc, vsc, continents, xc, mc, pop, i)\n",
    "    return D"
   ]
  },
  {
   "cell_type": "code",
   "execution_count": 615,
   "metadata": {},
   "outputs": [
    {
     "data": {
      "text/plain": [
       "{'Afrique': 3324597144000,\n",
       " 'Amérique du Nord': 16122965128000,\n",
       " 'Amérique du Sud': 4790351012000,\n",
       " 'Asie': 25433506556000,\n",
       " 'Europe': 17851197250000,\n",
       " 'Océanie': 1719559647000}"
      ]
     },
     "execution_count": 615,
     "metadata": {},
     "output_type": "execute_result"
    }
   ],
   "source": [
    "PIB_6continents(cfc, fbcfc, vsc, continents, xc, mc, pop)"
   ]
  },
  {
   "cell_type": "markdown",
   "metadata": {},
   "source": [
    "### Evolution PIB"
   ]
  },
  {
   "cell_type": "code",
   "execution_count": 622,
   "metadata": {},
   "outputs": [],
   "source": [
    "def evolution_PIB(a,n1,m1,probleme1,fixe1,n2,m2,probleme2,fixe2,n3,m3,probleme3,fixe3,n4,m4,probleme4,fixe4,n5,m5,\n",
    "                  probleme5,fixe5,n6,m6,probleme6,fixe6,cfc,fbcfc,vsc,continents,xc,mc):\n",
    "    D={\"Europe\":[],\"Amérique du Nord\":[],\"Asie\":[],\"Afrique\":[],\"Amérique du Sud\":[],\"Océanie\":[]}\n",
    "    for i in range(0,a+1):\n",
    "        popu=dict()\n",
    "        popu[\"Europe\"]=population1(i,n1,m1,probleme1,fixe1)[\"Europe\"][0]\n",
    "        popu[\"Amérique du Nord\"]=population2(i,n2,m2,probleme2,fixe2)[\"Amérique du Nord\"][0]\n",
    "        popu[\"Asie\"]=population3(i,n3,m3,probleme3,fixe3)[\"Asie\"][0]\n",
    "        popu[\"Afrique\"]=population4(i,n4,m4,probleme4,fixe4)[\"Afrique\"][0]\n",
    "        popu[\"Amérique du Sud\"]=population5(i,n5,m5,probleme5,fixe5)[\"Amérique du Sud\"][0]\n",
    "        popu[\"Océanie\"]=population6(i,n6,m6,probleme6,fixe6)[\"Océanie\"][0]\n",
    "        for k in continents:\n",
    "            D[k].append(PIB_continental(cfc, fbcfc, vsc, continents, xc, mc, popu, k))\n",
    "    return D"
   ]
  },
  {
   "cell_type": "code",
   "execution_count": 623,
   "metadata": {},
   "outputs": [
    {
     "data": {
      "text/plain": [
       "{'Afrique': [3324597144000,\n",
       "  3410532844116,\n",
       "  3498599970760,\n",
       "  3588851389276,\n",
       "  3681341277816,\n",
       "  3776125154920,\n",
       "  3873259918128,\n",
       "  3972803877076,\n",
       "  4074816781076,\n",
       "  4179359871518,\n",
       "  4286495901176],\n",
       " 'Amérique du Nord': [16122965128000,\n",
       "  16245340362306,\n",
       "  16368612209602,\n",
       "  16492787236110,\n",
       "  16617872100534,\n",
       "  16743873369096,\n",
       "  16870797839223,\n",
       "  16998652215860,\n",
       "  17127443388916,\n",
       "  17257178155818,\n",
       "  17387863452716],\n",
       " 'Amérique du Sud': [4790351012000,\n",
       "  4836470099272,\n",
       "  4883029410392,\n",
       "  4930033143884,\n",
       "  4977485535692,\n",
       "  5025390874148,\n",
       "  5073753485004,\n",
       "  5122577723948,\n",
       "  5171868006540,\n",
       "  5221628778276,\n",
       "  5271864529556],\n",
       " 'Asie': [25433506556000,\n",
       "  25646024249194,\n",
       "  25860356047490,\n",
       "  26076517426488,\n",
       "  26294524011017,\n",
       "  26514391547500,\n",
       "  26736135926062,\n",
       "  26959773158422,\n",
       "  27185319416582,\n",
       "  27412790983084,\n",
       "  27642204300753],\n",
       " 'Europe': [17851197250000,\n",
       "  17859779631250,\n",
       "  17868366290625,\n",
       "  17876957251250,\n",
       "  17885552513125,\n",
       "  17894152076250,\n",
       "  17902755940625,\n",
       "  17911364106250,\n",
       "  17919976573125,\n",
       "  17928593341250,\n",
       "  17937214410625],\n",
       " 'Océanie': [1719559647000,\n",
       "  1743118032893,\n",
       "  1766994219171,\n",
       "  1791192497534,\n",
       "  1815717245516,\n",
       "  1840572797734,\n",
       "  1865763703390,\n",
       "  1891294382935,\n",
       "  1917169514322,\n",
       "  1943393689670,\n",
       "  1969971629849]}"
      ]
     },
     "execution_count": 623,
     "metadata": {},
     "output_type": "execute_result"
    }
   ],
   "source": [
    "evolution_PIB(10,33,32,False,False,16,50,False,True,42,12,False,False,19,13,False,False,8,19,False,True,12,8,False,False,cfc,fbcfc,vsc,continents,xc,mc)"
   ]
  },
  {
   "cell_type": "code",
   "execution_count": 624,
   "metadata": {},
   "outputs": [],
   "source": [
    "L_annee=[i for i in range(2017,2117)]\n",
    "\n",
    "def plot_PIB_continental(L1,L2,L3,L4,L5,L6):\n",
    "    plt.figure()\n",
    "    plt.plot(L_annee,L1)\n",
    "    plt.plot(L_annee,L2)\n",
    "    plt.plot(L_annee,L3)\n",
    "    plt.plot(L_annee,L4)\n",
    "    plt.plot(L_annee,L5)\n",
    "    plt.plot(L_annee,L6)\n",
    "    plt.legend([continent for continent in continents])\n",
    "    plt.xlabel(\"Année\")\n",
    "    plt.ylabel(\"PIB\")\n",
    "    plt.show()\n",
    "    return"
   ]
  },
  {
   "cell_type": "code",
   "execution_count": 626,
   "metadata": {},
   "outputs": [],
   "source": [
    "PIB=evolution_PIB(99,33,32,False,False,16,50,False,True,42,12,False,False,19,13,False,False,8,19,False,True,12,8,False,False,cfc,fbcfc,vsc,continents,xc,mc)\n",
    "L1=PIB[\"Europe\"]\n",
    "L2=PIB[\"Amérique du Nord\"]\n",
    "L3=PIB[\"Asie\"]\n",
    "L4=PIB[\"Afrique\"]\n",
    "L5=PIB[\"Amérique du Sud\"]\n",
    "L6=PIB[\"Océanie\"]"
   ]
  },
  {
   "cell_type": "code",
   "execution_count": 627,
   "metadata": {},
   "outputs": [
    {
     "data": {
      "image/png": "[encoded data removed]",
      "text/plain": [
       "<Figure size 432x288 with 1 Axes>"
      ]
     },
     "metadata": {},
     "output_type": "display_data"
    }
   ],
   "source": [
    "plot_PIB_continental(L1,L2,L3,L4,L5,L6)"
   ]
  },
  {
   "cell_type": "code",
   "execution_count": 628,
   "metadata": {},
   "outputs": [],
   "source": [
    "def evolution_PIB_mondial(a,n1,m1,probleme1,fixe1,n2,m2,probleme2,fixe2,n3,m3,probleme3,fixe3,n4,m4,probleme4,fixe4,n5,m5,\n",
    "                  probleme5,fixe5,n6,m6,probleme6,fixe6,cfc,fbcfc,vsc,continents,xc,mc):\n",
    "    L=[]\n",
    "    for i in range(0,a+1):\n",
    "        s=0\n",
    "        for j in continents:\n",
    "            s=s+evolution_PIB(a,n1,m1,probleme1,fixe1,n2,m2,probleme2,fixe2,n3,m3,probleme3,fixe3,n4,m4,probleme4,fixe4,n5,m5,\n",
    "                  probleme5,fixe5,n6,m6,probleme6,fixe6,cfc,fbcfc,vsc,continents,xc,mc)[j][i]\n",
    "        L.append(s)\n",
    "    return L"
   ]
  },
  {
   "cell_type": "code",
   "execution_count": 629,
   "metadata": {},
   "outputs": [
    {
     "data": {
      "text/plain": [
       "[69242176737000,\n",
       " 69741265219031,\n",
       " 70245958148040,\n",
       " 70756338944542,\n",
       " 71272492683700,\n",
       " 71794505819648,\n",
       " 72322466812432,\n",
       " 72856465464491,\n",
       " 73396593680561,\n",
       " 73942944819616,\n",
       " 74495614224675]"
      ]
     },
     "execution_count": 629,
     "metadata": {},
     "output_type": "execute_result"
    }
   ],
   "source": [
    "evolution_PIB_mondial(10,33,32,False,False,16,50,False,True,42,12,False,False,19,13,False,False,8,19,False,True,12,8,False,False,cfc,fbcfc,vsc,continents,xc,mc)"
   ]
  },
  {
   "cell_type": "code",
   "execution_count": 630,
   "metadata": {},
   "outputs": [],
   "source": [
    "def plot_PIB_mondial(L):\n",
    "    plt.figure()\n",
    "    plt.plot(L_annee,L)\n",
    "    plt.xlabel(\"Année\")\n",
    "    plt.ylabel(\"PIB\")\n",
    "    plt.show()\n",
    "    return"
   ]
  },
  {
   "cell_type": "code",
   "execution_count": 633,
   "metadata": {},
   "outputs": [],
   "source": [
    "L=evolution_PIB_mondial(99,33,32,False,False,16,50,False,True,42,12,False,False,19,13,False,False,8,19,False,True,12,8,False,False,cfc,fbcfc,vsc,continents,xc,mc)"
   ]
  },
  {
   "cell_type": "code",
   "execution_count": 634,
   "metadata": {},
   "outputs": [
    {
     "data": {
      "image/png": "[encoded data removed]",
      "text/plain": [
       "<Figure size 432x288 with 1 Axes>"
      ]
     },
     "metadata": {},
     "output_type": "display_data"
    }
   ],
   "source": [
    "plot_PIB_mondial(L)"
   ]
  },
  {
   "cell_type": "code",
   "execution_count": 636,
   "metadata": {},
   "outputs": [
    {
     "data": {
      "text/plain": [
       "89200742583368"
      ]
     },
     "execution_count": 636,
     "metadata": {},
     "output_type": "execute_result"
    }
   ],
   "source": [
    "evolution_PIB_mondial(33,33,32,False,False,16,50,False,True,42,12,False,False,19,13,False,False,8,19,False,True,12,8,False,False,cfc,fbcfc,vsc,continents,xc,mc)[33]"
   ]
  },
  {
   "cell_type": "code",
   "execution_count": 637,
   "metadata": {},
   "outputs": [
    {
     "data": {
      "text/plain": [
       "141767443733106"
      ]
     },
     "execution_count": 637,
     "metadata": {},
     "output_type": "execute_result"
    }
   ],
   "source": [
    "evolution_PIB_mondial(83,33,32,False,False,16,50,False,True,42,12,False,False,19,13,False,False,8,19,False,True,12,8,False,False,cfc,fbcfc,vsc,continents,xc,mc)[83]"
   ]
  },
  {
   "cell_type": "markdown",
   "metadata": {
    "collapsed": true
   },
   "source": [
    "## III) TEP (Thanh)"
   ]
  },
  {
   "cell_type": "markdown",
   "metadata": {},
   "source": [
    "## IV) CO2 (Tahar)##"
   ]
  },
  {
   "cell_type": "markdown",
   "metadata": {},
   "source": [
    "## V) Assemblage de tous les paramètres ##"
   ]
  },
  {
   "cell_type": "code",
   "execution_count": null,
   "metadata": {},
   "outputs": [],
   "source": []
  }
 ],
 "metadata": {
  "kernelspec": {
   "display_name": "Python 3",
   "language": "python",
   "name": "python3"
  },
  "language_info": {
   "codemirror_mode": {
    "name": "ipython",
    "version": 3
   },
   "file_extension": ".py",
   "mimetype": "text/x-python",
   "name": "python",
   "nbconvert_exporter": "python",
   "pygments_lexer": "ipython3",
   "version": "3.5.3"
  }
 },
 "nbformat": 4,
 "nbformat_minor": 2
}
