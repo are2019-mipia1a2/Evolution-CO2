{
 "cells": [
  {
   "cell_type": "markdown",
   "metadata": {},
   "source": [
    "# Modélisation du PIB #"
   ]
  },
  {
   "cell_type": "markdown",
   "metadata": {},
   "source": [
    "## Introduction ##"
   ]
  },
  {
   "cell_type": "markdown",
   "metadata": {},
   "source": [
    "### A) Formule ###"
   ]
  },
  {
   "cell_type": "markdown",
   "metadata": {},
   "source": [
    "Le PIB s'exprime en dollars et se calcule de la façon suivante : PIB = CF + FBCF + VS + X - M\n",
    "\n",
    "Avec : \n",
    "\n",
    "- CF = consommation finale effective\n",
    "\n",
    "- FBCF = investissement (formation brute de capital fixe)\n",
    "\n",
    "- VS = variation des stocks\n",
    "\n",
    "- X = exportations\n",
    "\n",
    "- M = importations"
   ]
  },
  {
   "cell_type": "markdown",
   "metadata": {},
   "source": [
    "### B) Hypothèses ###"
   ]
  },
  {
   "cell_type": "markdown",
   "metadata": {},
   "source": [
    "1) On suppose que le cours du dollar ne change pas avec le temps. Il reste fixe à 1€ = 1,13$.\n",
    "\n",
    "2) On suppose que le nombre d'entreprises est proportionnelle au nombre d'habitants.\n",
    "\n",
    "3) On suppose que la variation des stocks est proportionnelle au nomnre d'entreprises."
   ]
  },
  {
   "cell_type": "markdown",
   "metadata": {},
   "source": [
    "## I- PIB mondial (1ère approche : données France) ##"
   ]
  },
  {
   "cell_type": "markdown",
   "metadata": {},
   "source": [
    "Le PIB mondial ne prend pas en compte les exportations et importations qui s'annulent."
   ]
  },
  {
   "cell_type": "markdown",
   "metadata": {},
   "source": [
    "### 1) Calcul de CF ###"
   ]
  },
  {
   "cell_type": "markdown",
   "metadata": {},
   "source": [
    "On définit la consommation finale par : dépense moyenne annuelle * nb de personnes\n",
    "\n",
    "La dépense moyenne annuelle change selon le type de foyer (d'après l'Insee avec les valeurs françaises):\n",
    "\n",
    "- 1 personne : 16 641€ soit 18 785$\n",
    "\n",
    "- 2 personnes : 18 000€ soit 20 319$\n",
    "\n",
    "- 3 personnes : 23 016€ soit 25 981$\n",
    "\n",
    "- 4 personnes : 30 684€ soit 34 637$\n",
    "\n",
    "- 5 personnes : 32 653€ soit 36 860$"
   ]
  },
  {
   "cell_type": "markdown",
   "metadata": {},
   "source": [
    "Nous avons la proportions de chaque foyer en France :\n",
    "\n",
    "- 1 personne : 35%\n",
    "\n",
    "- 2 personnes : 33%\n",
    "\n",
    "- 3 personnes : 14%\n",
    "\n",
    "- 4 personnes : 12%\n",
    "\n",
    "- 5 personnes : 6%"
   ]
  },
  {
   "cell_type": "markdown",
   "metadata": {},
   "source": [
    "Nous calculons la proportion de personnes vivant dans un foyer de 1, 2, 3, 4 ou 5 personnes. Pour cela nous calculons grâce aux proportions ci-dessus, le nombre de personnes totales d'une population.\n",
    "\n",
    "35 + 33 * 2 + 14 * 3 + 12 * 4 + 6 * 5 = 221\n",
    "\n",
    "Ainsi, nous ressortons les proportions de personnes vivant dans chaque type de foyer :\n",
    "\n",
    "- 1 personne : 35 / 221 * 100 = 16%\n",
    "\n",
    "- 2 personnes : 33 * 2 / 221 * 100 = 30%\n",
    "\n",
    "- 3 personnes : 14 * 3 / 221 * 100 = 19%\n",
    "\n",
    "- 4 personnes : 12 * 4 / 221 * 100 = 22%\n",
    "\n",
    "- 5 personnes : 5 * 6 / 221 * 100 = 13%"
   ]
  },
  {
   "cell_type": "code",
   "execution_count": 14,
   "metadata": {},
   "outputs": [],
   "source": [
    "p={1:0.16, 2:0.30, 3:0.19, 4:0.22, 5:0.13} #proportion de personnes vivants dans un certain foyer\n",
    "d={1:18785, 2:20319, 3:25981, 4:34637, 5:36860} #dépenses du foyer"
   ]
  },
  {
   "cell_type": "code",
   "execution_count": 15,
   "metadata": {},
   "outputs": [],
   "source": [
    "def CF(pop, p, d):\n",
    "    \"\"\"int*dict[int:float]*dict[int:int]->float\"\"\"\n",
    "    D=dict()\n",
    "    for i in p:\n",
    "        D[i]=pop*p[i]\n",
    "    DR=dict()\n",
    "    for j in D:\n",
    "        DR[j]=D[j]*d[j]/j\n",
    "    s=0\n",
    "    for k in DR:\n",
    "        s=DR[k]+s\n",
    "    return s"
   ]
  },
  {
   "cell_type": "code",
   "execution_count": 16,
   "metadata": {},
   "outputs": [
    {
     "data": {
      "text/plain": [
       "79748195241450.0"
      ]
     },
     "execution_count": 16,
     "metadata": {},
     "output_type": "execute_result"
    }
   ],
   "source": [
    "CF(7550262000, p, d)"
   ]
  },
  {
   "cell_type": "markdown",
   "metadata": {},
   "source": [
    "### 2) Calcul du FBCF ###"
   ]
  },
  {
   "cell_type": "markdown",
   "metadata": {},
   "source": [
    "Le FBCF se calcule par la somme des achats et travaux immobiliers des particuliers et les investissements des entreprises et institutions publiques."
   ]
  },
  {
   "cell_type": "markdown",
   "metadata": {},
   "source": [
    "En 2017, il y a, d'après l'Insee, 515 900 000 000€ investissements des institutions et entreprises françaises. Soit 582 476 895 000$.\n",
    "\n",
    "En 2017, il y a, 4 751 553 entreprises et institutions françaises. Il y a également 67 120 000 habitants en France.\n",
    "\n",
    "Nous pouvons donc dire qu'approximativement 1 entreprise investit 582 476 895 000 / 4 751 553$ par an.\n",
    "\n",
    "Une entreprise investit donc 122 587$ par an."
   ]
  },
  {
   "cell_type": "markdown",
   "metadata": {},
   "source": [
    "Pour déterminer le nombre d'entreprises on fait un produit en croix : 4 751 553 * pop / 67 120 000."
   ]
  },
  {
   "cell_type": "code",
   "execution_count": 17,
   "metadata": {},
   "outputs": [],
   "source": [
    " fbcf={1:953, 2:2106, 3:738, 4:2378, 5:1589} #dépenses des particuliers"
   ]
  },
  {
   "cell_type": "code",
   "execution_count": 18,
   "metadata": {},
   "outputs": [],
   "source": [
    "def FBCF(pop, fbcf, p):\n",
    "    \"\"\"int*dict[int:int]*dict[int:float]->float\"\"\"\n",
    "    D=dict()\n",
    "    for i in p:\n",
    "        D[i]=pop*p[i]\n",
    "    DR=dict()\n",
    "    for j in D:\n",
    "        DR[j]=D[j]*fbcf[j]/j\n",
    "    s=round(4751553*pop*122587/67120000)\n",
    "    for k in DR:\n",
    "        s=s+DR[k]\n",
    "    return s"
   ]
  },
  {
   "cell_type": "code",
   "execution_count": 19,
   "metadata": {},
   "outputs": [
    {
     "data": {
      "text/plain": [
       "70711162371036.0"
      ]
     },
     "execution_count": 19,
     "metadata": {},
     "output_type": "execute_result"
    }
   ],
   "source": [
    "FBCF(7550262000, fbcf, p)"
   ]
  },
  {
   "cell_type": "markdown",
   "metadata": {},
   "source": [
    "### 3) Calcul de VS ###"
   ]
  },
  {
   "cell_type": "markdown",
   "metadata": {},
   "source": [
    "La variation des stocks se calcule grâce aux stocksde début d'année moins les tsocks de fin d'années."
   ]
  },
  {
   "cell_type": "markdown",
   "metadata": {},
   "source": [
    "En 2017, en France, d'après l'Insee, il y a 21 000 000 000€ de variation de stocks, soit 23 698 017 000$.\n",
    "\n",
    "Il y a 4 751 553 entreprises et institutions en France en 2017.\n",
    "\n",
    "On calcule donc la variation de stocks pour une entreprise : 23 698 017 000 / 4 751 553$.\n",
    "\n",
    "Une entreprise a donc une variation de stock d'environ 4 987$."
   ]
  },
  {
   "cell_type": "code",
   "execution_count": 20,
   "metadata": {},
   "outputs": [],
   "source": [
    "def VS(pop):\n",
    "    \"\"\"int->number\"\"\"\n",
    "    e=round(4751553*pop/67120000) #nombre d'entreprises\n",
    "    return e*4987"
   ]
  },
  {
   "cell_type": "code",
   "execution_count": 21,
   "metadata": {},
   "outputs": [
    {
     "data": {
      "text/plain": [
       "2665538872916"
      ]
     },
     "execution_count": 21,
     "metadata": {},
     "output_type": "execute_result"
    }
   ],
   "source": [
    "VS(7550262000)"
   ]
  },
  {
   "cell_type": "markdown",
   "metadata": {},
   "source": [
    "### Calcul du PIB mondial ###"
   ]
  },
  {
   "cell_type": "code",
   "execution_count": 22,
   "metadata": {},
   "outputs": [],
   "source": [
    "def PIB(pop, p, d, fbcf):\n",
    "    \"\"\"int*dict[int:float]*dict[int:int]*dict[int*int]->float\"\"\"\n",
    "    cfu=CF(pop, p, d)\n",
    "    fbcfu=FBCF(pop, fbcf, p)\n",
    "    vsu=VS(pop)\n",
    "    return cfu+fbcfu+vsu"
   ]
  },
  {
   "cell_type": "code",
   "execution_count": 23,
   "metadata": {},
   "outputs": [
    {
     "data": {
      "text/plain": [
       "153124896485402.0"
      ]
     },
     "execution_count": 23,
     "metadata": {},
     "output_type": "execute_result"
    }
   ],
   "source": [
    "PIB(7550262000, p, d, fbcf)"
   ]
  },
  {
   "cell_type": "markdown",
   "metadata": {},
   "source": [
    "La première approximation est éloignée de la réalité puisque le PIB de 2017 mondial était de 79 865 000 000 000$."
   ]
  },
  {
   "cell_type": "markdown",
   "metadata": {},
   "source": [
    "## II- PIB mondial (2ème approche : données par continents)"
   ]
  },
  {
   "cell_type": "markdown",
   "metadata": {},
   "source": [
    "### 1) Calcul de CF"
   ]
  },
  {
   "cell_type": "markdown",
   "metadata": {},
   "source": [
    "On estime grâce aux valeurs de la banque mondiale les données ci-dessous (il s'agit de prendre en compte la plus grande région du continent pour être le plus précis possible) :\n",
    "\n",
    "Les dépenses de consommations finales par habitant de chaque continents en 2016-2017 sont : \n",
    "\n",
    "- Afrique : Afrique du Nord (189 268 020 hab) et Moyen-Orient (415 385 000 hab) + Afrique Subsaharienne (1 022 664 451 hab) = 3 416.37 (CF par hab en AN et MO) + 1 028 (CF par hab en AS) = ((nb hab AN + MO) * 3 416.37 + nb hab AS * 1 028)/(nb hab tot) = 1 915$\n",
    "\n",
    "- Asie : Asie de l'Est et Pacifique (1 624 853 705 hab) + Asie du Sud (1 870 460 803 hab) + Russie (142 300 000 hab) = 4 637.10 (CF par hab en AS et P) + 1 059.60 (CF par hab en AS) + 5 874 (CF par hab en R) = ((nb hab AS + P) * 4 637.10 + nb hab AS * 1 029.60 + nb hab R * 5 874)/(nb hab tot) = 2 831$\n",
    "\n",
    "- Amérique du Nord : Amérique du Nord (donnée déjà calculée) = 35 639$\n",
    "\n",
    "- Amérique du Sud : Amérique latine et Caraïbes (donnée déjà calculée) = 5 668$\n",
    "\n",
    "- Europe : Europe centrale (200 000 000 hab) et Pays Baltes (6 826 000 hab) + Union Européenne (512 000 000 hab) = 8 902.27 (CF par hab en EC et PB) + 20 314.23 (CF par hab en UE) = ((nb hab EC + PB) * 8 902.27 + nb hab UE * 20 314.23)/(nb hab tot) = 17 031$\n",
    "\n",
    "- Océanie : Australie (24 641 661 hab) + Nouvelle Zélande (4 604 871 hab) = 31 410.64 (CF par hab en A) + 22 434.13 (CF par hab en NZ) = (nb hab A * 31 410.64 + nb hab NZ * 22 434.13)/(nb hab tot) = 29 997$"
   ]
  },
  {
   "cell_type": "code",
   "execution_count": 3,
   "metadata": {},
   "outputs": [],
   "source": [
    "cfc={\"Afrique\":1915, \"Asie\":2831, \"Amérique du Nord\":35639, \"Amérique du Sud\":5668, \"Europe\":17031, \"Océanie\":29997}\n",
    "continents=[\"Europe\", \"Amérique du Nord\",\"Asie\", \"Afrique\", \"Amérique du Sud\", \"Océanie\"]\n",
    "pop={\"Europe\":742074000,\"Amérique du Nord\":361208000,\"Asie\":4504428000,\"Afrique\":1256268000, \n",
    "            \"Amérique du Sud\":645593000,\"Océanie\":40691000}"
   ]
  },
  {
   "cell_type": "code",
   "execution_count": 4,
   "metadata": {},
   "outputs": [],
   "source": [
    "def cf_continents(cfc, continents, pop):\n",
    "    \"\"\"dict[str:int]*list[str]*dict[str:int]->int\"\"\"\n",
    "    s=0\n",
    "    for i in continents:\n",
    "        s=s+cfc[i]*pop[i]\n",
    "    return s"
   ]
  },
  {
   "cell_type": "code",
   "execution_count": 5,
   "metadata": {},
   "outputs": [
    {
     "data": {
      "text/plain": [
       "45548972145000"
      ]
     },
     "execution_count": 5,
     "metadata": {},
     "output_type": "execute_result"
    }
   ],
   "source": [
    "cf_continents(cfc, continents, pop)"
   ]
  },
  {
   "cell_type": "markdown",
   "metadata": {},
   "source": [
    "### 2) Calcul du FBCF"
   ]
  },
  {
   "cell_type": "markdown",
   "metadata": {},
   "source": [
    "On décide pour la deuxième partie de ne pas séparer les consommation des particuliers et celles des entreprises.\n",
    "\n",
    "On estime grâce aux valeurs de la banque mondiale les données ci-dessous pour le FBCF par habitant. Nous prenons le même nombre d'habitants pour chaque région que pour le CF.\n",
    "\n",
    "- Afrique : Afrique du Nord et Moyen-Orient + Afrique Subsaharienne = (957 612 910 000 (FBCF de la région AN + MO) + 361 913 030 000 (FBCF de la région AS))/(nb hab AN + MO + AS) = 811$\n",
    "\n",
    "- Asie : Asie de l'Est et Pacifique + Asie du Sud + Russie = (8 167 609 820 000 (FBCF de la régio AE + P) + 1 049 269 340 000 (FBCF de la région AS) + 390 369 330 000 (FBCF de la région R))/(nb hab AE + P + AS + R) = 2 641$\n",
    "\n",
    "- Amérique du Nord : Amérique du Nord (361 208 000 hab) = 3 788 598 830 000 (FBCF de la région AN)/(nb hab AN) = 10 489$\n",
    "\n",
    "- Amérique du Sud : Amérique latine et Caraïbes (647 565 335) = 1 131 073 580 000 (FBCF de la région AL +C)/(nb hab AL + C) = 1747$\n",
    "\n",
    "- Europe : Europe centrale et Pays Baltes + Union Européenne = (360 640 590 000 (FBCF de la région EC + PB) + 3 943 976 300 000 (FBCF de la région UE)/(nb hab EC + PB + UE) = 5 988$\n",
    "\n",
    "- Océanie : Australie + Nouvelle-Zélande = (333 107 700 000 (FBCF de la région A) + 41 880 470 000 (FBCF de la région NZ)/(nb hab A + NZ) = 12 822$"
   ]
  },
  {
   "cell_type": "code",
   "execution_count": 6,
   "metadata": {},
   "outputs": [],
   "source": [
    "fbcfc={\"Afrique\":811, \"Asie\":2641, \"Amérique du Nord\":10489, \"Amérique du Sud\":1747, \"Europe\":5988, \"Océanie\":12822}"
   ]
  },
  {
   "cell_type": "code",
   "execution_count": 7,
   "metadata": {},
   "outputs": [],
   "source": [
    "def fbcf_continents(fbcfc, continents, pop):\n",
    "    \"\"\"dict[str:int]*list[str]*dict[str:int]->int\"\"\"\n",
    "    s=0\n",
    "    for i in continents :\n",
    "        s=s+fbcfc[i]*pop[i]\n",
    "    return s"
   ]
  },
  {
   "cell_type": "code",
   "execution_count": 8,
   "metadata": {},
   "outputs": [
    {
     "data": {
      "text/plain": [
       "22796868493000"
      ]
     },
     "execution_count": 8,
     "metadata": {},
     "output_type": "execute_result"
    }
   ],
   "source": [
    "fbcf_continents(fbcfc, continents, pop)"
   ]
  },
  {
   "cell_type": "markdown",
   "metadata": {},
   "source": [
    "### 3) Calcul de VS"
   ]
  },
  {
   "cell_type": "markdown",
   "metadata": {},
   "source": [
    "On estime les données de variation de stocks par continent et par habitant en fonction des données par pays données par la banque mondiale :\n",
    "\n",
    "- Afrique : Nous prenons 35 pays : (Somme des VS des 35 pays)/(nb hab des 35 pays) = 25 882 545 790/815 970 010 = 32$\n",
    "\n",
    "- Asie : Nous prenons 31 pays : (Somme des VS des 31 pays)/(nb hab des 31 pays) = 224 074 187 950/4 092 924 088 = 55$\n",
    "\n",
    "- Amérique du Nord : Nous prenons 3 pays : (Somme des VS des 3 pays)/(nb hab des 3 pays) = 55 557 762 400/493 322 910 = 113$\n",
    "\n",
    "- Amérique du Sud : Nous prenons 15 pays : (Somme des VS des 15 pays)/(nb hab des 15 pays) = 28 727 147 680/418 773 224 = 69$\n",
    "\n",
    "- Europe : Nous prenons 38 pays : (Somme des VS des 38 pays)/(nb hab des 38 pays) = 63 185 345 240/595 237 863 = 106$\n",
    "\n",
    "- Océanie : Nous prenons 3 pays : (Somme des VS des 3 pays)/(nb hab des 3 pays) = 2 866 156 836/29 267 823 = 98$"
   ]
  },
  {
   "cell_type": "code",
   "execution_count": 9,
   "metadata": {},
   "outputs": [],
   "source": [
    "vsc={\"Afrique\":32, \"Asie\":55, \"Amérique du Nord\":113, \"Amérique du Sud\":69, \"Europe\":106, \"Océanie\":98}"
   ]
  },
  {
   "cell_type": "code",
   "execution_count": 10,
   "metadata": {},
   "outputs": [],
   "source": [
    "def vs_continents(vsc, continents, pop):\n",
    "    \"\"\"dict[str:int]*list[str]*dict[str:int]->int\"\"\"\n",
    "    s=0\n",
    "    for i in continents:\n",
    "        s=s+vsc[i]*pop[i]\n",
    "    return s"
   ]
  },
  {
   "cell_type": "code",
   "execution_count": 11,
   "metadata": {},
   "outputs": [
    {
     "data": {
      "text/plain": [
       "455954099000"
      ]
     },
     "execution_count": 11,
     "metadata": {},
     "output_type": "execute_result"
    }
   ],
   "source": [
    "vs_continents(vsc, continents, pop)"
   ]
  },
  {
   "cell_type": "markdown",
   "metadata": {},
   "source": [
    "### Calcul du PIB"
   ]
  },
  {
   "cell_type": "code",
   "execution_count": 12,
   "metadata": {},
   "outputs": [],
   "source": [
    "def PIB_continents(cfc, fbcfc, vsc, continents, pop):\n",
    "    \"\"\"dict[str:int]*dict[str:int]*dict[str:int]*list[str]*dict[str:int]->int\"\"\"\n",
    "    cfcu=cf_continents(cfc, continents, pop)\n",
    "    fbcfcu=fbcf_continents(fbcfc, continents, pop)\n",
    "    vscu=vs_continents(vsc, continents, pop)\n",
    "    return cfcu+fbcfcu+vscu"
   ]
  },
  {
   "cell_type": "code",
   "execution_count": 13,
   "metadata": {},
   "outputs": [
    {
     "data": {
      "text/plain": [
       "68801794737000"
      ]
     },
     "execution_count": 13,
     "metadata": {},
     "output_type": "execute_result"
    }
   ],
   "source": [
    "PIB_continents(cfc, fbcfc, vsc, continents, pop)"
   ]
  },
  {
   "cell_type": "markdown",
   "metadata": {},
   "source": [
    "Le PIB mondial de 2017 était de 79 865 000 000 000$.\n",
    "\n",
    "Il reste encore environ 10 000 000 000 000$ de différence entre la modélisation et la valeur réelle."
   ]
  },
  {
   "cell_type": "markdown",
   "metadata": {},
   "source": [
    "## III- PIB mondial (3ème approche : Régression linéaire)"
   ]
  },
  {
   "cell_type": "code",
   "execution_count": 52,
   "metadata": {},
   "outputs": [],
   "source": [
    "import pandas as pd\n",
    "import matplotlib.pyplot as plt\n",
    "import numpy as np\n",
    "from scipy import stats\n",
    "\n",
    "pib_data = pd.read_csv(\"/home/cyrielle/pib.csv\")"
   ]
  },
  {
   "cell_type": "code",
   "execution_count": 53,
   "metadata": {},
   "outputs": [],
   "source": [
    "annee = pib_data.iloc[0:len(pib_data),0]\n",
    "PIB = pib_data.iloc[0:len(pib_data),1] \n",
    "X=[i for i in annee]\n",
    "Y=[i for i in PIB]"
   ]
  },
  {
   "cell_type": "code",
   "execution_count": 59,
   "metadata": {},
   "outputs": [
    {
     "data": {
      "image/png": "[encoded data removed]",
      "text/plain": [
       "<Figure size 432x288 with 1 Axes>"
      ]
     },
     "metadata": {},
     "output_type": "display_data"
    }
   ],
   "source": [
    "axes = plt.axes()\n",
    "axes.grid()\n",
    "plt.plot(X, Y)\n",
    "plt.xlabel('Année')\n",
    "plt.ylabel('PIB en $')\n",
    "plt.show()"
   ]
  },
  {
   "cell_type": "code",
   "execution_count": 60,
   "metadata": {},
   "outputs": [],
   "source": [
    "def predict(slope, intercept, x):\n",
    "    \n",
    "    return slope*np.asarray(x) + intercept"
   ]
  },
  {
   "cell_type": "code",
   "execution_count": 61,
   "metadata": {},
   "outputs": [],
   "source": [
    "def graph():\n",
    "    axes = plt.axes()\n",
    "    axes.grid()\n",
    "    plt.title('Approximation du paramètre PIB')\n",
    "    plt.xlabel('Année')\n",
    "    plt.ylabel('PIB en $')\n",
    "    plt.plot(X , Y)\n",
    "    slope, intercept, r_value, p_value, std_err = stats.linregress(X, Y)\n",
    "    plt.plot(X, predict(slope, intercept, X), c='r')\n",
    "    plt.show()\n",
    "    \n",
    "def PIB(year):\n",
    "    slope, intercept, r_value, p_value, std_err = stats.linregress(X, Y)\n",
    "    return slope*year + intercept"
   ]
  },
  {
   "cell_type": "code",
   "execution_count": 62,
   "metadata": {},
   "outputs": [
    {
     "data": {
      "image/png": "[encoded data removed]",
      "text/plain": [
       "<Figure size 432x288 with 1 Axes>"
      ]
     },
     "metadata": {},
     "output_type": "display_data"
    }
   ],
   "source": [
    "graph()"
   ]
  },
  {
   "cell_type": "code",
   "execution_count": 82,
   "metadata": {},
   "outputs": [],
   "source": [
    "def futur_mondial(year):\n",
    "    \"\"\"int->list[float]\"\"\"\n",
    "    L=[]\n",
    "    for i in range(2010,year):\n",
    "        L.append(PIB(i))\n",
    "    return L"
   ]
  },
  {
   "cell_type": "code",
   "execution_count": 83,
   "metadata": {},
   "outputs": [],
   "source": [
    "L=futur_mondial(2101)\n",
    "annee_futur=[i for i in range(2010,2101)]\n",
    "def graph_monde():\n",
    "    axes = plt.axes()\n",
    "    axes.grid()\n",
    "    plt.title('Approximation du paramètre PIB')\n",
    "    plt.xlabel('Année')\n",
    "    plt.ylabel('PIB en $')\n",
    "    plt.plot(annee_futur, L)\n",
    "    plt.show()"
   ]
  },
  {
   "cell_type": "code",
   "execution_count": 84,
   "metadata": {},
   "outputs": [
    {
     "data": {
      "image/png": "[encoded data removed]",
      "text/plain": [
       "<Figure size 432x288 with 1 Axes>"
      ]
     },
     "metadata": {},
     "output_type": "display_data"
    }
   ],
   "source": [
    "graph_monde()"
   ]
  },
  {
   "cell_type": "code",
   "execution_count": 86,
   "metadata": {},
   "outputs": [
    {
     "data": {
      "text/plain": [
       "187475666446676.5"
      ]
     },
     "execution_count": 86,
     "metadata": {},
     "output_type": "execute_result"
    }
   ],
   "source": [
    "PIB(2100)"
   ]
  },
  {
   "cell_type": "code",
   "execution_count": 87,
   "metadata": {},
   "outputs": [
    {
     "data": {
      "text/plain": [
       "67872053087868.5"
      ]
     },
     "execution_count": 87,
     "metadata": {},
     "output_type": "execute_result"
    }
   ],
   "source": [
    "PIB(2017)"
   ]
  },
  {
   "cell_type": "markdown",
   "metadata": {},
   "source": [
    "Le PIB mondial de 2017 était de 79 865 000 000 000$.\n",
    "\n",
    "Notre deuxième approche (PIB par continents) était plus proche de la réalité que celle-ci. Ainsi, nous prendrons la deuxième approche pour modéliser le futur."
   ]
  },
  {
   "cell_type": "markdown",
   "metadata": {},
   "source": [
    "## IV- PIB continental"
   ]
  },
  {
   "cell_type": "markdown",
   "metadata": {},
   "source": [
    "On utilise les même données que dans le PIB mondial par continent."
   ]
  },
  {
   "cell_type": "markdown",
   "metadata": {},
   "source": [
    "### 1) Calcul de CF"
   ]
  },
  {
   "cell_type": "code",
   "execution_count": 88,
   "metadata": {},
   "outputs": [],
   "source": [
    "cfc={\"Afrique\":1915, \"Asie\":2831, \"Amérique du Nord\":35639, \"Amérique du Sud\":5668, \"Europe\":17031, \"Océanie\":29997}\n",
    "continents=[\"Europe\", \"Amérique du Nord\",\"Asie\", \"Afrique\", \"Amérique du Sud\", \"Océanie\"]\n",
    "pop={\"Europe\":742074000,\"Amérique du Nord\":361208000,\"Asie\":4504428000,\"Afrique\":1256268000, \n",
    "            \"Amérique du Sud\":645593000,\"Océanie\":40691000}"
   ]
  },
  {
   "cell_type": "code",
   "execution_count": 90,
   "metadata": {},
   "outputs": [],
   "source": [
    "def cf_continental(cfc, continents, pop, continent):\n",
    "    \"\"\"dict[str:int]*list[str]*dict[str:int]*str->int\"\"\"\n",
    "    s=0\n",
    "    for i in continents:\n",
    "        if i==continent:\n",
    "            s=s+cfc[i]*pop[i]\n",
    "    return s"
   ]
  },
  {
   "cell_type": "code",
   "execution_count": 91,
   "metadata": {},
   "outputs": [
    {
     "data": {
      "text/plain": [
       "12638262294000"
      ]
     },
     "execution_count": 91,
     "metadata": {},
     "output_type": "execute_result"
    }
   ],
   "source": [
    "cf_continental(cfc, continents, pop, \"Europe\")"
   ]
  },
  {
   "cell_type": "markdown",
   "metadata": {},
   "source": [
    "### 2) Calcul du FBCF"
   ]
  },
  {
   "cell_type": "code",
   "execution_count": 92,
   "metadata": {},
   "outputs": [],
   "source": [
    "fbcfc={\"Afrique\":811, \"Asie\":2641, \"Amérique du Nord\":10489, \"Amérique du Sud\":1747, \"Europe\":5988, \"Océanie\":12822}"
   ]
  },
  {
   "cell_type": "code",
   "execution_count": 95,
   "metadata": {},
   "outputs": [],
   "source": [
    "def fbcf_continental(fbcfc, continents, pop, continent):\n",
    "    \"\"\"dict[str:int]*list[str]*dict[str:int]*str->int\"\"\"\n",
    "    s=0\n",
    "    for i in continents :\n",
    "        if i==continent:\n",
    "            s=s+fbcfc[i]*pop[i]\n",
    "    return s"
   ]
  },
  {
   "cell_type": "code",
   "execution_count": 96,
   "metadata": {},
   "outputs": [
    {
     "data": {
      "text/plain": [
       "4443539112000"
      ]
     },
     "execution_count": 96,
     "metadata": {},
     "output_type": "execute_result"
    }
   ],
   "source": [
    "fbcf_continental(fbcfc, continents, pop, \"Europe\")"
   ]
  },
  {
   "cell_type": "markdown",
   "metadata": {},
   "source": [
    "### 3) Calcul de VS"
   ]
  },
  {
   "cell_type": "code",
   "execution_count": 97,
   "metadata": {},
   "outputs": [],
   "source": [
    "vsc={\"Afrique\":32, \"Asie\":55, \"Amérique du Nord\":113, \"Amérique du Sud\":69, \"Europe\":106, \"Océanie\":98}"
   ]
  },
  {
   "cell_type": "code",
   "execution_count": 98,
   "metadata": {},
   "outputs": [],
   "source": [
    "def vs_continental(vsc, continents, pop, continent):\n",
    "    \"\"\"dict[str:int]*list[str]*dict[str:int]*str->int\"\"\"\n",
    "    s=0\n",
    "    for i in continents:\n",
    "        if i==continent:\n",
    "            s=s+vsc[i]*pop[i]\n",
    "    return s"
   ]
  },
  {
   "cell_type": "code",
   "execution_count": 99,
   "metadata": {},
   "outputs": [
    {
     "data": {
      "text/plain": [
       "78659844000"
      ]
     },
     "execution_count": 99,
     "metadata": {},
     "output_type": "execute_result"
    }
   ],
   "source": [
    "vs_continental(vsc, continents, pop, \"Europe\")"
   ]
  },
  {
   "cell_type": "markdown",
   "metadata": {},
   "source": [
    "### Calcul de X"
   ]
  },
  {
   "cell_type": "markdown",
   "metadata": {},
   "source": [
    "D'après le site Perspective les exportations par continent en 2016/2017 sont :\n",
    "\n",
    "- Afrique : 450 141 000 000$\n",
    "\n",
    "- Asie : 6 622 214 000 000$\n",
    "\n",
    "- Amérique du Nord : 3 089 941 000 000$\n",
    "\n",
    "- Amérique du Sud : 603 638 000 000$\n",
    "\n",
    "- Europe : 8 560 857 000 000$\n",
    "\n",
    "- Océanie : 281 453 000 000$"
   ]
  },
  {
   "cell_type": "code",
   "execution_count": 104,
   "metadata": {},
   "outputs": [],
   "source": [
    "xc={\"Afrique\":450141000000, \"Asie\":6622214000000, \"Amérique du Nord\":3089941000000, \"Amérique du Sud\":603638000000, \"Europe\":8560857000000, \"Océanie\":281453000000}"
   ]
  },
  {
   "cell_type": "code",
   "execution_count": 109,
   "metadata": {},
   "outputs": [],
   "source": [
    "def x_continental(xc, continent):\n",
    "    \"\"\"dict[str:int]*str->int\"\"\"\n",
    "    return xc[continent]"
   ]
  },
  {
   "cell_type": "code",
   "execution_count": 107,
   "metadata": {},
   "outputs": [
    {
     "data": {
      "text/plain": [
       "8560857000000"
      ]
     },
     "execution_count": 107,
     "metadata": {},
     "output_type": "execute_result"
    }
   ],
   "source": [
    "x_continental(xc,\"Europe\")"
   ]
  },
  {
   "cell_type": "markdown",
   "metadata": {},
   "source": [
    "### 5) Calcul de M"
   ]
  },
  {
   "cell_type": "markdown",
   "metadata": {},
   "source": [
    "D'après le site de Perspective les importations par continents en 2016/2017 sont : \n",
    "\n",
    "- Afrique : 590 331 000 000$\n",
    "\n",
    "- Asie : 6 084 681 000 000$\n",
    "\n",
    "- Amérique du Nord : 3 669 595 000 000$\n",
    "\n",
    "- Amérique du Sud : 644 905 000 000$\n",
    "\n",
    "- Europe : 7 870 121 000 000$\n",
    "\n",
    "- Océanie : 308 229 000 000$"
   ]
  },
  {
   "cell_type": "code",
   "execution_count": 108,
   "metadata": {},
   "outputs": [],
   "source": [
    "mc={\"Afrique\":590331000000, \"Asie\":6084681000000, \"Amérique du Nord\":3669595000000, \"Amérique du Sud\":644905000000, \"Europe\":7870121000000, \"Océanie\":308229000000}"
   ]
  },
  {
   "cell_type": "code",
   "execution_count": 110,
   "metadata": {},
   "outputs": [],
   "source": [
    "def m_continental(mc, continent):\n",
    "    \"\"\"dict[str:int]*str\"\"\"\n",
    "    return mc[continent]"
   ]
  },
  {
   "cell_type": "code",
   "execution_count": 111,
   "metadata": {},
   "outputs": [
    {
     "data": {
      "text/plain": [
       "7870121000000"
      ]
     },
     "execution_count": 111,
     "metadata": {},
     "output_type": "execute_result"
    }
   ],
   "source": [
    "m_continental(mc, \"Europe\")"
   ]
  },
  {
   "cell_type": "markdown",
   "metadata": {},
   "source": [
    "### Calcul du PIB"
   ]
  },
  {
   "cell_type": "code",
   "execution_count": 116,
   "metadata": {},
   "outputs": [],
   "source": [
    "def PIB_continental(cfc, fbcfc, vsc, continents, xc, mc, pop, continent):\n",
    "    \"\"\"dict[str:int]*dict[str:int]*dict[str:int]*list[str]*dict[str:int]*dict[str:int]*dict[str:int]*str->int\"\"\"\n",
    "    cfcu=cf_continental(cfc, continents, pop, continent)\n",
    "    fbcfcu=fbcf_continental(fbcfc, continents, pop, continent)\n",
    "    vscu=vs_continental(vsc, continents, pop, continent)\n",
    "    xu=x_continental(xc, continent)\n",
    "    mu=m_continental(mc, continent)\n",
    "    return cfcu+fbcfcu+vscu+xu-mu"
   ]
  },
  {
   "cell_type": "code",
   "execution_count": 117,
   "metadata": {},
   "outputs": [
    {
     "data": {
      "text/plain": [
       "17851197250000"
      ]
     },
     "execution_count": 117,
     "metadata": {},
     "output_type": "execute_result"
    }
   ],
   "source": [
    "PIB_continental(cfc, fbcfc, vsc, continents, xc, mc, pop, \"Europe\")"
   ]
  },
  {
   "cell_type": "code",
   "execution_count": 118,
   "metadata": {},
   "outputs": [],
   "source": [
    "def PIB_6continents(cfc, fbcfc, vsc, continents, xc, mc, pop):\n",
    "    \"\"\"dict[str:int]*dict[str:int]*dict[str:int]*list[str]*dict[str:int]*dict[str:int]*dict[str:int]->dict[str:int]\"\"\"\n",
    "    D=dict()\n",
    "    for i in continents:\n",
    "        D[i]=PIB_continental(cfc, fbcfc, vsc, continents, xc, mc, pop, i)\n",
    "    return D"
   ]
  },
  {
   "cell_type": "code",
   "execution_count": 119,
   "metadata": {},
   "outputs": [
    {
     "data": {
      "text/plain": [
       "{'Afrique': 3324597144000,\n",
       " 'Amérique du Nord': 16122965128000,\n",
       " 'Amérique du Sud': 4790351012000,\n",
       " 'Asie': 25433506556000,\n",
       " 'Europe': 17851197250000,\n",
       " 'Océanie': 1719559647000}"
      ]
     },
     "execution_count": 119,
     "metadata": {},
     "output_type": "execute_result"
    }
   ],
   "source": [
    "PIB_6continents(cfc, fbcfc, vsc, continents, xc, mc, pop)"
   ]
  },
  {
   "cell_type": "code",
   "execution_count": null,
   "metadata": {},
   "outputs": [],
   "source": []
  }
 ],
 "metadata": {
  "kernelspec": {
   "display_name": "Python 3",
   "language": "python",
   "name": "python3"
  },
  "language_info": {
   "codemirror_mode": {
    "name": "ipython",
    "version": 3
   },
   "file_extension": ".py",
   "mimetype": "text/x-python",
   "name": "python",
   "nbconvert_exporter": "python",
   "pygments_lexer": "ipython3",
   "version": "3.6.5"
  }
 },
 "nbformat": 4,
 "nbformat_minor": 2
}
