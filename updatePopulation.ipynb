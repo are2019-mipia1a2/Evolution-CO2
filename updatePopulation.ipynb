{
 "cells": [
  {
   "cell_type": "markdown",
   "metadata": {},
   "source": [
    "## Population (Catherine)##"
   ]
  },
  {
   "cell_type": "code",
   "execution_count": 270,
   "metadata": {},
   "outputs": [],
   "source": [
    "%matplotlib inline     \n",
    "# ^Sans animations\n",
    "# %matplotlib notebook \n",
    "# ^Avec animations\n",
    "import numpy as np\n",
    "import matplotlib.pyplot as plt\n",
    "from matplotlib import animation\n",
    "import math\n",
    "import random"
   ]
  },
  {
   "cell_type": "markdown",
   "metadata": {},
   "source": [
    "   "
   ]
  },
  {
   "cell_type": "markdown",
   "metadata": {},
   "source": [
    "On veut entrer le nom d'un continent et savoir la population de l'année suivante, en prenant en compte si le pays est riche ou pauvre, ce qui fait découler le taux de natalité et mortalité ainsi que l'espérance de vie, lié aux condition de vie donc si le pays est riche ou pauvre.\n"
   ]
  },
  {
   "cell_type": "code",
   "execution_count": 271,
   "metadata": {},
   "outputs": [],
   "source": [
    "continents=[\"Europe\", \"Amérique du Nord\",\"Asie\", \"Afrique\", \"Amérique du Sud\", \"Océanie\"]\n",
    "pop={\"Europe\":742074000,\"Amérique du Nord\":361208000,\"Asie\":4504428000,\"Afrique\":1256268000, \n",
    "            \"Amérique du Sud\":645593000,\"Océanie\":40691000}\n"
   ]
  },
  {
   "cell_type": "code",
   "execution_count": 272,
   "metadata": {},
   "outputs": [],
   "source": [
    "#calcul de k pour chaque continent\n",
    "def k1(n1,m1,fixe1):\n",
    "    \"\"\"int^2*bool->float\n",
    "    n: nombre de naissances, m: nombre de décès\"\"\"\n",
    "    \n",
    "    u=random.random()\n",
    "    \n",
    "    if fixe1 : \n",
    "        k1=(n1-m1)/100\n",
    "    else :\n",
    "        k1=(n1-m1)*u/100\n",
    "    \n",
    "    return k1\n",
    "\n",
    "def k2(n2,m2,fixe2):\n",
    "    \"\"\"int^2*bool->float\n",
    "    n: nombre de naissances, m: nombre de décès\"\"\"\n",
    "    \n",
    "    u=random.random()\n",
    "    \n",
    "    if fixe2 : \n",
    "        k2=(n2-m2)/100\n",
    "    else :\n",
    "        k2=(n2-m2)*u/100\n",
    "    \n",
    "    return k2\n",
    "\n",
    "def k3(n3,m3,fixe3):\n",
    "    \"\"\"int^2*bool->float\n",
    "    n: nombre de naissances, m: nombre de décès\"\"\"\n",
    "    \n",
    "    u=random.random()\n",
    "    \n",
    "    if fixe3 : \n",
    "        k3=(n3-m3)/100\n",
    "    else :\n",
    "        k3=(n3-m3)*u/100\n",
    "    \n",
    "    return k3\n",
    "\n",
    "def k4(n4,m4,fixe4):\n",
    "    \"\"\"int^2*bool->float\n",
    "    n: nombre de naissances, m1: nombre de décès\"\"\"\n",
    "    \n",
    "    u=random.random()\n",
    "    \n",
    "    if fixe4 : \n",
    "        k4=(n4-m4)/100\n",
    "    else :\n",
    "        k4=(n4-m4)*u/100\n",
    "    \n",
    "    return k4\n",
    "\n",
    "def k5(n5,m5,fixe5):\n",
    "    \"\"\"int^2*bool->float\n",
    "    n: nombre de naissances, m: nombre de décès\"\"\"\n",
    "    \n",
    "    u=random.random()\n",
    "    \n",
    "    if fixe5: \n",
    "        k5=(n5-m5)/100\n",
    "    else :\n",
    "        k5=(n5-m5)*u/100\n",
    "    \n",
    "    return k5\n",
    "\n",
    "def k6(n6,m6,fixe6):\n",
    "    \"\"\"int^2*bool->float\n",
    "    n: nombre de naissances, m: nombre de décès\"\"\"\n",
    "    \n",
    "    u=random.random()\n",
    "    \n",
    "    if fixe6 : \n",
    "        k6=(n6-m6)/100\n",
    "    else :\n",
    "        k6=(n6-m6)*u/100\n",
    "    \n",
    "    return k6"
   ]
  },
  {
   "cell_type": "code",
   "execution_count": 273,
   "metadata": {},
   "outputs": [
    {
     "data": {
      "text/plain": [
       "0.021856215676995482"
      ]
     },
     "execution_count": 273,
     "metadata": {},
     "output_type": "execute_result"
    }
   ],
   "source": [
    "k6(50,40,False)"
   ]
  },
  {
   "cell_type": "code",
   "execution_count": 345,
   "metadata": {},
   "outputs": [],
   "source": [
    "pop={\"Europe\":742074000,\"Amérique du Nord\":361208000,\"Asie\":4504428000,\"Afrique\":1256268000, \n",
    "            \"Amérique du Sud\":645593000,\"Océanie\":40691000}\n",
    "\n",
    "def population(t,pop,n1,m1,probleme1,fixe1,n2,m2,probleme2,fixe2,n3,m3,probleme3,fixe3,n4,m4,probleme4,fixe4,\n",
    "               n5,m5,probleme5,fixe5,n6,m6,probleme6,fixe6):\n",
    "    \"\"\"dict[str:list[int]\"\"\"\n",
    "    \n",
    "    popr={\"Europe\":[],\"Amérique du Nord\":[],\"Asie\":[],\"Afrique\":[],\"Amérique du Sud\":[],\"Océanie\":[]}\n",
    "\n",
    "    if probleme1:\n",
    "        popr[\"Europe\"].append(round(pop[\"Europe\"]*math.exp(k1(n1,m1,fixe1)*t)))\n",
    "    else : \n",
    "        popr[\"Europe\"].append(round(pop[\"Europe\"]*math.exp(0.0005*t)))\n",
    "            \n",
    "    if probleme2:\n",
    "        popr[\"Amérique du Nord\"].append(round(pop[\"Amérique du Nord\"]*math.exp(k2(n2,m2,fixe2)*t)))\n",
    "    else : \n",
    "        popr[\"Amérique du Nord\"].append(round(pop[\"Amérique du Nord\"]*math.exp(0.0073*t)))\n",
    "            \n",
    "    if probleme3:\n",
    "        popr[\"Asie\"].append(round(pop[\"Asie\"]*math.exp(k3(n3,m3,fixe3)*t)))\n",
    "    else : \n",
    "        popr[\"Asie\"].append(round(pop[\"Asie\"]*math.exp(0.0085*t)))\n",
    "            \n",
    "    if probleme4:\n",
    "        popr[\"Afrique\"].append(round(pop[\"Afrique\"]*math.exp(k4(n4,m4,fixe4)*t)))\n",
    "    else : \n",
    "        popr[\"Afrique\"].append(round(pop[\"Afrique\"]*math.exp(0.0245*t)))\n",
    "            \n",
    "    if probleme5:\n",
    "        popr[\"Amérique du Sud\"].append(round(pop[\"Amérique du Sud\"]*math.exp(k5(n5,m5,fixe5)*t)))\n",
    "    else : \n",
    "        popr[\"Amérique du Sud\"].append(round(pop[\"Amérique du Sud\"]*math.exp(0.0095*t)))\n",
    "            \n",
    "    if probleme6:\n",
    "        popr[\"Océanie\"].append(round(pop[\"Océanie\"]*math.exp(k6(n6,m6,fixe6)*t)))\n",
    "    else : \n",
    "        popr[\"Océanie\"].append(round(pop[\"Océanie\"]*math.exp(0.0134*t)))\n",
    "        \n",
    "    return popr"
   ]
  },
  {
   "cell_type": "code",
   "execution_count": 346,
   "metadata": {},
   "outputs": [
    {
     "data": {
      "text/plain": [
       "{'Afrique': [1287426702],\n",
       " 'Amérique du Nord': [257097135],\n",
       " 'Amérique du Sud': [578344247],\n",
       " 'Asie': [4542878822],\n",
       " 'Europe': [745863196],\n",
       " 'Océanie': [41239929]}"
      ]
     },
     "execution_count": 346,
     "metadata": {},
     "output_type": "execute_result"
    }
   ],
   "source": [
    "population(1,pop,33,32,True,False,16,50,True,True,42,12,False,False,19,13,False,True,8,19,True,True,12,8,False,False)"
   ]
  },
  {
   "cell_type": "code",
   "execution_count": 351,
   "metadata": {},
   "outputs": [],
   "source": [
    "pop={\"Europe\":742074000,\"Amérique du Nord\":361208000,\"Asie\":4504428000,\"Afrique\":1256268000, \n",
    "            \"Amérique du Sud\":645593000,\"Océanie\":40691000}\n",
    "\n",
    "def evolution_pop(a,pop,n1,m1,probleme1,fixe1,n2,m2,probleme2,fixe2,n3,m3,probleme3,fixe3,n4,m4,probleme4,fixe4,\n",
    "               n5,m5,probleme5,fixe5,n6,m6,probleme6,fixe6):\n",
    "    \"\"\"int*dict[str:int]*int²*bool²*int²*bool²*int²*bool²*int²*bool²*int²*bool²*int²*bool²->dict[str:list[int]]\"\"\"\n",
    "    \n",
    "    popr={\"Europe\":[],\"Amérique du Nord\":[],\"Asie\":[],\"Afrique\":[],\"Amérique du Sud\":[],\"Océanie\":[]}\n",
    "    \n",
    "    for t in range(a):\n",
    "        if probleme1:\n",
    "            popr[\"Europe\"].append(round(pop[\"Europe\"]*math.exp(k1(n1,m1,fixe1)*t)))\n",
    "        else : \n",
    "            popr[\"Europe\"].append(round(pop[\"Europe\"]*math.exp(0.0005*t)))\n",
    "            \n",
    "        if probleme2:\n",
    "            popr[\"Amérique du Nord\"].append(round(pop[\"Amérique du Nord\"]*math.exp(k2(n2,m2,fixe2)*t)))\n",
    "        else : \n",
    "            popr[\"Amérique du Nord\"].append(round(pop[\"Amérique du Nord\"]*math.exp(0.0073*t)))\n",
    "            \n",
    "        if probleme3:\n",
    "            popr[\"Asie\"].append(round(pop[\"Asie\"]*math.exp(k3(n3,m3,fixe3)*t)))\n",
    "        else : \n",
    "            popr[\"Asie\"].append(round(pop[\"Asie\"]*math.exp(0.0085*t)))\n",
    "            \n",
    "        if probleme4:\n",
    "            popr[\"Afrique\"].append(round(pop[\"Afrique\"]*math.exp(k4(n4,m4,fixe4)*t)))\n",
    "        else : \n",
    "            popr[\"Afrique\"].append(round(pop[\"Afrique\"]*math.exp(0.0245*t)))\n",
    "            \n",
    "        if probleme5:\n",
    "            popr[\"Amérique du Sud\"].append(round(pop[\"Amérique du Sud\"]*math.exp(k5(n5,m5,fixe5)*t)))\n",
    "        else : \n",
    "            popr[\"Amérique du Sud\"].append(round(pop[\"Amérique du Sud\"]*math.exp(0.0095*t)))\n",
    "            \n",
    "        if probleme6:\n",
    "            popr[\"Océanie\"].append(round(pop[\"Océanie\"]*math.exp(k6(n6,m6,fixe6)*t)))\n",
    "        else : \n",
    "            popr[\"Océanie\"].append(round(pop[\"Océanie\"]*math.exp(0.0134*t)))\n",
    "        \n",
    "    return popr"
   ]
  },
  {
   "cell_type": "code",
   "execution_count": 352,
   "metadata": {},
   "outputs": [
    {
     "ename": "TypeError",
     "evalue": "evolution_pop() missing 25 required positional arguments: 'pop', 'n1', 'm1', 'probleme1', 'fixe1', 'n2', 'm2', 'probleme2', 'fixe2', 'n3', 'm3', 'probleme3', 'fixe3', 'n4', 'm4', 'probleme4', 'fixe4', 'n5', 'm5', 'probleme5', 'fixe5', 'n6', 'm6', 'probleme6', and 'fixe6'",
     "output_type": "error",
     "traceback": [
      "\u001b[0;31m---------------------------------------------------------------------------\u001b[0m",
      "\u001b[0;31mTypeError\u001b[0m                                 Traceback (most recent call last)",
      "\u001b[0;32m<ipython-input-352-d9e5d3101109>\u001b[0m in \u001b[0;36m<module>\u001b[0;34m()\u001b[0m\n\u001b[0;32m----> 1\u001b[0;31m \u001b[0mevolution_pop\u001b[0m\u001b[0;34m(\u001b[0m\u001b[0mpopulation\u001b[0m\u001b[0;34m(\u001b[0m\u001b[0;36m15\u001b[0m\u001b[0;34m,\u001b[0m\u001b[0mpop\u001b[0m\u001b[0;34m,\u001b[0m\u001b[0;36m33\u001b[0m\u001b[0;34m,\u001b[0m\u001b[0;36m32\u001b[0m\u001b[0;34m,\u001b[0m\u001b[0;32mTrue\u001b[0m\u001b[0;34m,\u001b[0m\u001b[0;32mFalse\u001b[0m\u001b[0;34m,\u001b[0m\u001b[0;36m16\u001b[0m\u001b[0;34m,\u001b[0m\u001b[0;36m50\u001b[0m\u001b[0;34m,\u001b[0m\u001b[0;32mTrue\u001b[0m\u001b[0;34m,\u001b[0m\u001b[0;32mTrue\u001b[0m\u001b[0;34m,\u001b[0m\u001b[0;36m42\u001b[0m\u001b[0;34m,\u001b[0m\u001b[0;36m12\u001b[0m\u001b[0;34m,\u001b[0m\u001b[0;32mFalse\u001b[0m\u001b[0;34m,\u001b[0m\u001b[0;32mFalse\u001b[0m\u001b[0;34m,\u001b[0m\u001b[0;36m19\u001b[0m\u001b[0;34m,\u001b[0m\u001b[0;36m13\u001b[0m\u001b[0;34m,\u001b[0m\u001b[0;32mFalse\u001b[0m\u001b[0;34m,\u001b[0m\u001b[0;32mTrue\u001b[0m\u001b[0;34m,\u001b[0m\u001b[0;36m8\u001b[0m\u001b[0;34m,\u001b[0m\u001b[0;36m19\u001b[0m\u001b[0;34m,\u001b[0m\u001b[0;32mTrue\u001b[0m\u001b[0;34m,\u001b[0m\u001b[0;32mTrue\u001b[0m\u001b[0;34m,\u001b[0m\u001b[0;36m12\u001b[0m\u001b[0;34m,\u001b[0m\u001b[0;36m8\u001b[0m\u001b[0;34m,\u001b[0m\u001b[0;32mFalse\u001b[0m\u001b[0;34m,\u001b[0m\u001b[0;32mFalse\u001b[0m\u001b[0;34m)\u001b[0m\u001b[0;34m)\u001b[0m\u001b[0;34m\u001b[0m\u001b[0m\n\u001b[0m",
      "\u001b[0;31mTypeError\u001b[0m: evolution_pop() missing 25 required positional arguments: 'pop', 'n1', 'm1', 'probleme1', 'fixe1', 'n2', 'm2', 'probleme2', 'fixe2', 'n3', 'm3', 'probleme3', 'fixe3', 'n4', 'm4', 'probleme4', 'fixe4', 'n5', 'm5', 'probleme5', 'fixe5', 'n6', 'm6', 'probleme6', and 'fixe6'"
     ]
    }
   ],
   "source": [
    "evolution_pop(population(15,pop,33,32,True,False,16,50,True,True,42,12,False,False,19,13,False,True,8,19,True,True,12,8,False,False))"
   ]
  },
  {
   "cell_type": "code",
   "execution_count": 350,
   "metadata": {
    "scrolled": false
   },
   "outputs": [
    {
     "data": {
      "text/plain": [
       "{'Afrique': [1256268000, 1268893703, 1281646297, 1294527056, 1307537270],\n",
       " 'Amérique du Nord': [361208000, 336788107, 314019149, 292789514, 272995134],\n",
       " 'Amérique du Sud': [645593000, 651755358, 657976538, 664257101, 670597613],\n",
       " 'Asie': [4504428000, 5181325507, 5959942974, 6855566246, 7885778229],\n",
       " 'Europe': [742074000, 870831906, 1021930709, 1199246796, 1407329152],\n",
       " 'Océanie': [40691000, 41239929, 41796263, 42360102, 42931548]}"
      ]
     },
     "execution_count": 350,
     "metadata": {},
     "output_type": "execute_result"
    }
   ],
   "source": [
    "evolution_pop(5,pop,32,16,50,42,12,19,13,8,33,19,23,16,True,False,True,True,False,False,False,False,True,True,False,False)"
   ]
  },
  {
   "cell_type": "code",
   "execution_count": 240,
   "metadata": {},
   "outputs": [],
   "source": [
    "def list_pop(a,probleme,n,m,fixe,pop):\n",
    "    \"\"\"->list[list[int]]\"\"\"\n",
    "\n",
    "    DR={\"Europe\":[],\"Amérique du Nord\":[],\"Asie\":[],\"Afrique\":[],\"Amérique du Sud\":[],\"Océanie\":[]}\n",
    "    M=[]\n",
    "    \n",
    "    for continent in DR:\n",
    "        for t in range(a):\n",
    "            DR[continent].append(population(continent,probleme,n,m,t,fixe,pop))\n",
    "            \n",
    "    return [DR[continent] for continent in continents]"
   ]
  },
  {
   "cell_type": "code",
   "execution_count": 233,
   "metadata": {},
   "outputs": [
    {
     "ename": "TypeError",
     "evalue": "population() missing 19 required positional arguments: 'm3', 'n4', 'm4', 'n5', 'm5', 'n6', 'm6', 'probleme1', 'probleme2', 'probleme3', 'probleme4', 'probleme5', 'probleme6', 'fixe1', 'fixe2', 'fixe3', 'fixe4', 'fixe5', and 'fixe6'",
     "output_type": "error",
     "traceback": [
      "\u001b[0;31m---------------------------------------------------------------------------\u001b[0m",
      "\u001b[0;31mTypeError\u001b[0m                                 Traceback (most recent call last)",
      "\u001b[0;32m<ipython-input-233-a22b1ef85ccb>\u001b[0m in \u001b[0;36m<module>\u001b[0;34m()\u001b[0m\n\u001b[0;32m----> 1\u001b[0;31m \u001b[0mlist_pop\u001b[0m\u001b[0;34m(\u001b[0m\u001b[0;36m3\u001b[0m\u001b[0;34m,\u001b[0m\u001b[0;32mTrue\u001b[0m\u001b[0;34m,\u001b[0m\u001b[0;36m12\u001b[0m\u001b[0;34m,\u001b[0m\u001b[0;36m16\u001b[0m\u001b[0;34m,\u001b[0m\u001b[0;32mTrue\u001b[0m\u001b[0;34m,\u001b[0m\u001b[0mpop\u001b[0m\u001b[0;34m)\u001b[0m\u001b[0;34m[\u001b[0m\u001b[0;36m0\u001b[0m\u001b[0;34m]\u001b[0m\u001b[0;34m\u001b[0m\u001b[0m\n\u001b[0m",
      "\u001b[0;32m<ipython-input-232-9046b1192e27>\u001b[0m in \u001b[0;36mlist_pop\u001b[0;34m(a, probleme, n, m, fixe, pop)\u001b[0m\n\u001b[1;32m      7\u001b[0m     \u001b[0;32mfor\u001b[0m \u001b[0mcontinent\u001b[0m \u001b[0;32min\u001b[0m \u001b[0mDR\u001b[0m\u001b[0;34m:\u001b[0m\u001b[0;34m\u001b[0m\u001b[0m\n\u001b[1;32m      8\u001b[0m         \u001b[0;32mfor\u001b[0m \u001b[0mt\u001b[0m \u001b[0;32min\u001b[0m \u001b[0mrange\u001b[0m\u001b[0;34m(\u001b[0m\u001b[0ma\u001b[0m\u001b[0;34m)\u001b[0m\u001b[0;34m:\u001b[0m\u001b[0;34m\u001b[0m\u001b[0m\n\u001b[0;32m----> 9\u001b[0;31m             \u001b[0mDR\u001b[0m\u001b[0;34m[\u001b[0m\u001b[0mcontinent\u001b[0m\u001b[0;34m]\u001b[0m\u001b[0;34m.\u001b[0m\u001b[0mappend\u001b[0m\u001b[0;34m(\u001b[0m\u001b[0mpopulation\u001b[0m\u001b[0;34m(\u001b[0m\u001b[0mcontinent\u001b[0m\u001b[0;34m,\u001b[0m\u001b[0mprobleme\u001b[0m\u001b[0;34m,\u001b[0m\u001b[0mn\u001b[0m\u001b[0;34m,\u001b[0m\u001b[0mm\u001b[0m\u001b[0;34m,\u001b[0m\u001b[0mt\u001b[0m\u001b[0;34m,\u001b[0m\u001b[0mfixe\u001b[0m\u001b[0;34m,\u001b[0m\u001b[0mpop\u001b[0m\u001b[0;34m)\u001b[0m\u001b[0;34m)\u001b[0m\u001b[0;34m\u001b[0m\u001b[0m\n\u001b[0m\u001b[1;32m     10\u001b[0m \u001b[0;34m\u001b[0m\u001b[0m\n\u001b[1;32m     11\u001b[0m     \u001b[0;32mreturn\u001b[0m \u001b[0;34m[\u001b[0m\u001b[0mDR\u001b[0m\u001b[0;34m[\u001b[0m\u001b[0mcontinent\u001b[0m\u001b[0;34m]\u001b[0m \u001b[0;32mfor\u001b[0m \u001b[0mcontinent\u001b[0m \u001b[0;32min\u001b[0m \u001b[0mcontinents\u001b[0m\u001b[0;34m]\u001b[0m\u001b[0;34m\u001b[0m\u001b[0m\n",
      "\u001b[0;31mTypeError\u001b[0m: population() missing 19 required positional arguments: 'm3', 'n4', 'm4', 'n5', 'm5', 'n6', 'm6', 'probleme1', 'probleme2', 'probleme3', 'probleme4', 'probleme5', 'probleme6', 'fixe1', 'fixe2', 'fixe3', 'fixe4', 'fixe5', and 'fixe6'"
     ]
    }
   ],
   "source": [
    "list_pop(3,True,12,16,True,pop)[0]"
   ]
  },
  {
   "cell_type": "code",
   "execution_count": 181,
   "metadata": {},
   "outputs": [],
   "source": [
    "def list_popcont(a,probleme,n,m,fixe,pop):\n",
    "    \"\"\"->list[int]\"\"\",fixe3\n",
    "\n",
    "    L1=list_pop(a,probleme,n,m,fixe,pop)[0]\n",
    "    L2=list_pop(a,probleme,n,m,fixe,pop)[1]\n",
    "    L3=list_pop(a,probleme,n,m,fixe,pop)[2]\n",
    "    L4=list_pop(a,probleme,n,m,fixe,pop)[3]\n",
    "    L5=list_pop(a,probleme,n,m,fixe,pop)[4]\n",
    "    L6=list_pop(a,probleme,n,m,fixe,pop)[5]\n",
    "    \n",
    "    return L1,L2,L3,L4,L5,L6"
   ]
  },
  {
   "cell_type": "code",
   "execution_count": 154,
   "metadata": {},
   "outputs": [
    {
     "data": {
      "text/plain": [
       "{'Afrique': [1256268000,\n",
       "  1287426702,\n",
       "  1319358220,\n",
       "  1352081722,\n",
       "  1385616852,\n",
       "  1419983740,\n",
       "  1455203016,\n",
       "  1491295822,\n",
       "  1528283822,\n",
       "  1566189221],\n",
       " 'Amérique du Nord': [361208000,\n",
       "  363854466,\n",
       "  366520322,\n",
       "  369205710,\n",
       "  371910774,\n",
       "  374635656,\n",
       "  377380503,\n",
       "  380145460,\n",
       "  382930676,\n",
       "  385736298],\n",
       " 'Amérique du Sud': [645593000,\n",
       "  651755358,\n",
       "  657976538,\n",
       "  664257101,\n",
       "  670597613,\n",
       "  676998647,\n",
       "  683460781,\n",
       "  689984597,\n",
       "  696570685,\n",
       "  703219639],\n",
       " 'Asie': [4504428000,\n",
       "  4542878822,\n",
       "  4581657870,\n",
       "  4620767944,\n",
       "  4660211871,\n",
       "  4699992500,\n",
       "  4740112706,\n",
       "  4780575386,\n",
       "  4821383466,\n",
       "  4862539892],\n",
       " 'Europe': [742074000,\n",
       "  742445130,\n",
       "  742816445,\n",
       "  743187946,\n",
       "  743559633,\n",
       "  743931506,\n",
       "  744303565,\n",
       "  744675810,\n",
       "  745048241,\n",
       "  745420858],\n",
       " 'Océanie': [40691000,\n",
       "  41239929,\n",
       "  41796263,\n",
       "  42360102,\n",
       "  42931548,\n",
       "  43510702,\n",
       "  44097670,\n",
       "  44692555,\n",
       "  45295466,\n",
       "  45906510]}"
      ]
     },
     "execution_count": 154,
     "metadata": {},
     "output_type": "execute_result"
    }
   ],
   "source": [
    "evolution_pop(10,pop,False,35,19,True)"
   ]
  },
  {
   "cell_type": "code",
   "execution_count": 155,
   "metadata": {},
   "outputs": [
    {
     "data": {
      "text/plain": [
       "([742074000, 742445130, 742816445, 743187946, 743559633],\n",
       " [361208000, 363854466, 366520322, 369205710, 371910774],\n",
       " [4504428000, 4542878822, 4581657870, 4620767944, 4660211871],\n",
       " [1256268000, 1287426702, 1319358220, 1352081722, 1385616852],\n",
       " [645593000, 651755358, 657976538, 664257101, 670597613],\n",
       " [40691000, 41239929, 41796263, 42360102, 42931548])"
      ]
     },
     "execution_count": 155,
     "metadata": {},
     "output_type": "execute_result"
    }
   ],
   "source": [
    "list_popcont(5,False,30,16,True,pop)"
   ]
  },
  {
   "cell_type": "code",
   "execution_count": 156,
   "metadata": {},
   "outputs": [],
   "source": [
    "def plot_pop(L1,L2,L3,L4,L5,L6,pop):\n",
    "    plt.figure()\n",
    "    plt.plot(L1)\n",
    "    plt.plot(L2)\n",
    "    plt.plot(L3)\n",
    "    plt.plot(L4)\n",
    "    plt.plot(L5)\n",
    "    plt.plot(L6)\n",
    "    plt.legend([continent for continent in continents])\n",
    "    plt.xlabel(\"Année\")\n",
    "    plt.ylabel(\"Taille population\")\n",
    "    plt.show()\n",
    "    return"
   ]
  },
  {
   "cell_type": "code",
   "execution_count": 166,
   "metadata": {},
   "outputs": [
    {
     "data": {
      "image/png": "[encoded data removed]",
      "text/plain": [
       "<Figure size 432x288 with 1 Axes>"
      ]
     },
     "metadata": {},
     "output_type": "display_data"
    }
   ],
   "source": [
    "L1=list_pop(100,False,60,45,True,pop)[0]\n",
    "L2=list_pop(100,False,60,45,True,pop)[1]\n",
    "L3=list_pop(100,False,60,45,True,pop)[2]\n",
    "L4=list_pop(100,False,60,45,True,pop)[3]\n",
    "L5=list_pop(100,False,60,45,True,pop)[4]\n",
    "L6=list_pop(100,False,60,45,True,pop)[5]\n",
    "\n",
    "plot_pop(L1,L2,L3,L4,L5,L6,pop)"
   ]
  },
  {
   "cell_type": "code",
   "execution_count": 158,
   "metadata": {},
   "outputs": [],
   "source": [
    "#modifier k pour chaque continent\n",
    "#est ce que c'est ok"
   ]
  },
  {
   "cell_type": "code",
   "execution_count": 159,
   "metadata": {},
   "outputs": [],
   "source": [
    "def plot_pop1(L1,pop):\n",
    "    plt.figure()\n",
    "    plt.plot(L1)\n",
    "    plt.legend([continents[0]])\n",
    "    plt.xlabel(\"Année\")\n",
    "    plt.ylabel(\"Taille population\")\n",
    "    plt.show()\n",
    "    return\n",
    "\n",
    "def plot_pop2(L2,pop):\n",
    "    plt.figure()\n",
    "    plt.plot(L2, color=\"orange\")\n",
    "    plt.legend([continents[1]])\n",
    "    plt.xlabel(\"Année\")\n",
    "    plt.ylabel(\"Taille population\")\n",
    "    plt.show()\n",
    "    return\n",
    "\n",
    "def plot_pop3(L3,pop):\n",
    "    plt.figure()\n",
    "    plt.plot(L3, color=\"green\")\n",
    "    plt.legend([continents[2]])\n",
    "    plt.xlabel(\"Année\")\n",
    "    plt.ylabel(\"Taille population\")\n",
    "    plt.show()\n",
    "    return\n",
    "\n",
    "def plot_pop4(L4,pop):\n",
    "    plt.figure()\n",
    "    plt.plot(L4, color=\"red\")\n",
    "    plt.legend([continents[3]])\n",
    "    plt.xlabel(\"Année\")\n",
    "    plt.ylabel(\"Taille population\")\n",
    "    plt.show()\n",
    "    return\n",
    "\n",
    "def plot_pop5(L5,pop):\n",
    "    plt.figure()\n",
    "    plt.plot(L5, color=\"purple\")\n",
    "    plt.legend([continents[4]])\n",
    "    plt.xlabel(\"Année\")\n",
    "    plt.ylabel(\"Taille population\")\n",
    "    plt.show()\n",
    "    return\n",
    "\n",
    "def plot_pop6(L6,pop):\n",
    "    plt.figure()\n",
    "    plt.plot(L6, color=\"brown\")\n",
    "    plt.legend([continents[5]])\n",
    "    plt.xlabel(\"Année\")\n",
    "    plt.ylabel(\"Taille population\")\n",
    "    plt.show()\n",
    "    return"
   ]
  },
  {
   "cell_type": "code",
   "execution_count": 165,
   "metadata": {},
   "outputs": [
    {
     "data": {
      "image/png": "[encoded data removed]",
      "text/plain": [
       "<Figure size 432x288 with 1 Axes>"
      ]
     },
     "metadata": {},
     "output_type": "display_data"
    },
    {
     "data": {
      "image/png": "[encoded data removed]",
      "text/plain": [
       "<Figure size 432x288 with 1 Axes>"
      ]
     },
     "metadata": {},
     "output_type": "display_data"
    },
    {
     "data": {
      "image/png": "[encoded data removed]",
      "text/plain": [
       "<Figure size 432x288 with 1 Axes>"
      ]
     },
     "metadata": {},
     "output_type": "display_data"
    },
    {
     "data": {
      "image/png": "[encoded data removed]",
      "text/plain": [
       "<Figure size 432x288 with 1 Axes>"
      ]
     },
     "metadata": {},
     "output_type": "display_data"
    },
    {
     "data": {
      "image/png": "[encoded data removed]",
      "text/plain": [
       "<Figure size 432x288 with 1 Axes>"
      ]
     },
     "metadata": {},
     "output_type": "display_data"
    },
    {
     "data": {
      "image/png": "[encoded data removed]",
      "text/plain": [
       "<Figure size 432x288 with 1 Axes>"
      ]
     },
     "metadata": {},
     "output_type": "display_data"
    }
   ],
   "source": [
    "L1=list_pop(60,False,60,45,True,pop)[0]\n",
    "L1=list_pop(60,False,60,45,True,pop)[0]\n",
    "L2=list_pop(60,False,60,45,True,pop)[1]\n",
    "L3=list_pop(60,False,60,45,True,pop)[2]\n",
    "L4=list_pop(60,False,60,45,True,pop)[3]\n",
    "L5=list_pop(60,False,60,45,True,pop)[4]\n",
    "L6=list_pop(60,False,60,45,True,pop)[5]\n",
    "\n",
    "plot_pop1(L1,pop)\n",
    "plot_pop2(L2,pop)\n",
    "plot_pop3(L3,pop)\n",
    "plot_pop4(L4,pop)\n",
    "plot_pop5(L5,pop)\n",
    "plot_pop6(L6,pop)"
   ]
  },
  {
   "cell_type": "code",
   "execution_count": null,
   "metadata": {},
   "outputs": [],
   "source": []
  },
  {
   "cell_type": "code",
   "execution_count": null,
   "metadata": {},
   "outputs": [],
   "source": []
  }
 ],
 "metadata": {
  "kernelspec": {
   "display_name": "Python 3",
   "language": "python",
   "name": "python3"
  },
  "language_info": {
   "codemirror_mode": {
    "name": "ipython",
    "version": 3
   },
   "file_extension": ".py",
   "mimetype": "text/x-python",
   "name": "python",
   "nbconvert_exporter": "python",
   "pygments_lexer": "ipython3",
   "version": "3.5.3"
  }
 },
 "nbformat": 4,
 "nbformat_minor": 2
}
