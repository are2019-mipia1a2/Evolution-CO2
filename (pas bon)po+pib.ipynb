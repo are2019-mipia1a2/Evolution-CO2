{
 "cells": [
  {
   "cell_type": "markdown",
   "metadata": {},
   "source": [
    "# Version finale"
   ]
  },
  {
   "cell_type": "code",
   "execution_count": 46,
   "metadata": {
    "collapsed": true
   },
   "outputs": [],
   "source": [
    "%matplotlib inline     \n",
    "# ^Sans animations\n",
    "# %matplotlib notebook \n",
    "# ^Avec animations\n",
    "import numpy as np\n",
    "import matplotlib.pyplot as plt\n",
    "from matplotlib import animation\n",
    "import math\n",
    "import random\n",
    "from random import uniform"
   ]
  },
  {
   "cell_type": "markdown",
   "metadata": {},
   "source": [
    "   "
   ]
  },
  {
   "cell_type": "markdown",
   "metadata": {},
   "source": [
    "## I) Population (Catherine)##"
   ]
  },
  {
   "cell_type": "markdown",
   "metadata": {},
   "source": [
    "Nous souhaitons obtenir l'évolution de la population jusqu'à une année \"a\" choisie sur chacun des continents. \n",
    "\n",
    "Celle-ci dépend de différents paramètres : \n",
    "\n",
    "**la population de départ**, dont les données ont été prises à l'année 2017 par l'ONU (on considère que l'année 2017 est l'année 0)\n",
    "\n",
    "**le taux d'accroissement**, dont les valeurs fixes viennent de l'INED\n",
    "\n",
    "**les imprévus** qui peuvent survenir, qui peuvent soit être positif, soit négatif"
   ]
  },
  {
   "cell_type": "code",
   "execution_count": 47,
   "metadata": {
    "collapsed": true
   },
   "outputs": [],
   "source": [
    "continents=[\"Europe\", \"Amérique du Nord\",\"Asie\", \"Afrique\", \"Amérique du Sud\", \"Océanie\"]\n",
    "pop={\"Europe\":742074000,\"Amérique du Nord\":361208000,\"Asie\":4504428000,\"Afrique\":1256268000, \n",
    "            \"Amérique du Sud\":645593000,\"Océanie\":40691000}\n"
   ]
  },
  {
   "cell_type": "markdown",
   "metadata": {},
   "source": [
    "Nous avons décidé de se baser sur l'évolution exponentielle de la population, c'est l'évolution la plus réaliste. \n",
    "\n",
    "Elle suit la loi suivante :\n",
    "\n",
    "**N(t)=N0*exp(k*t)**\n",
    "\n",
    "N étant la population, N0 la population à la 1ère génération, k étant le taux d'accroissement, et t l'année."
   ]
  },
  {
   "cell_type": "markdown",
   "metadata": {},
   "source": [
    "On décide donc en premier temps de calculer **k**. Ce dernier se base sur le taux de natalité et de mortalité. Ceux-ci peuvent rester fixe au fil du temps, ou varier d'une manière aléatoire. Il a ensuite fallu créer 6 taux d'accroissement afin que l'on puisse faire varier chaque taux pour chaque pays, et décider si k restait fixe ou non au fil du temps."
   ]
  },
  {
   "cell_type": "markdown",
   "metadata": {},
   "source": [
    "Calcul du taux de croissance : \n",
    "\n",
    "\n",
    "** k=(TN-TM)/POP **\n",
    "\n",
    "** TN: taux de natalité **\n",
    "\n",
    "** TM: taux de mortalité **\n",
    "\n",
    "** POP: population à l'année considérée **"
   ]
  },
  {
   "cell_type": "markdown",
   "metadata": {},
   "source": [
    "On souhaite avoir deux situations possibles : si le changement est positif ou négatif. S'il est positif, alors k sera compris "
   ]
  },
  {
   "cell_type": "markdown",
   "metadata": {},
   "source": [
    "On souhaite maintenant obtenir un dictionnaire qui nous renvoie **pour chaque continent la population** qui correspond à l'année voulue en fonction du taux de croissance. Il est nécessaire d'avoir autant de paramètres pour avoir une situation à chaque pays."
   ]
  },
  {
   "cell_type": "markdown",
   "metadata": {},
   "source": [
    "  "
   ]
  },
  {
   "cell_type": "markdown",
   "metadata": {},
   "source": [
    "## Evolution"
   ]
  },
  {
   "cell_type": "markdown",
   "metadata": {},
   "source": [
    "Maintenant, on souhaite voir **l'évolution de la population** à une année a choisie dans chaque continent."
   ]
  },
  {
   "cell_type": "code",
   "execution_count": 95,
   "metadata": {},
   "outputs": [
    {
     "ename": "SyntaxError",
     "evalue": "invalid syntax (<ipython-input-95-8cd01d1b72b8>, line 24)",
     "output_type": "error",
     "traceback": [
      "\u001b[1;36m  File \u001b[1;32m\"<ipython-input-95-8cd01d1b72b8>\"\u001b[1;36m, line \u001b[1;32m24\u001b[0m\n\u001b[1;33m    else:\u001b[0m\n\u001b[1;37m       ^\u001b[0m\n\u001b[1;31mSyntaxError\u001b[0m\u001b[1;31m:\u001b[0m invalid syntax\n"
     ]
    }
   ],
   "source": [
    "pop={\"Europe\":742074000,\"Amérique du Nord\":361208000,\"Asie\":4504428000,\"Afrique\":1256268000, \n",
    "            \"Amérique du Sud\":645593000,\"Océanie\":40691000}\n",
    "\n",
    "u=uniform(-2.5,-2.3)\n",
    "p=uniform(2.3,2.5)\n",
    "\n",
    "def evolution_pop1(a,pop,n1,m1,probleme1,positif1,fixe1):\n",
    "    \"\"\"-> dict[str:list[int]]\"\"\"\n",
    "    \n",
    "    popr={\"Europe\":[742074000]}\n",
    "    \n",
    "    for t in range(0,a-1):\n",
    "        \n",
    "        def k1(n1,m1,positif1,fixe1):\n",
    "            \"\"\"\"\"\"\n",
    "            if positif1:\n",
    "                if fixe1:\n",
    "                    k1=((n1-m1)/(popr[\"Europe\"][t]))*p\n",
    "                    \n",
    "                else:\n",
    "                    \n",
    "                    ch=uniform(2.3,2.5)\n",
    "                    k1=((n1-m1)/(popr[\"Europe\"][t])*ch\n",
    "            else:\n",
    "                if fixe1:\n",
    "                    k1=((n1-m1)/(popr[\"Europe\"][t]))*u\n",
    "                else:\n",
    "                    ch=uniform(-2.5,-2.3)\n",
    "                    k1=((n1-m1)/(popr[\"Europe\"][t]))*ch\n",
    "            return k1\n",
    "    \n",
    "        b=t+1\n",
    "        \n",
    "        if probleme1:\n",
    "            popr[\"Europe\"].append(round(pop[\"Europe\"]*math.exp(k1(n1,m1,positif1,fixe1)*b)))\n",
    "        else: \n",
    "            popr[\"Europe\"].append(round(pop[\"Europe\"]*math.exp(0.0005*b)))\n",
    "    \n",
    "    return popr\n",
    "\n",
    "def evolution_pop2(a,pop,n2,m2,probleme2,positif2,fixe2):\n",
    "    \"\"\"-> dict[str:list[int]]\"\"\"\n",
    "    \n",
    "    popr={\"Amérique du Nord\":[361208000]}\n",
    "    \n",
    "    for t in range(0,a-1):\n",
    "        \n",
    "        def k2(n2,m2,positif2,fixe2):\n",
    "        \n",
    "            if positif2:\n",
    "                if fixe2:\n",
    "                    k2=((n2-m2)/(popr[\"Amérique du Nord\"][t]))*p\n",
    "                else:\n",
    "                    ch=uniform(2.3,2.5)\n",
    "                    k2=((n2-m2)/(popr[\"Amérique du Nord\"][t]))*ch\n",
    "    \n",
    "            else:\n",
    "                if fixe2:\n",
    "                    k2=((n2-m2)/(popr[\"Amérique du Nord\"][t]))*u\n",
    "                else:\n",
    "                    ch=uniform(-2.5,-2.3)\n",
    "                    k2=((n2-m2)/(popr[\"Amérique du Nord\"][t]))*ch\n",
    "            return k2\n",
    "    \n",
    "        b=t+1\n",
    "        \n",
    "        if probleme2:\n",
    "            popr[\"Amérique du Nord\"].append(round(pop[\"Amérique du Nord\"]*math.exp((k2(n2,m2,positif2,fixe2))*b)))\n",
    "        else: \n",
    "            popr[\"Amérique du Nord\"].append(round(pop[\"Amérique du Nord\"]*math.exp(0.0073*b)))\n",
    "    \n",
    "    return popr\n",
    "\n",
    "def evolution_pop3(a,pop,n3,m3,probleme3,positif3,fixe3):\n",
    "    \"\"\"-> dict[str:list[int]]\"\"\"\n",
    "    \n",
    "    popr={\"Asie\":[4504428000]}\n",
    "    \n",
    "    for t in range(0,a-1):\n",
    "        \n",
    "        def k3(n3,m3,positif3,fixe3):\n",
    "        \n",
    "            if positif3:\n",
    "                if fixe3:\n",
    "                    k3=((n3-m3)/(popr[\"Asie\"][t]))*p\n",
    "                else:\n",
    "                    ch=uniform(2.3,2.5)\n",
    "                    k3=((n3-m3)/(popr[\"Asie\"][t]))*ch\n",
    "    \n",
    "            else:\n",
    "                if fixe3:\n",
    "                    k3=((n3-m3)/(popr[\"Asie\"][t]))*u\n",
    "                else:\n",
    "                    ch=uniform(-2.5,-2.3)\n",
    "                    k3=((n3-m3)/(popr[\"Asie\"][t]))*ch\n",
    "            return k3\n",
    "    \n",
    "        b=t+1\n",
    "        \n",
    "        if probleme3:\n",
    "            popr[\"Asie\"].append(round(pop[\"Asie\"]*math.exp(k3(n3,m3,positif3,fixe3)*b)))\n",
    "        else: \n",
    "            popr[\"Asie\"].append(round(pop[\"Asie\"]*math.exp(0.0085*b)))\n",
    "    \n",
    "    return popr\n",
    "\n",
    "def evolution_pop4(a,pop,n4,m4,probleme4,positif4,fixe4):\n",
    "    \"\"\"-> dict[str:list[int]]\"\"\"\n",
    "    \n",
    "    popr={\"Afrique\":[1256268000]}\n",
    "    \n",
    "    for t in range(0,a-1):\n",
    "        \n",
    "        def k4(n4,m4,positif4,fixe4):\n",
    "        \n",
    "            if positif4:\n",
    "                if fixe4:\n",
    "                    k4=((n4-m4)/(popr[\"Afrique\"][t]))*p\n",
    "                else:\n",
    "                    ch=uniform(2.3,2.5)\n",
    "                    k4=((n4-m4)/(popr[\"Afrique\"][t]))*ch\n",
    "    \n",
    "            else:\n",
    "                if fixe4:\n",
    "                    k4=((n4-m4)/(popr[\"Afrique\"][t]))*u\n",
    "                else:\n",
    "                    ch=uniform(-2.5,-2.3)\n",
    "                    k4=((n4-m4)/(popr[\"Afrique\"][t]))*ch\n",
    "            return k4\n",
    "        \n",
    "        b=t+1\n",
    "        \n",
    "        if probleme4:\n",
    "            popr[\"Afrique\"].append(round(pop[\"Afrique\"]*math.exp(k4(n4,m4,positif4,fixe4)*b)))\n",
    "        else: \n",
    "            popr[\"Afrique\"].append(round(pop[\"Afrique\"]*math.exp(0.0245*b)))\n",
    "    \n",
    "    return popr\n",
    "\n",
    "def evolution_pop5(a,pop,n5,m5,probleme5,positif5,fixe5):\n",
    "    \"\"\"-> dict[str:list[int]]\"\"\"\n",
    "    \n",
    "    popr={\"Amérique du Sud\":[645593000]}\n",
    "    \n",
    "    for t in range(0,a-1):\n",
    "        \n",
    "        def k5(n5,m5,positif5,fixe5):\n",
    "        \n",
    "            if positif5:\n",
    "                if fixe5:\n",
    "                    k5=((n5-m5)/(popr[\"Amérique du Sud\"][t]))*p\n",
    "                else:\n",
    "                    ch=uniform(2.3,2.5)\n",
    "                    k5=((n5-m5)/(popr[\"Amérique du Sud\"][t]))*ch\n",
    "    \n",
    "            else:\n",
    "                if fixe5:\n",
    "                    k5=((n5-m5)/(popr[\"Amérique du Sud\"][t]))*u\n",
    "                else:\n",
    "                    ch=uniform(-2.5,-2.3)\n",
    "                    k5=((n5-m5)/(popr[\"Amérique du Sud\"][t]))*ch\n",
    "            return k5\n",
    "    \n",
    "        b=t+1\n",
    "        \n",
    "        if probleme5:\n",
    "            popr[\"Amérique du Sud\"].append(round(pop[\"Amérique du Sud\"]*math.exp((k5(n5,m5,positif5,fixe5))*b)))\n",
    "        else: \n",
    "            popr[\"Amérique du Sud\"].append(round(pop[\"Amérique du Sud\"]*math.exp(0.0095*b)))\n",
    "    \n",
    "    return popr\n",
    "\n",
    "def evolution_pop6(a,pop,n6,m6,probleme6,positif6,fixe6):\n",
    "    \"\"\"-> dict[str:list[int]]\"\"\"\n",
    "    \n",
    "    popr={\"Océanie\":[40691000]}\n",
    "    \n",
    "    for t in range(0,a-1):\n",
    "        \n",
    "        def k6(n6,m6,positif6,fixe6):\n",
    "        \n",
    "            if positif6:\n",
    "                if fixe6:\n",
    "                    k6=((n6-m6)/(popr[\"Océanie\"][t]))*p\n",
    "                else:\n",
    "                    ch=uniform(2,4)\n",
    "                    k6=((n6-m6)/(popr[\"Océanie\"][t]))*ch\n",
    "    \n",
    "            else:\n",
    "                if fixe6:\n",
    "                    k6=((n6-m6)/(popr[\"Océanie\"][t]))*u\n",
    "                else:\n",
    "                    ch=uniform(-4,-2)\n",
    "                    k6=((n6-m6)/(popr[\"Océanie\"][t]))*ch\n",
    "            return k6\n",
    "    \n",
    "        b=t+1\n",
    "        \n",
    "        if probleme6:\n",
    "            popr[\"Océanie\"].append(round(pop[\"Océanie\"]*math.exp(k6(n6,m6,positif6,fixe6)*b)))\n",
    "        else: \n",
    "            popr[\"Océanie\"].append(round(pop[\"Océanie\"]*math.exp(0.0134*b)))\n",
    "    \n",
    "    return popr"
   ]
  },
  {
   "cell_type": "code",
   "execution_count": null,
   "metadata": {},
   "outputs": [],
   "source": [
    "evolution_pop1(3,pop,82000,79000,True,False,True)"
   ]
  },
  {
   "cell_type": "code",
   "execution_count": null,
   "metadata": {
    "scrolled": true
   },
   "outputs": [],
   "source": [
    "evolution_pop2(10,pop,123000,984500,True,False,True)"
   ]
  },
  {
   "cell_type": "markdown",
   "metadata": {},
   "source": [
    "  "
   ]
  },
  {
   "cell_type": "markdown",
   "metadata": {},
   "source": [
    "### Graphique de la population mondiale"
   ]
  },
  {
   "cell_type": "markdown",
   "metadata": {},
   "source": [
    "** L1 : liste de la population en Europe **\n",
    "\n",
    "** L2 : liste de la population en Amérique du Nord **\n",
    "\n",
    "** L3 : liste de la population en Asie **\n",
    "\n",
    "** L4 : liste de la population en Afrique **\n",
    "\n",
    "** L5 : liste de la population en Amérique du Sud **\n",
    "\n",
    "** L6 : liste de la population en Océanie **"
   ]
  },
  {
   "cell_type": "markdown",
   "metadata": {},
   "source": [
    "A l'échelle mondiale, on regarde l'évolution de la population à l'année voulue."
   ]
  },
  {
   "cell_type": "markdown",
   "metadata": {},
   "source": [
    "    "
   ]
  },
  {
   "cell_type": "code",
   "execution_count": 51,
   "metadata": {
    "collapsed": true
   },
   "outputs": [],
   "source": [
    "def L7(a,pop,n1,m1,probleme1,positif1,fixe1,n2,m2,probleme2,positif2,fixe2,n3,m3,probleme3,positif3,fixe3,n4,m4,probleme4,positif4,\n",
    "       fixe4,n5,m5,probleme5,positif5,fixe5,n6,m6,probleme6,positif6,fixe6):\n",
    "    \"\"\"-> list[int]\"\"\"\n",
    "    \n",
    "    L7=list()\n",
    "    \n",
    "    L1=evolution_pop1(a,pop,n1,m1,probleme1,positif1,fixe1)[\"Europe\"]\n",
    "    L2=evolution_pop2(a,pop,n2,m2,probleme2,positif2,fixe2)[\"Amérique du Nord\"]\n",
    "    L3=evolution_pop3(a,pop,n3,m3,probleme3,positif3,fixe3)[\"Asie\"]\n",
    "    L4=evolution_pop4(a,pop,n4,m4,probleme4,positif4,fixe4)[\"Afrique\"]\n",
    "    L5=evolution_pop5(a,pop,n5,m5,probleme5,positif5,fixe5)[\"Amérique du Sud\"]\n",
    "    L6=evolution_pop6(a,pop,n6,m6,probleme6,positif6,fixe6)[\"Océanie\"]\n",
    "    \n",
    "    for z in range(0,a):\n",
    "        nb=L1[z]+L2[z]+L3[z]+L4[z]+L5[z]+L6[z]\n",
    "        L7.append(nb)\n",
    "    return L7"
   ]
  },
  {
   "cell_type": "code",
   "execution_count": 52,
   "metadata": {
    "collapsed": true
   },
   "outputs": [],
   "source": [
    "#L7(83,pop,933000,732000,False,False,False,169500,500000,False,False,True,420000,120000,True,False,False,1913502,13530,True,True,False,81530,19153,True,True,True,12032,81563,True,False,True)"
   ]
  },
  {
   "cell_type": "code",
   "execution_count": 53,
   "metadata": {
    "collapsed": true
   },
   "outputs": [],
   "source": [
    "L_annee=[i for i in range(2017,2118)]"
   ]
  },
  {
   "cell_type": "code",
   "execution_count": 54,
   "metadata": {
    "collapsed": true
   },
   "outputs": [],
   "source": [
    "def total(L7):\n",
    "    \"\"\"\"\"\"\n",
    "    \n",
    "    plt.figure()\n",
    "    plt.plot(L_annee, L7)\n",
    "    plt.legend([\"Monde\"])\n",
    "    plt.xlabel(\"Année\")\n",
    "    plt.ylabel(\"Taille population\")\n",
    "    plt.show()\n",
    "    return"
   ]
  },
  {
   "cell_type": "code",
   "execution_count": 55,
   "metadata": {},
   "outputs": [
    {
     "data": {
      "image/png": "[encoded data removed]",
      "text/plain": [
       "<matplotlib.figure.Figure at 0x9a3e25fb38>"
      ]
     },
     "metadata": {},
     "output_type": "display_data"
    }
   ],
   "source": [
    "L7=L7(101,pop,933000,732000,False,False,False,169500,500000,False,False,True,420000,120000,True,False,False,1913502,13530,True,True,False,81530,19153,True,True,True,12032,81563,True,False,True)\n",
    "total(L7)"
   ]
  },
  {
   "cell_type": "markdown",
   "metadata": {},
   "source": [
    "A l'échelle mondiale, on regarde cette fois-ci la population dans chaque continent. (c'est à dire que toutes les populations sont représentées sur un même graphique)"
   ]
  },
  {
   "cell_type": "code",
   "execution_count": 74,
   "metadata": {
    "collapsed": true
   },
   "outputs": [],
   "source": [
    "def list_pop(a,pop,n1,m1,probleme1,positif1,fixe1,n2,m2,probleme2,positif2,fixe2,n3,m3,probleme3,positif3,fixe3,n4,m4,probleme4,positif4,\n",
    "       fixe4,n5,m5,probleme5,positif5,fixe5,n6,m6,probleme6,positif6,fixe6):\n",
    "    \"\"\"->list[int]\"\"\"\n",
    "\n",
    "    L1=evolution_pop1(a,pop,n1,m1,probleme1,positif1,fixe1)[\"Europe\"]\n",
    "    L2=evolution_pop2(a,pop,n2,m2,probleme2,positif2,fixe2)[\"Amérique du Nord\"]\n",
    "    L3=evolution_pop3(a,pop,n3,m3,probleme3,positif3,fixe3)[\"Asie\"]\n",
    "    L4=evolution_pop4(a,pop,n4,m4,probleme4,positif4,fixe4)[\"Afrique\"]\n",
    "    L5=evolution_pop5(a,pop,n5,m5,probleme5,positif5,fixe5)[\"Amérique du Sud\"]\n",
    "    L6=evolution_pop6(a,pop,n6,m6,probleme6,positif6,fixe6)[\"Océanie\"]\n",
    "    \n",
    "    return L1,L2,L3,L4,L5,L6"
   ]
  },
  {
   "cell_type": "code",
   "execution_count": 75,
   "metadata": {},
   "outputs": [
    {
     "data": {
      "text/plain": [
       "([742074000, 742445130, 742816445, 743187946, 743559633],\n",
       " [361208000, 363854466, 366520322, 369205710, 371910774],\n",
       " [4504428000, 4503737917, 4502940748, 4502308855, 4501576723],\n",
       " [1256268000, 1260732623, 1265725463, 1269561085, 1275171169],\n",
       " [645593000, 645746763, 645900489, 646054179, 646207832],\n",
       " [40691000, 40861231, 41030748, 41199561, 41367683])"
      ]
     },
     "execution_count": 75,
     "metadata": {},
     "output_type": "execute_result"
    }
   ],
   "source": [
    "list_pop(5,pop,933000,732000,False,False,False,169500,500000,False,False,True,420000,120000,True,False,False,1913502,13530,True,True,False,81530,19153,True,True,True,12032,81563,True,False,True)"
   ]
  },
  {
   "cell_type": "code",
   "execution_count": 89,
   "metadata": {
    "collapsed": true
   },
   "outputs": [],
   "source": [
    "L_annee=[i for i in range(2017,2117)]\n",
    "\n",
    "def plot_pop(L1,L2,L3,L4,L5,L6,pop):\n",
    "    plt.figure()\n",
    "    plt.plot(L_annee,L1)\n",
    "    plt.plot(L_annee,L2)\n",
    "    plt.plot(L_annee,L3)\n",
    "    plt.plot(L_annee,L4)\n",
    "    plt.plot(L_annee,L5)\n",
    "    plt.plot(L_annee,L6)\n",
    "    plt.legend([continent for continent in continents])\n",
    "    plt.xlabel(\"Année\")\n",
    "    plt.ylabel(\"Taille population\")\n",
    "    plt.show()\n",
    "    return"
   ]
  },
  {
   "cell_type": "code",
   "execution_count": 90,
   "metadata": {
    "collapsed": true
   },
   "outputs": [],
   "source": [
    "pop={\"Europe\":742074000,\"Amérique du Nord\":361208000,\"Asie\":4504428000,\"Afrique\":1256268000, \n",
    "            \"Amérique du Sud\":645593000,\"Océanie\":40691000}"
   ]
  },
  {
   "cell_type": "code",
   "execution_count": 93,
   "metadata": {},
   "outputs": [
    {
     "ename": "ZeroDivisionError",
     "evalue": "division by zero",
     "output_type": "error",
     "traceback": [
      "\u001b[1;31m---------------------------------------------------------------------------\u001b[0m",
      "\u001b[1;31mZeroDivisionError\u001b[0m                         Traceback (most recent call last)",
      "\u001b[1;32m<ipython-input-93-0d71a64d2d60>\u001b[0m in \u001b[0;36m<module>\u001b[1;34m()\u001b[0m\n\u001b[0;32m      3\u001b[0m \u001b[0mL3\u001b[0m\u001b[1;33m=\u001b[0m\u001b[0mevolution_pop3\u001b[0m\u001b[1;33m(\u001b[0m\u001b[1;36m100\u001b[0m\u001b[1;33m,\u001b[0m\u001b[0mpop\u001b[0m\u001b[1;33m,\u001b[0m\u001b[1;36m32458540\u001b[0m\u001b[1;33m,\u001b[0m\u001b[1;36m1941610\u001b[0m\u001b[1;33m,\u001b[0m\u001b[1;32mTrue\u001b[0m\u001b[1;33m,\u001b[0m\u001b[1;32mTrue\u001b[0m\u001b[1;33m,\u001b[0m\u001b[1;32mFalse\u001b[0m\u001b[1;33m)\u001b[0m\u001b[1;33m[\u001b[0m\u001b[1;34m\"Asie\"\u001b[0m\u001b[1;33m]\u001b[0m\u001b[1;33m\u001b[0m\u001b[0m\n\u001b[0;32m      4\u001b[0m \u001b[0mL4\u001b[0m\u001b[1;33m=\u001b[0m\u001b[0mevolution_pop4\u001b[0m\u001b[1;33m(\u001b[0m\u001b[1;36m100\u001b[0m\u001b[1;33m,\u001b[0m\u001b[0mpop\u001b[0m\u001b[1;33m,\u001b[0m\u001b[1;36m50264450\u001b[0m\u001b[1;33m,\u001b[0m\u001b[1;36m1015660\u001b[0m\u001b[1;33m,\u001b[0m\u001b[1;32mTrue\u001b[0m\u001b[1;33m,\u001b[0m\u001b[1;32mTrue\u001b[0m\u001b[1;33m,\u001b[0m\u001b[1;32mTrue\u001b[0m\u001b[1;33m)\u001b[0m\u001b[1;33m[\u001b[0m\u001b[1;34m\"Afrique\"\u001b[0m\u001b[1;33m]\u001b[0m\u001b[1;33m\u001b[0m\u001b[0m\n\u001b[1;32m----> 5\u001b[1;33m \u001b[0mL5\u001b[0m\u001b[1;33m=\u001b[0m\u001b[0mevolution_pop5\u001b[0m\u001b[1;33m(\u001b[0m\u001b[1;36m100\u001b[0m\u001b[1;33m,\u001b[0m\u001b[0mpop\u001b[0m\u001b[1;33m,\u001b[0m\u001b[1;36m53103040\u001b[0m\u001b[1;33m,\u001b[0m\u001b[1;36m7801340\u001b[0m\u001b[1;33m,\u001b[0m\u001b[1;32mTrue\u001b[0m\u001b[1;33m,\u001b[0m\u001b[1;32mFalse\u001b[0m\u001b[1;33m,\u001b[0m\u001b[1;32mTrue\u001b[0m\u001b[1;33m)\u001b[0m\u001b[1;33m[\u001b[0m\u001b[1;34m\"Amérique du Sud\"\u001b[0m\u001b[1;33m]\u001b[0m\u001b[1;33m\u001b[0m\u001b[0m\n\u001b[0m\u001b[0;32m      6\u001b[0m \u001b[0mL6\u001b[0m\u001b[1;33m=\u001b[0m\u001b[0mevolution_pop6\u001b[0m\u001b[1;33m(\u001b[0m\u001b[1;36m100\u001b[0m\u001b[1;33m,\u001b[0m\u001b[0mpop\u001b[0m\u001b[1;33m,\u001b[0m\u001b[1;36m80015670\u001b[0m\u001b[1;33m,\u001b[0m\u001b[1;36m5815250\u001b[0m\u001b[1;33m,\u001b[0m\u001b[1;32mFalse\u001b[0m\u001b[1;33m,\u001b[0m\u001b[1;32mFalse\u001b[0m\u001b[1;33m,\u001b[0m\u001b[1;32mFalse\u001b[0m\u001b[1;33m)\u001b[0m\u001b[1;33m[\u001b[0m\u001b[1;34m\"Océanie\"\u001b[0m\u001b[1;33m]\u001b[0m\u001b[1;33m\u001b[0m\u001b[0m\n",
      "\u001b[1;32m<ipython-input-82-886ff78de621>\u001b[0m in \u001b[0;36mevolution_pop5\u001b[1;34m(a, pop, n5, m5, probleme5, positif5, fixe5)\u001b[0m\n\u001b[0;32m    165\u001b[0m \u001b[1;33m\u001b[0m\u001b[0m\n\u001b[0;32m    166\u001b[0m         \u001b[1;32mif\u001b[0m \u001b[0mprobleme5\u001b[0m\u001b[1;33m:\u001b[0m\u001b[1;33m\u001b[0m\u001b[0m\n\u001b[1;32m--> 167\u001b[1;33m             \u001b[0mpopr\u001b[0m\u001b[1;33m[\u001b[0m\u001b[1;34m\"Amérique du Sud\"\u001b[0m\u001b[1;33m]\u001b[0m\u001b[1;33m.\u001b[0m\u001b[0mappend\u001b[0m\u001b[1;33m(\u001b[0m\u001b[0mround\u001b[0m\u001b[1;33m(\u001b[0m\u001b[0mpop\u001b[0m\u001b[1;33m[\u001b[0m\u001b[1;34m\"Amérique du Sud\"\u001b[0m\u001b[1;33m]\u001b[0m\u001b[1;33m*\u001b[0m\u001b[0mmath\u001b[0m\u001b[1;33m.\u001b[0m\u001b[0mexp\u001b[0m\u001b[1;33m(\u001b[0m\u001b[0mk5\u001b[0m\u001b[1;33m(\u001b[0m\u001b[0mn5\u001b[0m\u001b[1;33m,\u001b[0m\u001b[0mm5\u001b[0m\u001b[1;33m,\u001b[0m\u001b[0mpositif5\u001b[0m\u001b[1;33m,\u001b[0m\u001b[0mfixe5\u001b[0m\u001b[1;33m)\u001b[0m\u001b[1;33m*\u001b[0m\u001b[0mb\u001b[0m\u001b[1;33m)\u001b[0m\u001b[1;33m)\u001b[0m\u001b[1;33m)\u001b[0m\u001b[1;33m\u001b[0m\u001b[0m\n\u001b[0m\u001b[0;32m    168\u001b[0m         \u001b[1;32melse\u001b[0m\u001b[1;33m:\u001b[0m\u001b[1;33m\u001b[0m\u001b[0m\n\u001b[0;32m    169\u001b[0m             \u001b[0mpopr\u001b[0m\u001b[1;33m[\u001b[0m\u001b[1;34m\"Amérique du Sud\"\u001b[0m\u001b[1;33m]\u001b[0m\u001b[1;33m.\u001b[0m\u001b[0mappend\u001b[0m\u001b[1;33m(\u001b[0m\u001b[0mround\u001b[0m\u001b[1;33m(\u001b[0m\u001b[0mpop\u001b[0m\u001b[1;33m[\u001b[0m\u001b[1;34m\"Amérique du Sud\"\u001b[0m\u001b[1;33m]\u001b[0m\u001b[1;33m*\u001b[0m\u001b[0mmath\u001b[0m\u001b[1;33m.\u001b[0m\u001b[0mexp\u001b[0m\u001b[1;33m(\u001b[0m\u001b[1;36m0.0095\u001b[0m\u001b[1;33m*\u001b[0m\u001b[0mb\u001b[0m\u001b[1;33m)\u001b[0m\u001b[1;33m)\u001b[0m\u001b[1;33m)\u001b[0m\u001b[1;33m\u001b[0m\u001b[0m\n",
      "\u001b[1;32m<ipython-input-82-886ff78de621>\u001b[0m in \u001b[0;36mk5\u001b[1;34m(n5, m5, positif5, fixe5)\u001b[0m\n\u001b[0;32m    156\u001b[0m             \u001b[1;32melse\u001b[0m\u001b[1;33m:\u001b[0m\u001b[1;33m\u001b[0m\u001b[0m\n\u001b[0;32m    157\u001b[0m                 \u001b[1;32mif\u001b[0m \u001b[0mfixe5\u001b[0m\u001b[1;33m:\u001b[0m\u001b[1;33m\u001b[0m\u001b[0m\n\u001b[1;32m--> 158\u001b[1;33m                     \u001b[0mk5\u001b[0m\u001b[1;33m=\u001b[0m\u001b[1;33m(\u001b[0m\u001b[1;33m(\u001b[0m\u001b[0mn5\u001b[0m\u001b[1;33m-\u001b[0m\u001b[0mm5\u001b[0m\u001b[1;33m)\u001b[0m\u001b[1;33m/\u001b[0m\u001b[0mpopr\u001b[0m\u001b[1;33m[\u001b[0m\u001b[1;34m\"Amérique du Sud\"\u001b[0m\u001b[1;33m]\u001b[0m\u001b[1;33m[\u001b[0m\u001b[0mt\u001b[0m\u001b[1;33m]\u001b[0m\u001b[1;33m)\u001b[0m\u001b[1;33m*\u001b[0m\u001b[0mu\u001b[0m\u001b[1;33m\u001b[0m\u001b[0m\n\u001b[0m\u001b[0;32m    159\u001b[0m                 \u001b[1;32melse\u001b[0m\u001b[1;33m:\u001b[0m\u001b[1;33m\u001b[0m\u001b[0m\n\u001b[0;32m    160\u001b[0m                     \u001b[0mch\u001b[0m\u001b[1;33m=\u001b[0m\u001b[0muniform\u001b[0m\u001b[1;33m(\u001b[0m\u001b[1;33m-\u001b[0m\u001b[1;36m2.5\u001b[0m\u001b[1;33m,\u001b[0m\u001b[1;33m-\u001b[0m\u001b[1;36m2.3\u001b[0m\u001b[1;33m)\u001b[0m\u001b[1;33m\u001b[0m\u001b[0m\n",
      "\u001b[1;31mZeroDivisionError\u001b[0m: division by zero"
     ]
    }
   ],
   "source": [
    "L1=evolution_pop1(100,pop,30524160,1613530,False,False,True)[\"Europe\"]\n",
    "L2=evolution_pop2(100,pop,64652056,1269654,False,False,False)[\"Amérique du Nord\"]\n",
    "L3=evolution_pop3(100,pop,32458540,1941610,True,True,False)[\"Asie\"]\n",
    "L4=evolution_pop4(100,pop,50264450,1015660,True,True,True)[\"Afrique\"]\n",
    "L5=evolution_pop5(100,pop,53103040,7801340,True,False,True)[\"Amérique du Sud\"]\n",
    "L6=evolution_pop6(100,pop,80015670,5815250,False,False,False)[\"Océanie\"]"
   ]
  },
  {
   "cell_type": "code",
   "execution_count": 79,
   "metadata": {},
   "outputs": [
    {
     "ename": "NameError",
     "evalue": "name 'L5' is not defined",
     "output_type": "error",
     "traceback": [
      "\u001b[1;31m---------------------------------------------------------------------------\u001b[0m",
      "\u001b[1;31mNameError\u001b[0m                                 Traceback (most recent call last)",
      "\u001b[1;32m<ipython-input-79-ea47e6927c25>\u001b[0m in \u001b[0;36m<module>\u001b[1;34m()\u001b[0m\n\u001b[1;32m----> 1\u001b[1;33m \u001b[0mplot_pop\u001b[0m\u001b[1;33m(\u001b[0m\u001b[0mL1\u001b[0m\u001b[1;33m,\u001b[0m\u001b[0mL2\u001b[0m\u001b[1;33m,\u001b[0m\u001b[0mL3\u001b[0m\u001b[1;33m,\u001b[0m\u001b[0mL4\u001b[0m\u001b[1;33m,\u001b[0m\u001b[0mL5\u001b[0m\u001b[1;33m,\u001b[0m\u001b[0mL6\u001b[0m\u001b[1;33m,\u001b[0m\u001b[0mpop\u001b[0m\u001b[1;33m)\u001b[0m\u001b[1;33m\u001b[0m\u001b[0m\n\u001b[0m",
      "\u001b[1;31mNameError\u001b[0m: name 'L5' is not defined"
     ]
    }
   ],
   "source": [
    "plot_pop(L1,L2,L3,L4,L5,L6,pop)"
   ]
  },
  {
   "cell_type": "markdown",
   "metadata": {},
   "source": [
    "Même si nous voyons dans l'ensemble l'évolution de la population, les résultats sont trop imprécis pour en déduire quoique ce soit, du au fait que l'on prenne les résultats à l'échelle mondiale. Il faut donc visualiser la situation à l'échelle continentale."
   ]
  },
  {
   "cell_type": "markdown",
   "metadata": {},
   "source": [
    "### Graphiques de la population sur chaque continent"
   ]
  },
  {
   "cell_type": "code",
   "execution_count": 474,
   "metadata": {
    "collapsed": true
   },
   "outputs": [],
   "source": [
    "def plot_pop1(L1,pop):\n",
    "    plt.figure()\n",
    "    plt.plot(L_annee,L1)\n",
    "    plt.legend([continents[0]])\n",
    "    plt.xlabel(\"Année\")\n",
    "    plt.ylabel(\"Taille population\")\n",
    "    plt.show()\n",
    "    return\n",
    "\n",
    "def plot_pop2(L2,pop):\n",
    "    plt.figure()\n",
    "    plt.plot(L_annee,L2, color=\"orange\")\n",
    "    plt.legend([continents[1]])\n",
    "    plt.xlabel(\"Année\")\n",
    "    plt.ylabel(\"Taille population\")\n",
    "    plt.show()\n",
    "    return\n",
    "\n",
    "def plot_pop3(L3,pop):\n",
    "    plt.figure()\n",
    "    plt.plot(L_annee,L3, color=\"green\")\n",
    "    plt.legend([continents[2]])\n",
    "    plt.xlabel(\"Année\")\n",
    "    plt.ylabel(\"Taille population\")\n",
    "    plt.show()\n",
    "    return\n",
    "\n",
    "def plot_pop4(L4,pop):\n",
    "    plt.figure()\n",
    "    plt.plot(L_annee,L4, color=\"red\")\n",
    "    plt.legend([continents[3]])\n",
    "    plt.xlabel(\"Année\")\n",
    "    plt.ylabel(\"Taille population\")\n",
    "    plt.show()\n",
    "    return\n",
    "\n",
    "def plot_pop5(L5,pop):\n",
    "    plt.figure()\n",
    "    plt.plot(L_annee,L5, color=\"purple\")\n",
    "    plt.legend([continents[4]])\n",
    "    plt.xlabel(\"Année\")\n",
    "    plt.ylabel(\"Taille population\")\n",
    "    plt.show()\n",
    "    return\n",
    "\n",
    "def plot_pop6(L6,pop):\n",
    "    plt.figure()\n",
    "    plt.plot(L_annee,L6, color=\"brown\")\n",
    "    plt.legend([continents[5]])\n",
    "    plt.xlabel(\"Année\")\n",
    "    plt.ylabel(\"Taille population\")\n",
    "    plt.show()\n",
    "    return"
   ]
  },
  {
   "cell_type": "code",
   "execution_count": 475,
   "metadata": {},
   "outputs": [
    {
     "data": {
      "image/png": "[encoded data removed]",
      "text/plain": [
       "<matplotlib.figure.Figure at 0x80b9110be0>"
      ]
     },
     "metadata": {},
     "output_type": "display_data"
    },
    {
     "data": {
      "image/png": "[encoded data removed]",
      "text/plain": [
       "<matplotlib.figure.Figure at 0x80b9110f28>"
      ]
     },
     "metadata": {},
     "output_type": "display_data"
    },
    {
     "data": {
      "image/png": "[encoded data removed]",
      "text/plain": [
       "<matplotlib.figure.Figure at 0x80b919b828>"
      ]
     },
     "metadata": {},
     "output_type": "display_data"
    },
    {
     "data": {
      "image/png": "[encoded data removed]",
      "text/plain": [
       "<matplotlib.figure.Figure at 0x80b6dbda90>"
      ]
     },
     "metadata": {},
     "output_type": "display_data"
    },
    {
     "data": {
      "image/png": "[encoded data removed]",
      "text/plain": [
       "<matplotlib.figure.Figure at 0x80b8fd7a58>"
      ]
     },
     "metadata": {},
     "output_type": "display_data"
    },
    {
     "data": {
      "image/png": "[encoded data removed]",
      "text/plain": [
       "<matplotlib.figure.Figure at 0x80b8f38e10>"
      ]
     },
     "metadata": {},
     "output_type": "display_data"
    }
   ],
   "source": [
    "L1=evolution_pop1(100,pop,30524160,1613530,False,False,True)[\"Europe\"]\n",
    "L2=evolution_pop2(100,pop,59456360,1004550,True,False,False)[\"Amérique du Nord\"]\n",
    "L3=evolution_pop3(100,pop,32458540,1941610,True,True,False)[\"Asie\"]\n",
    "L4=evolution_pop4(100,pop,50264450,1015660,True,True,True)[\"Afrique\"]\n",
    "L5=evolution_pop5(100,pop,53103040,7801340,True,False,True)[\"Amérique du Sud\"]\n",
    "L6=evolution_pop6(100,pop,80015670,5815250,False,False,False)[\"Océanie\"]\n",
    "\n",
    "plot_pop1(L1,pop)\n",
    "plot_pop2(L2,pop)\n",
    "plot_pop3(L3,pop)\n",
    "plot_pop4(L4,pop)\n",
    "plot_pop5(L5,pop)\n",
    "plot_pop6(L6,pop)"
   ]
  },
  {
   "cell_type": "markdown",
   "metadata": {},
   "source": [
    "## II) PIB (Cyrielle)##"
   ]
  },
  {
   "cell_type": "markdown",
   "metadata": {},
   "source": [
    "# Modélisation du PIB #"
   ]
  },
  {
   "cell_type": "markdown",
   "metadata": {},
   "source": [
    "## Introduction ##"
   ]
  },
  {
   "cell_type": "markdown",
   "metadata": {},
   "source": [
    "### A) Formule ###"
   ]
  },
  {
   "cell_type": "markdown",
   "metadata": {},
   "source": [
    "Le PIB s'exprime en dollars et se calcule de la façon suivante : PIB = CF + FBCF + VS + X - M\n",
    "\n",
    "Avec : \n",
    "\n",
    "- CF = consommation finale effective\n",
    "\n",
    "- FBCF = investissement (formation brute de capital fixe)\n",
    "\n",
    "- VS = variation des stocks\n",
    "\n",
    "- X = exportations\n",
    "\n",
    "- M = importations"
   ]
  },
  {
   "cell_type": "markdown",
   "metadata": {},
   "source": [
    "### B) Hypothèses ###"
   ]
  },
  {
   "cell_type": "markdown",
   "metadata": {},
   "source": [
    "1) On suppose que le cours du dollar ne change pas avec le temps. Il reste fixe à 1€ = 1,13$.\n",
    "\n",
    "2) On suppose que le nombre d'entreprises est proportionnelle au nombre d'habitants.\n",
    "\n",
    "3) On suppose que la variation des stocks est proportionnelle au nomnre d'entreprises."
   ]
  },
  {
   "cell_type": "markdown",
   "metadata": {},
   "source": [
    "## I- PIB mondial (1ère approche : données France) ##"
   ]
  },
  {
   "cell_type": "markdown",
   "metadata": {},
   "source": [
    "Le PIB mondial ne prend pas en compte les exportations et importations qui s'annulent."
   ]
  },
  {
   "cell_type": "markdown",
   "metadata": {},
   "source": [
    "### 1) Calcul de CF ###"
   ]
  },
  {
   "cell_type": "markdown",
   "metadata": {},
   "source": [
    "On définit la consommation finale par : dépense moyenne annuelle * nb de personnes\n",
    "\n",
    "La dépense moyenne annuelle change selon le type de foyer (d'après l'Insee avec les valeurs françaises):\n",
    "\n",
    "1 personne : 16 641€ soit 18 785$\n",
    "\n",
    "2 personnes : 18 000€ soit 20 319$\n",
    "\n",
    "3 personnes : 23 016€ soit 25 981$\n",
    "\n",
    "4 personnes : 30 684€ soit 34 637$\n",
    "\n",
    "5 personnes : 32 653€ soit 36 860$\n",
    "\n",
    "Nous avons la proportions de chaque foyer en France :\n",
    "\n",
    "1 personne : 35%\n",
    "\n",
    "2 personnes : 33%\n",
    "\n",
    "3 personnes : 14%\n",
    "\n",
    "4 personnes : 12%\n",
    "\n",
    "5 personnes : 6%\n",
    "\n",
    "Nous calculons la proportion de personnes vivant dans un foyer de 1, 2, 3, 4 ou 5 personnes. Pour cela nous calculons grâce aux proportions ci-dessus, le nombre de personnes totales d'une population.\n",
    "\n",
    "35 + 33 2 + 14 3 + 12 4 + 6 5 = 221\n",
    "\n",
    "Ainsi, nous ressortons les proportions de personnes vivant dans chaque type de foyer :\n",
    "\n",
    "1 personne : 35 / 221 * 100 = 16%\n",
    "\n",
    "2 personnes : 33 2 / 221 100 = 30%\n",
    "\n",
    "3 personnes : 14 3 / 221 100 = 19%\n",
    "\n",
    "4 personnes : 12 4 / 221 100 = 22%\n",
    "\n",
    "5 personnes : 5 6 / 221 100 = 13%"
   ]
  },
  {
   "cell_type": "code",
   "execution_count": 31,
   "metadata": {
    "collapsed": true
   },
   "outputs": [],
   "source": [
    "p={1:0.16, 2:0.30, 3:0.19, 4:0.22, 5:0.13} #proportion de personnes vivants dans un certain foyer\n",
    "d={1:18785, 2:20319, 3:25981, 4:34637, 5:36860} #dépenses du foyer"
   ]
  },
  {
   "cell_type": "code",
   "execution_count": 32,
   "metadata": {
    "collapsed": true
   },
   "outputs": [],
   "source": [
    "def CF(pop, p, d):\n",
    "    \"\"\"int*dict[int:float]*dict[int:int]->float\"\"\"\n",
    "    D=dict()\n",
    "    for i in p:\n",
    "        D[i]=pop*p[i]\n",
    "    DR=dict()\n",
    "    for j in D:\n",
    "        DR[j]=D[j]*d[j]/j\n",
    "    s=0\n",
    "    for k in DR:\n",
    "        s=DR[k]+s\n",
    "    return s"
   ]
  },
  {
   "cell_type": "code",
   "execution_count": 33,
   "metadata": {},
   "outputs": [
    {
     "data": {
      "text/plain": [
       "79748195241450.0"
      ]
     },
     "execution_count": 33,
     "metadata": {},
     "output_type": "execute_result"
    }
   ],
   "source": [
    "CF(7550262000, p, d)"
   ]
  },
  {
   "cell_type": "markdown",
   "metadata": {},
   "source": [
    "### 2) Calcul du FBCF ###"
   ]
  },
  {
   "cell_type": "markdown",
   "metadata": {},
   "source": [
    "Le FBCF se calcule par la somme des achats et travaux immobiliers des particuliers et les investissements des entreprises et institutions publiques.\n",
    "\n",
    "En 2017, il y a, d'après l'Insee, 515 900 000 000€ investissements des institutions et entreprises françaises. Soit 582 476 895 000$.\n",
    "\n",
    "En 2017, il y a, 4 751 553 entreprises et institutions françaises. Il y a également 67 120 000 habitants en France.\n",
    "\n",
    "Nous pouvons donc dire qu'approximativement 1 entreprise investit 582 476 895 000 / 4 751 553$ par an.\n",
    "\n",
    "Une entreprise investit donc 122 587$ par an.\n",
    "\n",
    "Pour déterminer le nombre d'entreprises on fait un produit en croix : 4 751 553 * pop / 67 120 000."
   ]
  },
  {
   "cell_type": "code",
   "execution_count": 34,
   "metadata": {
    "collapsed": true
   },
   "outputs": [],
   "source": [
    " fbcf={1:953, 2:2106, 3:738, 4:2378, 5:1589} #dépenses des particuliers"
   ]
  },
  {
   "cell_type": "code",
   "execution_count": 35,
   "metadata": {
    "collapsed": true
   },
   "outputs": [],
   "source": [
    "def FBCF(pop, fbcf, p):\n",
    "    \"\"\"int*dict[int:int]*dict[int:float]->float\"\"\"\n",
    "    D=dict()\n",
    "    for i in p:\n",
    "        D[i]=pop*p[i]\n",
    "    DR=dict()\n",
    "    for j in D:\n",
    "        DR[j]=D[j]*fbcf[j]/j\n",
    "    s=round(4751553*pop*122587/67120000)\n",
    "    for k in DR:\n",
    "        s=s+DR[k]\n",
    "    return s"
   ]
  },
  {
   "cell_type": "code",
   "execution_count": 36,
   "metadata": {},
   "outputs": [
    {
     "data": {
      "text/plain": [
       "70711162371036.0"
      ]
     },
     "execution_count": 36,
     "metadata": {},
     "output_type": "execute_result"
    }
   ],
   "source": [
    "FBCF(7550262000, fbcf, p)"
   ]
  },
  {
   "cell_type": "markdown",
   "metadata": {},
   "source": [
    "### 3) Calcul de VS ###"
   ]
  },
  {
   "cell_type": "markdown",
   "metadata": {},
   "source": [
    "La variation des stocks se calcule grâce aux stocksde début d'année moins les tsocks de fin d'années.\n",
    "\n",
    "En 2017, en France, d'après l'Insee, il y a 21 000 000 000€ de variation de stocks, soit 23 698 017 000$.\n",
    "\n",
    "Il y a 4 751 553 entreprises et institutions en France en 2017.\n",
    "\n",
    "On calcule donc la variation de stocks pour une entreprise : 23 698 017 000 / 4 751 553$.\n",
    "\n",
    "Une entreprise a donc une variation de stock d'environ 4 987$."
   ]
  },
  {
   "cell_type": "code",
   "execution_count": 37,
   "metadata": {
    "collapsed": true
   },
   "outputs": [],
   "source": [
    "def VS(pop):\n",
    "    \"\"\"int->number\"\"\"\n",
    "    e=round(4751553*pop/67120000) #nombre d'entreprises\n",
    "    return e*4987"
   ]
  },
  {
   "cell_type": "code",
   "execution_count": 38,
   "metadata": {},
   "outputs": [
    {
     "data": {
      "text/plain": [
       "2665538872916"
      ]
     },
     "execution_count": 38,
     "metadata": {},
     "output_type": "execute_result"
    }
   ],
   "source": [
    "VS(7550262000)"
   ]
  },
  {
   "cell_type": "markdown",
   "metadata": {},
   "source": [
    "### Calcul du PIB mondial ###"
   ]
  },
  {
   "cell_type": "code",
   "execution_count": 39,
   "metadata": {
    "collapsed": true
   },
   "outputs": [],
   "source": [
    "def PIB(pop, p, d, fbcf):\n",
    "    \"\"\"int*dict[int:float]*dict[int:int]*dict[int*int]->float\"\"\"\n",
    "    cfu=CF(pop, p, d)\n",
    "    fbcfu=FBCF(pop, fbcf, p)\n",
    "    vsu=VS(pop)\n",
    "    return cfu+fbcfu+vsu"
   ]
  },
  {
   "cell_type": "code",
   "execution_count": 40,
   "metadata": {},
   "outputs": [
    {
     "data": {
      "text/plain": [
       "153124896485402.0"
      ]
     },
     "execution_count": 40,
     "metadata": {},
     "output_type": "execute_result"
    }
   ],
   "source": [
    "PIB(7550262000, p, d, fbcf)"
   ]
  },
  {
   "cell_type": "markdown",
   "metadata": {},
   "source": [
    "La première approximation est éloignée de la réalité puisque le PIB de 2017 mondial était de 79 865 000 000 000$."
   ]
  },
  {
   "cell_type": "markdown",
   "metadata": {},
   "source": [
    "## II- PIB mondial (2ème approche : données par continents)"
   ]
  },
  {
   "cell_type": "markdown",
   "metadata": {},
   "source": [
    "### 1) Calcul de CF"
   ]
  },
  {
   "cell_type": "markdown",
   "metadata": {},
   "source": [
    "On estime grâce aux valeurs de la banque mondiale les données ci-dessous (il s'agit de prendre en compte la plus grande région du continent pour être le plus précis possible) :\n",
    "\n",
    "Les dépenses de consommations finales par habitant de chaque continents en 2016-2017 sont : \n",
    "\n",
    "- Afrique : Afrique du Nord (189 268 020 hab) et Moyen-Orient (415 385 000 hab) + Afrique Subsaharienne (1 022 664 451 hab) = 3 416.37 (CF par hab en AN et MO) + 1 028 (CF par hab en AS) = ((nb hab AN + MO) * 3 416.37 + nb hab AS * 1 028)/(nb hab tot) = 1 915$\n",
    "\n",
    "- Asie : Asie de l'Est et Pacifique (1 624 853 705 hab) + Asie du Sud (1 870 460 803 hab) + Russie (142 300 000 hab) = 4 637.10 (CF par hab en AS et P) + 1 059.60 (CF par hab en AS) + 5 874 (CF par hab en R) = ((nb hab AS + P) * 4 637.10 + nb hab AS * 1 029.60 + nb hab R * 5 874)/(nb hab tot) = 2 831$\n",
    "\n",
    "- Amérique du Nord : Amérique du Nord (donnée déjà calculée) = 35 639$\n",
    "\n",
    "- Amérique du Sud : Amérique latine et Caraïbes (donnée déjà calculée) = 5 668$\n",
    "\n",
    "- Europe : Europe centrale (200 000 000 hab) et Pays Baltes (6 826 000 hab) + Union Européenne (512 000 000 hab) = 8 902.27 (CF par hab en EC et PB) + 20 314.23 (CF par hab en UE) = ((nb hab EC + PB) * 8 902.27 + nb hab UE * 20 314.23)/(nb hab tot) = 17 031$\n",
    "\n",
    "- Océanie : Australie (24 641 661 hab) + Nouvelle Zélande (4 604 871 hab) = 31 410.64 (CF par hab en A) + 22 434.13 (CF par hab en NZ) = (nb hab A * 31 410.64 + nb hab NZ * 22 434.13)/(nb hab tot) = 29 997$"
   ]
  },
  {
   "cell_type": "code",
   "execution_count": 41,
   "metadata": {
    "collapsed": true
   },
   "outputs": [],
   "source": [
    "cfc={\"Afrique\":1915, \"Asie\":2831, \"Amérique du Nord\":35639, \"Amérique du Sud\":5668, \"Europe\":17031, \"Océanie\":29997}\n",
    "continents=[\"Europe\", \"Amérique du Nord\",\"Asie\", \"Afrique\", \"Amérique du Sud\", \"Océanie\"]\n",
    "pop={\"Europe\":742074000,\"Amérique du Nord\":361208000,\"Asie\":4504428000,\"Afrique\":1256268000, \n",
    "            \"Amérique du Sud\":645593000,\"Océanie\":40691000}"
   ]
  },
  {
   "cell_type": "code",
   "execution_count": 42,
   "metadata": {
    "collapsed": true
   },
   "outputs": [],
   "source": [
    "def cf_continents(cfc, continents, pop):\n",
    "    \"\"\"dict[str:int]*list[str]*dict[str:int]->int\"\"\"\n",
    "    s=0\n",
    "    for i in continents:\n",
    "        s=s+cfc[i]*pop[i]\n",
    "    return s"
   ]
  },
  {
   "cell_type": "code",
   "execution_count": 43,
   "metadata": {},
   "outputs": [
    {
     "data": {
      "text/plain": [
       "45548972145000"
      ]
     },
     "execution_count": 43,
     "metadata": {},
     "output_type": "execute_result"
    }
   ],
   "source": [
    "cf_continents(cfc, continents, pop)"
   ]
  },
  {
   "cell_type": "markdown",
   "metadata": {},
   "source": [
    "### 2) Calcul du FBCF"
   ]
  },
  {
   "cell_type": "markdown",
   "metadata": {},
   "source": [
    "On décide pour la deuxième partie de ne pas séparer les consommation des particuliers et celles des entreprises.\n",
    "\n",
    "On estime grâce aux valeurs de la banque mondiale les données ci-dessous pour le FBCF par habitant. Nous prenons le même nombre d'habitants pour chaque région que pour le CF.\n",
    "\n",
    "Afrique : Afrique du Nord et Moyen-Orient + Afrique Subsaharienne = (957 612 910 000 (FBCF de la région AN + MO) + 361 913 030 000 (FBCF de la région AS))/(nb hab AN + MO + AS) = 811$\n",
    "\n",
    "Asie : Asie de l'Est et Pacifique + Asie du Sud + Russie = (8 167 609 820 000 (FBCF de la régio AE + P) + 1 049 269 340 000 (FBCF de la région AS) + 390 369 330 000 (FBCF de la région R))/(nb hab AE + P + AS + R) = 2 641$\n",
    "\n",
    "Amérique du Nord : Amérique du Nord (361 208 000 hab) = 3 788 598 830 000 (FBCF de la région AN)/(nb hab AN) = 10 489$\n",
    "\n",
    "Amérique du Sud : Amérique latine et Caraïbes (647 565 335) = 1 131 073 580 000 (FBCF de la région AL +C)/(nb hab AL + C) = 1747$\n",
    "\n",
    "Europe : Europe centrale et Pays Baltes + Union Européenne = (360 640 590 000 (FBCF de la région EC + PB) + 3 943 976 300 000 (FBCF de la région UE)/(nb hab EC + PB + UE) = 5 988$\n",
    "\n",
    "Océanie : Australie + Nouvelle-Zélande = (333 107 700 000 (FBCF de la région A) + 41 880 470 000 (FBCF de la région NZ)/(nb hab A + NZ) = 12 822$"
   ]
  },
  {
   "cell_type": "code",
   "execution_count": 44,
   "metadata": {
    "collapsed": true
   },
   "outputs": [],
   "source": [
    "fbcfc={\"Afrique\":811, \"Asie\":2641, \"Amérique du Nord\":10489, \"Amérique du Sud\":1747, \"Europe\":5988, \"Océanie\":12822}"
   ]
  },
  {
   "cell_type": "code",
   "execution_count": 45,
   "metadata": {
    "collapsed": true
   },
   "outputs": [],
   "source": [
    "def fbcf_continents(fbcfc, continents, pop):\n",
    "    \"\"\"dict[str:int]*list[str]*dict[str:int]->int\"\"\"\n",
    "    s=0\n",
    "    for i in continents :\n",
    "        s=s+fbcfc[i]*pop[i]\n",
    "    return s"
   ]
  },
  {
   "cell_type": "code",
   "execution_count": 46,
   "metadata": {},
   "outputs": [
    {
     "data": {
      "text/plain": [
       "22796868493000"
      ]
     },
     "execution_count": 46,
     "metadata": {},
     "output_type": "execute_result"
    }
   ],
   "source": [
    "fbcf_continents(fbcfc, continents, pop)"
   ]
  },
  {
   "cell_type": "markdown",
   "metadata": {},
   "source": [
    "### 3) Calcul de VS"
   ]
  },
  {
   "cell_type": "markdown",
   "metadata": {},
   "source": [
    "On estime les données de variation de stocks par continent et par habitant en fonction des données par pays données par la banque mondiale :\n",
    "\n",
    "Afrique : Nous prenons 35 pays : (Somme des VS des 35 pays)/(nb hab des 35 pays) = 25 882 545 790/815 970 010 = 32$\n",
    "\n",
    "Asie : Nous prenons 31 pays : (Somme des VS des 31 pays)/(nb hab des 31 pays) = 224 074 187 950/4 092 924 088 = 55$\n",
    "\n",
    "Amérique du Nord : Nous prenons 3 pays : (Somme des VS des 3 pays)/(nb hab des 3 pays) = 55 557 762 400/493 322 910 = 113$\n",
    "\n",
    "Amérique du Sud : Nous prenons 15 pays : (Somme des VS des 15 pays)/(nb hab des 15 pays) = 28 727 147 680/418 773 224 = 69$\n",
    "\n",
    "Europe : Nous prenons 38 pays : (Somme des VS des 38 pays)/(nb hab des 38 pays) = 63 185 345 240/595 237 863 = 106$\n",
    "\n",
    "Océanie : Nous prenons 3 pays : (Somme des VS des 3 pays)/(nb hab des 3 pays) = 2 866 156 836/29 267 823 = 98$\n",
    "\n"
   ]
  },
  {
   "cell_type": "code",
   "execution_count": 47,
   "metadata": {
    "collapsed": true
   },
   "outputs": [],
   "source": [
    "vsc={\"Afrique\":32, \"Asie\":55, \"Amérique du Nord\":113, \"Amérique du Sud\":69, \"Europe\":106, \"Océanie\":98}"
   ]
  },
  {
   "cell_type": "code",
   "execution_count": 48,
   "metadata": {
    "collapsed": true
   },
   "outputs": [],
   "source": [
    "def vs_continents(vsc, continents, pop):\n",
    "    \"\"\"dict[str:int]*list[str]*dict[str:int]->int\"\"\"\n",
    "    s=0\n",
    "    for i in continents:\n",
    "        s=s+vsc[i]*pop[i]\n",
    "    return s"
   ]
  },
  {
   "cell_type": "code",
   "execution_count": 49,
   "metadata": {},
   "outputs": [
    {
     "data": {
      "text/plain": [
       "455954099000"
      ]
     },
     "execution_count": 49,
     "metadata": {},
     "output_type": "execute_result"
    }
   ],
   "source": [
    "vs_continents(vsc, continents, pop)"
   ]
  },
  {
   "cell_type": "markdown",
   "metadata": {},
   "source": [
    "### Calcul du PIB"
   ]
  },
  {
   "cell_type": "code",
   "execution_count": 50,
   "metadata": {
    "collapsed": true
   },
   "outputs": [],
   "source": [
    "def PIB_continents(cfc, fbcfc, vsc, continents, pop):\n",
    "    \"\"\"dict[str:int]*dict[str:int]*dict[str:int]*list[str]*dict[str:int]->int\"\"\"\n",
    "    cfcu=cf_continents(cfc, continents, pop)\n",
    "    fbcfcu=fbcf_continents(fbcfc, continents, pop)\n",
    "    vscu=vs_continents(vsc, continents, pop)\n",
    "    return cfcu+fbcfcu+vscu"
   ]
  },
  {
   "cell_type": "code",
   "execution_count": 51,
   "metadata": {},
   "outputs": [
    {
     "data": {
      "text/plain": [
       "68801794737000"
      ]
     },
     "execution_count": 51,
     "metadata": {},
     "output_type": "execute_result"
    }
   ],
   "source": [
    "PIB_continents(cfc, fbcfc, vsc, continents, pop)"
   ]
  },
  {
   "cell_type": "markdown",
   "metadata": {},
   "source": [
    "Le PIB mondial de 2017 était de 79 865 000 000 000$.\n",
    "\n",
    "Il reste encore environ 10 000 000 000 000$ de différence entre la modélisation et la valeur réelle."
   ]
  },
  {
   "cell_type": "markdown",
   "metadata": {},
   "source": [
    "## III- PIB mondial (3ème approche : Régression linéaire)"
   ]
  },
  {
   "cell_type": "code",
   "execution_count": 414,
   "metadata": {},
   "outputs": [
    {
     "ename": "FileNotFoundError",
     "evalue": "File b'/users/Etu2/3802152/Documents/Evolution-CO2-master(1)/Evolution-CO2-master/pib.csv' does not exist",
     "output_type": "error",
     "traceback": [
      "\u001b[1;31m---------------------------------------------------------------------------\u001b[0m",
      "\u001b[1;31mFileNotFoundError\u001b[0m                         Traceback (most recent call last)",
      "\u001b[1;32m<ipython-input-414-01a66f2ed7fc>\u001b[0m in \u001b[0;36m<module>\u001b[1;34m()\u001b[0m\n\u001b[0;32m      4\u001b[0m \u001b[1;32mfrom\u001b[0m \u001b[0mscipy\u001b[0m \u001b[1;32mimport\u001b[0m \u001b[0mstats\u001b[0m\u001b[1;33m\u001b[0m\u001b[0m\n\u001b[0;32m      5\u001b[0m \u001b[1;33m\u001b[0m\u001b[0m\n\u001b[1;32m----> 6\u001b[1;33m \u001b[0mpib_data\u001b[0m \u001b[1;33m=\u001b[0m \u001b[0mpd\u001b[0m\u001b[1;33m.\u001b[0m\u001b[0mread_csv\u001b[0m\u001b[1;33m(\u001b[0m\u001b[1;34m\"/users/Etu2/3802152/Documents/Evolution-CO2-master(1)/Evolution-CO2-master/pib.csv\"\u001b[0m\u001b[1;33m)\u001b[0m\u001b[1;33m\u001b[0m\u001b[0m\n\u001b[0m",
      "\u001b[1;32mC:\\Anaconda3\\envs\\python36\\lib\\site-packages\\pandas\\io\\parsers.py\u001b[0m in \u001b[0;36mparser_f\u001b[1;34m(filepath_or_buffer, sep, delimiter, header, names, index_col, usecols, squeeze, prefix, mangle_dupe_cols, dtype, engine, converters, true_values, false_values, skipinitialspace, skiprows, nrows, na_values, keep_default_na, na_filter, verbose, skip_blank_lines, parse_dates, infer_datetime_format, keep_date_col, date_parser, dayfirst, iterator, chunksize, compression, thousands, decimal, lineterminator, quotechar, quoting, escapechar, comment, encoding, dialect, tupleize_cols, error_bad_lines, warn_bad_lines, skipfooter, skip_footer, doublequote, delim_whitespace, as_recarray, compact_ints, use_unsigned, low_memory, buffer_lines, memory_map, float_precision)\u001b[0m\n\u001b[0;32m    653\u001b[0m                     skip_blank_lines=skip_blank_lines)\n\u001b[0;32m    654\u001b[0m \u001b[1;33m\u001b[0m\u001b[0m\n\u001b[1;32m--> 655\u001b[1;33m         \u001b[1;32mreturn\u001b[0m \u001b[0m_read\u001b[0m\u001b[1;33m(\u001b[0m\u001b[0mfilepath_or_buffer\u001b[0m\u001b[1;33m,\u001b[0m \u001b[0mkwds\u001b[0m\u001b[1;33m)\u001b[0m\u001b[1;33m\u001b[0m\u001b[0m\n\u001b[0m\u001b[0;32m    656\u001b[0m \u001b[1;33m\u001b[0m\u001b[0m\n\u001b[0;32m    657\u001b[0m     \u001b[0mparser_f\u001b[0m\u001b[1;33m.\u001b[0m\u001b[0m__name__\u001b[0m \u001b[1;33m=\u001b[0m \u001b[0mname\u001b[0m\u001b[1;33m\u001b[0m\u001b[0m\n",
      "\u001b[1;32mC:\\Anaconda3\\envs\\python36\\lib\\site-packages\\pandas\\io\\parsers.py\u001b[0m in \u001b[0;36m_read\u001b[1;34m(filepath_or_buffer, kwds)\u001b[0m\n\u001b[0;32m    403\u001b[0m \u001b[1;33m\u001b[0m\u001b[0m\n\u001b[0;32m    404\u001b[0m     \u001b[1;31m# Create the parser.\u001b[0m\u001b[1;33m\u001b[0m\u001b[1;33m\u001b[0m\u001b[0m\n\u001b[1;32m--> 405\u001b[1;33m     \u001b[0mparser\u001b[0m \u001b[1;33m=\u001b[0m \u001b[0mTextFileReader\u001b[0m\u001b[1;33m(\u001b[0m\u001b[0mfilepath_or_buffer\u001b[0m\u001b[1;33m,\u001b[0m \u001b[1;33m**\u001b[0m\u001b[0mkwds\u001b[0m\u001b[1;33m)\u001b[0m\u001b[1;33m\u001b[0m\u001b[0m\n\u001b[0m\u001b[0;32m    406\u001b[0m \u001b[1;33m\u001b[0m\u001b[0m\n\u001b[0;32m    407\u001b[0m     \u001b[1;32mif\u001b[0m \u001b[0mchunksize\u001b[0m \u001b[1;32mor\u001b[0m \u001b[0miterator\u001b[0m\u001b[1;33m:\u001b[0m\u001b[1;33m\u001b[0m\u001b[0m\n",
      "\u001b[1;32mC:\\Anaconda3\\envs\\python36\\lib\\site-packages\\pandas\\io\\parsers.py\u001b[0m in \u001b[0;36m__init__\u001b[1;34m(self, f, engine, **kwds)\u001b[0m\n\u001b[0;32m    762\u001b[0m             \u001b[0mself\u001b[0m\u001b[1;33m.\u001b[0m\u001b[0moptions\u001b[0m\u001b[1;33m[\u001b[0m\u001b[1;34m'has_index_names'\u001b[0m\u001b[1;33m]\u001b[0m \u001b[1;33m=\u001b[0m \u001b[0mkwds\u001b[0m\u001b[1;33m[\u001b[0m\u001b[1;34m'has_index_names'\u001b[0m\u001b[1;33m]\u001b[0m\u001b[1;33m\u001b[0m\u001b[0m\n\u001b[0;32m    763\u001b[0m \u001b[1;33m\u001b[0m\u001b[0m\n\u001b[1;32m--> 764\u001b[1;33m         \u001b[0mself\u001b[0m\u001b[1;33m.\u001b[0m\u001b[0m_make_engine\u001b[0m\u001b[1;33m(\u001b[0m\u001b[0mself\u001b[0m\u001b[1;33m.\u001b[0m\u001b[0mengine\u001b[0m\u001b[1;33m)\u001b[0m\u001b[1;33m\u001b[0m\u001b[0m\n\u001b[0m\u001b[0;32m    765\u001b[0m \u001b[1;33m\u001b[0m\u001b[0m\n\u001b[0;32m    766\u001b[0m     \u001b[1;32mdef\u001b[0m \u001b[0mclose\u001b[0m\u001b[1;33m(\u001b[0m\u001b[0mself\u001b[0m\u001b[1;33m)\u001b[0m\u001b[1;33m:\u001b[0m\u001b[1;33m\u001b[0m\u001b[0m\n",
      "\u001b[1;32mC:\\Anaconda3\\envs\\python36\\lib\\site-packages\\pandas\\io\\parsers.py\u001b[0m in \u001b[0;36m_make_engine\u001b[1;34m(self, engine)\u001b[0m\n\u001b[0;32m    983\u001b[0m     \u001b[1;32mdef\u001b[0m \u001b[0m_make_engine\u001b[0m\u001b[1;33m(\u001b[0m\u001b[0mself\u001b[0m\u001b[1;33m,\u001b[0m \u001b[0mengine\u001b[0m\u001b[1;33m=\u001b[0m\u001b[1;34m'c'\u001b[0m\u001b[1;33m)\u001b[0m\u001b[1;33m:\u001b[0m\u001b[1;33m\u001b[0m\u001b[0m\n\u001b[0;32m    984\u001b[0m         \u001b[1;32mif\u001b[0m \u001b[0mengine\u001b[0m \u001b[1;33m==\u001b[0m \u001b[1;34m'c'\u001b[0m\u001b[1;33m:\u001b[0m\u001b[1;33m\u001b[0m\u001b[0m\n\u001b[1;32m--> 985\u001b[1;33m             \u001b[0mself\u001b[0m\u001b[1;33m.\u001b[0m\u001b[0m_engine\u001b[0m \u001b[1;33m=\u001b[0m \u001b[0mCParserWrapper\u001b[0m\u001b[1;33m(\u001b[0m\u001b[0mself\u001b[0m\u001b[1;33m.\u001b[0m\u001b[0mf\u001b[0m\u001b[1;33m,\u001b[0m \u001b[1;33m**\u001b[0m\u001b[0mself\u001b[0m\u001b[1;33m.\u001b[0m\u001b[0moptions\u001b[0m\u001b[1;33m)\u001b[0m\u001b[1;33m\u001b[0m\u001b[0m\n\u001b[0m\u001b[0;32m    986\u001b[0m         \u001b[1;32melse\u001b[0m\u001b[1;33m:\u001b[0m\u001b[1;33m\u001b[0m\u001b[0m\n\u001b[0;32m    987\u001b[0m             \u001b[1;32mif\u001b[0m \u001b[0mengine\u001b[0m \u001b[1;33m==\u001b[0m \u001b[1;34m'python'\u001b[0m\u001b[1;33m:\u001b[0m\u001b[1;33m\u001b[0m\u001b[0m\n",
      "\u001b[1;32mC:\\Anaconda3\\envs\\python36\\lib\\site-packages\\pandas\\io\\parsers.py\u001b[0m in \u001b[0;36m__init__\u001b[1;34m(self, src, **kwds)\u001b[0m\n\u001b[0;32m   1603\u001b[0m         \u001b[0mkwds\u001b[0m\u001b[1;33m[\u001b[0m\u001b[1;34m'allow_leading_cols'\u001b[0m\u001b[1;33m]\u001b[0m \u001b[1;33m=\u001b[0m \u001b[0mself\u001b[0m\u001b[1;33m.\u001b[0m\u001b[0mindex_col\u001b[0m \u001b[1;32mis\u001b[0m \u001b[1;32mnot\u001b[0m \u001b[1;32mFalse\u001b[0m\u001b[1;33m\u001b[0m\u001b[0m\n\u001b[0;32m   1604\u001b[0m \u001b[1;33m\u001b[0m\u001b[0m\n\u001b[1;32m-> 1605\u001b[1;33m         \u001b[0mself\u001b[0m\u001b[1;33m.\u001b[0m\u001b[0m_reader\u001b[0m \u001b[1;33m=\u001b[0m \u001b[0mparsers\u001b[0m\u001b[1;33m.\u001b[0m\u001b[0mTextReader\u001b[0m\u001b[1;33m(\u001b[0m\u001b[0msrc\u001b[0m\u001b[1;33m,\u001b[0m \u001b[1;33m**\u001b[0m\u001b[0mkwds\u001b[0m\u001b[1;33m)\u001b[0m\u001b[1;33m\u001b[0m\u001b[0m\n\u001b[0m\u001b[0;32m   1606\u001b[0m \u001b[1;33m\u001b[0m\u001b[0m\n\u001b[0;32m   1607\u001b[0m         \u001b[1;31m# XXX\u001b[0m\u001b[1;33m\u001b[0m\u001b[1;33m\u001b[0m\u001b[0m\n",
      "\u001b[1;32mpandas\\_libs\\parsers.pyx\u001b[0m in \u001b[0;36mpandas._libs.parsers.TextReader.__cinit__ (pandas\\_libs\\parsers.c:4209)\u001b[1;34m()\u001b[0m\n",
      "\u001b[1;32mpandas\\_libs\\parsers.pyx\u001b[0m in \u001b[0;36mpandas._libs.parsers.TextReader._setup_parser_source (pandas\\_libs\\parsers.c:8873)\u001b[1;34m()\u001b[0m\n",
      "\u001b[1;31mFileNotFoundError\u001b[0m: File b'/users/Etu2/3802152/Documents/Evolution-CO2-master(1)/Evolution-CO2-master/pib.csv' does not exist"
     ]
    }
   ],
   "source": [
    "import pandas as pd\n",
    "import matplotlib.pyplot as plt\n",
    "import numpy as np\n",
    "from scipy import stats\n",
    "\n",
    "pib_data = pd.read_csv(\"/users/Etu2/3802152/Documents/Evolution-CO2-master(1)/Evolution-CO2-master/pib.csv\")\n"
   ]
  },
  {
   "cell_type": "code",
   "execution_count": null,
   "metadata": {
    "collapsed": true
   },
   "outputs": [],
   "source": [
    "annee = pib_data.iloc[0:len(pib_data),0]\n",
    "PIB = pib_data.iloc[0:len(pib_data),1] \n",
    "X=[i for i in annee]\n",
    "Y=[i for i in PIB]"
   ]
  },
  {
   "cell_type": "code",
   "execution_count": null,
   "metadata": {
    "collapsed": true
   },
   "outputs": [],
   "source": [
    "axes = plt.axes()\n",
    "axes.grid()\n",
    "plt.plot(X, Y)\n",
    "plt.xlabel('Année')\n",
    "plt.ylabel('PIB en $')\n",
    "plt.show()"
   ]
  },
  {
   "cell_type": "code",
   "execution_count": null,
   "metadata": {
    "collapsed": true
   },
   "outputs": [],
   "source": [
    "def predict(slope, intercept, x):\n",
    "    \n",
    "    return slope*np.asarray(x) + intercept"
   ]
  },
  {
   "cell_type": "code",
   "execution_count": null,
   "metadata": {
    "collapsed": true
   },
   "outputs": [],
   "source": [
    "def graph():\n",
    "    axes = plt.axes()\n",
    "    axes.grid()\n",
    "    plt.title('Approximation du paramètre PIB')\n",
    "    plt.xlabel('Année')\n",
    "    plt.ylabel('PIB en $')\n",
    "    plt.plot(X , Y)\n",
    "    slope, intercept, r_value, p_value, std_err = stats.linregress(X, Y)\n",
    "    plt.plot(X, predict(slope, intercept, X), c='r')\n",
    "    plt.show()\n",
    "    \n",
    "def PIB(year):\n",
    "    slope, intercept, r_value, p_value, std_err = stats.linregress(X, Y)\n",
    "    return slope*year + intercept"
   ]
  },
  {
   "cell_type": "code",
   "execution_count": null,
   "metadata": {
    "collapsed": true
   },
   "outputs": [],
   "source": [
    "graph()"
   ]
  },
  {
   "cell_type": "code",
   "execution_count": null,
   "metadata": {
    "collapsed": true
   },
   "outputs": [],
   "source": [
    "def futur_mondial(year):\n",
    "    \"\"\"int->list[float]\"\"\"\n",
    "    L=[]\n",
    "    for i in range(2010,year):\n",
    "        L.append(PIB(i))\n",
    "    return L"
   ]
  },
  {
   "cell_type": "code",
   "execution_count": null,
   "metadata": {
    "collapsed": true
   },
   "outputs": [],
   "source": [
    "L=futur_mondial(2101)\n",
    "annee_futur=[i for i in range(2010,2101)]\n",
    "def graph_monde():\n",
    "    axes = plt.axes()\n",
    "    axes.grid()\n",
    "    plt.title('Approximation du paramètre PIB')\n",
    "    plt.xlabel('Année')\n",
    "    plt.ylabel('PIB en $')\n",
    "    plt.plot(annee_futur, L)\n",
    "    plt.show()"
   ]
  },
  {
   "cell_type": "code",
   "execution_count": null,
   "metadata": {
    "collapsed": true
   },
   "outputs": [],
   "source": [
    "graph_monde()"
   ]
  },
  {
   "cell_type": "code",
   "execution_count": null,
   "metadata": {
    "collapsed": true
   },
   "outputs": [],
   "source": [
    "PIB(2017)"
   ]
  },
  {
   "cell_type": "markdown",
   "metadata": {},
   "source": [
    "Le PIB mondial de 2017 était de 79 865 000 000 000$.\n",
    "\n",
    "Notre deuxième approche (PIB par continents) était plus proche de la réalité que celle-ci. Ainsi, nous prendrons la deuxième approche pour modéliser le futur."
   ]
  },
  {
   "cell_type": "markdown",
   "metadata": {},
   "source": [
    "## IV- PIB continental"
   ]
  },
  {
   "cell_type": "markdown",
   "metadata": {},
   "source": [
    "On utilise les même données que dans le PIB mondial par continent."
   ]
  },
  {
   "cell_type": "markdown",
   "metadata": {},
   "source": [
    "### 1) Calcul de CF"
   ]
  },
  {
   "cell_type": "code",
   "execution_count": null,
   "metadata": {
    "collapsed": true
   },
   "outputs": [],
   "source": [
    "cfc={\"Afrique\":1915, \"Asie\":2831, \"Amérique du Nord\":35639, \"Amérique du Sud\":5668, \"Europe\":17031, \"Océanie\":29997}\n",
    "continents=[\"Europe\", \"Amérique du Nord\",\"Asie\", \"Afrique\", \"Amérique du Sud\", \"Océanie\"]\n",
    "pop={\"Europe\":742074000,\"Amérique du Nord\":361208000,\"Asie\":4504428000,\"Afrique\":1256268000, \n",
    "            \"Amérique du Sud\":645593000,\"Océanie\":40691000}"
   ]
  },
  {
   "cell_type": "code",
   "execution_count": null,
   "metadata": {
    "collapsed": true
   },
   "outputs": [],
   "source": [
    "def cf_continental(cfc, continents, pop, continent):\n",
    "    \"\"\"dict[str:int]*list[str]*dict[str:int]*str->int\"\"\"\n",
    "    s=0\n",
    "    for i in continents:\n",
    "        if i==continent:\n",
    "            s=s+cfc[i]*pop[i]\n",
    "    return s"
   ]
  },
  {
   "cell_type": "code",
   "execution_count": null,
   "metadata": {
    "collapsed": true
   },
   "outputs": [],
   "source": [
    "cf_continental(cfc, continents, pop, \"Europe\")"
   ]
  },
  {
   "cell_type": "markdown",
   "metadata": {},
   "source": [
    "### 2) Calcul du FBCF"
   ]
  },
  {
   "cell_type": "code",
   "execution_count": null,
   "metadata": {
    "collapsed": true
   },
   "outputs": [],
   "source": [
    "fbcfc={\"Afrique\":811, \"Asie\":2641, \"Amérique du Nord\":10489, \"Amérique du Sud\":1747, \"Europe\":5988, \"Océanie\":12822}"
   ]
  },
  {
   "cell_type": "code",
   "execution_count": null,
   "metadata": {
    "collapsed": true
   },
   "outputs": [],
   "source": [
    "def fbcf_continental(fbcfc, continents, pop, continent):\n",
    "    \"\"\"dict[str:int]*list[str]*dict[str:int]*str->int\"\"\"\n",
    "    s=0\n",
    "    for i in continents :\n",
    "        if i==continent:\n",
    "            s=s+fbcfc[i]*pop[i]\n",
    "    return s"
   ]
  },
  {
   "cell_type": "code",
   "execution_count": null,
   "metadata": {
    "collapsed": true
   },
   "outputs": [],
   "source": [
    "fbcf_continental(fbcfc, continents, pop, \"Europe\")"
   ]
  },
  {
   "cell_type": "markdown",
   "metadata": {},
   "source": [
    "### 3) Calcul de VS"
   ]
  },
  {
   "cell_type": "code",
   "execution_count": null,
   "metadata": {
    "collapsed": true
   },
   "outputs": [],
   "source": [
    "vsc={\"Afrique\":32, \"Asie\":55, \"Amérique du Nord\":113, \"Amérique du Sud\":69, \"Europe\":106, \"Océanie\":98}"
   ]
  },
  {
   "cell_type": "code",
   "execution_count": null,
   "metadata": {
    "collapsed": true
   },
   "outputs": [],
   "source": [
    "def vs_continental(vsc, continents, pop, continent):\n",
    "    \"\"\"dict[str:int]*list[str]*dict[str:int]*str->int\"\"\"\n",
    "    s=0\n",
    "    for i in continents:\n",
    "        if i==continent:\n",
    "            s=s+vsc[i]*pop[i]\n",
    "    return s"
   ]
  },
  {
   "cell_type": "code",
   "execution_count": null,
   "metadata": {
    "collapsed": true
   },
   "outputs": [],
   "source": [
    "vs_continental(vsc, continents, pop, \"Europe\")"
   ]
  },
  {
   "cell_type": "markdown",
   "metadata": {},
   "source": [
    "### 4) Calcul de X"
   ]
  },
  {
   "cell_type": "markdown",
   "metadata": {},
   "source": [
    "D'après le site Perspective les exportations par continent en 2016/2017 sont :\n",
    "\n",
    "Afrique : 450 141 000 000$\n",
    "\n",
    "Asie : 6 622 214 000 000$\n",
    "\n",
    "Amérique du Nord : 3 089 941 000 000$\n",
    "\n",
    "Amérique du Sud : 603 638 000 000$\n",
    "\n",
    "Europe : 8 560 857 000 000$\n",
    "\n",
    "Océanie : 281 453 000 000$"
   ]
  },
  {
   "cell_type": "code",
   "execution_count": null,
   "metadata": {
    "collapsed": true
   },
   "outputs": [],
   "source": [
    "xc={\"Afrique\":450141000000, \"Asie\":6622214000000, \"Amérique du Nord\":3089941000000, \"Amérique du Sud\":603638000000, \"Europe\":8560857000000, \"Océanie\":281453000000}"
   ]
  },
  {
   "cell_type": "code",
   "execution_count": null,
   "metadata": {
    "collapsed": true
   },
   "outputs": [],
   "source": [
    "def x_continental(xc, continent):\n",
    "    \"\"\"dict[str:int]*str->int\"\"\"\n",
    "    return xc[continent]"
   ]
  },
  {
   "cell_type": "code",
   "execution_count": null,
   "metadata": {
    "collapsed": true
   },
   "outputs": [],
   "source": [
    "x_continental(xc,\"Europe\")"
   ]
  },
  {
   "cell_type": "markdown",
   "metadata": {},
   "source": [
    "### 5) Calcul de M"
   ]
  },
  {
   "cell_type": "markdown",
   "metadata": {},
   "source": [
    "\n",
    "D'après le site de Perspective les importations par continents en 2016/2017 sont :\n",
    "\n",
    "Afrique : 590 331 000 000$\n",
    "\n",
    "Asie : 6 084 681 000 000$\n",
    "\n",
    "Amérique du Nord : 3 669 595 000 000$\n",
    "\n",
    "Amérique du Sud : 644 905 000 000$\n",
    "\n",
    "Europe : 7 870 121 000 000$\n",
    "\n",
    "Océanie : 308 229 000 000$"
   ]
  },
  {
   "cell_type": "code",
   "execution_count": null,
   "metadata": {
    "collapsed": true
   },
   "outputs": [],
   "source": [
    "mc={\"Afrique\":590331000000, \"Asie\":6084681000000, \"Amérique du Nord\":3669595000000, \"Amérique du Sud\":644905000000, \"Europe\":7870121000000, \"Océanie\":308229000000}"
   ]
  },
  {
   "cell_type": "code",
   "execution_count": null,
   "metadata": {
    "collapsed": true
   },
   "outputs": [],
   "source": [
    "def m_continental(mc, continent):\n",
    "    \"\"\"dict[str:int]*str\"\"\"\n",
    "    return mc[continent]"
   ]
  },
  {
   "cell_type": "code",
   "execution_count": null,
   "metadata": {
    "collapsed": true
   },
   "outputs": [],
   "source": [
    "m_continental(mc, \"Europe\")"
   ]
  },
  {
   "cell_type": "markdown",
   "metadata": {},
   "source": [
    "### Calcul du PIB"
   ]
  },
  {
   "cell_type": "code",
   "execution_count": null,
   "metadata": {
    "collapsed": true
   },
   "outputs": [],
   "source": [
    "def PIB_continental(cfc, fbcfc, vsc, continents, xc, mc, pop, continent):\n",
    "    \"\"\"dict[str:int]*dict[str:int]*dict[str:int]*list[str]*dict[str:int]*dict[str:int]*dict[str:int]*str->int\"\"\"\n",
    "    cfcu=cf_continental(cfc, continents, pop, continent)\n",
    "    fbcfcu=fbcf_continental(fbcfc, continents, pop, continent)\n",
    "    vscu=vs_continental(vsc, continents, pop, continent)\n",
    "    xu=x_continental(xc, continent)\n",
    "    mu=m_continental(mc, continent)\n",
    "    return cfcu+fbcfcu+vscu+xu-mu"
   ]
  },
  {
   "cell_type": "code",
   "execution_count": null,
   "metadata": {
    "collapsed": true
   },
   "outputs": [],
   "source": [
    "PIB_continental(cfc, fbcfc, vsc, continents, xc, mc, pop, \"Europe\")"
   ]
  },
  {
   "cell_type": "code",
   "execution_count": null,
   "metadata": {
    "collapsed": true
   },
   "outputs": [],
   "source": [
    "def PIB_6continents(cfc, fbcfc, vsc, continents, xc, mc, pop):\n",
    "    \"\"\"dict[str:int]*dict[str:int]*dict[str:int]*list[str]*dict[str:int]*dict[str:int]*dict[str:int]->dict[str:int]\"\"\"\n",
    "    D=dict()\n",
    "    for i in continents:\n",
    "        D[i]=PIB_continental(cfc, fbcfc, vsc, continents, xc, mc, pop, i)\n",
    "    return D"
   ]
  },
  {
   "cell_type": "code",
   "execution_count": null,
   "metadata": {
    "collapsed": true
   },
   "outputs": [],
   "source": [
    "PIB_6continents(cfc, fbcfc, vsc, continents, xc, mc, pop)"
   ]
  },
  {
   "cell_type": "markdown",
   "metadata": {},
   "source": [
    "### Evolution PIB"
   ]
  },
  {
   "cell_type": "code",
   "execution_count": null,
   "metadata": {
    "collapsed": true
   },
   "outputs": [],
   "source": [
    "def evolution_PIB(a,n1,m1,probleme1,fixe1,n2,m2,probleme2,fixe2,n3,m3,probleme3,fixe3,n4,m4,probleme4,fixe4,n5,m5,\n",
    "                  probleme5,fixe5,n6,m6,probleme6,fixe6,cfc,fbcfc,vsc,continents,xc,mc):\n",
    "    D={\"Europe\":[],\"Amérique du Nord\":[],\"Asie\":[],\"Afrique\":[],\"Amérique du Sud\":[],\"Océanie\":[]}\n",
    "    for i in range(0,a+1):\n",
    "        popu=dict()\n",
    "        popu[\"Europe\"]=population1(i,n1,m1,probleme1,fixe1)[\"Europe\"][0]\n",
    "        popu[\"Amérique du Nord\"]=population2(i,n2,m2,probleme2,fixe2)[\"Amérique du Nord\"][0]\n",
    "        popu[\"Asie\"]=population3(i,n3,m3,probleme3,fixe3)[\"Asie\"][0]\n",
    "        popu[\"Afrique\"]=population4(i,n4,m4,probleme4,fixe4)[\"Afrique\"][0]\n",
    "        popu[\"Amérique du Sud\"]=population5(i,n5,m5,probleme5,fixe5)[\"Amérique du Sud\"][0]\n",
    "        popu[\"Océanie\"]=population6(i,n6,m6,probleme6,fixe6)[\"Océanie\"][0]\n",
    "        for k in continents:\n",
    "            D[k].append(PIB_continental(cfc, fbcfc, vsc, continents, xc, mc, popu, k))\n",
    "    return D"
   ]
  },
  {
   "cell_type": "code",
   "execution_count": null,
   "metadata": {
    "collapsed": true
   },
   "outputs": [],
   "source": [
    "evolution_PIB(10,33,32,False,False,16,50,False,True,42,12,False,False,19,13,False,False,8,19,False,True,12,8,False,False,cfc,fbcfc,vsc,continents,xc,mc)"
   ]
  },
  {
   "cell_type": "code",
   "execution_count": null,
   "metadata": {
    "collapsed": true
   },
   "outputs": [],
   "source": [
    "L_annee=[i for i in range(2017,2117)]\n",
    "\n",
    "def plot_PIB_continental(L1,L2,L3,L4,L5,L6):\n",
    "    plt.figure()\n",
    "    plt.plot(L_annee,L1)\n",
    "    plt.plot(L_annee,L2)\n",
    "    plt.plot(L_annee,L3)\n",
    "    plt.plot(L_annee,L4)\n",
    "    plt.plot(L_annee,L5)\n",
    "    plt.plot(L_annee,L6)\n",
    "    plt.legend([continent for continent in continents])\n",
    "    plt.xlabel(\"Année\")\n",
    "    plt.ylabel(\"PIB\")\n",
    "    plt.show()\n",
    "    return"
   ]
  },
  {
   "cell_type": "code",
   "execution_count": null,
   "metadata": {
    "collapsed": true
   },
   "outputs": [],
   "source": [
    "PIB=evolution_PIB(99,33,32,False,False,16,50,False,True,42,12,False,False,19,13,False,False,8,19,False,True,12,8,False,False,cfc,fbcfc,vsc,continents,xc,mc)\n",
    "L1=PIB[\"Europe\"]\n",
    "L2=PIB[\"Amérique du Nord\"]\n",
    "L3=PIB[\"Asie\"]\n",
    "L4=PIB[\"Afrique\"]\n",
    "L5=PIB[\"Amérique du Sud\"]\n",
    "L6=PIB[\"Océanie\"]"
   ]
  },
  {
   "cell_type": "code",
   "execution_count": null,
   "metadata": {
    "collapsed": true
   },
   "outputs": [],
   "source": [
    "plot_PIB_continental(L1,L2,L3,L4,L5,L6)"
   ]
  },
  {
   "cell_type": "code",
   "execution_count": null,
   "metadata": {
    "collapsed": true
   },
   "outputs": [],
   "source": [
    "def evolution_PIB_mondial(a,n1,m1,probleme1,fixe1,n2,m2,probleme2,fixe2,n3,m3,probleme3,fixe3,n4,m4,probleme4,fixe4,n5,m5,\n",
    "                  probleme5,fixe5,n6,m6,probleme6,fixe6,cfc,fbcfc,vsc,continents,xc,mc):\n",
    "    L=[]\n",
    "    for i in range(0,a+1):\n",
    "        s=0\n",
    "        for j in continents:\n",
    "            s=s+evolution_PIB(a,n1,m1,probleme1,fixe1,n2,m2,probleme2,fixe2,n3,m3,probleme3,fixe3,n4,m4,probleme4,fixe4,n5,m5,\n",
    "                  probleme5,fixe5,n6,m6,probleme6,fixe6,cfc,fbcfc,vsc,continents,xc,mc)[j][i]\n",
    "        L.append(s)\n",
    "    return L"
   ]
  },
  {
   "cell_type": "code",
   "execution_count": null,
   "metadata": {
    "collapsed": true
   },
   "outputs": [],
   "source": [
    "evolution_PIB_mondial(10,33,32,False,False,16,50,False,True,42,12,False,False,19,13,False,False,8,19,False,True,12,8,False,False,cfc,fbcfc,vsc,continents,xc,mc)"
   ]
  },
  {
   "cell_type": "code",
   "execution_count": null,
   "metadata": {
    "collapsed": true
   },
   "outputs": [],
   "source": [
    "def plot_PIB_mondial(L):\n",
    "    plt.figure()\n",
    "    plt.plot(L_annee,L)\n",
    "    plt.xlabel(\"Année\")\n",
    "    plt.ylabel(\"PIB\")\n",
    "    plt.show()\n",
    "    return"
   ]
  },
  {
   "cell_type": "code",
   "execution_count": null,
   "metadata": {
    "collapsed": true
   },
   "outputs": [],
   "source": [
    "L=evolution_PIB_mondial(99,33,32,False,False,16,50,False,True,42,12,False,False,19,13,False,False,8,19,False,True,12,8,False,False,cfc,fbcfc,vsc,continents,xc,mc)"
   ]
  },
  {
   "cell_type": "code",
   "execution_count": null,
   "metadata": {
    "collapsed": true
   },
   "outputs": [],
   "source": [
    "plot_PIB_mondial(L)"
   ]
  },
  {
   "cell_type": "code",
   "execution_count": null,
   "metadata": {
    "collapsed": true
   },
   "outputs": [],
   "source": [
    "evolution_PIB_mondial(33,33,32,False,False,16,50,False,True,42,12,False,False,19,13,False,False,8,19,False,True,12,8,False,False,cfc,fbcfc,vsc,continents,xc,mc)[33]"
   ]
  },
  {
   "cell_type": "code",
   "execution_count": null,
   "metadata": {
    "collapsed": true
   },
   "outputs": [],
   "source": [
    "evolution_PIB_mondial(83,33,32,False,False,16,50,False,True,42,12,False,False,19,13,False,False,8,19,False,True,12,8,False,False,cfc,fbcfc,vsc,continents,xc,mc)[83]"
   ]
  },
  {
   "cell_type": "markdown",
   "metadata": {
    "collapsed": true
   },
   "source": [
    "## III) TEP (Thanh)"
   ]
  },
  {
   "cell_type": "markdown",
   "metadata": {},
   "source": [
    "## IV) CO2 (Tahar)##"
   ]
  },
  {
   "cell_type": "code",
   "execution_count": 3,
   "metadata": {},
   "outputs": [],
   "source": [
    "import pandas as pd\n",
    "import matplotlib.pyplot as plt\n",
    "import numpy as np\n",
    "from scipy import stats\n",
    "\n",
    "pd.read_csv('CO2_DATA2.csv', sep=' ')\n",
    "co2_data = pd.read_csv('CO2_DATA2.csv', sep=' ')"
   ]
  },
  {
   "cell_type": "code",
   "execution_count": 4,
   "metadata": {},
   "outputs": [
    {
     "name": "stdout",
     "output_type": "stream",
     "text": [
      "9.05008\n",
      "21.28784000000001\n",
      "{1959: 9.05008, 1960: 5.93568, 1961: 9.08672, 1962: 6.7783999999999995, 1963: 8.75696, 1964: 5.569280000000001, 1965: 10.369119999999999, 1966: 7.437920000000002, 1967: 6.668480000000001, 1968: 4.543359999999998, 1969: 12.2744, 1970: 13.30032, 1971: 6.265440000000002, 1972: 11.065279999999998, 1973: 9.01344, 1974: 0.10992000000000246, 1975: 6.228799999999996, 1976: 5.239519999999999, 1977: 10.662239999999999, 1978: 5.605920000000001, 1979: 12.860640000000004, 1980: 14.655999999999999, 1981: 6.924959999999999, 1982: 10.58896, 1983: 14.802560000000001, 1984: 6.521919999999998, 1985: 7.8409599999999955, 1986: 10.112640000000003, 1987: 17.36736, 1988: 12.054560000000002, 1989: 7.1448, 1990: 11.724799999999998, 1991: 12.640799999999997, 1992: 11.1752, 1993: 8.317279999999997, 1994: 14.69264, 1995: 14.17968, 1996: 9.08672, 1997: 12.4576, 1998: 14.839200000000002, 1999: 7.98752, 2000: 7.840959999999999, 2001: 14.509439999999998, 2002: 19.71232, 2003: 15.095680000000002, 2004: 11.871360000000003, 2005: 18.64976, 2006: 14.61936, 2007: 15.022399999999998, 2008: 13.556799999999996, 2009: 17.9536, 2010: 19.345920000000003, 2011: 16.52464, 2012: 24.145760000000003, 2013: 20.37184, 2014: 18.539839999999998, 2015: 26.673919999999995, 2016: 21.28784000000001, 2017: 18.210079999999998}\n"
     ]
    },
    {
     "data": {
      "image/png": "[encoded data removed]",
      "text/plain": [
       "<Figure size 432x288 with 1 Axes>"
      ]
     },
     "metadata": {},
     "output_type": "display_data"
    }
   ],
   "source": [
    "emissions = [float(j.replace(\",\", \".\"))*3.664 for j in [i for i in co2_data['Em']]]\n",
    "land_use = [float(j.replace(\",\", \".\"))*3.664 for j in [i for i in co2_data['land-use']]]\n",
    "Année = [int(i) for i in co2_data['Year']]\n",
    "ocean_sink = [float(j.replace(\",\", \".\"))*3.664 for j in [i for i in co2_data['oc']]]\n",
    "land_sink = [float(j.replace(\",\", \".\"))*3.664 for j in [i for i in co2_data['land']]]\n",
    "\n",
    "print(emissions[0] + land_use[0] - (ocean_sink[0] + land_sink[0]))\n",
    "print(emissions[57] + land_use[57] - (ocean_sink[57] + land_sink[57]))\n",
    "\n",
    "def calcul_co2_y(Le,Lu,L_oc,L_land,list_y):\n",
    "    \n",
    "    D = {}\n",
    "    \n",
    "    for i in range(0,len(Le)):\n",
    "        Co2 = (Le[i] + Lu[i] - (L_oc[i] + L_land[i]))\n",
    "        D[list_y[i]] = Co2\n",
    "       \n",
    "    list_Co2 = [i for i in D.values()]\n",
    "    \n",
    "    plt.plot(list_y , list_Co2)\n",
    "    plt.xlabel('Année')\n",
    "    plt.ylabel('Co2 émis en milliards de tonnes')\n",
    "    \n",
    "    return D\n",
    "\n",
    "print(calcul_co2_y(emissions,land_use,ocean_sink,land_sink,Année))"
   ]
  },
  {
   "cell_type": "code",
   "execution_count": 5,
   "metadata": {},
   "outputs": [],
   "source": [
    "def predict_em(slope, intercept, x):\n",
    "    \n",
    "    return slope*np.asarray(x) + intercept\n",
    "\n",
    "def graph_em():\n",
    "    \n",
    "    X = Année\n",
    "    Y = emissions\n",
    "    \n",
    "    axes = plt.axes()\n",
    "    axes.grid()\n",
    "    plt.title('Approximation du parametre Emissions')\n",
    "    plt.xlabel('Année')\n",
    "    plt.ylabel('Emissions de Co2 en Mt')\n",
    "    plt.scatter(X,Y)\n",
    "    slope, intercept, r_value, p_value, std_err = stats.linregress(X, Y)\n",
    "    plt.plot(X, predict_em(slope, intercept, X), c='r')\n",
    "    plt.show()  "
   ]
  },
  {
   "cell_type": "code",
   "execution_count": 6,
   "metadata": {},
   "outputs": [
    {
     "data": {
      "image/png": "[encoded data removed]",
      "text/plain": [
       "<Figure size 432x288 with 1 Axes>"
      ]
     },
     "metadata": {},
     "output_type": "display_data"
    }
   ],
   "source": [
    "graph_em()"
   ]
  },
  {
   "cell_type": "code",
   "execution_count": 7,
   "metadata": {},
   "outputs": [],
   "source": [
    "def predict_land_u(slope, intercept, x):\n",
    "    \n",
    "    return slope*np.asarray(x) + intercept\n",
    "\n",
    "def graph_land_u():\n",
    "    \n",
    "    X = Année\n",
    "    Y = land_use\n",
    "    \n",
    "    axes = plt.axes()\n",
    "    axes.grid()\n",
    "    plt.title('Approximation du parametre land-use')\n",
    "    plt.xlabel('Année')\n",
    "    plt.ylabel('Utilisations Terres en Mt de Carbone')\n",
    "    plt.scatter(X,Y)\n",
    "    slope, intercept, r_value, p_value, std_err = stats.linregress(X, Y)\n",
    "    plt.plot(X, predict_land_u(slope, intercept, X), c='r')\n",
    "    plt.show()"
   ]
  },
  {
   "cell_type": "code",
   "execution_count": 8,
   "metadata": {},
   "outputs": [
    {
     "data": {
      "image/png": "[encoded data removed]",
      "text/plain": [
       "<Figure size 432x288 with 1 Axes>"
      ]
     },
     "metadata": {},
     "output_type": "display_data"
    }
   ],
   "source": [
    "graph_land_u()"
   ]
  },
  {
   "cell_type": "code",
   "execution_count": 9,
   "metadata": {},
   "outputs": [],
   "source": [
    "def predict_oc(slope, intercept, x):\n",
    "    \n",
    "    return slope*np.asarray(x) + intercept\n",
    "\n",
    "def graph_oc():\n",
    "    \n",
    "    X = Année\n",
    "    Y = ocean_sink\n",
    "    \n",
    "    axes = plt.axes()\n",
    "    axes.grid()\n",
    "    plt.title('Approximation du parametre ocean_sink')\n",
    "    plt.xlabel('Année')\n",
    "    plt.ylabel('Absoption en Mt de carbone')\n",
    "    plt.scatter(X,Y)\n",
    "    slope, intercept, r_value, p_value, std_err = stats.linregress(X, Y)\n",
    "    plt.plot(X, predict_oc(slope, intercept, X), c='r')\n",
    "    plt.show()"
   ]
  },
  {
   "cell_type": "code",
   "execution_count": 10,
   "metadata": {},
   "outputs": [
    {
     "data": {
      "image/png": "[encoded data removed]",
      "text/plain": [
       "<Figure size 432x288 with 1 Axes>"
      ]
     },
     "metadata": {},
     "output_type": "display_data"
    }
   ],
   "source": [
    "graph_oc()"
   ]
  },
  {
   "cell_type": "code",
   "execution_count": 11,
   "metadata": {},
   "outputs": [],
   "source": [
    "def predict_land_s(slope, intercept, x):\n",
    "    \n",
    "    return slope*np.asarray(x) + intercept\n",
    "\n",
    "def graph_land_s():\n",
    "    \n",
    "    X = Année\n",
    "    Y = land_sink \n",
    "    \n",
    "    axes = plt.axes()\n",
    "    axes.grid()\n",
    "    plt.title('Approximation du parametre land_sink ')\n",
    "    plt.xlabel('Année')\n",
    "    plt.ylabel('Absoption en Mt de carbone')\n",
    "    plt.scatter(X,Y)\n",
    "    slope, intercept, r_value, p_value, std_err = stats.linregress(X, Y)\n",
    "    plt.plot(X, predict_land_s(slope, intercept, X), c='r')\n",
    "    plt.show()"
   ]
  },
  {
   "cell_type": "code",
   "execution_count": 12,
   "metadata": {},
   "outputs": [
    {
     "data": {
      "image/png": "[encoded data removed]",
      "text/plain": [
       "<Figure size 432x288 with 1 Axes>"
      ]
     },
     "metadata": {},
     "output_type": "display_data"
    }
   ],
   "source": [
    "graph_land_s()"
   ]
  },
  {
   "cell_type": "code",
   "execution_count": 13,
   "metadata": {},
   "outputs": [],
   "source": [
    "def predict_em(year):\n",
    "    \n",
    "    X = Année \n",
    "    Y = emissions    \n",
    "    slope, intercept, r_value, p_value, std_err = stats.linregress(X, Y)\n",
    "    \n",
    "    return slope*year + intercept\n",
    "\n",
    "def predict_land_u(year):\n",
    "    \n",
    "    X = Année \n",
    "    Y = land_use    \n",
    "    slope, intercept, r_value, p_value, std_err = stats.linregress(X, Y)\n",
    "    \n",
    "    return slope*year + intercept\n",
    "\n",
    "def predict_oc(year):\n",
    "    \n",
    "    X = Année \n",
    "    Y = ocean_sink  \n",
    "    slope, intercept, r_value, p_value, std_err = stats.linregress(X, Y)\n",
    "    \n",
    "    return slope*year + intercept\n",
    "\n",
    "def predict_land_s(year):\n",
    "    \n",
    "    X = Année\n",
    "    Y = land_sink     \n",
    "    slope, intercept, r_value, p_value, std_err = stats.linregress(X, Y)\n",
    "    \n",
    "    return slope*year + intercept\n",
    "\n",
    "\n",
    "\n",
    "def list_final(annee_final):\n",
    "    \n",
    "    X_Annee = [i for i in range(1959,annee_final)]\n",
    "    Y_final = []\n",
    "    \n",
    "    for i in X_Annee:\n",
    "        Y_final.append(predict_em(i) + predict_land_u(i) - predict_oc(i) - predict_land_s(i))\n",
    "        \n",
    "    return Y_final\n",
    "\n",
    "def graph_final(annee_final):\n",
    "    \n",
    "    D = {}\n",
    "    \n",
    "    for i in range(0,len(emissions)):\n",
    "        C = emissions[i] + land_use[i] - (ocean_sink[i] + land_sink[i])\n",
    "        D[Année[i]] = C\n",
    "       \n",
    "    list_C = [i for i in D.values()]\n",
    "    \n",
    "    X_Annee = [i for i in range(1959,annee_final)]\n",
    "    \n",
    "    axes = plt.axes()\n",
    "    axes.grid()\n",
    "    plt.plot(Année , list_C)\n",
    "    plt.xlabel('Année')\n",
    "    plt.ylabel('Co2 émis en milliards de tonnes')\n",
    "    \n",
    "    plt.plot(X_Annee , list_final(annee_final), c='r')\n",
    "    plt.show()\n",
    "    \n",
    "def valeur(annee_final):\n",
    "    \n",
    "    X_Annee = [i for i in range(1959,annee_final)]\n",
    "    D = dict()\n",
    "    \n",
    "    for i in range(0, len(X_Annee)):\n",
    "        \n",
    "        D[X_Annee[i]] = list_final(annee_final)[i]\n",
    "                   \n",
    "    return D"
   ]
  },
  {
   "cell_type": "code",
   "execution_count": 14,
   "metadata": {},
   "outputs": [
    {
     "data": {
      "image/png": "[encoded data removed]",
      "text/plain": [
       "<Figure size 432x288 with 1 Axes>"
      ]
     },
     "metadata": {},
     "output_type": "display_data"
    }
   ],
   "source": [
    "graph_final(2100)"
   ]
  },
  {
   "cell_type": "code",
   "execution_count": 15,
   "metadata": {},
   "outputs": [
    {
     "data": {
      "text/plain": [
       "{1959: 5.318451254237296,\n",
       " 1960: 5.547604367036868,\n",
       " 1961: 5.776757479836357,\n",
       " 1962: 6.0059105926359315,\n",
       " 1963: 6.235063705435419,\n",
       " 1964: 6.464216818234991,\n",
       " 1965: 6.693369931034482,\n",
       " 1966: 6.922523043834055,\n",
       " 1967: 7.151676156633513,\n",
       " 1968: 7.380829269433086,\n",
       " 1969: 7.609982382232602,\n",
       " 1970: 7.839135495032178,\n",
       " 1971: 8.06828860783175,\n",
       " 1972: 8.297441720631209,\n",
       " 1973: 8.526594833430813,\n",
       " 1974: 8.7557479462303,\n",
       " 1975: 8.984901059029873,\n",
       " 1976: 9.214054171829332,\n",
       " 1977: 9.443207284628933,\n",
       " 1978: 9.672360397428395,\n",
       " 1979: 9.901513510227996,\n",
       " 1980: 10.130666623027484,\n",
       " 1981: 10.35981973582706,\n",
       " 1982: 10.588972848626518,\n",
       " 1983: 10.818125961426091,\n",
       " 1984: 11.047279074225607,\n",
       " 1985: 11.276432187025183,\n",
       " 1986: 11.505585299824642,\n",
       " 1987: 11.734738412624214,\n",
       " 1988: 11.963891525423705,\n",
       " 1989: 12.193044638223306,\n",
       " 1990: 12.422197751022765,\n",
       " 1991: 12.651350863822337,\n",
       " 1992: 12.880503976621938,\n",
       " 1993: 13.1096570894214,\n",
       " 1994: 13.338810202221001,\n",
       " 1995: 13.56796331502046,\n",
       " 1996: 13.797116427820065,\n",
       " 1997: 14.026269540619523,\n",
       " 1998: 14.255422653419096,\n",
       " 1999: 14.484575766218583,\n",
       " 2000: 14.713728879018184,\n",
       " 2001: 14.942881991817643,\n",
       " 2002: 15.172035104617223,\n",
       " 2003: 15.401188217416681,\n",
       " 2004: 15.630341330216282,\n",
       " 2005: 15.85949444301577,\n",
       " 2006: 16.088647555815342,\n",
       " 2007: 16.3178006686148,\n",
       " 2008: 16.546953781414402,\n",
       " 2009: 16.77610689421386,\n",
       " 2010: 17.00526000701346,\n",
       " 2011: 17.23441311981304,\n",
       " 2012: 17.46356623261253,\n",
       " 2013: 17.6927193454121,\n",
       " 2014: 17.92187245821156,\n",
       " 2015: 18.15102557101119,\n",
       " 2016: 18.380178683810648,\n",
       " 2017: 18.60933179661022,\n",
       " 2018: 18.838484909409686,\n",
       " 2019: 19.067638022209287,\n",
       " 2020: 19.296791135008775,\n",
       " 2021: 19.525944247808347,\n",
       " 2022: 19.755097360607806,\n",
       " 2023: 19.984250473407407,\n",
       " 2024: 20.213403586206866,\n",
       " 2025: 20.442556699006467,\n",
       " 2026: 20.671709811805925,\n",
       " 2027: 20.900862924605534,\n",
       " 2028: 21.130016037404992,\n",
       " 2029: 21.359169150204565,\n",
       " 2030: 21.588322263004166,\n",
       " 2031: 21.817475375803653,\n",
       " 2032: 22.046628488603226,\n",
       " 2033: 22.275781601402684,\n",
       " 2034: 22.504934714202264,\n",
       " 2035: 22.73408782700175,\n",
       " 2036: 22.963240939801352,\n",
       " 2037: 23.19239405260081,\n",
       " 2038: 23.421547165400384,\n",
       " 2039: 23.65070027819987,\n",
       " 2040: 23.879853390999443,\n",
       " 2041: 24.109006503798938,\n",
       " 2042: 24.33815961659851,\n",
       " 2043: 24.567312729397997,\n",
       " 2044: 24.79646584219757,\n",
       " 2045: 25.02561895499703,\n",
       " 2046: 25.25477206779663,\n",
       " 2047: 25.483925180596117,\n",
       " 2048: 25.71307829339569,\n",
       " 2049: 25.942231406195262}"
      ]
     },
     "execution_count": 15,
     "metadata": {},
     "output_type": "execute_result"
    }
   ],
   "source": [
    "valeur(2050)"
   ]
  },
  {
   "cell_type": "code",
   "execution_count": 16,
   "metadata": {},
   "outputs": [
    {
     "data": {
      "text/plain": [
       "77.10558004441847"
      ]
     },
     "execution_count": 16,
     "metadata": {},
     "output_type": "execute_result"
    }
   ],
   "source": [
    "predict_em(2100) + predict_land_u(2100)"
   ]
  },
  {
   "cell_type": "markdown",
   "metadata": {},
   "source": [
    "## V) Assemblage de tous les paramètres ##"
   ]
  },
  {
   "cell_type": "code",
   "execution_count": null,
   "metadata": {
    "collapsed": true
   },
   "outputs": [],
   "source": []
  }
 ],
 "metadata": {
  "kernelspec": {
   "display_name": "Python 3",
   "language": "python",
   "name": "python3"
  },
  "language_info": {
   "codemirror_mode": {
    "name": "ipython",
    "version": 3
   },
   "file_extension": ".py",
   "mimetype": "text/x-python",
   "name": "python",
   "nbconvert_exporter": "python",
   "pygments_lexer": "ipython3",
   "version": "3.5.3"
  }
 },
 "nbformat": 4,
 "nbformat_minor": 2
}
