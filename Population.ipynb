{
 "cells": [
  {
   "cell_type": "markdown",
   "metadata": {},
   "source": [
    "## Population (Catherine)##"
   ]
  },
  {
   "cell_type": "code",
   "execution_count": 88,
   "metadata": {},
   "outputs": [],
   "source": [
    "%matplotlib inline     \n",
    "# ^Sans animations\n",
    "# %matplotlib notebook \n",
    "# ^Avec animations\n",
    "import numpy as np\n",
    "import matplotlib.pyplot as plt\n",
    "from matplotlib import animation\n",
    "import math"
   ]
  },
  {
   "cell_type": "markdown",
   "metadata": {},
   "source": [
    "**Paramètres :**\n",
    "\n",
    "Taux de natalité\n",
    "\n",
    "Taux de mortalité\n",
    "\n",
    "Espérance de vie\n",
    "\n",
    "Nombre d'enfants possible\n",
    "\n",
    "Condition de vie lié à l'espérance de vie (riche ou pauvre)"
   ]
  },
  {
   "cell_type": "markdown",
   "metadata": {},
   "source": [
    "   "
   ]
  },
  {
   "cell_type": "markdown",
   "metadata": {},
   "source": [
    "On veut entrer le nom d'un continent et savoir la population de l'année suivante, en prenant en compte si le pays est riche ou pauvre, ce qui fait découler le taux de natalité et mortalité ainsi que l'espérance de vie, lié aux condition de vie donc si le pays est riche ou pauvre.\n"
   ]
  },
  {
   "cell_type": "code",
   "execution_count": 272,
   "metadata": {},
   "outputs": [],
   "source": [
    "continents=[\"Europe\", \"Amérique du Nord\",\"Asie\", \"Afrique\", \"Amérique du Sud\", \"Océanie\"]\n",
    "pop={\"Europe\":742074000,\"Amérique du Nord\":361208000,\"Asie\":4504428000,\"Afrique\":1256268000, \n",
    "            \"Amérique du Sud\":645593000,\"Océanie\":40691000}\n"
   ]
  },
  {
   "cell_type": "code",
   "execution_count": 273,
   "metadata": {},
   "outputs": [],
   "source": [
    "#calcul de k, cas où population varie de son taux de croissance normal\n",
    "def k(n,m):\n",
    "    \"\"\"int^2->float\n",
    "    n: nombre de naissances, m: nombre de décès\"\"\"\n",
    "    \n",
    "    k=(n-m)/100\n",
    "    \n",
    "    return k"
   ]
  },
  {
   "cell_type": "code",
   "execution_count": 282,
   "metadata": {},
   "outputs": [],
   "source": [
    "pop={\"Europe\":742074000,\"Amérique du Nord\":361208000,\"Asie\":4504428000,\"Afrique\":1256268000, \n",
    "            \"Amérique du Sud\":645593000,\"Océanie\":40691000}\n",
    "\n",
    "#ici k est constant mais on peut le faire varier au cours des années\n",
    "\n",
    "def population(continent,probleme,n,m,t,pop):\n",
    "    \"\"\"str*bool*int*int*int*dict[str:int]->Number\"\"\"\n",
    "    \n",
    "    popr=dict()\n",
    "\n",
    "    if continent==\"Asie\":\n",
    "        if probleme:\n",
    "            popr[continent]=round(pop[\"Asie\"]*math.exp(k(n,m)*t))\n",
    "        else : \n",
    "            popr[continent]=round(pop[\"Asie\"]*math.exp(0.0085*t))\n",
    "            \n",
    "    if continent==\"Europe\":\n",
    "        if probleme:\n",
    "            popr[continent]=round(pop1[\"Europe\"]*math.exp(k(n,m)*t))\n",
    "        else : \n",
    "            popr[continent]=round(pop1[\"Europe\"]*math.exp(0.0005*t))\n",
    "            \n",
    "    if continent==\"Amérique du Nord\":\n",
    "        if probleme:\n",
    "            popr[continent]=round(pop1[\"Amérique du Nord\"]*math.exp(k(n,m)*t))\n",
    "        else : \n",
    "            popr[continent]=round(pop1[\"Amérique du Nord\"]*math.exp(0.0073*t))\n",
    "            \n",
    "    if continent==\"Afrique\":\n",
    "        if probleme:\n",
    "            popr[continent]=round(pop1[\"Afrique\"]*math.exp(k(n,m)*t))\n",
    "        else : \n",
    "            popr[continent]=round(pop1[\"Afrique\"]*math.exp(0.0245*t))\n",
    "            \n",
    "    if continent==\"Amérique du Sud\":\n",
    "        if probleme:\n",
    "            popr[continent]=round(pop1[\"Amérique du Sud\"]*math.exp(k(n,m)*t))\n",
    "        else : \n",
    "            popr[continent]=round(pop1[\"Amérique du Sud\"]*math.exp(0.0095*t))\n",
    "            \n",
    "    if continent==\"Océanie\":\n",
    "        if probleme:\n",
    "            popr[continent]=round(pop1[\"Océanie\"]*math.exp(k(n,m)*t))\n",
    "        else : \n",
    "            popr[continent]=round(pop1[\"Océanie\"]*math.exp(0.0134*t))\n",
    "    return popr[continent]"
   ]
  },
  {
   "cell_type": "code",
   "execution_count": 283,
   "metadata": {
    "scrolled": false
   },
   "outputs": [
    {
     "data": {
      "text/plain": [
       "1378"
      ]
     },
     "execution_count": 283,
     "metadata": {},
     "output_type": "execute_result"
    }
   ],
   "source": [
    "population(\"Asie\",True,10,40,50,pop)"
   ]
  },
  {
   "cell_type": "code",
   "execution_count": 304,
   "metadata": {},
   "outputs": [],
   "source": [
    "pop={\"Europe\":742074000,\"Amérique du Nord\":361208000,\"Asie\":4504428000,\"Afrique\":1256268000, \n",
    "            \"Amérique du Sud\":645593000,\"Océanie\":40691000}\n",
    "\n",
    "def evolution_pop(a,pop,probleme,n,m):\n",
    "    \"\"\"int*dict[str:int]*bool*int*int->dict[str:list[int]]\"\"\"\n",
    "    \n",
    "    DR=dict()\n",
    "    LR=list()\n",
    "    \n",
    "    for continent in continents:\n",
    "        DR.add(continent)\n",
    "        for t in range(a):\n",
    "            DR[continent].add(population(continent,probleme,n,m,t,pop))\n",
    "            \n",
    "    return DR"
   ]
  },
  {
   "cell_type": "code",
   "execution_count": 305,
   "metadata": {},
   "outputs": [
    {
     "ename": "AttributeError",
     "evalue": "'dict' object has no attribute 'add'",
     "output_type": "error",
     "traceback": [
      "\u001b[0;31m---------------------------------------------------------------------------\u001b[0m",
      "\u001b[0;31mAttributeError\u001b[0m                            Traceback (most recent call last)",
      "\u001b[0;32m<ipython-input-305-5568d282cbde>\u001b[0m in \u001b[0;36m<module>\u001b[0;34m()\u001b[0m\n\u001b[0;32m----> 1\u001b[0;31m \u001b[0mevolution_pop\u001b[0m\u001b[0;34m(\u001b[0m\u001b[0;36m10\u001b[0m\u001b[0;34m,\u001b[0m\u001b[0mpop\u001b[0m\u001b[0;34m,\u001b[0m\u001b[0;32mFalse\u001b[0m\u001b[0;34m,\u001b[0m\u001b[0;36m30\u001b[0m\u001b[0;34m,\u001b[0m\u001b[0;36m40\u001b[0m\u001b[0;34m)\u001b[0m\u001b[0;34m\u001b[0m\u001b[0m\n\u001b[0m",
      "\u001b[0;32m<ipython-input-304-5a353df3c6b6>\u001b[0m in \u001b[0;36mevolution_pop\u001b[0;34m(a, pop, probleme, n, m)\u001b[0m\n\u001b[1;32m      9\u001b[0m \u001b[0;34m\u001b[0m\u001b[0m\n\u001b[1;32m     10\u001b[0m     \u001b[0;32mfor\u001b[0m \u001b[0mcontinent\u001b[0m \u001b[0;32min\u001b[0m \u001b[0mcontinents\u001b[0m\u001b[0;34m:\u001b[0m\u001b[0;34m\u001b[0m\u001b[0m\n\u001b[0;32m---> 11\u001b[0;31m         \u001b[0mDR\u001b[0m\u001b[0;34m.\u001b[0m\u001b[0madd\u001b[0m\u001b[0;34m(\u001b[0m\u001b[0mcontinent\u001b[0m\u001b[0;34m)\u001b[0m\u001b[0;34m\u001b[0m\u001b[0m\n\u001b[0m\u001b[1;32m     12\u001b[0m         \u001b[0;32mfor\u001b[0m \u001b[0mt\u001b[0m \u001b[0;32min\u001b[0m \u001b[0mrange\u001b[0m\u001b[0;34m(\u001b[0m\u001b[0ma\u001b[0m\u001b[0;34m)\u001b[0m\u001b[0;34m:\u001b[0m\u001b[0;34m\u001b[0m\u001b[0m\n\u001b[1;32m     13\u001b[0m             \u001b[0mDR\u001b[0m\u001b[0;34m[\u001b[0m\u001b[0mcontinent\u001b[0m\u001b[0;34m]\u001b[0m\u001b[0;34m.\u001b[0m\u001b[0madd\u001b[0m\u001b[0;34m(\u001b[0m\u001b[0mpopulation\u001b[0m\u001b[0;34m(\u001b[0m\u001b[0mcontinent\u001b[0m\u001b[0;34m,\u001b[0m\u001b[0mprobleme\u001b[0m\u001b[0;34m,\u001b[0m\u001b[0mn\u001b[0m\u001b[0;34m,\u001b[0m\u001b[0mm\u001b[0m\u001b[0;34m,\u001b[0m\u001b[0mt\u001b[0m\u001b[0;34m,\u001b[0m\u001b[0mpop\u001b[0m\u001b[0;34m)\u001b[0m\u001b[0;34m)\u001b[0m\u001b[0;34m\u001b[0m\u001b[0m\n",
      "\u001b[0;31mAttributeError\u001b[0m: 'dict' object has no attribute 'add'"
     ]
    }
   ],
   "source": [
    "evolution_pop(10,pop,False,30,40)"
   ]
  },
  {
   "cell_type": "code",
   "execution_count": 185,
   "metadata": {},
   "outputs": [
    {
     "ename": "NameError",
     "evalue": "name 'population_n_generations' is not defined",
     "output_type": "error",
     "traceback": [
      "\u001b[0;31m---------------------------------------------------------------------------\u001b[0m",
      "\u001b[0;31mNameError\u001b[0m                                 Traceback (most recent call last)",
      "\u001b[0;32m<ipython-input-185-0901eefe6a04>\u001b[0m in \u001b[0;36m<module>\u001b[0;34m()\u001b[0m\n\u001b[1;32m     12\u001b[0m \u001b[0;34m\u001b[0m\u001b[0m\n\u001b[1;32m     13\u001b[0m \u001b[0;34m\u001b[0m\u001b[0m\n\u001b[0;32m---> 14\u001b[0;31m \u001b[0mL\u001b[0m\u001b[0;34m=\u001b[0m\u001b[0mpopulation_n_generations\u001b[0m\u001b[0;34m(\u001b[0m\u001b[0mZ0\u001b[0m\u001b[0;34m,\u001b[0m\u001b[0mp\u001b[0m\u001b[0;34m,\u001b[0m\u001b[0mn\u001b[0m\u001b[0;34m)\u001b[0m\u001b[0;34m\u001b[0m\u001b[0m\n\u001b[0m\u001b[1;32m     15\u001b[0m \u001b[0mplot_population\u001b[0m\u001b[0;34m(\u001b[0m\u001b[0mL\u001b[0m\u001b[0;34m)\u001b[0m\u001b[0;34m\u001b[0m\u001b[0m\n",
      "\u001b[0;31mNameError\u001b[0m: name 'population_n_generations' is not defined"
     ]
    }
   ],
   "source": [
    "def plot_population(L):\n",
    "    '''\n",
    "    ??-> None\n",
    "    Visualise the evolution of the population in 'L'\n",
    "    '''\n",
    "    plt.figure()\n",
    "    plt.plot(L)\n",
    "    plt.ylabel(\"Taille Population\")\n",
    "    plt.xlabel(\"Génération\")\n",
    "    plt.show()\n",
    "    return\n",
    "\n",
    "    \n",
    "L=population_n_generations(Z0,p,n)\n",
    "plot_population(L)"
   ]
  },
  {
   "cell_type": "code",
   "execution_count": null,
   "metadata": {},
   "outputs": [],
   "source": []
  }
 ],
 "metadata": {
  "kernelspec": {
   "display_name": "Python 3",
   "language": "python",
   "name": "python3"
  },
  "language_info": {
   "codemirror_mode": {
    "name": "ipython",
    "version": 3
   },
   "file_extension": ".py",
   "mimetype": "text/x-python",
   "name": "python",
   "nbconvert_exporter": "python",
   "pygments_lexer": "ipython3",
   "version": "3.5.3"
  }
 },
 "nbformat": 4,
 "nbformat_minor": 2
}
