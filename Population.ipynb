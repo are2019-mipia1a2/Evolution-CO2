{
 "cells": [
  {
   "cell_type": "markdown",
   "metadata": {},
   "source": [
    "## Population (Catherine)##"
   ]
  },
  {
   "cell_type": "code",
   "execution_count": 202,
   "metadata": {
    "collapsed": true
   },
   "outputs": [],
   "source": [
    "%matplotlib inline     \n",
    "# ^Sans animations\n",
    "# %matplotlib notebook \n",
    "# ^Avec animations\n",
    "import numpy as np\n",
    "import matplotlib.pyplot as plt\n",
    "from matplotlib import animation\n",
    "import math\n",
    "import random"
   ]
  },
  {
   "cell_type": "markdown",
   "metadata": {},
   "source": [
    "   "
   ]
  },
  {
   "cell_type": "markdown",
   "metadata": {},
   "source": [
    "On veut entrer le nom d'un continent et savoir la population de l'année suivante, en prenant en compte si le pays est riche ou pauvre, ce qui fait découler le taux de natalité et mortalité ainsi que l'espérance de vie, lié aux condition de vie donc si le pays est riche ou pauvre.\n"
   ]
  },
  {
   "cell_type": "code",
   "execution_count": 203,
   "metadata": {
    "collapsed": true
   },
   "outputs": [],
   "source": [
    "continents=[\"Europe\", \"Amérique du Nord\",\"Asie\", \"Afrique\", \"Amérique du Sud\", \"Océanie\"]\n",
    "pop={\"Europe\":742074000,\"Amérique du Nord\":361208000,\"Asie\":4504428000,\"Afrique\":1256268000, \n",
    "            \"Amérique du Sud\":645593000,\"Océanie\":40691000}\n"
   ]
  },
  {
   "cell_type": "code",
   "execution_count": 204,
   "metadata": {
    "collapsed": true
   },
   "outputs": [],
   "source": [
    "#calcul de k, cas où population varie de son taux de croissance normal\n",
    "def k(n,m,fixe):\n",
    "    \"\"\"int^2*bool->float\n",
    "    n: nombre de naissances, m: nombre de décès\"\"\"\n",
    "    \n",
    "    u=random.random()\n",
    "    \n",
    "    if fixe : \n",
    "        k=(n-m)/100\n",
    "    else :\n",
    "        k=(n-m)*u/100\n",
    "    \n",
    "    return k"
   ]
  },
  {
   "cell_type": "code",
   "execution_count": 205,
   "metadata": {},
   "outputs": [
    {
     "data": {
      "text/plain": [
       "0.06361599801824722"
      ]
     },
     "execution_count": 205,
     "metadata": {},
     "output_type": "execute_result"
    }
   ],
   "source": [
    "k(50,40,False)"
   ]
  },
  {
   "cell_type": "code",
   "execution_count": 206,
   "metadata": {
    "collapsed": true
   },
   "outputs": [],
   "source": [
    "pop={\"Europe\":742074000,\"Amérique du Nord\":361208000,\"Asie\":4504428000,\"Afrique\":1256268000, \n",
    "            \"Amérique du Sud\":645593000,\"Océanie\":40691000}\n",
    "\n",
    "def population(continent,probleme,n,m,t,fixe,pop):\n",
    "    \"\"\"str*bool*int*int*int*bool*dict[str:int]->Number\"\"\"\n",
    "    \n",
    "    popr=dict()\n",
    "\n",
    "    if continent==\"Asie\":\n",
    "        if probleme:\n",
    "            popr[continent]=round(pop[\"Asie\"]*math.exp(k(n,m,fixe)*t))\n",
    "        else : \n",
    "            popr[continent]=round(pop[\"Asie\"]*math.exp(0.0085*t))\n",
    "            \n",
    "    if continent==\"Europe\":\n",
    "        if probleme:\n",
    "            popr[continent]=round(pop[\"Europe\"]*math.exp(k(n,m,fixe)*t))\n",
    "        else : \n",
    "            popr[continent]=round(pop[\"Europe\"]*math.exp(0.0005*t))\n",
    "            \n",
    "    if continent==\"Amérique du Nord\":\n",
    "        if probleme:\n",
    "            popr[continent]=round(pop[\"Amérique du Nord\"]*math.exp(k(n,m,fixe)*t))\n",
    "        else : \n",
    "            popr[continent]=round(pop[\"Amérique du Nord\"]*math.exp(0.0073*t))\n",
    "            \n",
    "    if continent==\"Afrique\":\n",
    "        if probleme:\n",
    "            popr[continent]=round(pop[\"Afrique\"]*math.exp(k(n,m,fixe)*t))\n",
    "        else : \n",
    "            popr[continent]=round(pop[\"Afrique\"]*math.exp(0.0245*t))\n",
    "            \n",
    "    if continent==\"Amérique du Sud\":\n",
    "        if probleme:\n",
    "            popr[continent]=round(pop[\"Amérique du Sud\"]*math.exp(k(n,m,fixe)*t))\n",
    "        else : \n",
    "            popr[continent]=round(pop[\"Amérique du Sud\"]*math.exp(0.0095*t))\n",
    "            \n",
    "    if continent==\"Océanie\":\n",
    "        if probleme:\n",
    "            popr[continent]=round(pop[\"Océanie\"]*math.exp(k(n,m,fixe)*t))\n",
    "        else : \n",
    "            popr[continent]=round(pop[\"Océanie\"]*math.exp(0.0134*t))\n",
    "    return popr[continent]"
   ]
  },
  {
   "cell_type": "code",
   "execution_count": 207,
   "metadata": {},
   "outputs": [
    {
     "data": {
      "text/plain": [
       "5007938600"
      ]
     },
     "execution_count": 207,
     "metadata": {},
     "output_type": "execute_result"
    }
   ],
   "source": [
    "population(\"Asie\",True,50,40,2,False,pop)"
   ]
  },
  {
   "cell_type": "code",
   "execution_count": 208,
   "metadata": {
    "collapsed": true
   },
   "outputs": [],
   "source": [
    "pop={\"Europe\":742074000,\"Amérique du Nord\":361208000,\"Asie\":4504428000,\"Afrique\":1256268000, \n",
    "            \"Amérique du Sud\":645593000,\"Océanie\":40691000}\n",
    "\n",
    "def evolution_pop(a,pop,probleme,n,m,fixe):\n",
    "    \"\"\"int*dict[str:int]*bool*int*int*bool->dict[str:list[int]]\"\"\"\n",
    "    \n",
    "    DR={\"Europe\":[],\"Amérique du Nord\":[],\"Asie\":[],\"Afrique\":[],\"Amérique du Sud\":[],\"Océanie\":[]}\n",
    "    \n",
    "    for continent in DR:\n",
    "        for t in range(a):\n",
    "            DR[continent].append(population(continent,probleme,n,m,t,fixe,pop))\n",
    "            \n",
    "    return DR"
   ]
  },
  {
   "cell_type": "code",
   "execution_count": 209,
   "metadata": {
    "collapsed": true
   },
   "outputs": [],
   "source": [
    "    Lan=list()\n",
    "    Lasie=list()\n",
    "    Lafrique=list()\n",
    "    Las=list()\n",
    "    Loc=list()"
   ]
  },
  {
   "cell_type": "code",
   "execution_count": null,
   "metadata": {
    "collapsed": true
   },
   "outputs": [],
   "source": [
    "def list_pop(continent,a,probleme,n,m,t,fixe,pop):\n",
    "    \"\"\"\"\"\"\n",
    "\n",
    "    DR={\"Europe\":[],\"Amérique du Nord\":[],\"Asie\":[],\"Afrique\":[],\"Amérique du Sud\":[],\"Océanie\":[]}\n",
    "    \n",
    "    for continent in DR:\n",
    "        for t in range(a):\n",
    "            DR[continent].append(population(continent,probleme,n,m,t,fixe,pop))\n",
    "            \n",
    "    return DR"
   ]
  },
  {
   "cell_type": "code",
   "execution_count": 214,
   "metadata": {
    "collapsed": true
   },
   "outputs": [],
   "source": [
    "def list_pop(continent,a,probleme,n,m,t,fixe,pop):\n",
    "    \"\"\"\"\"\"\n",
    "    M=[]\n",
    "    for t in range(a):\n",
    "        p=population(continent,probleme,n,m,t,fixe,pop)\n",
    "        M.append([p[w] for w in pop])\n",
    "    return M \n",
    "    "
   ]
  },
  {
   "cell_type": "code",
   "execution_count": 215,
   "metadata": {},
   "outputs": [
    {
     "ename": "TypeError",
     "evalue": "'int' object is not subscriptable",
     "output_type": "error",
     "traceback": [
      "\u001b[1;31m---------------------------------------------------------------------------\u001b[0m",
      "\u001b[1;31mTypeError\u001b[0m                                 Traceback (most recent call last)",
      "\u001b[1;32m<ipython-input-215-fdb743d8907e>\u001b[0m in \u001b[0;36m<module>\u001b[1;34m()\u001b[0m\n\u001b[1;32m----> 1\u001b[1;33m \u001b[0mlist_pop\u001b[0m\u001b[1;33m(\u001b[0m\u001b[1;34m\"Asie\"\u001b[0m\u001b[1;33m,\u001b[0m\u001b[1;36m10\u001b[0m\u001b[1;33m,\u001b[0m\u001b[1;32mTrue\u001b[0m\u001b[1;33m,\u001b[0m\u001b[1;36m12\u001b[0m\u001b[1;33m,\u001b[0m\u001b[1;36m16\u001b[0m\u001b[1;33m,\u001b[0m\u001b[1;36m1\u001b[0m\u001b[1;33m,\u001b[0m\u001b[1;32mTrue\u001b[0m\u001b[1;33m,\u001b[0m\u001b[0mpop\u001b[0m\u001b[1;33m)\u001b[0m\u001b[1;33m\u001b[0m\u001b[0m\n\u001b[0m",
      "\u001b[1;32m<ipython-input-214-370622cc519f>\u001b[0m in \u001b[0;36mlist_pop\u001b[1;34m(continent, a, probleme, n, m, t, fixe, pop)\u001b[0m\n\u001b[0;32m      5\u001b[0m     \u001b[1;32mfor\u001b[0m \u001b[0mt\u001b[0m \u001b[1;32min\u001b[0m \u001b[0mrange\u001b[0m\u001b[1;33m(\u001b[0m\u001b[1;36m1\u001b[0m\u001b[1;33m,\u001b[0m\u001b[0ma\u001b[0m\u001b[1;33m)\u001b[0m\u001b[1;33m:\u001b[0m\u001b[1;33m\u001b[0m\u001b[0m\n\u001b[0;32m      6\u001b[0m         \u001b[0mp\u001b[0m\u001b[1;33m=\u001b[0m\u001b[0mpopulation\u001b[0m\u001b[1;33m(\u001b[0m\u001b[0mcontinent\u001b[0m\u001b[1;33m,\u001b[0m\u001b[0mprobleme\u001b[0m\u001b[1;33m,\u001b[0m\u001b[0mn\u001b[0m\u001b[1;33m,\u001b[0m\u001b[0mm\u001b[0m\u001b[1;33m,\u001b[0m\u001b[0mt\u001b[0m\u001b[1;33m,\u001b[0m\u001b[0mfixe\u001b[0m\u001b[1;33m,\u001b[0m\u001b[0mpop\u001b[0m\u001b[1;33m)\u001b[0m\u001b[1;33m\u001b[0m\u001b[0m\n\u001b[1;32m----> 7\u001b[1;33m         \u001b[0mM\u001b[0m\u001b[1;33m.\u001b[0m\u001b[0mappend\u001b[0m\u001b[1;33m(\u001b[0m\u001b[1;33m[\u001b[0m\u001b[0mp\u001b[0m\u001b[1;33m[\u001b[0m\u001b[0mw\u001b[0m\u001b[1;33m]\u001b[0m \u001b[1;32mfor\u001b[0m \u001b[0mw\u001b[0m \u001b[1;32min\u001b[0m \u001b[0mpop\u001b[0m\u001b[1;33m]\u001b[0m\u001b[1;33m)\u001b[0m\u001b[1;33m\u001b[0m\u001b[0m\n\u001b[0m\u001b[0;32m      8\u001b[0m     \u001b[1;32mreturn\u001b[0m \u001b[0mM\u001b[0m\u001b[1;33m\u001b[0m\u001b[0m\n\u001b[0;32m      9\u001b[0m \u001b[1;33m\u001b[0m\u001b[0m\n",
      "\u001b[1;32m<ipython-input-214-370622cc519f>\u001b[0m in \u001b[0;36m<listcomp>\u001b[1;34m(.0)\u001b[0m\n\u001b[0;32m      5\u001b[0m     \u001b[1;32mfor\u001b[0m \u001b[0mt\u001b[0m \u001b[1;32min\u001b[0m \u001b[0mrange\u001b[0m\u001b[1;33m(\u001b[0m\u001b[1;36m1\u001b[0m\u001b[1;33m,\u001b[0m\u001b[0ma\u001b[0m\u001b[1;33m)\u001b[0m\u001b[1;33m:\u001b[0m\u001b[1;33m\u001b[0m\u001b[0m\n\u001b[0;32m      6\u001b[0m         \u001b[0mp\u001b[0m\u001b[1;33m=\u001b[0m\u001b[0mpopulation\u001b[0m\u001b[1;33m(\u001b[0m\u001b[0mcontinent\u001b[0m\u001b[1;33m,\u001b[0m\u001b[0mprobleme\u001b[0m\u001b[1;33m,\u001b[0m\u001b[0mn\u001b[0m\u001b[1;33m,\u001b[0m\u001b[0mm\u001b[0m\u001b[1;33m,\u001b[0m\u001b[0mt\u001b[0m\u001b[1;33m,\u001b[0m\u001b[0mfixe\u001b[0m\u001b[1;33m,\u001b[0m\u001b[0mpop\u001b[0m\u001b[1;33m)\u001b[0m\u001b[1;33m\u001b[0m\u001b[0m\n\u001b[1;32m----> 7\u001b[1;33m         \u001b[0mM\u001b[0m\u001b[1;33m.\u001b[0m\u001b[0mappend\u001b[0m\u001b[1;33m(\u001b[0m\u001b[1;33m[\u001b[0m\u001b[0mp\u001b[0m\u001b[1;33m[\u001b[0m\u001b[0mw\u001b[0m\u001b[1;33m]\u001b[0m \u001b[1;32mfor\u001b[0m \u001b[0mw\u001b[0m \u001b[1;32min\u001b[0m \u001b[0mpop\u001b[0m\u001b[1;33m]\u001b[0m\u001b[1;33m)\u001b[0m\u001b[1;33m\u001b[0m\u001b[0m\n\u001b[0m\u001b[0;32m      8\u001b[0m     \u001b[1;32mreturn\u001b[0m \u001b[0mM\u001b[0m\u001b[1;33m\u001b[0m\u001b[0m\n\u001b[0;32m      9\u001b[0m \u001b[1;33m\u001b[0m\u001b[0m\n",
      "\u001b[1;31mTypeError\u001b[0m: 'int' object is not subscriptable"
     ]
    }
   ],
   "source": [
    "list_pop(\"Asie\",10,True,12,16,1,True,pop)"
   ]
  },
  {
   "cell_type": "code",
   "execution_count": 167,
   "metadata": {},
   "outputs": [
    {
     "data": {
      "text/plain": [
       "{'Afrique': [1256268000,\n",
       "  1287426702,\n",
       "  1319358220,\n",
       "  1352081722,\n",
       "  1385616852,\n",
       "  1419983740,\n",
       "  1455203016,\n",
       "  1491295822,\n",
       "  1528283822,\n",
       "  1566189221],\n",
       " 'Amérique du Nord': [361208000,\n",
       "  363854466,\n",
       "  366520322,\n",
       "  369205710,\n",
       "  371910774,\n",
       "  374635656,\n",
       "  377380503,\n",
       "  380145460,\n",
       "  382930676,\n",
       "  385736298],\n",
       " 'Amérique du Sud': [645593000,\n",
       "  651755358,\n",
       "  657976538,\n",
       "  664257101,\n",
       "  670597613,\n",
       "  676998647,\n",
       "  683460781,\n",
       "  689984597,\n",
       "  696570685,\n",
       "  703219639],\n",
       " 'Asie': [4504428000,\n",
       "  4542878822,\n",
       "  4581657870,\n",
       "  4620767944,\n",
       "  4660211871,\n",
       "  4699992500,\n",
       "  4740112706,\n",
       "  4780575386,\n",
       "  4821383466,\n",
       "  4862539892],\n",
       " 'Europe': [742074000,\n",
       "  742445130,\n",
       "  742816445,\n",
       "  743187946,\n",
       "  743559633,\n",
       "  743931506,\n",
       "  744303565,\n",
       "  744675810,\n",
       "  745048241,\n",
       "  745420858],\n",
       " 'Océanie': [40691000,\n",
       "  41239929,\n",
       "  41796263,\n",
       "  42360102,\n",
       "  42931548,\n",
       "  43510702,\n",
       "  44097670,\n",
       "  44692555,\n",
       "  45295466,\n",
       "  45906510]}"
      ]
     },
     "execution_count": 167,
     "metadata": {},
     "output_type": "execute_result"
    }
   ],
   "source": [
    "evolution_pop(10,pop,False,35,19,True)"
   ]
  },
  {
   "cell_type": "code",
   "execution_count": 168,
   "metadata": {
    "collapsed": true
   },
   "outputs": [],
   "source": [
    "def plot_pop(LR,pop):\n",
    "    plt.figure()\n",
    "    plt.plot(LR)\n",
    "    plt.legend([continent for continent in pop])\n",
    "    plt.xlabel(\"Génération\")\n",
    "    plt.ylabel(\"Taille population\")\n",
    "    plt.show()\n",
    "    return"
   ]
  },
  {
   "cell_type": "code",
   "execution_count": 179,
   "metadata": {},
   "outputs": [
    {
     "ename": "NameError",
     "evalue": "name 'DR' is not defined",
     "output_type": "error",
     "traceback": [
      "\u001b[1;31m---------------------------------------------------------------------------\u001b[0m",
      "\u001b[1;31mNameError\u001b[0m                                 Traceback (most recent call last)",
      "\u001b[1;32m<ipython-input-179-1e6f32d7f787>\u001b[0m in \u001b[0;36m<module>\u001b[1;34m()\u001b[0m\n\u001b[1;32m----> 1\u001b[1;33m \u001b[0mLR\u001b[0m\u001b[1;33m=\u001b[0m\u001b[0mDR\u001b[0m\u001b[1;33m[\u001b[0m\u001b[1;34m\"Europe\"\u001b[0m\u001b[1;33m]\u001b[0m\u001b[1;33m\u001b[0m\u001b[0m\n\u001b[0m\u001b[0;32m      2\u001b[0m \u001b[1;33m\u001b[0m\u001b[0m\n\u001b[0;32m      3\u001b[0m \u001b[0mplot_pop\u001b[0m\u001b[1;33m(\u001b[0m\u001b[0mLR\u001b[0m\u001b[1;33m,\u001b[0m\u001b[0mpop\u001b[0m\u001b[1;33m)\u001b[0m\u001b[1;33m\u001b[0m\u001b[0m\n",
      "\u001b[1;31mNameError\u001b[0m: name 'DR' is not defined"
     ]
    }
   ],
   "source": [
    "LR=DR[\"Europe\"]\n",
    "\n",
    "plot_pop(LR,pop)"
   ]
  },
  {
   "cell_type": "code",
   "execution_count": 174,
   "metadata": {
    "collapsed": true
   },
   "outputs": [],
   "source": [
    "def plot(L,pop):\n",
    "    plt.figure()\n",
    "    plt.plot(L)\n",
    "    plt.legend([continent for continent in pop])\n",
    "    plt.xlabel(\"Génération\")\n",
    "    plt.ylabel(\"Taille population\")\n",
    "    plt.show()\n",
    "    return"
   ]
  },
  {
   "cell_type": "code",
   "execution_count": 177,
   "metadata": {
    "collapsed": true
   },
   "outputs": [],
   "source": [
    "L=[[30,10,20,30,50,50],[10,12,15,13,18,11]]\n"
   ]
  },
  {
   "cell_type": "code",
   "execution_count": 178,
   "metadata": {},
   "outputs": [
    {
     "data": {
      "image/png": "[encoded data removed]",
      "text/plain": [
       "<matplotlib.figure.Figure at 0x7736221a20>"
      ]
     },
     "metadata": {},
     "output_type": "display_data"
    }
   ],
   "source": [
    "plot(L,pop)"
   ]
  },
  {
   "cell_type": "code",
   "execution_count": null,
   "metadata": {
    "collapsed": true
   },
   "outputs": [],
   "source": []
  }
 ],
 "metadata": {
  "kernelspec": {
   "display_name": "Python 3",
   "language": "python",
   "name": "python3"
  },
  "language_info": {
   "codemirror_mode": {
    "name": "ipython",
    "version": 3
   },
   "file_extension": ".py",
   "mimetype": "text/x-python",
   "name": "python",
   "nbconvert_exporter": "python",
   "pygments_lexer": "ipython3",
   "version": "3.6.2"
  }
 },
 "nbformat": 4,
 "nbformat_minor": 2
}
