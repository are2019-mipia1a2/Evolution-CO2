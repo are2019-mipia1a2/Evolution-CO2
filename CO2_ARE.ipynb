{
 "cells": [
  {
   "cell_type": "code",
   "execution_count": 3,
   "metadata": {},
   "outputs": [],
   "source": [
    "import pandas as pd\n",
    "import matplotlib.pyplot as plt\n",
    "import numpy as np\n",
    "\n",
    "co2_data = pd.read_csv('data.csv')\n",
    "#print(co2_data)\n",
    "\n",
    "Emissions = []\n",
    "Util_Terre = []\n",
    "List_Y = [a_y]\n",
    "\n",
    "def calcul_co2_y(Le,Lu,a_at,a_y,N):\n",
    "    \"\"\"list[float]*list[float]*int*int*float->dict[int:float]\n",
    "     Etant donnés deux listes (une des émissions d'énergies fossiles par année et une autre des utilisations des terres par année), \n",
    "     mais aussi de la quantité de CO2 atmosphérique pour une année initiale et d'un pourcentage d'absorption liée à l'absorption \n",
    "     du CO2 par la nature, la fonction renvoie un dictionnaire dont les clés sont les années et les valeurs associés sont le taux \n",
    "     de CO2 atmosphérique à ces années respectivements en milliards de tonnes\n",
    "     Hyp : len(Le)=len(Lu) \"\"\"\n",
    "    \n",
    "    Le = Emissions\n",
    "    Lu = Util_Terre\n",
    "    CO2_at = a_at \n",
    "    D = {a_y:a_at}\n",
    "    \n",
    "    for i in range(0,len(Le)):\n",
    "        CO2_at = CO2_at + Le[i] + Lu[i] - N*(Le[i] + Lu[i])\n",
    "        D[at_y+i+1] = CO2_at\n",
    "        \n",
    "    return D\n",
    "\n",
    "\n",
    "\n",
    "List_CO2 = [i for i in D.values()]\n",
    "\n",
    "\n",
    "plt.plot(List_Y , List_CO2)\n",
    "plt.xlabel('Année')\n",
    "plt.ylabel('CO2 Atmosphérique en milliards de tonnes')    "
   ]
  }
 ],
 "metadata": {
  "kernelspec": {
   "display_name": "Python 3",
   "language": "python",
   "name": "python3"
  },
  "language_info": {
   "codemirror_mode": {
    "name": "ipython",
    "version": 3
   },
   "file_extension": ".py",
   "mimetype": "text/x-python",
   "name": "python",
   "nbconvert_exporter": "python",
   "pygments_lexer": "ipython3",
   "version": "3.7.1"
  }
 },
 "nbformat": 4,
 "nbformat_minor": 2
}
