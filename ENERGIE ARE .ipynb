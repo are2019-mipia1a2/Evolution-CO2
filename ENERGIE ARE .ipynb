{
 "cells": [
  {
   "cell_type": "code",
   "execution_count": 55,
   "metadata": {},
   "outputs": [],
   "source": [
    "import pandas\n",
    "import matplotlib.pyplot as plt"
   ]
  },
  {
   "cell_type": "code",
   "execution_count": 38,
   "metadata": {},
   "outputs": [],
   "source": [
    "energy_consumption = pandas.read_csv(\"./data/Enerdata_Energy_Statistical_Yearbook2_2018.csv\", index_col=0 )"
   ]
  },
  {
   "cell_type": "code",
   "execution_count": 39,
   "metadata": {},
   "outputs": [
    {
     "name": "stdout",
     "output_type": "stream",
     "text": [
      "Index(['World', 'OECD', 'G7', 'BRICS', 'Europe', 'European Union', 'Belgium',\n",
      "       'Czech Rep.', 'France', 'Germany', 'Italy', 'Netherlands', 'Poland',\n",
      "       'Portugal', 'Romania', 'Spain', 'Sweden', 'United Kingdom', 'Norway',\n",
      "       'Turkey', 'CIS', 'Kazakhstan', 'Russia', 'Ukraine', 'Uzbekistan',\n",
      "       'America', 'North America', 'Canada', 'United States', 'Latin America',\n",
      "       'Argentina', 'Brazil', 'Chile', 'Colombia', 'Mexico', 'Venezuela',\n",
      "       'Asia', 'China', 'India', 'Indonesia', 'Japan', 'Malaysia',\n",
      "       'South Korea', 'Taiwan', 'Thailand', 'Pacific', 'Australia',\n",
      "       'New Zealand', 'Africa', 'Algeria', 'Egypt', 'Nigeria', 'South Africa',\n",
      "       'Middle-East', 'Iran', 'Kuwait', 'Saudi Arabia',\n",
      "       'United Arab Emirates'],\n",
      "      dtype='object', name='Year')\n"
     ]
    }
   ],
   "source": [
    "print(energy_consumption.index)"
   ]
  },
  {
   "cell_type": "code",
   "execution_count": 19,
   "metadata": {},
   "outputs": [
    {
     "name": "stdout",
     "output_type": "stream",
     "text": [
      "Index(['Year', '1990', '1991', '1992', '1993', '1994', '1995', '1996', '1997',\n",
      "       '1998', '1999', '2000', '2001', '2002', '2003', '2004', '2005', '2006',\n",
      "       '2007', '2008', '2009', '2010', '2011', '2012', '2013', '2014', '2015',\n",
      "       '2016', '2017'],\n",
      "      dtype='object')\n"
     ]
    }
   ],
   "source": [
    "print(energy_consumption.columns)"
   ]
  },
  {
   "cell_type": "code",
   "execution_count": 43,
   "metadata": {},
   "outputs": [],
   "source": [
    "EU = energy_consumption.loc['Europe']"
   ]
  },
  {
   "cell_type": "code",
   "execution_count": 50,
   "metadata": {},
   "outputs": [
    {
     "name": "stdout",
     "output_type": "stream",
     "text": [
      "1990    1786\n",
      "1991    1782\n",
      "1992    1742\n",
      "1993    1743\n",
      "1994    1739\n",
      "1995    1782\n",
      "1996    1849\n",
      "1997    1836\n",
      "1998    1850\n",
      "1999    1833\n",
      "2000    1854\n",
      "2001    1889\n",
      "2002    1890\n",
      "2003    1933\n",
      "2004    1954\n",
      "2005    1964\n",
      "2006    1983\n",
      "2007    1960\n",
      "2008    1958\n",
      "2009    1853\n",
      "2010    1931\n",
      "2011    1867\n",
      "2012    1857\n",
      "2013    1843\n",
      "2014    1777\n",
      "2015    1808\n",
      "2016    1821\n",
      "2017    1857\n",
      "Name: Europe, dtype: int64\n"
     ]
    }
   ],
   "source": [
    "print(EU)"
   ]
  },
  {
   "cell_type": "code",
   "execution_count": 57,
   "metadata": {},
   "outputs": [],
   "source": [
    "list_EU_V = list(EU) #Consommation en million TEP."
   ]
  },
  {
   "cell_type": "code",
   "execution_count": 58,
   "metadata": {},
   "outputs": [
    {
     "name": "stdout",
     "output_type": "stream",
     "text": [
      "[1786, 1782, 1742, 1743, 1739, 1782, 1849, 1836, 1850, 1833, 1854, 1889, 1890, 1933, 1954, 1964, 1983, 1960, 1958, 1853, 1931, 1867, 1857, 1843, 1777, 1808, 1821, 1857]\n"
     ]
    }
   ],
   "source": [
    "print(list_EU_V) "
   ]
  },
  {
   "cell_type": "code",
   "execution_count": 59,
   "metadata": {},
   "outputs": [],
   "source": [
    "list_EU_Y = list(EU.index) #Année équivalent aux consommations de list_EU_V."
   ]
  },
  {
   "cell_type": "code",
   "execution_count": 60,
   "metadata": {},
   "outputs": [
    {
     "name": "stdout",
     "output_type": "stream",
     "text": [
      "['1990', '1991', '1992', '1993', '1994', '1995', '1996', '1997', '1998', '1999', '2000', '2001', '2002', '2003', '2004', '2005', '2006', '2007', '2008', '2009', '2010', '2011', '2012', '2013', '2014', '2015', '2016', '2017']\n"
     ]
    }
   ],
   "source": [
    "print(list_EU_Y)"
   ]
  },
  {
   "cell_type": "code",
   "execution_count": 64,
   "metadata": {},
   "outputs": [
    {
     "data": {
      "text/plain": [
       "Text(0,0.5,'Consommation en MTEP')"
      ]
     },
     "execution_count": 64,
     "metadata": {},
     "output_type": "execute_result"
    },
    {
     "data": {
      "image/png": "[encoded data removed]",
      "text/plain": [
       "<Figure size 432x288 with 1 Axes>"
      ]
     },
     "metadata": {},
     "output_type": "display_data"
    }
   ],
   "source": [
    "plt.plot(list_EU_Y , list_EU_V)\n",
    "plt.xlabel('Année')\n",
    "plt.ylabel('Consommation en MTEP')"
   ]
  }
 ],
 "metadata": {
  "kernelspec": {
   "display_name": "Python 3",
   "language": "python",
   "name": "python3"
  },
  "language_info": {
   "codemirror_mode": {
    "name": "ipython",
    "version": 3
   },
   "file_extension": ".py",
   "mimetype": "text/x-python",
   "name": "python",
   "nbconvert_exporter": "python",
   "pygments_lexer": "ipython3",
   "version": "3.5.3"
  }
 },
 "nbformat": 4,
 "nbformat_minor": 2
}
