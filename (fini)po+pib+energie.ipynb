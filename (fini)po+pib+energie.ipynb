{
 "cells": [
  {
   "cell_type": "markdown",
   "metadata": {},
   "source": [
    "# Version finale"
   ]
  },
  {
   "cell_type": "code",
   "execution_count": 1,
   "metadata": {},
   "outputs": [],
   "source": [
    "%matplotlib inline     \n",
    "# ^Sans animations\n",
    "# %matplotlib notebook \n",
    "# ^Avec animations\n",
    "import numpy as np\n",
    "import matplotlib.pyplot as plt\n",
    "from matplotlib import animation\n",
    "import math\n",
    "import random\n",
    "from random import uniform"
   ]
  },
  {
   "cell_type": "markdown",
   "metadata": {},
   "source": [
    "## I) Population (Catherine)##"
   ]
  },
  {
   "cell_type": "markdown",
   "metadata": {},
   "source": [
    "Nous souhaitons obtenir l'évolution de la population jusqu'à une année \"a\" choisie sur chacun des continents. \n",
    "\n",
    "Celle-ci dépend de différents paramètres : \n",
    "\n",
    "**la population de départ**, dont les données ont été prises à l'année 2017 par l'ONU (on considère que l'année 2017 est l'année 0)\n",
    "\n",
    "**le taux d'accroissement**, dont les valeurs fixes viennent de l'INED\n",
    "\n",
    "**les imprévus** qui peuvent survenir, qui peuvent soit être positif, soit négatif"
   ]
  },
  {
   "cell_type": "code",
   "execution_count": 2,
   "metadata": {},
   "outputs": [],
   "source": [
    "continents=[\"Europe\", \"Amérique du Nord\",\"Asie\", \"Afrique\", \"Amérique du Sud\", \"Océanie\"]\n",
    "pop={\"Europe\":742074000,\"Amérique du Nord\":361208000,\"Asie\":4504428000,\"Afrique\":1256268000, \n",
    "            \"Amérique du Sud\":645593000,\"Océanie\":40691000}\n"
   ]
  },
  {
   "cell_type": "markdown",
   "metadata": {},
   "source": [
    "Nous avons décidé de se baser sur l'évolution exponentielle de la population, c'est l'évolution la plus réaliste. \n",
    "\n",
    "Elle suit la loi suivante :\n",
    "\n",
    "**N(t)=N0*exp(k*t)**\n",
    "\n",
    "N étant la population, N0 la population à la 1ère génération, k étant le taux d'accroissement, et t l'année."
   ]
  },
  {
   "cell_type": "markdown",
   "metadata": {},
   "source": [
    "On décide donc en premier temps de calculer **k**. Ce dernier se base sur le taux de natalité et de mortalité. Ceux-ci peuvent rester fixe au fil du temps, ou varier d'une manière aléatoire. Il a ensuite fallu créer 6 taux d'accroissement afin que l'on puisse faire varier chaque taux pour chaque pays, et décider si k restait fixe ou non au fil du temps."
   ]
  },
  {
   "cell_type": "markdown",
   "metadata": {},
   "source": [
    "Calcul du taux de croissance : \n",
    "\n",
    "\n",
    "** k=(TN-TM)/POP **\n",
    "\n",
    "** TN: taux de natalité **\n",
    "\n",
    "** TM: taux de mortalité **\n",
    "\n",
    "** POP: population à l'année considérée **"
   ]
  },
  {
   "cell_type": "markdown",
   "metadata": {},
   "source": [
    "On souhaite avoir deux situations possibles : si le changement est positif ou négatif. S'il est positif, alors k sera compris "
   ]
  },
  {
   "cell_type": "markdown",
   "metadata": {},
   "source": [
    "On souhaite maintenant obtenir un dictionnaire qui nous renvoie **pour chaque continent la population** qui correspond à l'année voulue en fonction du taux de croissance. Il est nécessaire d'avoir autant de paramètres pour avoir une situation à chaque pays."
   ]
  },
  {
   "cell_type": "markdown",
   "metadata": {},
   "source": [
    "  "
   ]
  },
  {
   "cell_type": "markdown",
   "metadata": {},
   "source": [
    "## Evolution"
   ]
  },
  {
   "cell_type": "markdown",
   "metadata": {},
   "source": [
    "Maintenant, on souhaite voir **l'évolution de la population** à une année a choisie dans chaque continent."
   ]
  },
  {
   "cell_type": "code",
   "execution_count": 3,
   "metadata": {},
   "outputs": [],
   "source": [
    "pop={\"Europe\":742074000,\"Amérique du Nord\":361208000,\"Asie\":4504428000,\"Afrique\":1256268000, \n",
    "            \"Amérique du Sud\":645593000,\"Océanie\":40691000}\n",
    "\n",
    "u=uniform(-2.5,-2.3)\n",
    "p=uniform(2.3,2.5)\n",
    "\n",
    "def evolution_pop1(a,pop,n1,m1,probleme1,positif1,fixe1):\n",
    "    \"\"\"->dict[str:list[int]]\"\"\"\n",
    "    \n",
    "    popr={\"Europe\":[742074000]}\n",
    "    \n",
    "    for t in range(a):\n",
    "        if popr[\"Europe\"][t]!=0:\n",
    "            def k1(n1,m1,positif1,fixe1):\n",
    "                \"\"\"-> float\"\"\"\n",
    "            \n",
    "                if positif1:\n",
    "                    if fixe1:\n",
    "                        k1=((n1-m1)/(popr[\"Europe\"][t]))*p\n",
    "                    else:\n",
    "                        ch=uniform(2.3,2.5)\n",
    "                        k1=((n1-m1)/(popr[\"Europe\"][t]))*ch\n",
    "                else:\n",
    "                    if fixe1:\n",
    "                        k1=((n1-m1)/(popr[\"Europe\"][t]))*u\n",
    "                    else:\n",
    "                        ch=uniform(-2.5,-2.3)\n",
    "                        k1=((n1-m1)/(popr[\"Europe\"][t]))*ch\n",
    "                return k1\n",
    "    \n",
    "            b=t+1\n",
    "    \n",
    "            if probleme1:\n",
    "                popr[\"Europe\"].append(round(pop[\"Europe\"]*math.exp(k1(n1,m1,positif1,fixe1)*b)))\n",
    "            else:\n",
    "                popr[\"Europe\"].append(round(pop[\"Europe\"]*math.exp(k1(n1,m1,positif1,fixe1)*b)))\n",
    "        else:\n",
    "            popr[\"Europe\"].append(0)\n",
    "    return popr  \n",
    "        \n",
    "                    "
   ]
  },
  {
   "cell_type": "code",
   "execution_count": 4,
   "metadata": {},
   "outputs": [],
   "source": [
    "def evolution_pop2(a,pop,n2,m2,probleme2,positif2,fixe2):\n",
    "    \"\"\"-> dict[str:list[int]]\"\"\"\n",
    "    \n",
    "    popr={\"Amérique du Nord\":[361208000]}\n",
    "    \n",
    "    for t in range(0,a):\n",
    "        if popr[\"Amérique du Nord\"][t]!=0:\n",
    "            def k2(n2,m2,positif2,fixe2):\n",
    "        \n",
    "                if positif2:\n",
    "                    if fixe2:\n",
    "                        k2=((n2-m2)/(popr[\"Amérique du Nord\"][t]))*p\n",
    "                    else:\n",
    "                        ch=uniform(2.3,2.5)\n",
    "                        k2=((n2-m2)/(popr[\"Amérique du Nord\"][t]))*ch\n",
    "    \n",
    "                else:\n",
    "                    if fixe2:\n",
    "                        k2=((n2-m2)/(popr[\"Amérique du Nord\"][t]))*u\n",
    "                    else:\n",
    "                        ch=uniform(-2.5,-2.3)\n",
    "                        k2=((n2-m2)/(popr[\"Amérique du Nord\"][t]))*ch\n",
    "                return k2\n",
    "    \n",
    "            b=t+1\n",
    "        \n",
    "            if probleme2:\n",
    "                popr[\"Amérique du Nord\"].append(round(pop[\"Amérique du Nord\"]*math.exp((k2(n2,m2,positif2,fixe2))*b)))\n",
    "            else: \n",
    "                popr[\"Amérique du Nord\"].append(round(pop[\"Amérique du Nord\"]*math.exp(0.0073*b)))\n",
    "        else:\n",
    "            popr[\"Amérique du Nord\"].append(0)\n",
    "    return popr"
   ]
  },
  {
   "cell_type": "code",
   "execution_count": 5,
   "metadata": {},
   "outputs": [],
   "source": [
    "def evolution_pop3(a,pop,n3,m3,probleme3,positif3,fixe3):\n",
    "    \"\"\"-> dict[str:list[int]]\"\"\"\n",
    "    \n",
    "    popr={\"Asie\":[4504428000]}\n",
    "    \n",
    "    for t in range(0,a):\n",
    "        if popr[\"Asie\"][t]!=0:\n",
    "            def k3(n3,m3,positif3,fixe3):\n",
    "        \n",
    "                if positif3:\n",
    "                    if fixe3:\n",
    "                        k3=((n3-m3)/(popr[\"Asie\"][t]))*p\n",
    "                    else:\n",
    "                        ch=uniform(2.3,2.5)\n",
    "                        k3=((n3-m3)/(popr[\"Asie\"][t]))*ch\n",
    "    \n",
    "                else:\n",
    "                    if fixe3:\n",
    "                        k3=((n3-m3)/(popr[\"Asie\"][t]))*u\n",
    "                    else:\n",
    "                        ch=uniform(-2.5,-2.3)\n",
    "                        k3=((n3-m3)/(popr[\"Asie\"][t]))*ch\n",
    "                return k3\n",
    "    \n",
    "            b=t+1\n",
    "        \n",
    "            if probleme3:\n",
    "                popr[\"Asie\"].append(round(pop[\"Asie\"]*math.exp(k3(n3,m3,positif3,fixe3)*b)))\n",
    "            else: \n",
    "                popr[\"Asie\"].append(round(pop[\"Asie\"]*math.exp(0.0085*b)))\n",
    "        else:\n",
    "            popr[\"Asie\"].append(0)\n",
    "    return popr"
   ]
  },
  {
   "cell_type": "code",
   "execution_count": 6,
   "metadata": {},
   "outputs": [],
   "source": [
    "def evolution_pop4(a,pop,n4,m4,probleme4,positif4,fixe4):\n",
    "    \"\"\"-> dict[str:list[int]]\"\"\"\n",
    "    \n",
    "    popr={\"Afrique\":[1256268000]}\n",
    "    \n",
    "    for t in range(0,a):\n",
    "        if popr[\"Afrique\"][t]!=0:\n",
    "            def k4(n4,m4,positif4,fixe4):\n",
    "        \n",
    "                if positif4:\n",
    "                    if fixe4:\n",
    "                        k4=((n4-m4)/(popr[\"Afrique\"][t]))*p\n",
    "                    else:\n",
    "                        ch=uniform(2.3,2.5)\n",
    "                        k4=((n4-m4)/(popr[\"Afrique\"][t]))*ch\n",
    "    \n",
    "                else:\n",
    "                    if fixe4:\n",
    "                        k4=((n4-m4)/(popr[\"Afrique\"][t]))*u\n",
    "                    else:\n",
    "                        ch=uniform(-2.5,-2.3)\n",
    "                        k4=((n4-m4)/(popr[\"Afrique\"][t]))*ch\n",
    "                return k4\n",
    "        \n",
    "            b=t+1\n",
    "        \n",
    "            if probleme4:\n",
    "                popr[\"Afrique\"].append(round(pop[\"Afrique\"]*math.exp(k4(n4,m4,positif4,fixe4)*b)))\n",
    "            else: \n",
    "                popr[\"Afrique\"].append(round(pop[\"Afrique\"]*math.exp(0.0245*b)))\n",
    "        else:\n",
    "            popr[\"Afrique\"].append(0)\n",
    "    return popr"
   ]
  },
  {
   "cell_type": "code",
   "execution_count": 7,
   "metadata": {},
   "outputs": [],
   "source": [
    "def evolution_pop5(a,pop,n5,m5,probleme5,positif5,fixe5):\n",
    "    \"\"\"-> dict[str:list[int]]\"\"\"\n",
    "    \n",
    "    popr={\"Amérique du Sud\":[645593000]}\n",
    "    \n",
    "    for t in range(0,a):\n",
    "        if popr[\"Amérique du Sud\"][t]!=0:\n",
    "            def k5(n5,m5,positif5,fixe5):\n",
    "        \n",
    "                if positif5:\n",
    "                    if fixe5:\n",
    "                        k5=((n5-m5)/(popr[\"Amérique du Sud\"][t]))*p\n",
    "                    else:\n",
    "                        ch=uniform(2.3,2.5)\n",
    "                        k5=((n5-m5)/(popr[\"Amérique du Sud\"][t]))*ch\n",
    "    \n",
    "                else:\n",
    "                    if fixe5:\n",
    "                        k5=((n5-m5)/(popr[\"Amérique du Sud\"][t]))*u\n",
    "                    else:\n",
    "                        ch=uniform(-2.5,-2.3)\n",
    "                        k5=((n5-m5)/(popr[\"Amérique du Sud\"][t]))*ch\n",
    "                return k5\n",
    "    \n",
    "            b=t+1\n",
    "        \n",
    "            if probleme5:\n",
    "                popr[\"Amérique du Sud\"].append(round(pop[\"Amérique du Sud\"]*math.exp((k5(n5,m5,positif5,fixe5))*b)))\n",
    "            else: \n",
    "                popr[\"Amérique du Sud\"].append(round(pop[\"Amérique du Sud\"]*math.exp(0.0095*b)))\n",
    "        else:\n",
    "            popr[\"Amérique du Sud\"].append(0)\n",
    "    return popr"
   ]
  },
  {
   "cell_type": "code",
   "execution_count": 8,
   "metadata": {},
   "outputs": [],
   "source": [
    "def evolution_pop6(a,pop,n6,m6,probleme6,positif6,fixe6):\n",
    "    \"\"\"-> dict[str:list[int]]\"\"\"\n",
    "    \n",
    "    popr={\"Océanie\":[40691000]}\n",
    "    \n",
    "    for t in range(0,a):\n",
    "        if popr[\"Océanie\"][t]!=0:\n",
    "            def k6(n6,m6,positif6,fixe6):\n",
    "        \n",
    "                if positif6:\n",
    "                    if fixe6:\n",
    "                        k6=((n6-m6)/(popr[\"Océanie\"][t]))*p\n",
    "                    else:\n",
    "                        ch=uniform(2,4)\n",
    "                        k6=((n6-m6)/(popr[\"Océanie\"][t]))*ch\n",
    "    \n",
    "                else:\n",
    "                    if fixe6:\n",
    "                        k6=((n6-m6)/(popr[\"Océanie\"][t]))*u\n",
    "                    else:\n",
    "                        ch=uniform(-4,-2)\n",
    "                        k6=((n6-m6)/(popr[\"Océanie\"][t]))*ch\n",
    "                return k6\n",
    "    \n",
    "            b=t+1\n",
    "        \n",
    "            if probleme6:\n",
    "                popr[\"Océanie\"].append(round(pop[\"Océanie\"]*math.exp(k6(n6,m6,positif6,fixe6)*b)))\n",
    "            else: \n",
    "                popr[\"Océanie\"].append(round(pop[\"Océanie\"]*math.exp(0.0134*b)))\n",
    "        else:\n",
    "            popr[\"Océanie\"].append(0)\n",
    "    return popr"
   ]
  },
  {
   "cell_type": "code",
   "execution_count": 9,
   "metadata": {},
   "outputs": [],
   "source": [
    "def evolution_pop(a,pop,n1,m1,probleme1,positif1,fixe1,n2,m2,probleme2,positif2,fixe2,n3,m3,probleme3,positif3,fixe3,\n",
    "                 n4,m4,probleme4,positif4,fixe4,n5,m5,probleme5,positif5,fixe5,n6,m6,probleme6,positif6,fixe6):\n",
    "    \n",
    "    \"\"\"dict[str:list[int]]\"\"\"\n",
    "    \n",
    "    popr=dict()\n",
    "    \n",
    "    popr[\"Europe\"]=evolution_pop1(a,pop,n1,m1,probleme1,positif1,fixe1)[\"Europe\"]\n",
    "    popr[\"Amérique du Nord\"]=evolution_pop2(a,pop,n2,m2,probleme2,positif2,fixe2)[\"Amérique du Nord\"]\n",
    "    popr[\"Asie\"]=evolution_pop3(a,pop,n3,m3,probleme3,positif3,fixe3)[\"Asie\"]\n",
    "    popr[\"Afrique\"]=evolution_pop4(a,pop,n4,m4,probleme4,positif4,fixe4)[\"Afrique\"]\n",
    "    popr[\"Amérique du Sud\"]=evolution_pop5(a,pop,n5,m5,probleme5,positif5,fixe5)[\"Amérique du Sud\"]\n",
    "    popr[\"Océanie\"]=evolution_pop6(a,pop,n6,m6,probleme6,positif6,fixe6)[\"Océanie\"]\n",
    "    \n",
    "    return popr\n",
    "        "
   ]
  },
  {
   "cell_type": "code",
   "execution_count": 10,
   "metadata": {},
   "outputs": [
    {
     "data": {
      "text/plain": [
       "{'Europe': [742074000, 763024596, 784442188, 801572962, 824001954, 841074089],\n",
       " 'Amérique du Nord': [361208000,\n",
       "  349582445,\n",
       "  337595693,\n",
       "  325201805,\n",
       "  312344656,\n",
       "  298954644],\n",
       " 'Asie': [4504428000,\n",
       "  4506619759,\n",
       "  4508810451,\n",
       "  4511000078,\n",
       "  4513188643,\n",
       "  4515376146],\n",
       " 'Afrique': [1256268000,\n",
       "  1287426702,\n",
       "  1319358220,\n",
       "  1352081722,\n",
       "  1385616852,\n",
       "  1419983740],\n",
       " 'Amérique du Sud': [645593000,\n",
       "  651755358,\n",
       "  657976538,\n",
       "  664257101,\n",
       "  670597613,\n",
       "  676998647],\n",
       " 'Océanie': [40691000, 30564932, 24839727, 16063374, 4180679, 1180]}"
      ]
     },
     "execution_count": 10,
     "metadata": {},
     "output_type": "execute_result"
    }
   ],
   "source": [
    "evolution_pop(5,pop,1235000,9845500,True,False,False,1536852,6548213,True,True,True,4561237,5462137,True,False,True,7531596,6547821,False,True,False,3216549,1642538,False,False,False,3214564,6513245,True,True,False)"
   ]
  },
  {
   "cell_type": "code",
   "execution_count": 11,
   "metadata": {
    "scrolled": true
   },
   "outputs": [
    {
     "data": {
      "text/plain": [
       "{'Amérique du Nord': [361208000,\n",
       "  363309484,\n",
       "  365398672,\n",
       "  367475850,\n",
       "  369541293,\n",
       "  371595265,\n",
       "  373638021,\n",
       "  375669807,\n",
       "  377690858,\n",
       "  379701402,\n",
       "  381701658]}"
      ]
     },
     "execution_count": 11,
     "metadata": {},
     "output_type": "execute_result"
    }
   ],
   "source": [
    "evolution_pop2(10,pop,123000,984500,True,False,True)"
   ]
  },
  {
   "cell_type": "markdown",
   "metadata": {},
   "source": [
    "  "
   ]
  },
  {
   "cell_type": "markdown",
   "metadata": {},
   "source": [
    "### Graphique de la population mondiale"
   ]
  },
  {
   "cell_type": "markdown",
   "metadata": {},
   "source": [
    "** L1 : liste de la population en Europe **\n",
    "\n",
    "** L2 : liste de la population en Amérique du Nord **\n",
    "\n",
    "** L3 : liste de la population en Asie **\n",
    "\n",
    "** L4 : liste de la population en Afrique **\n",
    "\n",
    "** L5 : liste de la population en Amérique du Sud **\n",
    "\n",
    "** L6 : liste de la population en Océanie **"
   ]
  },
  {
   "cell_type": "markdown",
   "metadata": {},
   "source": [
    "A l'échelle mondiale, on regarde l'évolution de la population à l'année voulue."
   ]
  },
  {
   "cell_type": "markdown",
   "metadata": {},
   "source": [
    "    "
   ]
  },
  {
   "cell_type": "code",
   "execution_count": 12,
   "metadata": {},
   "outputs": [],
   "source": [
    "def L7(a,pop,n1,m1,probleme1,positif1,fixe1,n2,m2,probleme2,positif2,fixe2,n3,m3,probleme3,positif3,fixe3,n4,m4,probleme4,positif4,\n",
    "       fixe4,n5,m5,probleme5,positif5,fixe5,n6,m6,probleme6,positif6,fixe6):\n",
    "    \"\"\"-> list[int]\"\"\"\n",
    "    \n",
    "    L7=list()\n",
    "    \n",
    "    L1=evolution_pop1(a,pop,n1,m1,probleme1,positif1,fixe1)[\"Europe\"]\n",
    "    L2=evolution_pop2(a,pop,n2,m2,probleme2,positif2,fixe2)[\"Amérique du Nord\"]\n",
    "    L3=evolution_pop3(a,pop,n3,m3,probleme3,positif3,fixe3)[\"Asie\"]\n",
    "    L4=evolution_pop4(a,pop,n4,m4,probleme4,positif4,fixe4)[\"Afrique\"]\n",
    "    L5=evolution_pop5(a,pop,n5,m5,probleme5,positif5,fixe5)[\"Amérique du Sud\"]\n",
    "    L6=evolution_pop6(a,pop,n6,m6,probleme6,positif6,fixe6)[\"Océanie\"]\n",
    "    \n",
    "    for z in range(0,a):\n",
    "        nb=L1[z]+L2[z]+L3[z]+L4[z]+L5[z]+L6[z]\n",
    "        L7.append(nb)\n",
    "    return L7"
   ]
  },
  {
   "cell_type": "code",
   "execution_count": 13,
   "metadata": {},
   "outputs": [],
   "source": [
    "#L7(83,pop,933000,732000,False,False,False,169500,500000,False,False,True,420000,120000,True,False,False,1913502,13530,True,True,False,81530,19153,True,True,True,12032,81563,True,False,True)"
   ]
  },
  {
   "cell_type": "code",
   "execution_count": 14,
   "metadata": {},
   "outputs": [],
   "source": [
    "L_annee=[i for i in range(2017,2118)]"
   ]
  },
  {
   "cell_type": "code",
   "execution_count": 15,
   "metadata": {},
   "outputs": [],
   "source": [
    "def total(L7):\n",
    "    \"\"\"\"\"\"\n",
    "    \n",
    "    plt.figure()\n",
    "    plt.plot(L_annee, L7)\n",
    "    plt.legend([\"Monde\"])\n",
    "    plt.xlabel(\"Année\")\n",
    "    plt.ylabel(\"Taille population\")\n",
    "    plt.show()\n",
    "    return"
   ]
  },
  {
   "cell_type": "code",
   "execution_count": 16,
   "metadata": {},
   "outputs": [
    {
     "data": {
      "image/png": "[encoded data removed]",
      "text/plain": [
       "<Figure size 432x288 with 1 Axes>"
      ]
     },
     "metadata": {
      "needs_background": "light"
     },
     "output_type": "display_data"
    }
   ],
   "source": [
    "L7=L7(101,pop,933000,732000,False,False,False,169500,500000,False,False,True,420000,120000,True,False,False,1913502,13530,True,True,False,81530,19153,True,True,True,12032,81563,True,False,True)\n",
    "total(L7)"
   ]
  },
  {
   "cell_type": "markdown",
   "metadata": {},
   "source": [
    "A l'échelle mondiale, on regarde cette fois-ci la population dans chaque continent. (c'est à dire que toutes les populations sont représentées sur un même graphique)"
   ]
  },
  {
   "cell_type": "code",
   "execution_count": 17,
   "metadata": {},
   "outputs": [],
   "source": [
    "def list_pop(a,pop,n1,m1,probleme1,positif1,fixe1,n2,m2,probleme2,positif2,fixe2,n3,m3,probleme3,positif3,fixe3,n4,m4,probleme4,positif4,\n",
    "       fixe4,n5,m5,probleme5,positif5,fixe5,n6,m6,probleme6,positif6,fixe6):\n",
    "    \"\"\"->list[int]\"\"\"\n",
    "\n",
    "    L1=evolution_pop1(a,pop,n1,m1,probleme1,positif1,fixe1)[\"Europe\"]\n",
    "    L2=evolution_pop2(a,pop,n2,m2,probleme2,positif2,fixe2)[\"Amérique du Nord\"]\n",
    "    L3=evolution_pop3(a,pop,n3,m3,probleme3,positif3,fixe3)[\"Asie\"]\n",
    "    L4=evolution_pop4(a,pop,n4,m4,probleme4,positif4,fixe4)[\"Afrique\"]\n",
    "    L5=evolution_pop5(a,pop,n5,m5,probleme5,positif5,fixe5)[\"Amérique du Sud\"]\n",
    "    L6=evolution_pop6(a,pop,n6,m6,probleme6,positif6,fixe6)[\"Océanie\"]\n",
    "    \n",
    "    return L1,L2,L3,L4,L5,L6"
   ]
  },
  {
   "cell_type": "code",
   "execution_count": 18,
   "metadata": {},
   "outputs": [
    {
     "data": {
      "text/plain": [
       "([742074000, 741599526, 741100736, 740627172, 740104395, 739618785],\n",
       " [361208000, 363854466, 366520322, 369205710, 371910774, 374635656],\n",
       " [4504428000, 4503730992, 4502980895, 4502270302, 4501491197, 4500957090],\n",
       " [1256268000, 1260900836, 1265762508, 1269822808, 1273956655, 1279278780],\n",
       " [645593000, 645740101, 645887169, 646034203, 646181204, 646328171],\n",
       " [40691000, 40860470, 41029231, 41197295, 41364673, 41531377])"
      ]
     },
     "execution_count": 18,
     "metadata": {},
     "output_type": "execute_result"
    }
   ],
   "source": [
    "list_pop(5,pop,933000,732000,False,False,False,169500,500000,False,False,True,420000,120000,True,False,False,1913502,13530,True,True,False,81530,19153,True,True,True,12032,81563,True,False,True)"
   ]
  },
  {
   "cell_type": "code",
   "execution_count": 19,
   "metadata": {},
   "outputs": [],
   "source": [
    "L_annee=[i for i in range(2017,2117)]\n",
    "\n",
    "def plot_pop(L1,L2,L3,L4,L5,L6,pop):\n",
    "    plt.figure()\n",
    "    plt.plot(L_annee,L1)\n",
    "    plt.plot(L_annee,L2)\n",
    "    plt.plot(L_annee,L3)\n",
    "    plt.plot(L_annee,L4)\n",
    "    plt.plot(L_annee,L5)\n",
    "    plt.plot(L_annee,L6)\n",
    "    plt.legend([continent for continent in continents])\n",
    "    plt.xlabel(\"Année\")\n",
    "    plt.ylabel(\"Taille population\")\n",
    "    plt.show()\n",
    "    return"
   ]
  },
  {
   "cell_type": "code",
   "execution_count": 20,
   "metadata": {},
   "outputs": [],
   "source": [
    "pop={\"Europe\":742074000,\"Amérique du Nord\":361208000,\"Asie\":4504428000,\"Afrique\":1256268000, \n",
    "            \"Amérique du Sud\":645593000,\"Océanie\":40691000}"
   ]
  },
  {
   "cell_type": "code",
   "execution_count": 21,
   "metadata": {},
   "outputs": [],
   "source": [
    "L1=evolution_pop1(99,pop,600000,30,False,False,True)[\"Europe\"]\n",
    "L2=evolution_pop2(99,pop,64652056,1269654,False,False,False)[\"Amérique du Nord\"]\n",
    "L3=evolution_pop3(99,pop,32458540,1941610,True,True,False)[\"Asie\"]\n",
    "L4=evolution_pop4(99,pop,12526560,325960,True,True,False)[\"Afrique\"]\n",
    "L5=evolution_pop5(99,pop,53103040,7801340,True,False,True)[\"Amérique du Sud\"]\n",
    "L6=evolution_pop6(99,pop,8001570,5815250,False,False,False)[\"Océanie\"]"
   ]
  },
  {
   "cell_type": "code",
   "execution_count": 22,
   "metadata": {},
   "outputs": [
    {
     "data": {
      "image/png": "[encoded data removed]",
      "text/plain": [
       "<Figure size 432x288 with 1 Axes>"
      ]
     },
     "metadata": {
      "needs_background": "light"
     },
     "output_type": "display_data"
    }
   ],
   "source": [
    "plot_pop(L1,L2,L3,L4,L5,L6,pop)"
   ]
  },
  {
   "cell_type": "markdown",
   "metadata": {},
   "source": [
    "Même si nous voyons dans l'ensemble l'évolution de la population, les résultats sont trop imprécis pour en déduire quoique ce soit, du au fait que l'on prenne les résultats à l'échelle mondiale. Il faut donc visualiser la situation à l'échelle continentale."
   ]
  },
  {
   "cell_type": "markdown",
   "metadata": {},
   "source": [
    "### Graphiques de la population sur chaque continent"
   ]
  },
  {
   "cell_type": "code",
   "execution_count": 23,
   "metadata": {},
   "outputs": [],
   "source": [
    "def plot_pop1(L1,pop):\n",
    "    plt.figure()\n",
    "    plt.plot(L_annee,L1)\n",
    "    plt.legend([continents[0]])\n",
    "    plt.xlabel(\"Année\")\n",
    "    plt.ylabel(\"Taille population\")\n",
    "    plt.show()\n",
    "    return\n",
    "\n",
    "def plot_pop2(L2,pop):\n",
    "    plt.figure()\n",
    "    plt.plot(L_annee,L2, color=\"orange\")\n",
    "    plt.legend([continents[1]])\n",
    "    plt.xlabel(\"Année\")\n",
    "    plt.ylabel(\"Taille population\")\n",
    "    plt.show()\n",
    "    return\n",
    "\n",
    "def plot_pop3(L3,pop):\n",
    "    plt.figure()\n",
    "    plt.plot(L_annee,L3, color=\"green\")\n",
    "    plt.legend([continents[2]])\n",
    "    plt.xlabel(\"Année\")\n",
    "    plt.ylabel(\"Taille population\")\n",
    "    plt.show()\n",
    "    return\n",
    "\n",
    "def plot_pop4(L4,pop):\n",
    "    plt.figure()\n",
    "    plt.plot(L_annee,L4, color=\"red\")\n",
    "    plt.legend([continents[3]])\n",
    "    plt.xlabel(\"Année\")\n",
    "    plt.ylabel(\"Taille population\")\n",
    "    plt.show()\n",
    "    return\n",
    "\n",
    "def plot_pop5(L5,pop):\n",
    "    plt.figure()\n",
    "    plt.plot(L_annee,L5, color=\"purple\")\n",
    "    plt.legend([continents[4]])\n",
    "    plt.xlabel(\"Année\")\n",
    "    plt.ylabel(\"Taille population\")\n",
    "    plt.show()\n",
    "    return\n",
    "\n",
    "def plot_pop6(L6,pop):\n",
    "    plt.figure()\n",
    "    plt.plot(L_annee,L6, color=\"brown\")\n",
    "    plt.legend([continents[5]])\n",
    "    plt.xlabel(\"Année\")\n",
    "    plt.ylabel(\"Taille population\")\n",
    "    plt.show()\n",
    "    return"
   ]
  },
  {
   "cell_type": "code",
   "execution_count": 24,
   "metadata": {},
   "outputs": [
    {
     "data": {
      "image/png": "[encoded data removed]",
      "text/plain": [
       "<Figure size 432x288 with 1 Axes>"
      ]
     },
     "metadata": {
      "needs_background": "light"
     },
     "output_type": "display_data"
    },
    {
     "data": {
      "image/png": "[encoded data removed]",
      "text/plain": [
       "<Figure size 432x288 with 1 Axes>"
      ]
     },
     "metadata": {
      "needs_background": "light"
     },
     "output_type": "display_data"
    },
    {
     "data": {
      "image/png": "[encoded data removed]",
      "text/plain": [
       "<Figure size 432x288 with 1 Axes>"
      ]
     },
     "metadata": {
      "needs_background": "light"
     },
     "output_type": "display_data"
    },
    {
     "data": {
      "image/png": "[encoded data removed]",
      "text/plain": [
       "<Figure size 432x288 with 1 Axes>"
      ]
     },
     "metadata": {
      "needs_background": "light"
     },
     "output_type": "display_data"
    },
    {
     "data": {
      "image/png": "[encoded data removed]",
      "text/plain": [
       "<Figure size 432x288 with 1 Axes>"
      ]
     },
     "metadata": {
      "needs_background": "light"
     },
     "output_type": "display_data"
    },
    {
     "data": {
      "image/png": "[encoded data removed]",
      "text/plain": [
       "<Figure size 432x288 with 1 Axes>"
      ]
     },
     "metadata": {
      "needs_background": "light"
     },
     "output_type": "display_data"
    }
   ],
   "source": [
    "L1=evolution_pop1(99,pop,80,30,False,False,True)[\"Europe\"]\n",
    "L2=evolution_pop2(99,pop,64652056,1269654,False,False,False)[\"Amérique du Nord\"]\n",
    "L3=evolution_pop3(99,pop,32458540,1941610,True,True,False)[\"Asie\"]\n",
    "L4=evolution_pop4(99,pop,12526560,325960,True,True,False)[\"Afrique\"]\n",
    "L5=evolution_pop5(99,pop,10040,810,True,False,True)[\"Amérique du Sud\"]\n",
    "L6=evolution_pop6(99,pop,8001570,5815250,False,False,False)[\"Océanie\"]\n",
    "\n",
    "plot_pop1(L1,pop)\n",
    "plot_pop2(L2,pop)\n",
    "plot_pop3(L3,pop)\n",
    "plot_pop4(L4,pop)\n",
    "plot_pop5(L5,pop)\n",
    "plot_pop6(L6,pop)"
   ]
  },
  {
   "cell_type": "markdown",
   "metadata": {},
   "source": [
    "## II) PIB (Cyrielle)##"
   ]
  },
  {
   "cell_type": "markdown",
   "metadata": {},
   "source": [
    "# Modélisation du PIB #"
   ]
  },
  {
   "cell_type": "markdown",
   "metadata": {},
   "source": [
    "## Introduction ##"
   ]
  },
  {
   "cell_type": "markdown",
   "metadata": {},
   "source": [
    "### A) Formule ###"
   ]
  },
  {
   "cell_type": "markdown",
   "metadata": {},
   "source": [
    "Le PIB s'exprime en dollars et se calcule de la façon suivante : PIB = CF + FBCF + VS + X - M\n",
    "\n",
    "Avec : \n",
    "\n",
    "- CF = consommation finale effective\n",
    "\n",
    "- FBCF = investissement (formation brute de capital fixe)\n",
    "\n",
    "- VS = variation des stocks\n",
    "\n",
    "- X = exportations\n",
    "\n",
    "- M = importations"
   ]
  },
  {
   "cell_type": "markdown",
   "metadata": {},
   "source": [
    "### B) Hypothèses ###"
   ]
  },
  {
   "cell_type": "markdown",
   "metadata": {},
   "source": [
    "1) On suppose que le cours du dollar ne change pas avec le temps. Il reste fixe à 1€ = 1,13$.\n",
    "\n",
    "2) On suppose que le nombre d'entreprises est proportionnelle au nombre d'habitants.\n",
    "\n",
    "3) On suppose que la variation des stocks est proportionnelle au nomnre d'entreprises."
   ]
  },
  {
   "cell_type": "markdown",
   "metadata": {},
   "source": [
    "## I- PIB mondial (1ère approche : données France) ##"
   ]
  },
  {
   "cell_type": "markdown",
   "metadata": {},
   "source": [
    "Le PIB mondial ne prend pas en compte les exportations et importations qui s'annulent."
   ]
  },
  {
   "cell_type": "markdown",
   "metadata": {},
   "source": [
    "### 1) Calcul de CF ###"
   ]
  },
  {
   "cell_type": "markdown",
   "metadata": {},
   "source": [
    "On définit la consommation finale par : dépense moyenne annuelle * nb de personnes\n",
    "\n",
    "La dépense moyenne annuelle change selon le type de foyer (d'après l'Insee avec les valeurs françaises):\n",
    "\n",
    "1 personne : 16 641€ soit 18 785$\n",
    "\n",
    "2 personnes : 18 000€ soit 20 319$\n",
    "\n",
    "3 personnes : 23 016€ soit 25 981$\n",
    "\n",
    "4 personnes : 30 684€ soit 34 637$\n",
    "\n",
    "5 personnes : 32 653€ soit 36 860$\n",
    "\n",
    "Nous avons la proportions de chaque foyer en France :\n",
    "\n",
    "1 personne : 35%\n",
    "\n",
    "2 personnes : 33%\n",
    "\n",
    "3 personnes : 14%\n",
    "\n",
    "4 personnes : 12%\n",
    "\n",
    "5 personnes : 6%\n",
    "\n",
    "Nous calculons la proportion de personnes vivant dans un foyer de 1, 2, 3, 4 ou 5 personnes. Pour cela nous calculons grâce aux proportions ci-dessus, le nombre de personnes totales d'une population.\n",
    "\n",
    "35 + 33 * 2 + 14 * 3 + 12 * 4 + 6 * 5 = 221\n",
    "\n",
    "Ainsi, nous ressortons les proportions de personnes vivant dans chaque type de foyer :\n",
    "\n",
    "1 personne : 35 / 221 * 100 = 16%\n",
    "\n",
    "2 personnes : 33 2 / 221 * 100 = 30%\n",
    "\n",
    "3 personnes : 14 3 / 221 * 100 = 19%\n",
    "\n",
    "4 personnes : 12 4 / 221 * 100 = 22%\n",
    "\n",
    "5 personnes : 5 6 / 221 * 100 = 13%"
   ]
  },
  {
   "cell_type": "code",
   "execution_count": 25,
   "metadata": {},
   "outputs": [],
   "source": [
    "pe={1:0.16, 2:0.30, 3:0.19, 4:0.22, 5:0.13} #proportion de personnes vivants dans un certain foyer\n",
    "d={1:18785, 2:20319, 3:25981, 4:34637, 5:36860} #dépenses du foyer"
   ]
  },
  {
   "cell_type": "code",
   "execution_count": 26,
   "metadata": {},
   "outputs": [],
   "source": [
    "def CF(pop, pe, d):\n",
    "    \"\"\"int*dict[int:float]*dict[int:int]->float\"\"\"\n",
    "    D=dict()\n",
    "    for i in pe:\n",
    "        D[i]=pop*pe[i]\n",
    "    DR=dict()\n",
    "    for j in D:\n",
    "        DR[j]=D[j]*d[j]/j\n",
    "    s=0\n",
    "    for k in DR:\n",
    "        s=DR[k]+s\n",
    "    return s"
   ]
  },
  {
   "cell_type": "code",
   "execution_count": 27,
   "metadata": {},
   "outputs": [
    {
     "data": {
      "text/plain": [
       "79748195241450.0"
      ]
     },
     "execution_count": 27,
     "metadata": {},
     "output_type": "execute_result"
    }
   ],
   "source": [
    "CF(7550262000, pe, d)"
   ]
  },
  {
   "cell_type": "markdown",
   "metadata": {},
   "source": [
    "### 2) Calcul du FBCF ###"
   ]
  },
  {
   "cell_type": "markdown",
   "metadata": {},
   "source": [
    "Le FBCF se calcule par la somme des achats et travaux immobiliers des particuliers et les investissements des entreprises et institutions publiques.\n",
    "\n",
    "En 2017, il y a, d'après l'Insee, 515 900 000 000€ investissements des institutions et entreprises françaises. Soit 582 476 895 000$.\n",
    "\n",
    "En 2017, il y a, 4 751 553 entreprises et institutions françaises. Il y a également 67 120 000 habitants en France.\n",
    "\n",
    "Nous pouvons donc dire qu'approximativement 1 entreprise investit 582 476 895 000 / 4 751 553$ par an.\n",
    "\n",
    "Une entreprise investit donc 122 587$ par an.\n",
    "\n",
    "Pour déterminer le nombre d'entreprises on fait un produit en croix : 4 751 553 * pop / 67 120 000."
   ]
  },
  {
   "cell_type": "code",
   "execution_count": 28,
   "metadata": {},
   "outputs": [],
   "source": [
    " fbcf={1:953, 2:2106, 3:738, 4:2378, 5:1589} #dépenses des particuliers"
   ]
  },
  {
   "cell_type": "code",
   "execution_count": 29,
   "metadata": {},
   "outputs": [],
   "source": [
    "def FBCF(pop, fbcf, pe):\n",
    "    \"\"\"int*dict[int:int]*dict[int:float]->float\"\"\"\n",
    "    D=dict()\n",
    "    for i in pe:\n",
    "        D[i]=pop*pe[i]\n",
    "    DR=dict()\n",
    "    for j in D:\n",
    "        DR[j]=D[j]*fbcf[j]/j\n",
    "    s=round(4751553*pop*122587/67120000)\n",
    "    for k in DR:\n",
    "        s=s+DR[k]\n",
    "    return s"
   ]
  },
  {
   "cell_type": "code",
   "execution_count": 30,
   "metadata": {},
   "outputs": [
    {
     "data": {
      "text/plain": [
       "70711162371036.0"
      ]
     },
     "execution_count": 30,
     "metadata": {},
     "output_type": "execute_result"
    }
   ],
   "source": [
    "FBCF(7550262000, fbcf, pe)"
   ]
  },
  {
   "cell_type": "markdown",
   "metadata": {},
   "source": [
    "### 3) Calcul de VS ###"
   ]
  },
  {
   "cell_type": "markdown",
   "metadata": {},
   "source": [
    "La variation des stocks se calcule grâce aux stocksde début d'année moins les tsocks de fin d'années.\n",
    "\n",
    "En 2017, en France, d'après l'Insee, il y a 21 000 000 000€ de variation de stocks, soit 23 698 017 000$.\n",
    "\n",
    "Il y a 4 751 553 entreprises et institutions en France en 2017.\n",
    "\n",
    "On calcule donc la variation de stocks pour une entreprise : 23 698 017 000 / 4 751 553$.\n",
    "\n",
    "Une entreprise a donc une variation de stock d'environ 4 987$."
   ]
  },
  {
   "cell_type": "code",
   "execution_count": 31,
   "metadata": {},
   "outputs": [],
   "source": [
    "def VS(pop):\n",
    "    \"\"\"int->number\"\"\"\n",
    "    e=round(4751553*pop/67120000) #nombre d'entreprises\n",
    "    return e*4987"
   ]
  },
  {
   "cell_type": "code",
   "execution_count": 32,
   "metadata": {},
   "outputs": [
    {
     "data": {
      "text/plain": [
       "2665538872916"
      ]
     },
     "execution_count": 32,
     "metadata": {},
     "output_type": "execute_result"
    }
   ],
   "source": [
    "VS(7550262000)"
   ]
  },
  {
   "cell_type": "markdown",
   "metadata": {},
   "source": [
    "### Calcul du PIB mondial ###"
   ]
  },
  {
   "cell_type": "code",
   "execution_count": 33,
   "metadata": {},
   "outputs": [],
   "source": [
    "def PIB(pop, pe, d, fbcf):\n",
    "    \"\"\"int*dict[int:float]*dict[int:int]*dict[int*int]->float\"\"\"\n",
    "    cfu=CF(pop, pe, d)\n",
    "    fbcfu=FBCF(pop, fbcf, pe)\n",
    "    vsu=VS(pop)\n",
    "    return cfu+fbcfu+vsu"
   ]
  },
  {
   "cell_type": "code",
   "execution_count": 34,
   "metadata": {},
   "outputs": [
    {
     "data": {
      "text/plain": [
       "153124896485402.0"
      ]
     },
     "execution_count": 34,
     "metadata": {},
     "output_type": "execute_result"
    }
   ],
   "source": [
    "PIB(7550262000, pe, d, fbcf)"
   ]
  },
  {
   "cell_type": "markdown",
   "metadata": {},
   "source": [
    "La première approximation est éloignée de la réalité puisque le PIB de 2017 mondial était de 79 865 000 000 000$."
   ]
  },
  {
   "cell_type": "markdown",
   "metadata": {},
   "source": [
    "## II- PIB mondial (2ème approche : données par continents)"
   ]
  },
  {
   "cell_type": "markdown",
   "metadata": {},
   "source": [
    "### 1) Calcul de CF"
   ]
  },
  {
   "cell_type": "markdown",
   "metadata": {},
   "source": [
    "On estime grâce aux valeurs de la banque mondiale les données ci-dessous (il s'agit de prendre en compte la plus grande région du continent pour être le plus précis possible) :\n",
    "\n",
    "Les dépenses de consommations finales par habitant de chaque continents en 2016-2017 sont : \n",
    "\n",
    "- Afrique : Afrique du Nord (189 268 020 hab) et Moyen-Orient (415 385 000 hab) + Afrique Subsaharienne (1 022 664 451 hab) = 3 416.37 (CF par hab en AN et MO) + 1 028 (CF par hab en AS) = ((nb hab AN + MO) * 3 416.37 + nb hab AS * 1 028)/(nb hab tot) = 1 915$\n",
    "\n",
    "- Asie : Asie de l'Est et Pacifique (1 624 853 705 hab) + Asie du Sud (1 870 460 803 hab) + Russie (142 300 000 hab) = 4 637.10 (CF par hab en AS et P) + 1 059.60 (CF par hab en AS) + 5 874 (CF par hab en R) = ((nb hab AS + P) * 4 637.10 + nb hab AS * 1 029.60 + nb hab R * 5 874)/(nb hab tot) = 2 831$\n",
    "\n",
    "- Amérique du Nord : Amérique du Nord (donnée déjà calculée) = 35 639$\n",
    "\n",
    "- Amérique du Sud : Amérique latine et Caraïbes (donnée déjà calculée) = 5 668$\n",
    "\n",
    "- Europe : Europe centrale (200 000 000 hab) et Pays Baltes (6 826 000 hab) + Union Européenne (512 000 000 hab) = 8 902.27 (CF par hab en EC et PB) + 20 314.23 (CF par hab en UE) = ((nb hab EC + PB) * 8 902.27 + nb hab UE * 20 314.23)/(nb hab tot) = 17 031$\n",
    "\n",
    "- Océanie : Australie (24 641 661 hab) + Nouvelle Zélande (4 604 871 hab) = 31 410.64 (CF par hab en A) + 22 434.13 (CF par hab en NZ) = (nb hab A * 31 410.64 + nb hab NZ * 22 434.13)/(nb hab tot) = 29 997$"
   ]
  },
  {
   "cell_type": "code",
   "execution_count": 35,
   "metadata": {},
   "outputs": [],
   "source": [
    "cfc={\"Afrique\":1915, \"Asie\":2831, \"Amérique du Nord\":35639, \"Amérique du Sud\":5668, \"Europe\":17031, \"Océanie\":29997}\n",
    "continents=[\"Europe\", \"Amérique du Nord\",\"Asie\", \"Afrique\", \"Amérique du Sud\", \"Océanie\"]\n",
    "pop={\"Europe\":742074000,\"Amérique du Nord\":361208000,\"Asie\":4504428000,\"Afrique\":1256268000, \n",
    "            \"Amérique du Sud\":645593000,\"Océanie\":40691000}"
   ]
  },
  {
   "cell_type": "code",
   "execution_count": 36,
   "metadata": {},
   "outputs": [],
   "source": [
    "def cf_continents(cfc, continents, pop):\n",
    "    \"\"\"dict[str:int]*list[str]*dict[str:int]->int\"\"\"\n",
    "    s=0\n",
    "    for i in continents:\n",
    "        s=s+cfc[i]*pop[i]\n",
    "    return s"
   ]
  },
  {
   "cell_type": "code",
   "execution_count": 37,
   "metadata": {},
   "outputs": [
    {
     "data": {
      "text/plain": [
       "45548972145000"
      ]
     },
     "execution_count": 37,
     "metadata": {},
     "output_type": "execute_result"
    }
   ],
   "source": [
    "cf_continents(cfc, continents, pop)"
   ]
  },
  {
   "cell_type": "markdown",
   "metadata": {},
   "source": [
    "### 2) Calcul du FBCF"
   ]
  },
  {
   "cell_type": "markdown",
   "metadata": {},
   "source": [
    "On décide pour la deuxième partie de ne pas séparer les consommation des particuliers et celles des entreprises.\n",
    "\n",
    "On estime grâce aux valeurs de la banque mondiale les données ci-dessous pour le FBCF par habitant. Nous prenons le même nombre d'habitants pour chaque région que pour le CF.\n",
    "\n",
    "Afrique : Afrique du Nord et Moyen-Orient + Afrique Subsaharienne = (957 612 910 000 (FBCF de la région AN + MO) + 361 913 030 000 (FBCF de la région AS))/(nb hab AN + MO + AS) = 811$\n",
    "\n",
    "Asie : Asie de l'Est et Pacifique + Asie du Sud + Russie = (8 167 609 820 000 (FBCF de la régio AE + P) + 1 049 269 340 000 (FBCF de la région AS) + 390 369 330 000 (FBCF de la région R))/(nb hab AE + P + AS + R) = 2 641$\n",
    "\n",
    "Amérique du Nord : Amérique du Nord (361 208 000 hab) = 3 788 598 830 000 (FBCF de la région AN)/(nb hab AN) = 10 489$\n",
    "\n",
    "Amérique du Sud : Amérique latine et Caraïbes (647 565 335) = 1 131 073 580 000 (FBCF de la région AL +C)/(nb hab AL + C) = 1747$\n",
    "\n",
    "Europe : Europe centrale et Pays Baltes + Union Européenne = (360 640 590 000 (FBCF de la région EC + PB) + 3 943 976 300 000 (FBCF de la région UE)/(nb hab EC + PB + UE) = 5 988$\n",
    "\n",
    "Océanie : Australie + Nouvelle-Zélande = (333 107 700 000 (FBCF de la région A) + 41 880 470 000 (FBCF de la région NZ)/(nb hab A + NZ) = 12 822$"
   ]
  },
  {
   "cell_type": "code",
   "execution_count": 38,
   "metadata": {},
   "outputs": [],
   "source": [
    "fbcfc={\"Afrique\":811, \"Asie\":2641, \"Amérique du Nord\":10489, \"Amérique du Sud\":1747, \"Europe\":5988, \"Océanie\":12822}"
   ]
  },
  {
   "cell_type": "code",
   "execution_count": 39,
   "metadata": {},
   "outputs": [],
   "source": [
    "def fbcf_continents(fbcfc, continents, pop):\n",
    "    \"\"\"dict[str:int]*list[str]*dict[str:int]->int\"\"\"\n",
    "    s=0\n",
    "    for i in continents :\n",
    "        s=s+fbcfc[i]*pop[i]\n",
    "    return s"
   ]
  },
  {
   "cell_type": "code",
   "execution_count": 40,
   "metadata": {},
   "outputs": [
    {
     "data": {
      "text/plain": [
       "22796868493000"
      ]
     },
     "execution_count": 40,
     "metadata": {},
     "output_type": "execute_result"
    }
   ],
   "source": [
    "fbcf_continents(fbcfc, continents, pop)"
   ]
  },
  {
   "cell_type": "markdown",
   "metadata": {},
   "source": [
    "### 3) Calcul de VS"
   ]
  },
  {
   "cell_type": "markdown",
   "metadata": {},
   "source": [
    "On estime les données de variation de stocks par continent et par habitant en fonction des données par pays données par la banque mondiale :\n",
    "\n",
    "Afrique : Nous prenons 35 pays : (Somme des VS des 35 pays)/(nb hab des 35 pays) = 25 882 545 790/815 970 010 = 32$\n",
    "\n",
    "Asie : Nous prenons 31 pays : (Somme des VS des 31 pays)/(nb hab des 31 pays) = 224 074 187 950/4 092 924 088 = 55$\n",
    "\n",
    "Amérique du Nord : Nous prenons 3 pays : (Somme des VS des 3 pays)/(nb hab des 3 pays) = 55 557 762 400/493 322 910 = 113$\n",
    "\n",
    "Amérique du Sud : Nous prenons 15 pays : (Somme des VS des 15 pays)/(nb hab des 15 pays) = 28 727 147 680/418 773 224 = 69$\n",
    "\n",
    "Europe : Nous prenons 38 pays : (Somme des VS des 38 pays)/(nb hab des 38 pays) = 63 185 345 240/595 237 863 = 106$\n",
    "\n",
    "Océanie : Nous prenons 3 pays : (Somme des VS des 3 pays)/(nb hab des 3 pays) = 2 866 156 836/29 267 823 = 98$\n",
    "\n"
   ]
  },
  {
   "cell_type": "code",
   "execution_count": 41,
   "metadata": {},
   "outputs": [],
   "source": [
    "vsc={\"Afrique\":32, \"Asie\":55, \"Amérique du Nord\":113, \"Amérique du Sud\":69, \"Europe\":106, \"Océanie\":98}"
   ]
  },
  {
   "cell_type": "code",
   "execution_count": 42,
   "metadata": {},
   "outputs": [],
   "source": [
    "def vs_continents(vsc, continents, pop):\n",
    "    \"\"\"dict[str:int]*list[str]*dict[str:int]->int\"\"\"\n",
    "    s=0\n",
    "    for i in continents:\n",
    "        s=s+vsc[i]*pop[i]\n",
    "    return s"
   ]
  },
  {
   "cell_type": "code",
   "execution_count": 43,
   "metadata": {},
   "outputs": [
    {
     "data": {
      "text/plain": [
       "455954099000"
      ]
     },
     "execution_count": 43,
     "metadata": {},
     "output_type": "execute_result"
    }
   ],
   "source": [
    "vs_continents(vsc, continents, pop)"
   ]
  },
  {
   "cell_type": "markdown",
   "metadata": {},
   "source": [
    "### Calcul du PIB"
   ]
  },
  {
   "cell_type": "code",
   "execution_count": 44,
   "metadata": {},
   "outputs": [],
   "source": [
    "def PIB_continents(cfc, fbcfc, vsc, continents, pop):\n",
    "    \"\"\"dict[str:int]*dict[str:int]*dict[str:int]*list[str]*dict[str:int]->int\"\"\"\n",
    "    cfcu=cf_continents(cfc, continents, pop)\n",
    "    fbcfcu=fbcf_continents(fbcfc, continents, pop)\n",
    "    vscu=vs_continents(vsc, continents, pop)\n",
    "    return cfcu+fbcfcu+vscu"
   ]
  },
  {
   "cell_type": "code",
   "execution_count": 45,
   "metadata": {},
   "outputs": [
    {
     "data": {
      "text/plain": [
       "68801794737000"
      ]
     },
     "execution_count": 45,
     "metadata": {},
     "output_type": "execute_result"
    }
   ],
   "source": [
    "PIB_continents(cfc, fbcfc, vsc, continents, pop)"
   ]
  },
  {
   "cell_type": "markdown",
   "metadata": {},
   "source": [
    "Le PIB mondial de 2017 était de 79 865 000 000 000$.\n",
    "\n",
    "Il reste encore environ 10 000 000 000 000$ de différence entre la modélisation et la valeur réelle."
   ]
  },
  {
   "cell_type": "markdown",
   "metadata": {},
   "source": [
    "## III- PIB mondial (3ème approche : Régression linéaire)"
   ]
  },
  {
   "cell_type": "code",
   "execution_count": 46,
   "metadata": {
    "scrolled": true
   },
   "outputs": [],
   "source": [
    "import pandas as pd\n",
    "import matplotlib.pyplot as plt\n",
    "import numpy as np\n",
    "from scipy import stats\n",
    "\n",
    "pib_data = pd.read_csv(\"./pib.csv\")\n"
   ]
  },
  {
   "cell_type": "code",
   "execution_count": 47,
   "metadata": {},
   "outputs": [],
   "source": [
    "annee = pib_data.iloc[0:len(pib_data),0]\n",
    "PIB = pib_data.iloc[0:len(pib_data),1] \n",
    "X=[i for i in annee]\n",
    "Y=[i for i in PIB]"
   ]
  },
  {
   "cell_type": "code",
   "execution_count": 48,
   "metadata": {},
   "outputs": [
    {
     "data": {
      "image/png": "[encoded data removed]",
      "text/plain": [
       "<Figure size 432x288 with 1 Axes>"
      ]
     },
     "metadata": {
      "needs_background": "light"
     },
     "output_type": "display_data"
    }
   ],
   "source": [
    "axes = plt.axes()\n",
    "axes.grid()\n",
    "plt.plot(X, Y)\n",
    "plt.xlabel('Année')\n",
    "plt.ylabel('PIB en $')\n",
    "plt.show()"
   ]
  },
  {
   "cell_type": "code",
   "execution_count": 49,
   "metadata": {},
   "outputs": [],
   "source": [
    "def predict(slope, intercept, x):\n",
    "    \n",
    "    return slope*np.asarray(x) + intercept"
   ]
  },
  {
   "cell_type": "code",
   "execution_count": 50,
   "metadata": {},
   "outputs": [],
   "source": [
    "def graph():\n",
    "    axes = plt.axes()\n",
    "    axes.grid()\n",
    "    plt.title('Approximation du paramètre PIB')\n",
    "    plt.xlabel('Année')\n",
    "    plt.ylabel('PIB en $')\n",
    "    plt.plot(X , Y)\n",
    "    slope, intercept, r_value, p_value, std_err = stats.linregress(X, Y)\n",
    "    plt.plot(X, predict(slope, intercept, X), c='r')\n",
    "    plt.show()\n",
    "    \n",
    "def PIB(year):\n",
    "    slope, intercept, r_value, p_value, std_err = stats.linregress(X, Y)\n",
    "    return slope*year + intercept"
   ]
  },
  {
   "cell_type": "code",
   "execution_count": 51,
   "metadata": {},
   "outputs": [
    {
     "data": {
      "image/png": "[encoded data removed]",
      "text/plain": [
       "<Figure size 432x288 with 1 Axes>"
      ]
     },
     "metadata": {
      "needs_background": "light"
     },
     "output_type": "display_data"
    }
   ],
   "source": [
    "graph()"
   ]
  },
  {
   "cell_type": "code",
   "execution_count": 52,
   "metadata": {},
   "outputs": [],
   "source": [
    "def futur_mondial(year):\n",
    "    \"\"\"int->list[float]\"\"\"\n",
    "    L=[]\n",
    "    for i in range(2010,year):\n",
    "        L.append(PIB(i))\n",
    "    return L"
   ]
  },
  {
   "cell_type": "code",
   "execution_count": 53,
   "metadata": {},
   "outputs": [],
   "source": [
    "L=futur_mondial(2101)\n",
    "annee_futur=[i for i in range(2010,2101)]\n",
    "def graph_monde():\n",
    "    axes = plt.axes()\n",
    "    axes.grid()\n",
    "    plt.title('Approximation du paramètre PIB')\n",
    "    plt.xlabel('Année')\n",
    "    plt.ylabel('PIB en $')\n",
    "    plt.plot(annee_futur, L)\n",
    "    plt.show()"
   ]
  },
  {
   "cell_type": "code",
   "execution_count": 54,
   "metadata": {},
   "outputs": [
    {
     "data": {
      "image/png": "[encoded data removed]",
      "text/plain": [
       "<Figure size 432x288 with 1 Axes>"
      ]
     },
     "metadata": {
      "needs_background": "light"
     },
     "output_type": "display_data"
    }
   ],
   "source": [
    "graph_monde()"
   ]
  },
  {
   "cell_type": "code",
   "execution_count": 55,
   "metadata": {},
   "outputs": [
    {
     "data": {
      "text/plain": [
       "67872053087868.5"
      ]
     },
     "execution_count": 55,
     "metadata": {},
     "output_type": "execute_result"
    }
   ],
   "source": [
    "PIB(2017)"
   ]
  },
  {
   "cell_type": "markdown",
   "metadata": {},
   "source": [
    "Le PIB mondial de 2017 était de 79 865 000 000 000$.\n",
    "\n",
    "Notre deuxième approche (PIB par continents) était plus proche de la réalité que celle-ci. Ainsi, nous prendrons la deuxième approche pour modéliser le futur.\n",
    "De plus l'approche par population parait plus réaliste. Si la population diminue, le PIB doit également diminuer."
   ]
  },
  {
   "cell_type": "markdown",
   "metadata": {},
   "source": [
    "## IV- PIB continental"
   ]
  },
  {
   "cell_type": "markdown",
   "metadata": {},
   "source": [
    "On utilise les même données que dans le PIB mondial par continent."
   ]
  },
  {
   "cell_type": "markdown",
   "metadata": {},
   "source": [
    "### 1) Calcul de CF"
   ]
  },
  {
   "cell_type": "code",
   "execution_count": 56,
   "metadata": {},
   "outputs": [],
   "source": [
    "cfc={\"Afrique\":1915, \"Asie\":2831, \"Amérique du Nord\":35639, \"Amérique du Sud\":5668, \"Europe\":17031, \"Océanie\":29997}\n",
    "continents=[\"Europe\", \"Amérique du Nord\",\"Asie\", \"Afrique\", \"Amérique du Sud\", \"Océanie\"]\n",
    "pop={\"Europe\":742074000,\"Amérique du Nord\":361208000,\"Asie\":4504428000,\"Afrique\":1256268000, \n",
    "            \"Amérique du Sud\":645593000,\"Océanie\":40691000}"
   ]
  },
  {
   "cell_type": "code",
   "execution_count": 57,
   "metadata": {},
   "outputs": [],
   "source": [
    "def cf_continental(cfc, continents, pop, continent):\n",
    "    \"\"\"dict[str:int]*list[str]*dict[str:int]*str->int\"\"\"\n",
    "    s=0\n",
    "    for i in continents:\n",
    "        if i==continent:\n",
    "            s=s+cfc[i]*pop[i]\n",
    "    return s"
   ]
  },
  {
   "cell_type": "code",
   "execution_count": 58,
   "metadata": {},
   "outputs": [
    {
     "data": {
      "text/plain": [
       "12638262294000"
      ]
     },
     "execution_count": 58,
     "metadata": {},
     "output_type": "execute_result"
    }
   ],
   "source": [
    "cf_continental(cfc, continents, pop, \"Europe\")"
   ]
  },
  {
   "cell_type": "markdown",
   "metadata": {},
   "source": [
    "### 2) Calcul du FBCF"
   ]
  },
  {
   "cell_type": "code",
   "execution_count": 59,
   "metadata": {},
   "outputs": [],
   "source": [
    "fbcfc={\"Afrique\":811, \"Asie\":2641, \"Amérique du Nord\":10489, \"Amérique du Sud\":1747, \"Europe\":5988, \"Océanie\":12822}"
   ]
  },
  {
   "cell_type": "code",
   "execution_count": 60,
   "metadata": {},
   "outputs": [],
   "source": [
    "def fbcf_continental(fbcfc, continents, pop, continent):\n",
    "    \"\"\"dict[str:int]*list[str]*dict[str:int]*str->int\"\"\"\n",
    "    s=0\n",
    "    for i in continents :\n",
    "        if i==continent:\n",
    "            s=s+fbcfc[i]*pop[i]\n",
    "    return s"
   ]
  },
  {
   "cell_type": "code",
   "execution_count": 61,
   "metadata": {},
   "outputs": [
    {
     "data": {
      "text/plain": [
       "4443539112000"
      ]
     },
     "execution_count": 61,
     "metadata": {},
     "output_type": "execute_result"
    }
   ],
   "source": [
    "fbcf_continental(fbcfc, continents, pop, \"Europe\")"
   ]
  },
  {
   "cell_type": "markdown",
   "metadata": {},
   "source": [
    "### 3) Calcul de VS"
   ]
  },
  {
   "cell_type": "code",
   "execution_count": 62,
   "metadata": {},
   "outputs": [],
   "source": [
    "vsc={\"Afrique\":32, \"Asie\":55, \"Amérique du Nord\":113, \"Amérique du Sud\":69, \"Europe\":106, \"Océanie\":98}"
   ]
  },
  {
   "cell_type": "code",
   "execution_count": 63,
   "metadata": {},
   "outputs": [],
   "source": [
    "def vs_continental(vsc, continents, pop, continent):\n",
    "    \"\"\"dict[str:int]*list[str]*dict[str:int]*str->int\"\"\"\n",
    "    s=0\n",
    "    for i in continents:\n",
    "        if i==continent:\n",
    "            s=s+vsc[i]*pop[i]\n",
    "    return s"
   ]
  },
  {
   "cell_type": "code",
   "execution_count": 64,
   "metadata": {},
   "outputs": [
    {
     "data": {
      "text/plain": [
       "78659844000"
      ]
     },
     "execution_count": 64,
     "metadata": {},
     "output_type": "execute_result"
    }
   ],
   "source": [
    "vs_continental(vsc, continents, pop, \"Europe\")"
   ]
  },
  {
   "cell_type": "markdown",
   "metadata": {},
   "source": [
    "### 4) Calcul de X"
   ]
  },
  {
   "cell_type": "markdown",
   "metadata": {},
   "source": [
    "D'après le site Perspective les exportations par continent en 2016/2017 sont :\n",
    "\n",
    "Afrique : 450 141 000 000$\n",
    "\n",
    "Asie : 6 622 214 000 000$\n",
    "\n",
    "Amérique du Nord : 3 089 941 000 000$\n",
    "\n",
    "Amérique du Sud : 603 638 000 000$\n",
    "\n",
    "Europe : 8 560 857 000 000$\n",
    "\n",
    "Océanie : 281 453 000 000$"
   ]
  },
  {
   "cell_type": "code",
   "execution_count": 65,
   "metadata": {},
   "outputs": [],
   "source": [
    "xc={\"Afrique\":450141000000, \"Asie\":6622214000000, \"Amérique du Nord\":3089941000000, \"Amérique du Sud\":603638000000, \"Europe\":8560857000000, \"Océanie\":281453000000}"
   ]
  },
  {
   "cell_type": "code",
   "execution_count": 66,
   "metadata": {},
   "outputs": [],
   "source": [
    "def x_continental(xc, continent):\n",
    "    \"\"\"dict[str:int]*str->int\"\"\"\n",
    "    return xc[continent]"
   ]
  },
  {
   "cell_type": "code",
   "execution_count": 67,
   "metadata": {},
   "outputs": [
    {
     "data": {
      "text/plain": [
       "8560857000000"
      ]
     },
     "execution_count": 67,
     "metadata": {},
     "output_type": "execute_result"
    }
   ],
   "source": [
    "x_continental(xc,\"Europe\")"
   ]
  },
  {
   "cell_type": "markdown",
   "metadata": {},
   "source": [
    "### 5) Calcul de M"
   ]
  },
  {
   "cell_type": "markdown",
   "metadata": {},
   "source": [
    "\n",
    "D'après le site de Perspective les importations par continents en 2016/2017 sont :\n",
    "\n",
    "Afrique : 590 331 000 000$\n",
    "\n",
    "Asie : 6 084 681 000 000$\n",
    "\n",
    "Amérique du Nord : 3 669 595 000 000$\n",
    "\n",
    "Amérique du Sud : 644 905 000 000$\n",
    "\n",
    "Europe : 7 870 121 000 000$\n",
    "\n",
    "Océanie : 308 229 000 000$"
   ]
  },
  {
   "cell_type": "code",
   "execution_count": 68,
   "metadata": {},
   "outputs": [],
   "source": [
    "mc={\"Afrique\":590331000000, \"Asie\":6084681000000, \"Amérique du Nord\":3669595000000, \"Amérique du Sud\":644905000000, \"Europe\":7870121000000, \"Océanie\":308229000000}"
   ]
  },
  {
   "cell_type": "code",
   "execution_count": 69,
   "metadata": {},
   "outputs": [],
   "source": [
    "def m_continental(mc, continent):\n",
    "    \"\"\"dict[str:int]*str\"\"\"\n",
    "    return mc[continent]"
   ]
  },
  {
   "cell_type": "code",
   "execution_count": 70,
   "metadata": {},
   "outputs": [
    {
     "data": {
      "text/plain": [
       "7870121000000"
      ]
     },
     "execution_count": 70,
     "metadata": {},
     "output_type": "execute_result"
    }
   ],
   "source": [
    "m_continental(mc, \"Europe\")"
   ]
  },
  {
   "cell_type": "markdown",
   "metadata": {},
   "source": [
    "### Calcul du PIB"
   ]
  },
  {
   "cell_type": "code",
   "execution_count": 71,
   "metadata": {},
   "outputs": [],
   "source": [
    "def PIB_continental(cfc, fbcfc, vsc, continents, xc, mc, pop, continent):\n",
    "    \"\"\"dict[str:int]*dict[str:int]*dict[str:int]*list[str]*dict[str:int]*dict[str:int]*dict[str:int]*str->int\"\"\"\n",
    "    cfcu=cf_continental(cfc, continents, pop, continent)\n",
    "    fbcfcu=fbcf_continental(fbcfc, continents, pop, continent)\n",
    "    vscu=vs_continental(vsc, continents, pop, continent)\n",
    "    xu=x_continental(xc, continent)\n",
    "    mu=m_continental(mc, continent)\n",
    "    return cfcu+fbcfcu+vscu+xu-mu"
   ]
  },
  {
   "cell_type": "code",
   "execution_count": 72,
   "metadata": {},
   "outputs": [
    {
     "data": {
      "text/plain": [
       "17851197250000"
      ]
     },
     "execution_count": 72,
     "metadata": {},
     "output_type": "execute_result"
    }
   ],
   "source": [
    "PIB_continental(cfc, fbcfc, vsc, continents, xc, mc, pop, \"Europe\")"
   ]
  },
  {
   "cell_type": "code",
   "execution_count": 73,
   "metadata": {},
   "outputs": [],
   "source": [
    "def PIB_6continents(cfc, fbcfc, vsc, continents, xc, mc, pop):\n",
    "    \"\"\"dict[str:int]*dict[str:int]*dict[str:int]*list[str]*dict[str:int]*dict[str:int]*dict[str:int]->dict[str:int]\"\"\"\n",
    "    D=dict()\n",
    "    for i in continents:\n",
    "        D[i]=PIB_continental(cfc, fbcfc, vsc, continents, xc, mc, pop, i)\n",
    "    return D"
   ]
  },
  {
   "cell_type": "code",
   "execution_count": 74,
   "metadata": {},
   "outputs": [
    {
     "data": {
      "text/plain": [
       "{'Europe': 17851197250000,\n",
       " 'Amérique du Nord': 16122965128000,\n",
       " 'Asie': 25433506556000,\n",
       " 'Afrique': 3324597144000,\n",
       " 'Amérique du Sud': 4790351012000,\n",
       " 'Océanie': 1719559647000}"
      ]
     },
     "execution_count": 74,
     "metadata": {},
     "output_type": "execute_result"
    }
   ],
   "source": [
    "PIB_6continents(cfc, fbcfc, vsc, continents, xc, mc, pop)"
   ]
  },
  {
   "cell_type": "markdown",
   "metadata": {},
   "source": [
    "### Evolution PIB"
   ]
  },
  {
   "cell_type": "code",
   "execution_count": 75,
   "metadata": {},
   "outputs": [],
   "source": [
    "def evolution_PIB(a,pop,n1,m1,probleme1,positif1,fixe1,n2,m2,probleme2,positif2,fixe2,n3,m3,probleme3,positif3,fixe3,n4,m4,probleme4,positif4,fixe4,n5,m5,probleme5,positif5,fixe5,n6,m6,probleme6,positif6,fixe6,cfc,fbcfc,vsc,continents,xc,mc):\n",
    "    D={\"Europe\":[],\"Amérique du Nord\":[],\"Asie\":[],\"Afrique\":[],\"Amérique du Sud\":[],\"Océanie\":[]}\n",
    "    popu=evolution_pop(a,pop,n1,m1,probleme1,positif1,fixe1,n2,m2,probleme2,positif2,fixe2,n3,m3,probleme3,positif3,fixe3,n4,m4,probleme4,positif4,fixe4,n5,m5,probleme5,positif5,fixe5,n6,m6,probleme6,positif6,fixe6)\n",
    "    \n",
    "    for i in range(0,a+1):\n",
    "        popx=dict()\n",
    "        for k in continents:\n",
    "            popx[k]=popu[k][i]\n",
    "        for j in continents:\n",
    "            D[j].append(PIB_continental(cfc, fbcfc, vsc, continents, xc, mc, popx, j))\n",
    "    return D"
   ]
  },
  {
   "cell_type": "code",
   "execution_count": 76,
   "metadata": {},
   "outputs": [
    {
     "data": {
      "text/plain": [
       "{'Europe': [17851197250000,\n",
       "  18333141143125,\n",
       "  18835856674375,\n",
       "  19321221633750,\n",
       "  19720921487500,\n",
       "  20126129369375],\n",
       " 'Amérique du Nord': [16122965128000,\n",
       "  15585387839245,\n",
       "  15031108440013,\n",
       "  14458002665005,\n",
       "  13863475238096,\n",
       "  13244307693204],\n",
       " 'Asie': [25433506556000,\n",
       "  25445620407993,\n",
       "  25457728362677,\n",
       "  25469830431106,\n",
       "  25481926629861,\n",
       "  25494016958942],\n",
       " 'Afrique': [3324597144000,\n",
       "  3410532844116,\n",
       "  3498599970760,\n",
       "  3588851389276,\n",
       "  3681341277816,\n",
       "  3776125154920],\n",
       " 'Amérique du Sud': [4790351012000,\n",
       "  4836470099272,\n",
       "  4883029410392,\n",
       "  4930033143884,\n",
       "  4977485535692,\n",
       "  5025390874148],\n",
       " 'Océanie': [1719559647000,\n",
       "  1343477976000,\n",
       "  776014810220,\n",
       "  485536374511,\n",
       "  21382281542,\n",
       "  -26776000000]}"
      ]
     },
     "execution_count": 76,
     "metadata": {},
     "output_type": "execute_result"
    }
   ],
   "source": [
    "evolution_PIB(5,pop,1235000,9845500,True,False,False,1536852,6548213,True,True,True,4561237,5462137,True,False,True,7531596,6547821,False,True,False,3216549,1642538,False,False,False,3214564,6513245,True,True,False,cfc,fbcfc,vsc,continents,xc,mc)"
   ]
  },
  {
   "cell_type": "code",
   "execution_count": 77,
   "metadata": {},
   "outputs": [],
   "source": [
    "L_annee=[i for i in range(2017,2117)]\n",
    "\n",
    "def plot_PIB_continental(L1,L2,L3,L4,L5,L6):\n",
    "    plt.figure()\n",
    "    plt.plot(L_annee,L1)\n",
    "    plt.plot(L_annee,L2)\n",
    "    plt.plot(L_annee,L3)\n",
    "    plt.plot(L_annee,L4)\n",
    "    plt.plot(L_annee,L5)\n",
    "    plt.plot(L_annee,L6)\n",
    "    plt.legend([continent for continent in continents])\n",
    "    plt.xlabel(\"Année\")\n",
    "    plt.ylabel(\"PIB\")\n",
    "    plt.show()\n",
    "    return"
   ]
  },
  {
   "cell_type": "code",
   "execution_count": 78,
   "metadata": {},
   "outputs": [],
   "source": [
    "PIB=evolution_PIB(99,pop,1235000,9845500,True,False,False,1536852,6548213,True,True,True,4561237,5462137,True,False,True,7531596,6547821,False,True,False,3216549,1642538,False,False,False,3214564,6513245,True,True,False,cfc,fbcfc,vsc,continents,xc,mc)\n",
    "L1=PIB[\"Europe\"]\n",
    "L2=PIB[\"Amérique du Nord\"]\n",
    "L3=PIB[\"Asie\"]\n",
    "L4=PIB[\"Afrique\"]\n",
    "L5=PIB[\"Amérique du Sud\"]\n",
    "L6=PIB[\"Océanie\"]"
   ]
  },
  {
   "cell_type": "code",
   "execution_count": 79,
   "metadata": {},
   "outputs": [
    {
     "data": {
      "image/png": "[encoded data removed]",
      "text/plain": [
       "<Figure size 432x288 with 1 Axes>"
      ]
     },
     "metadata": {
      "needs_background": "light"
     },
     "output_type": "display_data"
    }
   ],
   "source": [
    "plot_PIB_continental(L1,L2,L3,L4,L5,L6)"
   ]
  },
  {
   "cell_type": "code",
   "execution_count": 80,
   "metadata": {},
   "outputs": [],
   "source": [
    "def evolution_PIB_mondial(a,pop,n1,m1,probleme1,positif1,fixe1,n2,m2,probleme2,positif2,fixe2,n3,m3,probleme3,positif3,fixe3,n4,m4,probleme4,positif4,fixe4,n5,m5,probleme5,positif5,fixe5,n6,m6,probleme6,positif6,fixe6,cfc,fbcfc,vsc,continents,xc,mc):\n",
    "    L=[]\n",
    "    for i in range(0,a+1):\n",
    "        s=0\n",
    "        for j in continents:\n",
    "            s=s+evolution_PIB(a,pop,n1,m1,probleme1,positif1,fixe1,n2,m2,probleme2,positif2,fixe2,n3,m3,probleme3,positif3,fixe3,n4,m4,probleme4,positif4,fixe4,n5,m5,probleme5,positif5,fixe5,n6,m6,probleme6,positif6,fixe6,cfc,fbcfc,vsc,continents,xc,mc)[j][i]\n",
    "        L.append(s)\n",
    "    return L"
   ]
  },
  {
   "cell_type": "code",
   "execution_count": 81,
   "metadata": {},
   "outputs": [
    {
     "data": {
      "text/plain": [
       "[69242176737000,\n",
       " 69021050614176,\n",
       " 68641019762244,\n",
       " 68318601076325,\n",
       " 67708016280154,\n",
       " 67733876749964]"
      ]
     },
     "execution_count": 81,
     "metadata": {},
     "output_type": "execute_result"
    }
   ],
   "source": [
    "evolution_PIB_mondial(5,pop,1235000,9845500,True,False,False,1536852,6548213,True,True,True,4561237,5462137,True,False,True,7531596,6547821,False,True,False,3216549,1642538,False,False,False,3214564,6513245,True,True,False,cfc,fbcfc,vsc,continents,xc,mc)"
   ]
  },
  {
   "cell_type": "code",
   "execution_count": 82,
   "metadata": {},
   "outputs": [],
   "source": [
    "def plot_PIB_mondial(L):\n",
    "    plt.figure()\n",
    "    plt.plot(L_annee,L)\n",
    "    plt.xlabel(\"Année\")\n",
    "    plt.ylabel(\"PIB\")\n",
    "    plt.show()\n",
    "    return"
   ]
  },
  {
   "cell_type": "code",
   "execution_count": 83,
   "metadata": {},
   "outputs": [],
   "source": [
    "L=evolution_PIB_mondial(99,pop,1235000,9845500,True,False,False,1536852,6548213,True,True,True,4561237,5462137,True,False,True,7531596,6547821,False,True,False,3216549,1642538,False,False,False,3214564,6513245,True,True,False,cfc,fbcfc,vsc,continents,xc,mc)"
   ]
  },
  {
   "cell_type": "code",
   "execution_count": 84,
   "metadata": {},
   "outputs": [
    {
     "data": {
      "image/png": "[encoded data removed]",
      "text/plain": [
       "<Figure size 432x288 with 1 Axes>"
      ]
     },
     "metadata": {
      "needs_background": "light"
     },
     "output_type": "display_data"
    }
   ],
   "source": [
    "plot_PIB_mondial(L)"
   ]
  },
  {
   "cell_type": "code",
   "execution_count": 85,
   "metadata": {},
   "outputs": [
    {
     "data": {
      "text/plain": [
       "69394351510204"
      ]
     },
     "execution_count": 85,
     "metadata": {},
     "output_type": "execute_result"
    }
   ],
   "source": [
    "evolution_PIB_mondial(99,pop,1235000,9845500,True,False,False,1536852,6548213,True,True,True,4561237,5462137,True,False,True,7531596,6547821,False,True,False,3216549,1642538,False,False,False,3214564,6513245,True,True,False,cfc,fbcfc,vsc,continents,xc,mc)[33]"
   ]
  },
  {
   "cell_type": "code",
   "execution_count": 86,
   "metadata": {},
   "outputs": [
    {
     "data": {
      "text/plain": [
       "105017887695250"
      ]
     },
     "execution_count": 86,
     "metadata": {},
     "output_type": "execute_result"
    }
   ],
   "source": [
    "evolution_PIB_mondial(99,pop,1235000,9845500,True,False,False,1536852,6548213,True,True,True,4561237,5462137,True,False,True,7531596,6547821,False,True,False,3216549,1642538,False,False,False,3214564,6513245,True,True,False,cfc,fbcfc,vsc,continents,xc,mc)[83]"
   ]
  },
  {
   "cell_type": "code",
   "execution_count": 87,
   "metadata": {},
   "outputs": [
    {
     "data": {
      "text/plain": [
       "100389902061493"
      ]
     },
     "execution_count": 87,
     "metadata": {},
     "output_type": "execute_result"
    }
   ],
   "source": [
    "Lvrai=evolution_PIB_mondial(99,pop,1235000,9845500,False,False,False,1536852,6548213,False,True,True,4561237,5462137,False,False,True,7531596,6547821,False,True,False,3216549,1642538,False,False,False,3214564,6513245,False,True,False,cfc,fbcfc,vsc,continents,xc,mc)\n",
    "Lvrai[33]"
   ]
  },
  {
   "cell_type": "code",
   "execution_count": 88,
   "metadata": {},
   "outputs": [
    {
     "data": {
      "image/png": "[encoded data removed]",
      "text/plain": [
       "<Figure size 432x288 with 1 Axes>"
      ]
     },
     "metadata": {
      "needs_background": "light"
     },
     "output_type": "display_data"
    }
   ],
   "source": [
    "plot_PIB_mondial(Lvrai)"
   ]
  },
  {
   "cell_type": "markdown",
   "metadata": {
    "collapsed": true
   },
   "source": [
    "## III) TEP (Thanh)"
   ]
  },
  {
   "cell_type": "markdown",
   "metadata": {},
   "source": [
    "# Introduction"
   ]
  },
  {
   "cell_type": "markdown",
   "metadata": {},
   "source": [
    "## Hypothèse and bases de données"
   ]
  },
  {
   "cell_type": "markdown",
   "metadata": {},
   "source": [
    "Nous allons prendre en compte tout l'énergie consommée sans faire distinction entre les \n",
    "différentes énergies existantes.\n",
    "\n",
    "Nos données de l'énergie sont exprimées en millions de tonnes équivalent pétrole (Mtep) \n",
    "soit 1,163e+13 Wh ."
   ]
  },
  {
   "cell_type": "markdown",
   "metadata": {},
   "source": [
    "## 1) Régression linéaire de données existantes"
   ]
  },
  {
   "cell_type": "markdown",
   "metadata": {},
   "source": [
    "Nous allons se baser sur les données que nous offre le site Enerdata afin de crée notre \n",
    "régression linéaire de l'énergie consommée.\n",
    "\n",
    "Nous avons récupéré les données de l'énergie consomée de nombreux pays, groupe de pays ou région du monde sous une forme excel. Nous l'avons modifié afin de le transformer en csv nous utiliserons pandas afin de traiter ces données sous forme de tableau, nous manipulons alors les dataframes de python.\n",
    "\n",
    "Ces données sont datés de 1990 jusqu'à 2017, nous avons donc un certaines précisions dû au nombre de données"
   ]
  },
  {
   "cell_type": "code",
   "execution_count": 89,
   "metadata": {},
   "outputs": [],
   "source": [
    "import pandas as pd\n",
    "import matplotlib.pyplot as plt\n",
    "import numpy as np\n",
    "import pylab\n",
    "from scipy import stats"
   ]
  },
  {
   "cell_type": "markdown",
   "metadata": {},
   "source": [
    "On récupère une grande liste de pays, groupe de pays et continent mais nous allons nous contenter d'utiliser les mêmes pays que mes autres collègues pour nos fonctions."
   ]
  },
  {
   "cell_type": "code",
   "execution_count": 90,
   "metadata": {},
   "outputs": [
    {
     "name": "stdout",
     "output_type": "stream",
     "text": [
      "Index(['World', 'OECD', 'G7', 'BRICS', 'Europe', 'European Union', 'Belgium',\n",
      "       'Czech Rep.', 'France', 'Germany', 'Italy', 'Netherlands', 'Poland',\n",
      "       'Portugal', 'Romania', 'Spain', 'Sweden', 'United Kingdom', 'Norway',\n",
      "       'Turkey', 'CIS', 'Kazakhstan', 'Russia', 'Ukraine', 'Uzbekistan',\n",
      "       'America', 'North America', 'Canada', 'United States', 'Latin America',\n",
      "       'Argentina', 'Brazil', 'Chile', 'Colombia', 'Mexico', 'Venezuela',\n",
      "       'Asia', 'China', 'India', 'Indonesia', 'Japan', 'Malaysia',\n",
      "       'South Korea', 'Taiwan', 'Thailand', 'Pacific', 'Australia',\n",
      "       'New Zealand', 'Africa', 'Algeria', 'Egypt', 'Nigeria', 'South Africa',\n",
      "       'Middle-East', 'Iran', 'Kuwait', 'Saudi Arabia',\n",
      "       'United Arab Emirates'],\n",
      "      dtype='object', name='Year')\n"
     ]
    }
   ],
   "source": [
    "energy_consumption = pd.read_csv(\"./Enerdata_Energy_Statistical_Yearbook2_2018.csv\", index_col=0 )\n",
    "print(energy_consumption.index)"
   ]
  },
  {
   "cell_type": "markdown",
   "metadata": {},
   "source": [
    "On récupère les données du pays voulu grâce à la fonction \"region\" puis grâce à la fonction \"graph\" nous faisons la régression linéaire des données et nous l'affichons dans un tableau\n",
    "J'ai choisi de laisser les données sur le graphique afin qu'on puisse aperçevoir notre régression linéaire et nous estimions à l'oeil s'il parait réaliste ou non."
   ]
  },
  {
   "cell_type": "code",
   "execution_count": 91,
   "metadata": {},
   "outputs": [],
   "source": [
    "Annee = [int(i) for i in energy_consumption.columns]\n",
    "\n",
    "def region(P):\n",
    "    'Sélectionne les données du pays P'\n",
    "    \n",
    "    return energy_consumption.loc[P]\n",
    "\n",
    "def predict(slope, intercept, x):\n",
    "    'Fonction après la régression linéaire'\n",
    "    \n",
    "    return slope*np.asarray(x) + intercept\n",
    "\n",
    "def graph(P):\n",
    "    \"\"\" P est le pays ou une région du monde\"\"\"\n",
    "    \n",
    "    X = [int(i) for i in energy_consumption.columns]\n",
    "    Y = list(region(P))\n",
    "    \n",
    "    axes = plt.axes()\n",
    "    axes.grid()\n",
    "    plt.title(P)\n",
    "    plt.xlabel('Année')\n",
    "    plt.ylabel('Consommation en MTEP')\n",
    "    plt.scatter(X,Y)\n",
    "    slope, intercept, r_value, p_value, std_err = stats.linregress(X, Y)\n",
    "    plt.plot(X, predict(slope, intercept, X), c='r')\n",
    "    plt.show()"
   ]
  },
  {
   "cell_type": "code",
   "execution_count": 92,
   "metadata": {},
   "outputs": [
    {
     "data": {
      "image/png": "[encoded data removed]",
      "text/plain": [
       "<Figure size 432x288 with 1 Axes>"
      ]
     },
     "metadata": {
      "needs_background": "light"
     },
     "output_type": "display_data"
    }
   ],
   "source": [
    "graph('World')"
   ]
  },
  {
   "cell_type": "markdown",
   "metadata": {},
   "source": [
    "Nous pouvons alors récupérer une donnée après la regression linéaire de nimporte quel pays, groupe de pays ou région du monde à nimporte quel année voulu grâce à la fonction \"energy\"."
   ]
  },
  {
   "cell_type": "code",
   "execution_count": 93,
   "metadata": {},
   "outputs": [],
   "source": [
    "def energy(P, year):\n",
    "    \"\"\" P est un pays ou une région du monde\"\"\"\n",
    "    \n",
    "    X = Annee\n",
    "    Y = list(region(P))\n",
    "        \n",
    "    slope, intercept, r_value, p_value, std_err = stats.linregress(X, Y)\n",
    "    return slope*year + intercept"
   ]
  },
  {
   "cell_type": "code",
   "execution_count": 94,
   "metadata": {},
   "outputs": [
    {
     "data": {
      "text/plain": [
       "25635.975369458203"
      ]
     },
     "execution_count": 94,
     "metadata": {},
     "output_type": "execute_result"
    }
   ],
   "source": [
    "energy('World', 2069)"
   ]
  },
  {
   "cell_type": "markdown",
   "metadata": {},
   "source": [
    "On peut rajouter un paramètre suplémentaire à mes fonctions précédente : un taux de chute (%) où notre croissance d'énergie consommée diminurait au fil des années à partir d'une année voulu (annee_chute)."
   ]
  },
  {
   "cell_type": "code",
   "execution_count": 95,
   "metadata": {},
   "outputs": [],
   "source": [
    "Annee = [int(i) for i in energy_consumption.columns]\n",
    "\n",
    "def predict_bis_chute(slope, intercept, annee_chute,pourcentage, X):\n",
    "    \n",
    "    slope_pre = slope\n",
    "    valeur = []\n",
    "    valeur_pre = (slope*annee_chute + intercept)\n",
    "    e = 0\n",
    "    \n",
    "    if pourcentage == 0:\n",
    "        return slope*np.asarray(X) + intercept\n",
    "    \n",
    "    for i in range(0, len(X)):\n",
    "        if slope_pre > 1 and e == 0 :      \n",
    "            valeur.append(valeur_pre+slope_pre) \n",
    "            valeur_pre = valeur_pre+slope_pre\n",
    "            slope_pre = slope_pre*(1-pourcentage/100)\n",
    "\n",
    "        else:        \n",
    "            e = 1\n",
    "            valeur.append(valeur_pre+slope_pre) \n",
    "            valeur_pre = valeur_pre-slope_pre\n",
    "            slope_pre = slope_pre*(1+pourcentage/100)\n",
    "     \n",
    "    return valeur\n",
    "\n",
    "def graph_bis(P, annee_final, annee_chute, pourcentage):\n",
    "    \"\"\" P est le pays ou une région du monde en str\"\"\"\n",
    "    \n",
    "    X = [int(i) for i in energy_consumption.columns]\n",
    "    Y = list(region(P))\n",
    "    X_bis = [ i for i in range(1990, annee_chute)]\n",
    "    X_bis2 = [ i for i in range(annee_chute, annee_final)]\n",
    "    \n",
    "    axes = plt.axes()\n",
    "    axes.grid()\n",
    "    plt.title(P)\n",
    "    plt.xlabel('Année')\n",
    "    plt.ylabel('Consommation en MTEP')\n",
    "    plt.scatter(X,Y)\n",
    "    \n",
    "    slope, intercept, r_value, p_value, std_err = stats.linregress(X, Y)\n",
    "    plt.plot(X_bis, predict(slope, intercept, X_bis), c='r') \n",
    "    \n",
    "    plt.plot(X_bis2, predict_bis_chute(slope, intercept, annee_chute,pourcentage, X_bis2), c='g')\n",
    "    plt.ylim(0,) \n",
    "    plt.show()"
   ]
  },
  {
   "cell_type": "markdown",
   "metadata": {},
   "source": [
    "On peut donc maintenant avoir un graphique qui s'arrêtera à une année final voulu et une variation de notre courbe d'évolution à partir d'une année voulu.\n",
    "Les points bleus représentent les données, la courbe rouge représente la regression linéaire et la courbe verte représente l'évolution de l'énergie consommé après qu'un certain taux diminue chaque année."
   ]
  },
  {
   "cell_type": "code",
   "execution_count": 96,
   "metadata": {},
   "outputs": [
    {
     "data": {
      "image/png": "[encoded data removed]",
      "text/plain": [
       "<Figure size 432x288 with 1 Axes>"
      ]
     },
     "metadata": {
      "needs_background": "light"
     },
     "output_type": "display_data"
    }
   ],
   "source": [
    "graph_bis(\"World\", 2350, 2050, 4)"
   ]
  },
  {
   "cell_type": "markdown",
   "metadata": {},
   "source": [
    "Toujours d'après les données de Enerdata, on peut examiner le nombre selon le pourcentage d'énergie consommée pour une région à une année voulu sur notre régression linéaire et à le comparer avec l'énergie consommé par la France en 2017"
   ]
  },
  {
   "cell_type": "code",
   "execution_count": 97,
   "metadata": {},
   "outputs": [],
   "source": [
    "def comparaison(P,year, pourcentage):\n",
    "    FranceMTEP= 243\n",
    "    #ChineMTEP = 3105\n",
    "    #ou \" + str(int(energy(P, year)*pourcentage/(ChineMTEP*100)))+\" fois la consommation de la Chine en 2017!!! \"\n",
    "    \n",
    "    return str(pourcentage)+\"% de la consommation de \"+ P +\" vaut \" + str(int(energy(P, year)*pourcentage/100))+\" MTEP en \"+str(year)+\" soit environs \"+str(int(energy(P, year)*pourcentage/(FranceMTEP*100)))+\" fois la consommation de la France en 2017 !!! \" "
   ]
  },
  {
   "cell_type": "code",
   "execution_count": 98,
   "metadata": {},
   "outputs": [
    {
     "data": {
      "text/plain": [
       "'100% de la consommation de World vaut 14351 MTEP en 2018 soit environs 59 fois la consommation de la France en 2017 !!! '"
      ]
     },
     "execution_count": 98,
     "metadata": {},
     "output_type": "execute_result"
    }
   ],
   "source": [
    "comparaison(\"World\", 2018, 100)"
   ]
  },
  {
   "cell_type": "markdown",
   "metadata": {},
   "source": [
    "## 2) Modélisation selon le nombre d'habitant"
   ]
  },
  {
   "cell_type": "markdown",
   "metadata": {},
   "source": [
    "Sur cette partie, les données prisent provienent de donnees.banquemondiale\n",
    "On recupère cette fois-ci les données sous forme excel."
   ]
  },
  {
   "cell_type": "code",
   "execution_count": 99,
   "metadata": {},
   "outputs": [],
   "source": [
    "energie_par_personne = pd.read_excel(\"./banquemondiale.xls\", index_col=0)"
   ]
  },
  {
   "cell_type": "markdown",
   "metadata": {},
   "source": [
    "Nous obtenons un plus large choix de pays mais nous allons nous contenter des pays utilisés pour la partie \"Polulation\"\n",
    "car nous mélangeons nos deux modèles."
   ]
  },
  {
   "cell_type": "code",
   "execution_count": 100,
   "metadata": {},
   "outputs": [
    {
     "name": "stdout",
     "output_type": "stream",
     "text": [
      "Index(['Angola', 'Albanie', 'Le monde arabe', 'Émirats arabes unis',\n",
      "       'Argentine', 'Australie', 'Autriche', 'Belgique', 'Bénin', 'Bangladesh',\n",
      "       ...\n",
      "       'États-Unis', 'Venezuela', 'Viet Nam', 'Monde', 'Yémen, Rép. du',\n",
      "       'Afrique du Sud', 'Zambie', 'Zimbabwe', 'Asie', 'Afrique'],\n",
      "      dtype='object', name='Country Name', length=135)\n"
     ]
    }
   ],
   "source": [
    "print(energie_par_personne.index)"
   ]
  },
  {
   "cell_type": "markdown",
   "metadata": {},
   "source": [
    "Selon le même modèle de régression linéaire que dans la partie 1). Nous faisons une régression linéaire sur nos données afin de prédire le nombre de KWh utilisé par personne à une année et sur un pays voulu."
   ]
  },
  {
   "cell_type": "code",
   "execution_count": 101,
   "metadata": {},
   "outputs": [],
   "source": [
    "Annee2 = [int(i) for i in  energie_par_personne.columns ]\n",
    "\n",
    "def region_2(P):\n",
    "    'Sélectionne les données du pays P'\n",
    "    \n",
    "    return energie_par_personne.loc[P]\n",
    "\n",
    "def predict(slope, intercept, x):\n",
    "    'Fonction après la régression linéaire'\n",
    "    \n",
    "    return slope*np.asarray(x) + intercept\n",
    "\n",
    "def graph2(P):\n",
    "    \"\"\" P est le pays ou une région du monde\"\"\"\n",
    "    \n",
    "    X = [int(i) for i in energie_par_personne.columns]\n",
    "    Y = list(region_2(P))\n",
    "    \n",
    "    axes = plt.axes()\n",
    "    axes.grid()\n",
    "    plt.title(P)\n",
    "    plt.xlabel('Année')\n",
    "    plt.ylabel(\"Consommation d'énergie par personne en KWh\")\n",
    "    plt.scatter(X,Y)\n",
    "    slope, intercept, r_value, p_value, std_err = stats.linregress(X, Y)\n",
    "    plt.plot(X, predict(slope, intercept, X), c='r')\n",
    "    plt.show()"
   ]
  },
  {
   "cell_type": "code",
   "execution_count": 102,
   "metadata": {},
   "outputs": [
    {
     "data": {
      "image/png": "[encoded data removed]",
      "text/plain": [
       "<Figure size 432x288 with 1 Axes>"
      ]
     },
     "metadata": {
      "needs_background": "light"
     },
     "output_type": "display_data"
    }
   ],
   "source": [
    "graph2('Monde')"
   ]
  },
  {
   "cell_type": "code",
   "execution_count": 103,
   "metadata": {},
   "outputs": [],
   "source": [
    "def energy_per_person(P, year):\n",
    "    \"\"\" P est un pays ou une région du monde\"\"\"\n",
    "    \n",
    "    X = Annee2\n",
    "    Y = list(region_2(P))\n",
    "        \n",
    "    slope, intercept, r_value, p_value, std_err = stats.linregress(X, Y)\n",
    "    return slope*year + intercept"
   ]
  },
  {
   "cell_type": "code",
   "execution_count": 104,
   "metadata": {},
   "outputs": [
    {
     "data": {
      "text/plain": [
       "3970.692279494142"
      ]
     },
     "execution_count": 104,
     "metadata": {},
     "output_type": "execute_result"
    }
   ],
   "source": [
    "energy_per_person('Europe', 2010)"
   ]
  },
  {
   "cell_type": "markdown",
   "metadata": {},
   "source": [
    "On combine ici nos deux modèles afin d'avoir les données de la consomation du pays totale en tep selon le nombre d'habitants.\n",
    "Les pays possibles qu'on peut modéliser sont : l'Europe, l'Amérique du Nord, l'Asie, l'Afrique.\n",
    "\n",
    "Mes données ne me donnaient seulement des parties de ces régions du monde, j'ai estimé alors la consommsation par personne de la région par la somme de la consommation par personne de chaque partie de cette région.\n",
    "Je n'avais donc pas assez de données pour l'Amérique du Sud et je ne pouvais pas me contenter que des données sur l'Australie pour l'Océanie."
   ]
  },
  {
   "cell_type": "code",
   "execution_count": 112,
   "metadata": {},
   "outputs": [],
   "source": [
    "Region_possible=[\"Europe\",\"Amérique du Nord\",\"Asie\",\"Afrique\"]\n",
    "pop={\"Europe\":742074000,\"Amérique du Nord\":361208000,\"Asie\":4504428000,\"Afrique\":1256268000, \n",
    "            \"Amérique du Sud\":645593000,\"Océanie\":40691000}\n",
    "\n",
    "def dict_energie_comsommé_tot(annee_final, pop, n1, m1, probleme1, positif1, fixe1, n2, m2, probleme2, positif2, fixe2,\n",
    "                              n3, m3, probleme3, positif3, fixe3, n4, m4, probleme4, positif4, fixe4):\n",
    "    \n",
    "    \n",
    "    evo_pop = evolution_pop((annee_final-2017), pop, n1, m1, probleme1, positif1, fixe1, n2, m2, probleme2, \n",
    "                            positif2, fixe2, n3, m3, probleme3, positif3, fixe3, n4, m4, probleme4, positif4, fixe4,\n",
    "                             0, 0, False, False, False, 0, 0, False, False, False)\n",
    "    n = 0\n",
    "    m = 0\n",
    "    probleme = True\n",
    "    fixe = True\n",
    "    positif = True\n",
    "    Annee = [i for i in range(2017, annee_final)]\n",
    "    an=2017\n",
    "    dict_energie = dict()\n",
    "    \n",
    "    for i in Region_possible:\n",
    "        if i == \"Europe\":\n",
    "            n = n1\n",
    "            m = m1\n",
    "            probleme = probleme1\n",
    "            positif = positif1\n",
    "            fixe = fixe1\n",
    "        if i == \"Amérique du Nord\":\n",
    "            n = n2\n",
    "            m = m2\n",
    "            probleme = probleme2\n",
    "            positif = positif2\n",
    "            fixe = fixe2\n",
    "        if i == \"Asie\":\n",
    "            n = n3\n",
    "            m = m3\n",
    "            probleme = probleme3\n",
    "            positif = positif3\n",
    "            fixe = fixe3\n",
    "        if i == \"Afrique\": \n",
    "            n = n4\n",
    "            m = m4\n",
    "            probleme = probleme4\n",
    "            positif = positif4\n",
    "            fixe = fixe4\n",
    "            \n",
    "        dict_energie[i] = []\n",
    "        an =2017\n",
    "            \n",
    "        for e in evo_pop[i]:\n",
    "            dict_energie[i].append(e*energy_per_person(i, an)*8.5985*10**(-11))\n",
    "            an = an +1\n",
    "       \n",
    "    return dict_energie"
   ]
  },
  {
   "cell_type": "code",
   "execution_count": 113,
   "metadata": {},
   "outputs": [],
   "source": [
    "def graph2_bis(annee_final, pop, n1, m1, probleme1, positif1, fixe1, n2, m2, probleme2, positif2, fixe2,\n",
    "                              n3, m3, probleme3, positif3, fixe3, n4, m4, probleme4, positif4, fixe4):\n",
    "    \"\"\" P est le pays ou une région du monde\"\"\"\n",
    "    X = [i for i in range(2017, annee_final+1)]\n",
    "    Y = dict_energie_comsommé_tot(annee_final, pop, n1, m1, probleme1, positif1, fixe1, n2, m2, probleme2, positif2,\n",
    "                                     fixe2, n3, m3, probleme3, positif3, fixe3, n4, m4, probleme4, positif4, fixe4)\n",
    "                             \n",
    "    axes = plt.axes()\n",
    "    axes.grid()\n",
    "    plt.title('Comparaisons entres plusieurs région')\n",
    "    plt.xlabel('Année')\n",
    "    plt.ylabel(\"Consommation d'énergie en MTEP du pays selon la population\")\n",
    "    plt.plot(X, Y['Europe'], c='r', label='Europe')\n",
    "    plt.plot(X, Y['Amérique du Nord'], c='g', label='Amérique du Nord')\n",
    "    plt.plot(X, Y['Asie'], c='b',label='Asie')\n",
    "    plt.plot(X, Y['Afrique'], c='y', label='Afrique')\n",
    "    pylab.legend(loc='upper left')\n",
    "    \n",
    "    plt.show()"
   ]
  },
  {
   "cell_type": "markdown",
   "metadata": {},
   "source": [
    "On obtient donc un graphique qui montre l'évolution de la consommation d'énergie par les régions selon les paramètres de la partie 'Population'."
   ]
  },
  {
   "cell_type": "code",
   "execution_count": 120,
   "metadata": {},
   "outputs": [
    {
     "data": {
      "image/png": "[encoded data removed]",
      "text/plain": [
       "<Figure size 432x288 with 1 Axes>"
      ]
     },
     "metadata": {
      "needs_background": "light"
     },
     "output_type": "display_data"
    }
   ],
   "source": [
    "graph2_bis(2150, pop, 849400, 503060, False, True, False, 3519842, 100000, True, True, False, 9021686, 438000, True, False, True, 135162, 2455420, True, False, False)"
   ]
  },
  {
   "cell_type": "markdown",
   "metadata": {},
   "source": [
    "## IV) CO2 (Tahar)##"
   ]
  },
  {
   "cell_type": "markdown",
   "metadata": {},
   "source": [
    "## V) Assemblage de tous les paramètres ##"
   ]
  },
  {
   "cell_type": "code",
   "execution_count": null,
   "metadata": {},
   "outputs": [],
   "source": []
  }
 ],
 "metadata": {
  "kernelspec": {
   "display_name": "Python 3",
   "language": "python",
   "name": "python3"
  },
  "language_info": {
   "codemirror_mode": {
    "name": "ipython",
    "version": 3
   },
   "file_extension": ".py",
   "mimetype": "text/x-python",
   "name": "python",
   "nbconvert_exporter": "python",
   "pygments_lexer": "ipython3",
   "version": "3.7.1"
  }
 },
 "nbformat": 4,
 "nbformat_minor": 2
}
