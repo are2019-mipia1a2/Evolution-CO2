{
 "cells": [
  {
   "cell_type": "markdown",
   "metadata": {},
   "source": [
    "# Version finale"
   ]
  },
  {
   "cell_type": "code",
   "execution_count": 11,
   "metadata": {},
   "outputs": [],
   "source": [
    "%matplotlib inline     \n",
    "# ^Sans animations\n",
    "# %matplotlib notebook \n",
    "# ^Avec animations\n",
    "import numpy as np\n",
    "import matplotlib.pyplot as plt\n",
    "from matplotlib import animation\n",
    "import math\n",
    "import random"
   ]
  },
  {
   "cell_type": "markdown",
   "metadata": {},
   "source": [
    "   "
   ]
  },
  {
   "cell_type": "markdown",
   "metadata": {},
   "source": [
    "## I) Population (Catherine)##"
   ]
  },
  {
   "cell_type": "markdown",
   "metadata": {},
   "source": [
    "Nous souhaitons obtenir l'évolution de la population jusqu'à une année \"a\" choisie sur chacun des continents. \n",
    "\n",
    "Celle-ci dépend de différents paramètres : \n",
    "\n",
    "**la population de départ**, dont les données ont été prises à l'année 2017 par l'ONU (on considère que l'année 2017 est l'année 0)\n",
    "\n",
    "**le taux d'accroissement**, dont les valeurs fixes viennent de l'INED\n",
    "\n",
    "**les imprévus** qui peuvent survenir (guerre, épidémie, ect. mais la nature de ces problèmes et leurs conséquences n'ont pas été pris en compte)"
   ]
  },
  {
   "cell_type": "code",
   "execution_count": 12,
   "metadata": {},
   "outputs": [],
   "source": [
    "continents=[\"Europe\", \"Amérique du Nord\",\"Asie\", \"Afrique\", \"Amérique du Sud\", \"Océanie\"]\n",
    "pop={\"Europe\":742074000,\"Amérique du Nord\":361208000,\"Asie\":4504428000,\"Afrique\":1256268000, \n",
    "            \"Amérique du Sud\":645593000,\"Océanie\":40691000}\n"
   ]
  },
  {
   "cell_type": "markdown",
   "metadata": {},
   "source": [
    "Nous avons décidé de se baser sur l'évolution exponentielle de la population, c'est l'évolution la plus réaliste. \n",
    "\n",
    "Elle suit la loi suivante :\n",
    "\n",
    "**N(t)=N0*exp(k*t)**\n",
    "\n",
    "N étant la population, N0 la population à la 1ère génération, k étant le taux d'accroissement, et t l'année."
   ]
  },
  {
   "cell_type": "markdown",
   "metadata": {},
   "source": [
    "  "
   ]
  },
  {
   "cell_type": "markdown",
   "metadata": {},
   "source": [
    "On décide donc en premier temps de calculer **k**. Ce dernier se base sur le taux de natalité et de mortalité. Ceux-ci peuvent rester fixe au fil du temps, ou varier d'une manière aléatoire. Il a ensuite fallu créer 6 taux d'accroissement afin que l'on puisse faire varier chaque taux pour chaque pays, et décider si k restait fixe ou non au fil du temps."
   ]
  },
  {
   "cell_type": "code",
   "execution_count": 13,
   "metadata": {},
   "outputs": [],
   "source": [
    "def k1(n1,m1,fixe1):\n",
    "    \"\"\"int^2*bool->float\n",
    "    n: nombre de naissances, m: nombre de décès\"\"\"\n",
    "    \n",
    "    u=random.random()\n",
    "    \n",
    "    if fixe1 : \n",
    "        k1=(n1-m1)/100\n",
    "    else :\n",
    "        k1=(n1-m1)*u/100\n",
    "    \n",
    "    return k1\n",
    "\n",
    "def k2(n2,m2,fixe2):\n",
    "    \"\"\"int^2*bool->float\n",
    "    n: nombre de naissances, m: nombre de décès\"\"\"\n",
    "    \n",
    "    u=random.random()\n",
    "    \n",
    "    if fixe2 : \n",
    "        k2=(n2-m2)/100\n",
    "    else :\n",
    "        k2=(n2-m2)*u/100\n",
    "    \n",
    "    return k2\n",
    "\n",
    "def k3(n3,m3,fixe3):\n",
    "    \"\"\"int^2*bool->float\n",
    "    n: nombre de naissances, m: nombre de décès\"\"\"\n",
    "    \n",
    "    u=random.random()\n",
    "    \n",
    "    if fixe3 : \n",
    "        k3=(n3-m3)/100\n",
    "    else :\n",
    "        k3=(n3-m3)*u/100\n",
    "    \n",
    "    return k3\n",
    "\n",
    "def k4(n4,m4,fixe4):\n",
    "    \"\"\"int^2*bool->float\n",
    "    n: nombre de naissances, m1: nombre de décès\"\"\"\n",
    "    \n",
    "    u=random.random()\n",
    "    \n",
    "    if fixe4 : \n",
    "        k4=(n4-m4)/100\n",
    "    else :\n",
    "        k4=(n4-m4)*u/100\n",
    "    \n",
    "    return k4\n",
    "\n",
    "def k5(n5,m5,fixe5):\n",
    "    \"\"\"int^2*bool->float\n",
    "    n: nombre de naissances, m: nombre de décès\"\"\"\n",
    "    \n",
    "    u=random.random()\n",
    "    \n",
    "    if fixe5: \n",
    "        k5=(n5-m5)/100\n",
    "    else :\n",
    "        k5=(n5-m5)*u/100\n",
    "    \n",
    "    return k5\n",
    "\n",
    "def k6(n6,m6,fixe6):\n",
    "    \"\"\"int^2*bool->float\n",
    "    n: nombre de naissances, m: nombre de décès\"\"\"\n",
    "    \n",
    "    u=random.random()\n",
    "    \n",
    "    if fixe6 : \n",
    "        k6=(n6-m6)/100\n",
    "    else :\n",
    "        k6=(n6-m6)*u/100\n",
    "    \n",
    "    return k6"
   ]
  },
  {
   "cell_type": "code",
   "execution_count": 15,
   "metadata": {
    "scrolled": true
   },
   "outputs": [
    {
     "data": {
      "text/plain": [
       "0.0894109650944161"
      ]
     },
     "execution_count": 15,
     "metadata": {},
     "output_type": "execute_result"
    }
   ],
   "source": [
    "k6(50,40,False)"
   ]
  },
  {
   "cell_type": "markdown",
   "metadata": {},
   "source": [
    "  "
   ]
  },
  {
   "cell_type": "markdown",
   "metadata": {},
   "source": [
    "On souhaite maintenant obtenir un dictionnaire qui nous renvoie **pour chaque continent la population** qui correspond à l'année voulue en fonction du taux de croissance. Il est nécessaire d'avoir autant de paramètres pour avoir une situation à chaque pays."
   ]
  },
  {
   "cell_type": "code",
   "execution_count": 16,
   "metadata": {},
   "outputs": [],
   "source": [
    "pop={\"Europe\":742074000,\"Amérique du Nord\":361208000,\"Asie\":4504428000,\"Afrique\":1256268000, \n",
    "            \"Amérique du Sud\":645593000,\"Océanie\":40691000}\n",
    "\n",
    "def population(t,pop,n1,m1,probleme1,fixe1,n2,m2,probleme2,fixe2,n3,m3,probleme3,fixe3,n4,m4,probleme4,fixe4,\n",
    "               n5,m5,probleme5,fixe5,n6,m6,probleme6,fixe6):\n",
    "    \"\"\"dict[str:list[int]\"\"\"\n",
    "    \n",
    "    popr={\"Europe\":[],\"Amérique du Nord\":[],\"Asie\":[],\"Afrique\":[],\"Amérique du Sud\":[],\"Océanie\":[]}\n",
    "\n",
    "    if probleme1:\n",
    "        popr[\"Europe\"].append(round(pop[\"Europe\"]*math.exp(k1(n1,m1,fixe1)*t)))\n",
    "    else : \n",
    "        popr[\"Europe\"].append(round(pop[\"Europe\"]*math.exp(0.0005*t)))\n",
    "            \n",
    "    if probleme2:\n",
    "        popr[\"Amérique du Nord\"].append(round(pop[\"Amérique du Nord\"]*math.exp(k2(n2,m2,fixe2)*t)))\n",
    "    else : \n",
    "        popr[\"Amérique du Nord\"].append(round(pop[\"Amérique du Nord\"]*math.exp(0.0073*t)))\n",
    "            \n",
    "    if probleme3:\n",
    "        popr[\"Asie\"].append(round(pop[\"Asie\"]*math.exp(k3(n3,m3,fixe3)*t)))\n",
    "    else : \n",
    "        popr[\"Asie\"].append(round(pop[\"Asie\"]*math.exp(0.0085*t)))\n",
    "            \n",
    "    if probleme4:\n",
    "        popr[\"Afrique\"].append(round(pop[\"Afrique\"]*math.exp(k4(n4,m4,fixe4)*t)))\n",
    "    else : \n",
    "        popr[\"Afrique\"].append(round(pop[\"Afrique\"]*math.exp(0.0245*t)))\n",
    "            \n",
    "    if probleme5:\n",
    "        popr[\"Amérique du Sud\"].append(round(pop[\"Amérique du Sud\"]*math.exp(k5(n5,m5,fixe5)*t)))\n",
    "    else : \n",
    "        popr[\"Amérique du Sud\"].append(round(pop[\"Amérique du Sud\"]*math.exp(0.0095*t)))\n",
    "            \n",
    "    if probleme6:\n",
    "        popr[\"Océanie\"].append(round(pop[\"Océanie\"]*math.exp(k6(n6,m6,fixe6)*t)))\n",
    "    else : \n",
    "        popr[\"Océanie\"].append(round(pop[\"Océanie\"]*math.exp(0.0134*t)))\n",
    "        \n",
    "    return popr"
   ]
  },
  {
   "cell_type": "code",
   "execution_count": 17,
   "metadata": {},
   "outputs": [
    {
     "data": {
      "text/plain": [
       "{'Afrique': [1287426702],\n",
       " 'Amérique du Nord': [257097135],\n",
       " 'Amérique du Sud': [578344247],\n",
       " 'Asie': [4542878822],\n",
       " 'Europe': [743983712],\n",
       " 'Océanie': [41239929]}"
      ]
     },
     "execution_count": 17,
     "metadata": {},
     "output_type": "execute_result"
    }
   ],
   "source": [
    "population(1,pop,33,32,True,False,16,50,True,True,42,12,False,False,19,13,False,True,8,19,True,True,12,8,False,False)"
   ]
  },
  {
   "cell_type": "markdown",
   "metadata": {},
   "source": [
    "  "
   ]
  },
  {
   "cell_type": "markdown",
   "metadata": {},
   "source": [
    "Maintenant, on souhaite voir **l'évolution de la population** à une année a choisie dans chaque continent."
   ]
  },
  {
   "cell_type": "code",
   "execution_count": 18,
   "metadata": {},
   "outputs": [],
   "source": [
    "pop={\"Europe\":742074000,\"Amérique du Nord\":361208000,\"Asie\":4504428000,\"Afrique\":1256268000, \n",
    "            \"Amérique du Sud\":645593000,\"Océanie\":40691000}\n",
    "\n",
    "def evolution_pop(a,pop,n1,m1,probleme1,fixe1,n2,m2,probleme2,fixe2,n3,m3,probleme3,fixe3,n4,m4,probleme4,fixe4,\n",
    "               n5,m5,probleme5,fixe5,n6,m6,probleme6,fixe6):\n",
    "    \"\"\"int*dict[str:int]*int²*bool²*int²*bool²*int²*bool²*int²*bool²*int²*bool²*int²*bool²->dict[str:list[int]]\"\"\"\n",
    "    \n",
    "    popr={\"Europe\":[],\"Amérique du Nord\":[],\"Asie\":[],\"Afrique\":[],\"Amérique du Sud\":[],\"Océanie\":[]}\n",
    "    \n",
    "    for t in range(a):\n",
    "        if probleme1:\n",
    "            popr[\"Europe\"].append(round(pop[\"Europe\"]*math.exp(k1(n1,m1,fixe1)*t)))\n",
    "        else : \n",
    "            popr[\"Europe\"].append(round(pop[\"Europe\"]*math.exp(0.0005*t)))\n",
    "            \n",
    "        if probleme2:\n",
    "            popr[\"Amérique du Nord\"].append(round(pop[\"Amérique du Nord\"]*math.exp(k2(n2,m2,fixe2)*t)))\n",
    "        else : \n",
    "            popr[\"Amérique du Nord\"].append(round(pop[\"Amérique du Nord\"]*math.exp(0.0073*t)))\n",
    "            \n",
    "        if probleme3:\n",
    "            popr[\"Asie\"].append(round(pop[\"Asie\"]*math.exp(k3(n3,m3,fixe3)*t)))\n",
    "        else : \n",
    "            popr[\"Asie\"].append(round(pop[\"Asie\"]*math.exp(0.0085*t)))\n",
    "            \n",
    "        if probleme4:\n",
    "            popr[\"Afrique\"].append(round(pop[\"Afrique\"]*math.exp(k4(n4,m4,fixe4)*t)))\n",
    "        else : \n",
    "            popr[\"Afrique\"].append(round(pop[\"Afrique\"]*math.exp(0.0245*t)))\n",
    "            \n",
    "        if probleme5:\n",
    "            popr[\"Amérique du Sud\"].append(round(pop[\"Amérique du Sud\"]*math.exp(k5(n5,m5,fixe5)*t)))\n",
    "        else : \n",
    "            popr[\"Amérique du Sud\"].append(round(pop[\"Amérique du Sud\"]*math.exp(0.0095*t)))\n",
    "            \n",
    "        if probleme6:\n",
    "            popr[\"Océanie\"].append(round(pop[\"Océanie\"]*math.exp(k6(n6,m6,fixe6)*t)))\n",
    "        else : \n",
    "            popr[\"Océanie\"].append(round(pop[\"Océanie\"]*math.exp(0.0134*t)))\n",
    "        \n",
    "    return popr"
   ]
  },
  {
   "cell_type": "code",
   "execution_count": 19,
   "metadata": {
    "scrolled": true
   },
   "outputs": [
    {
     "data": {
      "text/plain": [
       "{'Afrique': [1256268000, 1287426702, 1319358220, 1352081722, 1385616852],\n",
       " 'Amérique du Nord': [361208000, 363854466, 366520322, 369205710, 371910774],\n",
       " 'Amérique du Sud': [645593000, 651755358, 657976538, 664257101, 670597613],\n",
       " 'Asie': [4504428000, 4542878822, 4581657870, 4620767944, 4660211871],\n",
       " 'Europe': [742074000, 742445130, 742816445, 743187946, 743559633],\n",
       " 'Océanie': [40691000, 41239929, 41796263, 42360102, 42931548]}"
      ]
     },
     "execution_count": 19,
     "metadata": {},
     "output_type": "execute_result"
    }
   ],
   "source": [
    "evolution_pop(5,pop,33,32,False,False,16,50,False,True,42,12,False,False,19,13,False,False,8,19,False,True,12,8,False,False)"
   ]
  },
  {
   "cell_type": "markdown",
   "metadata": {},
   "source": [
    "  "
   ]
  },
  {
   "cell_type": "markdown",
   "metadata": {},
   "source": [
    "### Graphique de la population mondiale"
   ]
  },
  {
   "cell_type": "markdown",
   "metadata": {},
   "source": [
    "** L1 : liste de la population en Europe **\n",
    "\n",
    "** L2 : liste de la population en Amérique du Nord **\n",
    "\n",
    "** L3 : liste de la population en Asie **\n",
    "\n",
    "** L4 : liste de la population en Afrique **\n",
    "\n",
    "** L5 : liste de la population en Amérique du Sud **\n",
    "\n",
    "** L6 : liste de la population en Océanie **"
   ]
  },
  {
   "cell_type": "markdown",
   "metadata": {},
   "source": [
    "A l'échelle mondiale, on regarde l'évolution de la population à l'année voulue."
   ]
  },
  {
   "cell_type": "markdown",
   "metadata": {},
   "source": [
    "    "
   ]
  },
  {
   "cell_type": "code",
   "execution_count": 20,
   "metadata": {},
   "outputs": [],
   "source": [
    "def L7(a,pop,n1,m1,probleme1,fixe1,n2,m2,probleme2,fixe2,n3,m3,probleme3,fixe3,n4,m4,probleme4,fixe4,\n",
    "               n5,m5,probleme5,fixe5,n6,m6,probleme6,fixe6):\n",
    "    \"\"\"\"\"\"\n",
    "    \n",
    "    L7=list()\n",
    "    \n",
    "    L1=evolution_pop(a,pop,n1,m1,probleme1,fixe1,n2,m2,probleme2,fixe2,n3,m3,probleme3,fixe3,n4,m4,probleme4,fixe4,\n",
    "               n5,m5,probleme5,fixe5,n6,m6,probleme6,fixe6)[\"Europe\"]\n",
    "    L2=evolution_pop(a,pop,n1,m1,probleme1,fixe1,n2,m2,probleme2,fixe2,n3,m3,probleme3,fixe3,n4,m4,probleme4,fixe4,\n",
    "               n5,m5,probleme5,fixe5,n6,m6,probleme6,fixe6)[\"Amérique du Nord\"]\n",
    "    L3=evolution_pop(a,pop,n1,m1,probleme1,fixe1,n2,m2,probleme2,fixe2,n3,m3,probleme3,fixe3,n4,m4,probleme4,fixe4,\n",
    "               n5,m5,probleme5,fixe5,n6,m6,probleme6,fixe6)[\"Asie\"]\n",
    "    L4=evolution_pop(a,pop,n1,m1,probleme1,fixe1,n2,m2,probleme2,fixe2,n3,m3,probleme3,fixe3,n4,m4,probleme4,fixe4,\n",
    "               n5,m5,probleme5,fixe5,n6,m6,probleme6,fixe6)[\"Afrique\"]\n",
    "    L5=evolution_pop(a,pop,n1,m1,probleme1,fixe1,n2,m2,probleme2,fixe2,n3,m3,probleme3,fixe3,n4,m4,probleme4,fixe4,\n",
    "               n5,m5,probleme5,fixe5,n6,m6,probleme6,fixe6)[\"Amérique du Sud\"]\n",
    "    L6=evolution_pop(a,pop,n1,m1,probleme1,fixe1,n2,m2,probleme2,fixe2,n3,m3,probleme3,fixe3,n4,m4,probleme4,fixe4,\n",
    "               n5,m5,probleme5,fixe5,n6,m6,probleme6,fixe6)[\"Océanie\"]\n",
    "    \n",
    "    for t in range(0,a):\n",
    "        nb=L1[t]+L2[t]+L3[t]+L4[t]+L5[t]+L6[t]\n",
    "        L7.append(nb)\n",
    "    return L7"
   ]
  },
  {
   "cell_type": "code",
   "execution_count": 21,
   "metadata": {},
   "outputs": [
    {
     "data": {
      "text/plain": [
       "[7550262000, 7629600407, 7710125658, 7791860525, 7874828291]"
      ]
     },
     "execution_count": 21,
     "metadata": {},
     "output_type": "execute_result"
    }
   ],
   "source": [
    "L7(5,pop,33,32,False,False,16,50,False,True,42,12,False,False,19,13,False,False,8,19,False,True,12,8,False,False)"
   ]
  },
  {
   "cell_type": "code",
   "execution_count": 22,
   "metadata": {},
   "outputs": [],
   "source": [
    "def total(L7):\n",
    "    \"\"\"\"\"\"\n",
    "    \n",
    "    plt.figure()\n",
    "    plt.plot(L7)\n",
    "    plt.legend([\"Monde\"])\n",
    "    plt.xlabel(\"Année\")\n",
    "    plt.ylabel(\"Taille population\")\n",
    "    plt.show()\n",
    "    return"
   ]
  },
  {
   "cell_type": "code",
   "execution_count": 23,
   "metadata": {},
   "outputs": [
    {
     "data": {
      "image/png": "[encoded data removed]",
      "text/plain": [
       "<Figure size 432x288 with 1 Axes>"
      ]
     },
     "metadata": {},
     "output_type": "display_data"
    }
   ],
   "source": [
    "L7=L7(100,pop,33,32,True,False,16,50,False,True,42,12,False,False,19,13,False,False,8,19,False,True,12,8,False,False)\n",
    "\n",
    "total(L7)"
   ]
  },
  {
   "cell_type": "markdown",
   "metadata": {},
   "source": [
    "A l'échelle mondiale, on regarde cette fois-ci la population dans chaque continent. (c'est à dire que toutes les populations sont représentées sur un même graphique)"
   ]
  },
  {
   "cell_type": "code",
   "execution_count": 24,
   "metadata": {},
   "outputs": [],
   "source": [
    "def list_pop(a,pop,n1,m1,probleme1,fixe1,n2,m2,probleme2,fixe2,n3,m3,probleme3,fixe3,n4,m4,probleme4,fixe4,\n",
    "               n5,m5,probleme5,fixe5,n6,m6,probleme6,fixe6):\n",
    "    \"\"\"->list[int]\"\"\"\n",
    "\n",
    "    L1=evolution_pop(a,pop,n1,m1,probleme1,fixe1,n2,m2,probleme2,fixe2,n3,m3,probleme3,fixe3,n4,m4,probleme4,fixe4,\n",
    "               n5,m5,probleme5,fixe5,n6,m6,probleme6,fixe6)[\"Europe\"]\n",
    "    L2=evolution_pop(a,pop,n1,m1,probleme1,fixe1,n2,m2,probleme2,fixe2,n3,m3,probleme3,fixe3,n4,m4,probleme4,fixe4,\n",
    "               n5,m5,probleme5,fixe5,n6,m6,probleme6,fixe6)[\"Amérique du Nord\"]\n",
    "    L3=evolution_pop(a,pop,n1,m1,probleme1,fixe1,n2,m2,probleme2,fixe2,n3,m3,probleme3,fixe3,n4,m4,probleme4,fixe4,\n",
    "               n5,m5,probleme5,fixe5,n6,m6,probleme6,fixe6)[\"Asie\"]\n",
    "    L4=evolution_pop(a,pop,n1,m1,probleme1,fixe1,n2,m2,probleme2,fixe2,n3,m3,probleme3,fixe3,n4,m4,probleme4,fixe4,\n",
    "               n5,m5,probleme5,fixe5,n6,m6,probleme6,fixe6)[\"Afrique\"]\n",
    "    L5=evolution_pop(a,pop,n1,m1,probleme1,fixe1,n2,m2,probleme2,fixe2,n3,m3,probleme3,fixe3,n4,m4,probleme4,fixe4,\n",
    "               n5,m5,probleme5,fixe5,n6,m6,probleme6,fixe6)[\"Amérique du Sud\"]\n",
    "    L6=evolution_pop(a,pop,n1,m1,probleme1,fixe1,n2,m2,probleme2,fixe2,n3,m3,probleme3,fixe3,n4,m4,probleme4,fixe4,\n",
    "               n5,m5,probleme5,fixe5,n6,m6,probleme6,fixe6)[\"Océanie\"]\n",
    "    \n",
    "    return L1,L2,L3,L4,L5,L6"
   ]
  },
  {
   "cell_type": "code",
   "execution_count": 25,
   "metadata": {},
   "outputs": [
    {
     "data": {
      "text/plain": [
       "[1256268000, 1287426702, 1319358220, 1352081722, 1385616852]"
      ]
     },
     "execution_count": 25,
     "metadata": {},
     "output_type": "execute_result"
    }
   ],
   "source": [
    "list_pop(5,pop,33,32,False,False,16,50,False,True,42,12,False,False,19,13,False,False,8,19,False,True,12,8,False,False)[3]"
   ]
  },
  {
   "cell_type": "code",
   "execution_count": 26,
   "metadata": {},
   "outputs": [],
   "source": [
    "def plot_pop(L1,L2,L3,L4,L5,L6,pop):\n",
    "    plt.figure()\n",
    "    plt.plot(L1)\n",
    "    plt.plot(L2)\n",
    "    plt.plot(L3)\n",
    "    plt.plot(L4)\n",
    "    plt.plot(L5)\n",
    "    plt.plot(L6)\n",
    "    plt.legend([continent for continent in continents])\n",
    "    plt.xlabel(\"Année\")\n",
    "    plt.ylabel(\"Taille population\")\n",
    "    plt.show()\n",
    "    return"
   ]
  },
  {
   "cell_type": "code",
   "execution_count": 27,
   "metadata": {},
   "outputs": [],
   "source": [
    "L1=list_pop(100,pop,33,32,True,False,16,50,False,True,42,12,False,False,19,13,False,False,8,19,False,True,12,8,False,False)[0]\n",
    "L2=list_pop(100,pop,33,32,False,False,16,50,False,True,42,12,False,False,19,13,False,False,8,19,False,True,12,8,False,False)[1]\n",
    "L3=list_pop(100,pop,33,32,False,False,16,50,False,True,42,12,False,False,19,13,False,False,8,19,False,True,12,8,False,False)[2]\n",
    "L4=list_pop(100,pop,33,32,False,False,16,50,False,True,42,12,False,False,19,13,False,False,8,19,False,True,12,8,False,False)[3]\n",
    "L5=list_pop(100,pop,33,32,False,False,16,50,False,True,42,12,False,False,19,13,False,False,8,19,False,True,12,8,False,False)[4]\n",
    "L6=list_pop(100,pop,33,32,False,False,16,50,False,True,42,12,False,False,19,13,False,False,8,19,False,True,12,8,False,False)[5]"
   ]
  },
  {
   "cell_type": "code",
   "execution_count": 28,
   "metadata": {},
   "outputs": [
    {
     "data": {
      "image/png": "[encoded data removed]",
      "text/plain": [
       "<Figure size 432x288 with 1 Axes>"
      ]
     },
     "metadata": {},
     "output_type": "display_data"
    }
   ],
   "source": [
    "plot_pop(L1,L2,L3,L4,L5,L6,pop)"
   ]
  },
  {
   "cell_type": "markdown",
   "metadata": {},
   "source": [
    "Même si nous voyons dans l'ensemble l'évolution de la population, les résultats sont trop imprécis pour en déduire quoique ce soit, du au fait que l'on prenne les résultats à l'échelle mondiale. Il faut donc visualiser la situation à l'échelle continentale."
   ]
  },
  {
   "cell_type": "markdown",
   "metadata": {},
   "source": [
    "### Graphiques de la population sur chaque continent"
   ]
  },
  {
   "cell_type": "code",
   "execution_count": 29,
   "metadata": {},
   "outputs": [],
   "source": [
    "def plot_pop1(L1,pop):\n",
    "    plt.figure()\n",
    "    plt.plot(L1)\n",
    "    plt.legend([continents[0]])\n",
    "    plt.xlabel(\"Année\")\n",
    "    plt.ylabel(\"Taille population\")\n",
    "    plt.show()\n",
    "    return\n",
    "\n",
    "def plot_pop2(L2,pop):\n",
    "    plt.figure()\n",
    "    plt.plot(L2, color=\"orange\")\n",
    "    plt.legend([continents[1]])\n",
    "    plt.xlabel(\"Année\")\n",
    "    plt.ylabel(\"Taille population\")\n",
    "    plt.show()\n",
    "    return\n",
    "\n",
    "def plot_pop3(L3,pop):\n",
    "    plt.figure()\n",
    "    plt.plot(L3, color=\"green\")\n",
    "    plt.legend([continents[2]])\n",
    "    plt.xlabel(\"Année\")\n",
    "    plt.ylabel(\"Taille population\")\n",
    "    plt.show()\n",
    "    return\n",
    "\n",
    "def plot_pop4(L4,pop):\n",
    "    plt.figure()\n",
    "    plt.plot(L4, color=\"red\")\n",
    "    plt.legend([continents[3]])\n",
    "    plt.xlabel(\"Année\")\n",
    "    plt.ylabel(\"Taille population\")\n",
    "    plt.show()\n",
    "    return\n",
    "\n",
    "def plot_pop5(L5,pop):\n",
    "    plt.figure()\n",
    "    plt.plot(L5, color=\"purple\")\n",
    "    plt.legend([continents[4]])\n",
    "    plt.xlabel(\"Année\")\n",
    "    plt.ylabel(\"Taille population\")\n",
    "    plt.show()\n",
    "    return\n",
    "\n",
    "def plot_pop6(L6,pop):\n",
    "    plt.figure()\n",
    "    plt.plot(L6, color=\"brown\")\n",
    "    plt.legend([continents[5]])\n",
    "    plt.xlabel(\"Année\")\n",
    "    plt.ylabel(\"Taille population\")\n",
    "    plt.show()\n",
    "    return"
   ]
  },
  {
   "cell_type": "code",
   "execution_count": 30,
   "metadata": {},
   "outputs": [
    {
     "data": {
      "image/png": "[encoded data removed]",
      "text/plain": [
       "<Figure size 432x288 with 1 Axes>"
      ]
     },
     "metadata": {},
     "output_type": "display_data"
    },
    {
     "data": {
      "image/png": "[encoded data removed]",
      "text/plain": [
       "<Figure size 432x288 with 1 Axes>"
      ]
     },
     "metadata": {},
     "output_type": "display_data"
    },
    {
     "data": {
      "image/png": "[encoded data removed]",
      "text/plain": [
       "<Figure size 432x288 with 1 Axes>"
      ]
     },
     "metadata": {},
     "output_type": "display_data"
    },
    {
     "data": {
      "image/png": "[encoded data removed]",
      "text/plain": [
       "<Figure size 432x288 with 1 Axes>"
      ]
     },
     "metadata": {},
     "output_type": "display_data"
    },
    {
     "data": {
      "image/png": "[encoded data removed]",
      "text/plain": [
       "<Figure size 432x288 with 1 Axes>"
      ]
     },
     "metadata": {},
     "output_type": "display_data"
    },
    {
     "data": {
      "image/png": "[encoded data removed]",
      "text/plain": [
       "<Figure size 432x288 with 1 Axes>"
      ]
     },
     "metadata": {},
     "output_type": "display_data"
    }
   ],
   "source": [
    "L1=list_pop(100,pop,33,32,False,False,16,50,False,True,42,12,False,False,19,13,False,False,8,19,False,True,12,8,False,False)[0]\n",
    "L2=list_pop(100,pop,33,32,False,False,16,50,False,True,42,12,False,False,19,13,False,False,8,19,False,True,12,8,False,False)[1]\n",
    "L3=list_pop(100,pop,33,32,False,False,16,50,False,True,42,12,False,False,19,13,False,False,8,19,False,True,12,8,False,False)[2]\n",
    "L4=list_pop(100,pop,33,32,False,False,16,50,False,True,42,12,False,False,19,13,False,False,8,19,False,True,12,8,False,False)[3]\n",
    "L5=list_pop(100,pop,33,32,False,False,16,50,False,True,42,12,False,False,19,13,False,False,8,19,False,True,12,8,False,False)[4]\n",
    "L6=list_pop(100,pop,33,32,False,False,16,50,False,True,42,12,False,False,19,13,False,False,8,19,False,True,12,8,False,False)[5]\n",
    "\n",
    "plot_pop1(L1,pop)\n",
    "plot_pop2(L2,pop)\n",
    "plot_pop3(L3,pop)\n",
    "plot_pop4(L4,pop)\n",
    "plot_pop5(L5,pop)\n",
    "plot_pop6(L6,pop)"
   ]
  },
  {
   "cell_type": "markdown",
   "metadata": {},
   "source": [
    "## II) PIB (Cyrielle)##"
   ]
  },
  {
   "cell_type": "markdown",
   "metadata": {
    "collapsed": true
   },
   "source": [
    "## III) TEP (Thanh)"
   ]
  },
  {
   "cell_type": "markdown",
   "metadata": {},
   "source": [
    "## IV) CO2 (Tahar)##"
   ]
  },
  {
   "cell_type": "markdown",
   "metadata": {},
   "source": [
    "## V) Assemblage de tous les paramètres ##"
   ]
  },
  {
   "cell_type": "code",
   "execution_count": null,
   "metadata": {},
   "outputs": [],
   "source": []
  }
 ],
 "metadata": {
  "kernelspec": {
   "display_name": "Python 3",
   "language": "python",
   "name": "python3"
  },
  "language_info": {
   "codemirror_mode": {
    "name": "ipython",
    "version": 3
   },
   "file_extension": ".py",
   "mimetype": "text/x-python",
   "name": "python",
   "nbconvert_exporter": "python",
   "pygments_lexer": "ipython3",
   "version": "3.5.3"
  }
 },
 "nbformat": 4,
 "nbformat_minor": 2
}
