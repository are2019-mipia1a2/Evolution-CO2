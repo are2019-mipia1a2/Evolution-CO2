{
 "cells": [
  {
   "cell_type": "code",
   "execution_count": 12,
   "metadata": {},
   "outputs": [],
   "source": [
    "import pandas as pd\n",
    "import matplotlib.pyplot as plt"
   ]
  },
  {
   "cell_type": "code",
   "execution_count": 70,
   "metadata": {},
   "outputs": [],
   "source": [
    "energy_consumption = pandas.read_csv(\"./data/Enerdata_Energy_Statistical_Yearbook2_2018.csv\", index_col=0 )"
   ]
  },
  {
   "cell_type": "code",
   "execution_count": 71,
   "metadata": {},
   "outputs": [
    {
     "name": "stdout",
     "output_type": "stream",
     "text": [
      "                      1990  1991  1992  1993  1994  1995  1996  1997  1998  \\\n",
      "Year                                                                         \n",
      "World                 8761  8818  8830  8923  8993  9215  9447  9540  9593   \n",
      "OECD                  4531  4580  4629  4701  4789  4880  5026  5073  5099   \n",
      "G7                    3496  3529  3571  3618  3684  3743  3834  3851  3878   \n",
      "BRICS                 2291  2278  2241  2267  2238  2320  2366  2364  2368   \n",
      "Europe                1786  1782  1742  1743  1739  1782  1849  1836  1850   \n",
      "European Union        1655  1654  1617  1616  1616  1653  1711  1691  1701   \n",
      "Belgium                 48    50    51    49    52    53    56    56    57   \n",
      "Czech Rep.              50    45    44    43    41    42    43    43    42   \n",
      "France                 225   238   234   238   231   240   251   244   252   \n",
      "Germany                355   344   338   335   333   336   348   346   343   \n",
      "Italy                  151   155   154   153   151   160   159   162   166   \n",
      "Netherlands             67    70    69    71    71    74    78    76    77   \n",
      "Poland                 104   101    99   101    97   100   107   102    95   \n",
      "Portugal                17    17    19    18    19    20    20    21    23   \n",
      "Romania                 62    51    47    46    43    47    48    45    41   \n",
      "Spain                   91    94    95    92    96   101    99   106   111   \n",
      "Sweden                  46    48    46    46    49    49    50    49    50   \n",
      "United Kingdom         206   213   213   215   222   217   226   219   221   \n",
      "Norway                  21    22    22    24    23    24    23    24    25   \n",
      "Turkey                  52    52    54    57    56    62    67    70    72   \n",
      "CIS                   1373  1360  1231  1139   996   961   934   893   875   \n",
      "Kazakhstan              73    75    79    66    58    52    45    40    39   \n",
      "Russia                 882   873   800   756   660   639   634   606   592   \n",
      "Ukraine                243   244   212   189   161   160   147   140   132   \n",
      "Uzbekistan              46    48    45    47    47    43    44    45    50   \n",
      "America               2584  2609  2666  2710  2781  2816  2889  2936  2979   \n",
      "North America         2121  2136  2179  2221  2266  2296  2347  2371  2396   \n",
      "Canada                 211   210   215   223   231   234   238   241   240   \n",
      "United States         1910  1925  1964  1998  2036  2063  2108  2130  2156   \n",
      "Latin America          463   474   487   489   515   519   543   565   583   \n",
      "Argentina               46    47    50    50    53    54    56    58    60   \n",
      "Brazil                 141   143   145   148   156   161   170   179   183   \n",
      "Chile                   14    14    15    16    17    18    20    23    24   \n",
      "Colombia                24    24    25    26    27    28    28    27    29   \n",
      "Mexico                 123   129   131   133   136   132   135   142   145   \n",
      "Venezuela               40    41    46    43    50    47    50    50    52   \n",
      "Asia                  2109  2129  2208  2311  2416  2559  2645  2703  2693   \n",
      "China                  871   848   877   929   973  1045  1074  1073  1078   \n",
      "India                  306   318   330   338   351   371   383   398   407   \n",
      "Indonesia               99   103   108   119   119   131   136   140   137   \n",
      "Japan                  438   443   453   456   481   494   504   509   500   \n",
      "Malaysia                22    27    30    32    32    35    39    45    42   \n",
      "South Korea             94   101   111   125   133   146   158   172   158   \n",
      "Taiwan                  48    52    54    58    60    64    67    71    75   \n",
      "Thailand                42    46    49    51    57    62    69    71    66   \n",
      "Pacific                104   103   105   109   110   112   119   121   124   \n",
      "Australia               87    86    87    91    92    94   100   101   104   \n",
      "New Zealand             14    14    14    15    15    15    16    16    16   \n",
      "Africa                 382   395   397   409   415   433   446   457   466   \n",
      "Algeria                 22    23    24    24    23    24    23    24    25   \n",
      "Egypt                   32    32    33    34    33    35    37    39    42   \n",
      "Nigeria                 66    70    72    74    72    74    77    79    80   \n",
      "South Africa            92    96    89    95    98   104   106   109   108   \n",
      "Middle-East            223   236   265   288   314   322   328   349   352   \n",
      "Iran                    69    77    81    87    97   101    98   109   111   \n",
      "Kuwait                   9     3     9    12    14    15    15    15    17   \n",
      "Saudi Arabia            58    68    77    80    84    85    90    86    92   \n",
      "United Arab Emirates    20    23    22    24    26    28    29    31    32   \n",
      "\n",
      "                      1999  ...     2008   2009   2010   2011   2012   2013  \\\n",
      "Year                        ...                                               \n",
      "World                 9789  ...    12294  12189  12866  13054  13271  13437   \n",
      "OECD                  5184  ...     5493   5254   5434   5333   5301   5323   \n",
      "G7                    3938  ...     4030   3828   3945   3842   3800   3828   \n",
      "BRICS                 2435  ...     3841   3992   4326   4579   4739   4839   \n",
      "Europe                1833  ...     1958   1853   1931   1867   1857   1843   \n",
      "European Union        1688  ...     1762   1661   1727   1661   1648   1630   \n",
      "Belgium                 57  ...       58     56     60     56     54     56   \n",
      "Czech Rep.              39  ...       45     43     45     44     43     43   \n",
      "France                 252  ...      265    253    261    252    252    253   \n",
      "Germany                335  ...      331    310    326    310    311    318   \n",
      "Italy                  169  ...      182    170    174    168    162    156   \n",
      "Netherlands             75  ...       80     78     83     77     78     77   \n",
      "Poland                  93  ...       98     94    101    101     98     98   \n",
      "Portugal                24  ...       25     24     23     23     21     22   \n",
      "Romania                 36  ...       40     35     35     36     35     32   \n",
      "Spain                  116  ...      139    128    128    126    126    117   \n",
      "Sweden                  49  ...       50     45     51     50     50     49   \n",
      "United Kingdom         222  ...      208    196    204    189    194    191   \n",
      "Norway                  26  ...       32     32     34     28     30     33   \n",
      "Turkey                  70  ...       99     98    107    113    118    117   \n",
      "CIS                    889  ...     1021    941   1008   1054   1070   1043   \n",
      "Kazakhstan              36  ...       70     63     69     77     74     82   \n",
      "Russia                 609  ...      688    646    688    721    739    719   \n",
      "Ukraine                131  ...      135    114    132    126    122    116   \n",
      "Uzbekistan              51  ...       50     44     43     47     48     43   \n",
      "America               3043  ...     3299   3171   3266   3263   3263   3306   \n",
      "North America         2452  ...     2550   2428   2482   2462   2430   2456   \n",
      "Canada                 246  ...      273    263    266    271    268    271   \n",
      "United States         2206  ...     2278   2165   2216   2191   2162   2185   \n",
      "Latin America          591  ...      749    743    784    801    834    850   \n",
      "Argentina               61  ...       78     76     79     81     81     83   \n",
      "Brazil                 187  ...      249    241    266    271    282    294   \n",
      "Chile                   25  ...       30     30     31     34     37     39   \n",
      "Colombia                26  ...       30     31     31     31     32     34   \n",
      "Mexico                 150  ...      180    180    175    184    192    192   \n",
      "Venezuela               50  ...       65     65     72     67     73     69   \n",
      "Asia                  2786  ...     4266   4455   4820   5006   5158   5301   \n",
      "China                 1099  ...     2155   2297   2537   2722   2820   2910   \n",
      "India                  431  ...      602    663    693    723    758    776   \n",
      "Indonesia              144  ...      186    201    211    203    211    216   \n",
      "Japan                  508  ...      494    471    499    462    451    455   \n",
      "Malaysia                43  ...       77     73     74     77     79     88   \n",
      "South Korea            174  ...      232    234    256    267    271    272   \n",
      "Taiwan                  79  ...      106    103    111    109    107    108   \n",
      "Thailand                71  ...      108    108    118    118    126    136   \n",
      "Pacific                127  ...      149    149    151    151    151    151   \n",
      "Australia              106  ...      127    127    128    128    127    127   \n",
      "New Zealand             17  ...       18     18     19     19     19     19   \n",
      "Africa                 482  ...      656    666    684    700    726    738   \n",
      "Algeria                 26  ...       36     40     39     41     45     47   \n",
      "Egypt                   43  ...       72     74     73     76     79     77   \n",
      "Nigeria                 83  ...      113    111    120    127    134    134   \n",
      "South Africa           109  ...      148    145    142    142    139    139   \n",
      "Middle-East            365  ...      595    618    648    648    699    703   \n",
      "Iran                   126  ...      205    204    204    208    217    221   \n",
      "Kuwait                  18  ...       29     31     32     31     34     34   \n",
      "Saudi Arabia            94  ...      157    167    185    177    199    191   \n",
      "United Arab Emirates    32  ...       60     64     63     60     64     67   \n",
      "\n",
      "                       2014   2015   2016   2017  \n",
      "Year                                              \n",
      "World                 13610  13656  13812  14126  \n",
      "OECD                   5287   5275   5304   5363  \n",
      "G7                     3817   3783   3782   3804  \n",
      "BRICS                  4955   4977   5054   5214  \n",
      "Europe                 1777   1808   1821   1857  \n",
      "European Union         1568   1588   1595   1611  \n",
      "Belgium                  53     53     57     56  \n",
      "Czech Rep.               42     42     42     44  \n",
      "France                  243    246    242    243  \n",
      "Germany                 306    308    311    314  \n",
      "Italy                   147    153    153    153  \n",
      "Netherlands              73     74     74     76  \n",
      "Poland                   95     95     99    104  \n",
      "Portugal                 21     22     22     23  \n",
      "Romania                  32     32     32     33  \n",
      "Spain                   115    119    120    122  \n",
      "Sweden                   48     45     48     49  \n",
      "United Kingdom          180    181    178    176  \n",
      "Norway                   28     30     28     28  \n",
      "Turkey                  122    129    136    152  \n",
      "CIS                    1036   1005   1004   1037  \n",
      "Kazakhstan               77     78     77     80  \n",
      "Russia                  724    709    711    744  \n",
      "Ukraine                 106     90     92     87  \n",
      "Uzbekistan               44     43     41     41  \n",
      "America                3358   3314   3313   3335  \n",
      "North America          2502   2465   2473   2489  \n",
      "Canada                  279    271    278    287  \n",
      "United States          2223   2194   2195   2201  \n",
      "Latin America           856    849    840    847  \n",
      "Argentina                84     86     86     86  \n",
      "Brazil                  304    299    289    291  \n",
      "Chile                    35     36     38     38  \n",
      "Colombia                 34     34     36     37  \n",
      "Mexico                  188    187    192    186  \n",
      "Venezuela                67     59     55     53  \n",
      "Asia                   5414   5466   5585   5755  \n",
      "China                  2955   2976   3017   3105  \n",
      "India                   826    851    894    934  \n",
      "Indonesia               225    226    231    240  \n",
      "Japan                   439    430    424    429  \n",
      "Malaysia                 90     86     92     94  \n",
      "South Korea             277    283    289    296  \n",
      "Taiwan                  110    109    110    110  \n",
      "Thailand                135    135    136    138  \n",
      "Pacific                 151    151    154    154  \n",
      "Australia               125    125    128    129  \n",
      "New Zealand              21     21     21     21  \n",
      "Africa                  762    774    781    805  \n",
      "Algeria                  51     54     53     53  \n",
      "Egypt                    80     79     83     86  \n",
      "Nigeria                 135    139    138    140  \n",
      "South Africa            146    142    143    140  \n",
      "Middle-East             749    758    760    786  \n",
      "Iran                    237    237    239    253  \n",
      "Kuwait                   32     35     36     35  \n",
      "Saudi Arabia            213    222    221    224  \n",
      "United Arab Emirates     73     73     74     74  \n",
      "\n",
      "[58 rows x 28 columns]\n"
     ]
    }
   ],
   "source": [
    "print(energy_consumption)"
   ]
  },
  {
   "cell_type": "code",
   "execution_count": 74,
   "metadata": {},
   "outputs": [
    {
     "name": "stdout",
     "output_type": "stream",
     "text": [
      "Index(['World', 'OECD', 'G7', 'BRICS', 'Europe', 'European Union', 'Belgium',\n",
      "       'Czech Rep.', 'France', 'Germany', 'Italy', 'Netherlands', 'Poland',\n",
      "       'Portugal', 'Romania', 'Spain', 'Sweden', 'United Kingdom', 'Norway',\n",
      "       'Turkey', 'CIS', 'Kazakhstan', 'Russia', 'Ukraine', 'Uzbekistan',\n",
      "       'America', 'North America', 'Canada', 'United States', 'Latin America',\n",
      "       'Argentina', 'Brazil', 'Chile', 'Colombia', 'Mexico', 'Venezuela',\n",
      "       'Asia', 'China', 'India', 'Indonesia', 'Japan', 'Malaysia',\n",
      "       'South Korea', 'Taiwan', 'Thailand', 'Pacific', 'Australia',\n",
      "       'New Zealand', 'Africa', 'Algeria', 'Egypt', 'Nigeria', 'South Africa',\n",
      "       'Middle-East', 'Iran', 'Kuwait', 'Saudi Arabia',\n",
      "       'United Arab Emirates'],\n",
      "      dtype='object', name='Year')\n"
     ]
    }
   ],
   "source": [
    "print(energy_consumption.index)"
   ]
  },
  {
   "cell_type": "code",
   "execution_count": 5,
   "metadata": {},
   "outputs": [
    {
     "name": "stdout",
     "output_type": "stream",
     "text": [
      "Index(['1990', '1991', '1992', '1993', '1994', '1995', '1996', '1997', '1998',\n",
      "       '1999', '2000', '2001', '2002', '2003', '2004', '2005', '2006', '2007',\n",
      "       '2008', '2009', '2010', '2011', '2012', '2013', '2014', '2015', '2016',\n",
      "       '2017'],\n",
      "      dtype='object')\n"
     ]
    }
   ],
   "source": [
    "print(energy_consumption.columns)"
   ]
  },
  {
   "cell_type": "code",
   "execution_count": 6,
   "metadata": {},
   "outputs": [],
   "source": [
    "EU = energy_consumption.loc['Europe']"
   ]
  },
  {
   "cell_type": "code",
   "execution_count": 50,
   "metadata": {},
   "outputs": [
    {
     "name": "stdout",
     "output_type": "stream",
     "text": [
      "1990    1786\n",
      "1991    1782\n",
      "1992    1742\n",
      "1993    1743\n",
      "1994    1739\n",
      "1995    1782\n",
      "1996    1849\n",
      "1997    1836\n",
      "1998    1850\n",
      "1999    1833\n",
      "2000    1854\n",
      "2001    1889\n",
      "2002    1890\n",
      "2003    1933\n",
      "2004    1954\n",
      "2005    1964\n",
      "2006    1983\n",
      "2007    1960\n",
      "2008    1958\n",
      "2009    1853\n",
      "2010    1931\n",
      "2011    1867\n",
      "2012    1857\n",
      "2013    1843\n",
      "2014    1777\n",
      "2015    1808\n",
      "2016    1821\n",
      "2017    1857\n",
      "Name: Europe, dtype: int64\n"
     ]
    }
   ],
   "source": [
    "print(EU)"
   ]
  },
  {
   "cell_type": "code",
   "execution_count": 7,
   "metadata": {},
   "outputs": [],
   "source": [
    "list_EU_V = list(EU) #Consommation en million TEP."
   ]
  },
  {
   "cell_type": "code",
   "execution_count": 8,
   "metadata": {},
   "outputs": [
    {
     "name": "stdout",
     "output_type": "stream",
     "text": [
      "[1786, 1782, 1742, 1743, 1739, 1782, 1849, 1836, 1850, 1833, 1854, 1889, 1890, 1933, 1954, 1964, 1983, 1960, 1958, 1853, 1931, 1867, 1857, 1843, 1777, 1808, 1821, 1857]\n"
     ]
    }
   ],
   "source": [
    "print(list_EU_V) "
   ]
  },
  {
   "cell_type": "code",
   "execution_count": 102,
   "metadata": {},
   "outputs": [],
   "source": [
    "list_EU_Y = list(EU.index) #Année équivalent aux consommations de list_EU_V."
   ]
  },
  {
   "cell_type": "code",
   "execution_count": 10,
   "metadata": {},
   "outputs": [
    {
     "name": "stdout",
     "output_type": "stream",
     "text": [
      "['1990', '1991', '1992', '1993', '1994', '1995', '1996', '1997', '1998', '1999', '2000', '2001', '2002', '2003', '2004', '2005', '2006', '2007', '2008', '2009', '2010', '2011', '2012', '2013', '2014', '2015', '2016', '2017']\n"
     ]
    }
   ],
   "source": [
    "print(list_EU_Y)"
   ]
  },
  {
   "cell_type": "code",
   "execution_count": 14,
   "metadata": {},
   "outputs": [
    {
     "data": {
      "text/plain": [
       "Text(0, 0.5, 'Consommation en MTEP')"
      ]
     },
     "execution_count": 14,
     "metadata": {},
     "output_type": "execute_result"
    },
    {
     "data": {
      "image/png": "[encoded data removed]",
      "text/plain": [
       "<Figure size 432x288 with 1 Axes>"
      ]
     },
     "metadata": {
      "needs_background": "light"
     },
     "output_type": "display_data"
    }
   ],
   "source": [
    "plt.plot(list_EU_Y , list_EU_V, 'ro')\n",
    "plt.xlabel('Année')\n",
    "plt.ylabel('Consommation en MTEP')"
   ]
  },
  {
   "cell_type": "code",
   "execution_count": 15,
   "metadata": {},
   "outputs": [
    {
     "data": {
      "image/png": "[encoded data removed]",
      "text/plain": [
       "<Figure size 432x288 with 1 Axes>"
      ]
     },
     "metadata": {
      "needs_background": "light"
     },
     "output_type": "display_data"
    }
   ],
   "source": [
    "import matplotlib.pyplot as plt\n",
    " \n",
    "axes = plt.axes()\n",
    "axes.grid() # dessiner une grille pour une meilleur lisibilité du graphe\n",
    "plt.scatter(list_EU_Y , list_EU_V) # X et Y sont les variables qu'on a extraite dans le paragraphe précédent\n",
    "plt.show()"
   ]
  },
  {
   "cell_type": "code",
   "execution_count": 61,
   "metadata": {},
   "outputs": [],
   "source": [
    "Y = EU"
   ]
  },
  {
   "cell_type": "code",
   "execution_count": 115,
   "metadata": {},
   "outputs": [
    {
     "name": "stdout",
     "output_type": "stream",
     "text": [
      "1990    1786\n",
      "1991    1782\n",
      "1992    1742\n",
      "1993    1743\n",
      "1994    1739\n",
      "1995    1782\n",
      "1996    1849\n",
      "1997    1836\n",
      "1998    1850\n",
      "1999    1833\n",
      "2000    1854\n",
      "2001    1889\n",
      "2002    1890\n",
      "2003    1933\n",
      "2004    1954\n",
      "2005    1964\n",
      "2006    1983\n",
      "2007    1960\n",
      "2008    1958\n",
      "2009    1853\n",
      "2010    1931\n",
      "2011    1867\n",
      "2012    1857\n",
      "2013    1843\n",
      "2014    1777\n",
      "2015    1808\n",
      "2016    1821\n",
      "2017    1857\n",
      "Name: Europe, dtype: int64\n"
     ]
    }
   ],
   "source": [
    "print(Y)"
   ]
  },
  {
   "cell_type": "code",
   "execution_count": 82,
   "metadata": {},
   "outputs": [],
   "source": [
    "X = energy_consumption.columns"
   ]
  },
  {
   "cell_type": "code",
   "execution_count": 89,
   "metadata": {},
   "outputs": [
    {
     "name": "stdout",
     "output_type": "stream",
     "text": [
      "Index(['1990', '1991', '1992', '1993', '1994', '1995', '1996', '1997', '1998',\n",
      "       '1999', '2000', '2001', '2002', '2003', '2004', '2005', '2006', '2007',\n",
      "       '2008', '2009', '2010', '2011', '2012', '2013', '2014', '2015', '2016',\n",
      "       '2017'],\n",
      "      dtype='object')\n"
     ]
    }
   ],
   "source": [
    "print(X)"
   ]
  },
  {
   "cell_type": "code",
   "execution_count": 131,
   "metadata": {},
   "outputs": [
    {
     "data": {
      "image/png": "[encoded data removed]",
      "text/plain": [
       "<Figure size 432x288 with 1 Axes>"
      ]
     },
     "metadata": {
      "needs_background": "light"
     },
     "output_type": "display_data"
    },
    {
     "name": "stdout",
     "output_type": "stream",
     "text": [
      "0.03895130542269524\n"
     ]
    }
   ],
   "source": [
    "import numpy as np\n",
    "import pandas as pd\n",
    "import matplotlib.pyplot as plt\n",
    "from scipy import stats\n",
    "\n",
    "def predict(x):\n",
    "    return slope * np.asarray(x) + intercept\n",
    "\n",
    "#print len(df)\n",
    "X =  Annee #selection de la première colonne de notre dataset\n",
    "Y =  list_EU_V\n",
    "\n",
    "axes = plt.axes()\n",
    "axes.grid()\n",
    "plt.xlabel('Année')\n",
    "plt.ylabel('Consommation en MTEP')\n",
    "slope, intercept, r_value, p_value, std_err = stats.linregress(X, Y)\n",
    "plt.plot(X, predict(X), c='r')\n",
    "plt.scatter(X,Y)\n",
    "plt.show()\n",
    "print(p_value)"
   ]
  },
  {
   "cell_type": "code",
   "execution_count": 118,
   "metadata": {},
   "outputs": [],
   "source": [
    "Annee = [1990 ,1991, 1992, 1993, 1994, 1995, 1996, 1997, 1998, 1999, 2000, 2001, 2002, 2003, 2004, 2005, 2006, 2007, 2008, 2009, 2010, 2011, 2012, 2013, 2014, 2015, 2016, 2017]"
   ]
  },
  {
   "cell_type": "code",
   "execution_count": 117,
   "metadata": {},
   "outputs": [
    {
     "name": "stdout",
     "output_type": "stream",
     "text": [
      "[1786, 1782, 1742, 1743, 1739, 1782, 1849, 1836, 1850, 1833, 1854, 1889, 1890, 1933, 1954, 1964, 1983, 1960, 1958, 1853, 1931, 1867, 1857, 1843, 1777, 1808, 1821, 1857]\n"
     ]
    }
   ],
   "source": [
    "print(list_EU_V)"
   ]
  },
  {
   "cell_type": "code",
   "execution_count": 119,
   "metadata": {},
   "outputs": [
    {
     "name": "stdout",
     "output_type": "stream",
     "text": [
      "[1990, 1991, 1992, 1993, 1994, 1995, 1996, 1997, 1998, 1999, 2000, 2001, 2002, 2003, 2004, 2005, 2006, 2007, 2008, 2009, 2010, 2011, 2012, 2013, 2014, 2015, 2016, 2017]\n"
     ]
    }
   ],
   "source": [
    "print(Annee)"
   ]
  }
 ],
 "metadata": {
  "kernelspec": {
   "display_name": "Python 3",
   "language": "python",
   "name": "python3"
  },
  "language_info": {
   "codemirror_mode": {
    "name": "ipython",
    "version": 3
   },
   "file_extension": ".py",
   "mimetype": "text/x-python",
   "name": "python",
   "nbconvert_exporter": "python",
   "pygments_lexer": "ipython3",
   "version": "3.7.1"
  }
 },
 "nbformat": 4,
 "nbformat_minor": 2
}
