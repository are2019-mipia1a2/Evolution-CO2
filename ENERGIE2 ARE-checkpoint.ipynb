{
 "cells": [
  {
   "cell_type": "code",
   "execution_count": 80,
   "metadata": {},
   "outputs": [],
   "source": [
    "import pandas as pd\n",
    "import matplotlib.pyplot as plt\n",
    "import numpy as np\n",
    "from scipy import stats\n",
    "\n",
    "energy_consumption = pd.read_csv(\"./Enerdata_Energy_Statistical_Yearbook2_2018.csv\", index_col=0 )"
   ]
  },
  {
   "cell_type": "code",
   "execution_count": 81,
   "metadata": {},
   "outputs": [
    {
     "name": "stdout",
     "output_type": "stream",
     "text": [
      "Index(['World', 'OECD', 'G7', 'BRICS', 'Europe', 'European Union', 'Belgium',\n",
      "       'Czech Rep.', 'France', 'Germany', 'Italy', 'Netherlands', 'Poland',\n",
      "       'Portugal', 'Romania', 'Spain', 'Sweden', 'United Kingdom', 'Norway',\n",
      "       'Turkey', 'CIS', 'Kazakhstan', 'Russia', 'Ukraine', 'Uzbekistan',\n",
      "       'America', 'North America', 'Canada', 'United States', 'Latin America',\n",
      "       'Argentina', 'Brazil', 'Chile', 'Colombia', 'Mexico', 'Venezuela',\n",
      "       'Asia', 'China', 'India', 'Indonesia', 'Japan', 'Malaysia',\n",
      "       'South Korea', 'Taiwan', 'Thailand', 'Pacific', 'Australia',\n",
      "       'New Zealand', 'Africa', 'Algeria', 'Egypt', 'Nigeria', 'South Africa',\n",
      "       'Middle-East', 'Iran', 'Kuwait', 'Saudi Arabia',\n",
      "       'United Arab Emirates'],\n",
      "      dtype='object', name='Year')\n"
     ]
    }
   ],
   "source": [
    "print(energy_consumption.index)"
   ]
  },
  {
   "cell_type": "code",
   "execution_count": 87,
   "metadata": {},
   "outputs": [],
   "source": [
    "Annee = [int(i) for i in energy_consumption.columns]\n",
    "\n",
    "def region(P):\n",
    "    \n",
    "    return energy_consumption.loc[P]\n",
    "\n",
    "def predict(slope, intercept, x):\n",
    "    \n",
    "    return slope*np.asarray(x) + intercept\n",
    "\n",
    "def graph(P):\n",
    "    \"\"\" P est le pays ou une région du monde\"\"\"\n",
    "    \n",
    "    X = [int(i) for i in energy_consumption.columns]\n",
    "    Y = list(region(P))\n",
    "    \n",
    "    axes = plt.axes()\n",
    "    axes.grid()\n",
    "    plt.title(P)\n",
    "    plt.xlabel('Année')\n",
    "    plt.ylabel('Consommation en MTEP')\n",
    "    plt.scatter(X,Y)\n",
    "    slope, intercept, r_value, p_value, std_err = stats.linregress(X, Y)\n",
    "    plt.plot(X, predict(slope, intercept, X), c='r')\n",
    "    plt.show()\n",
    "    \n",
    "    \n",
    "def energy(year, P):\n",
    "    \"\"\" P est un pays ou une région du monde écrit en str\"\"\"\n",
    "    \n",
    "    X =  Annee\n",
    "    Y = list(region(P))\n",
    "        \n",
    "    slope, intercept, r_value, p_value, std_err = stats.linregress(X, Y)\n",
    "    \n",
    "    return slope*year + intercept"
   ]
  },
  {
   "cell_type": "code",
   "execution_count": 88,
   "metadata": {},
   "outputs": [
    {
     "data": {
      "image/png": "[encoded data removed]",
      "text/plain": [
       "<Figure size 432x288 with 1 Axes>"
      ]
     },
     "metadata": {
      "needs_background": "light"
     },
     "output_type": "display_data"
    }
   ],
   "source": [
    "graph('World')"
   ]
  },
  {
   "cell_type": "code",
   "execution_count": 89,
   "metadata": {},
   "outputs": [
    {
     "data": {
      "text/plain": [
       "14794.302955665102"
      ]
     },
     "execution_count": 89,
     "metadata": {},
     "output_type": "execute_result"
    }
   ],
   "source": [
    "energy(2020, 'World')"
   ]
  },
  {
   "cell_type": "code",
   "execution_count": 90,
   "metadata": {},
   "outputs": [
    {
     "name": "stdout",
     "output_type": "stream",
     "text": [
      "[8761, 8818, 8830, 8923, 8993, 9215, 9447, 9540, 9593, 9789, 10016, 10114, 10330, 10688, 11171, 11489, 11835, 12152, 12294, 12189, 12866, 13054, 13271, 13437, 13610, 13656, 13812, 14126]\n"
     ]
    }
   ],
   "source": [
    "print(list(region('World')))"
   ]
  },
  {
   "cell_type": "code",
   "execution_count": 298,
   "metadata": {},
   "outputs": [],
   "source": [
    "Annee = [int(i) for i in energy_consumption.columns]\n",
    "\n",
    "def predict_bis_chute(slope, intercept, annee_final, annee_chute,pourcentage, X):\n",
    "    \n",
    "    slope_pre = slope\n",
    "    valeur = []\n",
    "    \n",
    "    if pourcentage == 0:\n",
    "        return slope*np.asarray(X) + intercept\n",
    "    \n",
    "    for i in range(0, len(X)):\n",
    "        valeur.append((slope_pre)*annee_chute + intercept)\n",
    "        slope_pre = slope_pre*(1-pourcentage/100)\n",
    "        \n",
    "    \n",
    "    return valeur\n",
    "\n",
    "def graph_bis(P, annee_final, annee_chute, pourcentage):\n",
    "    \"\"\" P est le pays ou une région du monde\"\"\"\n",
    "    \n",
    "    X = [int(i) for i in energy_consumption.columns]\n",
    "    Y = list(region(P))\n",
    "    X_bis = [ i for i in range(1990, annee_chute)]\n",
    "    X_bis2 = [ i for i in range(annee_chute, annee_final)]\n",
    "    \n",
    "    axes = plt.axes()\n",
    "    axes.grid()\n",
    "    plt.title(P)\n",
    "    plt.xlabel('Année')\n",
    "    plt.ylabel('Consommation en MTEP')\n",
    "    plt.scatter(X,Y)    \n",
    "    slope, intercept, r_value, p_value, std_err = stats.linregress(X, Y)\n",
    "    plt.plot(X_bis, predict(slope, intercept, X_bis), c='r')  \n",
    "    plt.plot(X_bis2, predict_bis_chute(slope, intercept,annee_final, annee_chute,pourcentage, X_bis2), c='g')\n",
    "    plt.show()\n",
    "    \n",
    "def energy(year, P):\n",
    "    \"\"\" P est un pays ou une région du monde écrit en str\"\"\"\n",
    "    \n",
    "    X = Annee\n",
    "    Y = list(region(P))\n",
    "        \n",
    "    slope, intercept, r_value, p_value, std_err = stats.linregress(X, Y)\n",
    "    return slope*year + intercept"
   ]
  },
  {
   "cell_type": "code",
   "execution_count": 299,
   "metadata": {},
   "outputs": [
    {
     "data": {
      "image/png": "[encoded data removed]",
      "text/plain": [
       "<Figure size 432x288 with 1 Axes>"
      ]
     },
     "metadata": {
      "needs_background": "light"
     },
     "output_type": "display_data"
    }
   ],
   "source": [
    "graph_bis(\"World\", 2150, 2050, 1)"
   ]
  },
  {
   "cell_type": "code",
   "execution_count": 297,
   "metadata": {},
   "outputs": [],
   "source": [
    "def comparaison(P,year, pourcentage):\n",
    "    FranceWH= 41.452\n",
    "    \n",
    "    return str(energy(year, P)*pourcentage / FranceWH) + \" fois la consomation de la France en 2017!!! \""
   ]
  },
  {
   "cell_type": "code",
   "execution_count": 240,
   "metadata": {},
   "outputs": [
    {
     "data": {
      "text/plain": [
       "'2.8417424634112334 fois la consomation de la France en 2017!!! '"
      ]
     },
     "execution_count": 240,
     "metadata": {},
     "output_type": "execute_result"
    }
   ],
   "source": [
    "comparaison(\"Europe\", 2150, 0.05)"
   ]
  },
  {
   "cell_type": "code",
   "execution_count": null,
   "metadata": {},
   "outputs": [],
   "source": []
  }
 ],
 "metadata": {
  "kernelspec": {
   "display_name": "Python 3",
   "language": "python",
   "name": "python3"
  },
  "language_info": {
   "codemirror_mode": {
    "name": "ipython",
    "version": 3
   },
   "file_extension": ".py",
   "mimetype": "text/x-python",
   "name": "python",
   "nbconvert_exporter": "python",
   "pygments_lexer": "ipython3",
   "version": "3.7.1"
  }
 },
 "nbformat": 4,
 "nbformat_minor": 2
}
